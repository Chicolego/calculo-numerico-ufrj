{
 "cells": [
  {
   "cell_type": "code",
   "execution_count": 50,
   "id": "9f9a7a47-06be-481f-b55a-b9aedc0fee4c",
   "metadata": {},
   "outputs": [],
   "source": [
    "using LinearAlgebra\n",
    "using Polynomials: Polynomial\n",
    "using QuadGK\n",
    "using Plots"
   ]
  },
  {
   "cell_type": "code",
   "execution_count": 64,
   "id": "d5b73a5d-2952-4967-a784-6d8e85780bbf",
   "metadata": {},
   "outputs": [
    {
     "data": {
      "text/plain": [
       "vandermonde (generic function with 2 methods)"
      ]
     },
     "execution_count": 64,
     "metadata": {},
     "output_type": "execute_result"
    }
   ],
   "source": [
    "# Função auxiliar para construir a matriz de Vandermonde\n",
    "\n",
    "# -- Parâmetros --\n",
    "# x: conjunto dos pontos do eixo x\n",
    "# grau: grau que desejamos para ser uma das dimensões da matriz\n",
    "\n",
    "function vandermonde(x, grau)\n",
    "    n, = size(x) # quantidade de pontos\n",
    "    V = zeros(n, grau + 1) # criamos uma matriz n X (grau + 1)\n",
    "    \n",
    "    # preenchemos a matriz criada\n",
    "    for i = 1:n\n",
    "        for j = 1:(grau + 1)\n",
    "            V[i, j] = x[i] ^ (j - 1)\n",
    "        end\n",
    "    end\n",
    "    \n",
    "    return V\n",
    "end"
   ]
  },
  {
   "cell_type": "code",
   "execution_count": 15,
   "id": "aa7a9923-6878-4b81-895f-2f619bb6c4d4",
   "metadata": {},
   "outputs": [
    {
     "data": {
      "text/plain": [
       "calcula_inversa (generic function with 1 method)"
      ]
     },
     "execution_count": 15,
     "metadata": {},
     "output_type": "execute_result"
    }
   ],
   "source": [
    "function calcula_inversa(A)  \n",
    "    n = length(A)\n",
    "    if length(A) !== 1\n",
    "        n, = size(A) # dimensão da matriz A\n",
    "    end\n",
    "    inv = zeros(n, n) # criamos uma matriz n X n para ser a inversa\n",
    "    L, U = decomposicao_lu(A) # decompomos a matriz A na multiplicação de duas triangulares (uma inferior e outra superior)\n",
    "    \n",
    "    for i = 1:n\n",
    "        # criamos uma vetor com a posição y[i] sendo 1 para que a junção de todos os y's em uma matriz corresponda à matriz identidade\n",
    "        id = zeros(n)\n",
    "        id[i] = 1\n",
    "        \n",
    "        # fazemos com que cada multiplicação seja igual a uma linha da identidade, pois sabemos que A * inv = I\n",
    "        y = resolve_triangular_inferior(L, id) # resolvemos o sistema triangular inferior e obtemos y tal que Ly = b\n",
    "        x = resolve_triangular_superior(U, y) # resolvemos o sistema triangular superior e obtemos x tal que Ux = y -> L(Ux) = b\n",
    "        \n",
    "        # formatamos o resultado na matriz inversa\n",
    "        for j = 1:n\n",
    "            inv[j, i] = x[j]\n",
    "        end\n",
    "    end\n",
    "    \n",
    "    return inv\n",
    "\n",
    "end"
   ]
  },
  {
   "cell_type": "code",
   "execution_count": 25,
   "id": "5722e7b3-0981-4663-a272-f7497a87a836",
   "metadata": {},
   "outputs": [
    {
     "data": {
      "text/plain": [
       "resolve_triangular_superior (generic function with 1 method)"
      ]
     },
     "execution_count": 25,
     "metadata": {},
     "output_type": "execute_result"
    }
   ],
   "source": [
    "function resolve_triangular_superior(U, b)   \n",
    "    n = length(U)\n",
    "    if length(U) !== 1\n",
    "        n, = size(U) # dimensão da matriz U\n",
    "    end\n",
    "    x = zeros(n, 1) # criamos uma matriz coluna n x 1\n",
    "    \n",
    "    # resolução do sistema por substituição reversa\n",
    "    for i = reverse(1:n)\n",
    "        x[i] = b[i]\n",
    "        for j = reverse(i + 1:n)\n",
    "            x[i] -= U[i, j] * x[j]\n",
    "        end\n",
    "        x[i] /= U[i, i]\n",
    "    end\n",
    "    \n",
    "    return x \n",
    "end"
   ]
  },
  {
   "cell_type": "code",
   "execution_count": 26,
   "id": "e2dfbf40-b8d6-427b-a91e-af5f7c4ba36d",
   "metadata": {},
   "outputs": [
    {
     "data": {
      "text/plain": [
       "resolve_triangular_inferior (generic function with 1 method)"
      ]
     },
     "execution_count": 26,
     "metadata": {},
     "output_type": "execute_result"
    }
   ],
   "source": [
    "# Função para resolver um sistema triangular inferior n x n por substituição direta\n",
    "\n",
    "# -- Parâmetros --\n",
    "# L: matriz triangular onde os elementos da diagonal são diferentes de zero\n",
    "# b: matriz coluna de resultados\n",
    "\n",
    "# -- Retorno --\n",
    "# x: x tal que Lx = b\n",
    "\n",
    "function resolve_triangular_inferior(L, b)\n",
    "    n = length(L)\n",
    "    if length(L) !== 1\n",
    "        n, = size(L) # dimensão da matriz L\n",
    "    end\n",
    "    x = zeros(n, 1) # criamos uma matriz coluna n x 1\n",
    "    \n",
    "    # resolução do sistema por substituição direta\n",
    "    for i = 1:n\n",
    "        x[i] = b[i]\n",
    "        for j = 1:i - 1\n",
    "            x[i] -= L[i, j] * x[j]\n",
    "        end\n",
    "        x[i] /= L[i, i]\n",
    "    end\n",
    "    \n",
    "    return x\n",
    "end"
   ]
  },
  {
   "cell_type": "code",
   "execution_count": 16,
   "id": "64928f09-0642-47e4-87f3-0f50ed9c027f",
   "metadata": {},
   "outputs": [
    {
     "data": {
      "text/plain": [
       "minimos_quadrados (generic function with 1 method)"
      ]
     },
     "execution_count": 16,
     "metadata": {},
     "output_type": "execute_result"
    }
   ],
   "source": [
    "function minimos_quadrados(A, b)\n",
    "    At = transpose(A)\n",
    "    x = calcula_inversa((At * A)) * At * b # calculamos a inversa usando decomposição LU para poupar custos\n",
    "    # x = resolve_sistema_denso(At * A, At * b)\n",
    "    return x\n",
    "end"
   ]
  },
  {
   "cell_type": "code",
   "execution_count": 18,
   "id": "3a72cec8-edf3-4a48-89a3-590fbaa37e54",
   "metadata": {},
   "outputs": [
    {
     "data": {
      "text/plain": [
       "decomposicao_lu (generic function with 1 method)"
      ]
     },
     "execution_count": 18,
     "metadata": {},
     "output_type": "execute_result"
    }
   ],
   "source": [
    "function decomposicao_lu(A)\n",
    "    #display(A)\n",
    "    #println(length(A))\n",
    "    #println(size(A))\n",
    "    n = length(A)\n",
    "    if length(A) !== 1\n",
    "        n, = size(A) # dimensão da matriz A\n",
    "    end\n",
    "    #println(n)\n",
    "    L = Matrix{Float64}(I, n, n) # L inicialmente eh uma matriz identidade n x n\n",
    "    U = copy(A) # inicialmente criamos a matriz U como uma cópia da matriz densa A\n",
    "    \n",
    "    # percorremos a matriz U e L para preenche-las\n",
    "    for i = 1:n \n",
    "        for j = i+1:n\n",
    "            k = U[j, i] / U[i, i]\n",
    "            L[j, i] = k\n",
    "            U[j, :] -= k * U[i, :]\n",
    "        end\n",
    "    end\n",
    "    \n",
    "    return L, U  \n",
    "end"
   ]
  },
  {
   "cell_type": "markdown",
   "id": "24492e54-2082-4fd1-821d-b0f0c53a3150",
   "metadata": {},
   "source": [
    "### Regressão com coeficientes lineares"
   ]
  },
  {
   "cell_type": "markdown",
   "id": "d426d2cc-a12f-40e2-afe1-7f6ee2c93f19",
   "metadata": {},
   "source": [
    "_________________________________________________________________________________________________________________________________________________________________________________________"
   ]
  },
  {
   "cell_type": "code",
   "execution_count": 20,
   "id": "b4a84de8-789a-4b9c-a7e2-34fe752d77de",
   "metadata": {},
   "outputs": [
    {
     "data": {
      "text/plain": [
       "vandermonde_para_linear (generic function with 1 method)"
      ]
     },
     "execution_count": 20,
     "metadata": {},
     "output_type": "execute_result"
    }
   ],
   "source": [
    "# Função auxiliar para construir a matriz de Vandermonde\n",
    "\n",
    "# -- Parâmetros --\n",
    "# x: conjunto dos pontos do eixo x\n",
    "# grau: grau que desejamos para ser uma das dimensões da matriz\n",
    "\n",
    "function vandermonde_para_linear(x, k_funcoes)\n",
    "    n, = size(x) # quantidade de pontos\n",
    "    k, = size(k_funcoes)\n",
    "    V = zeros(n, k) # criamos uma matriz n+1 X k\n",
    "    \n",
    "    # preenchemos a matriz criada\n",
    "    for i = 1:n\n",
    "        for j = 1:(k)\n",
    "            V[i, j] = k_funcoes[j](x[i]) \n",
    "        end\n",
    "    end\n",
    "    \n",
    "    return V\n",
    "end"
   ]
  },
  {
   "cell_type": "code",
   "execution_count": 82,
   "id": "1b618b16-51c1-4145-9ffb-f23ab56f717f",
   "metadata": {},
   "outputs": [
    {
     "data": {
      "text/plain": [
       "regressão_coef_linear (generic function with 1 method)"
      ]
     },
     "execution_count": 82,
     "metadata": {},
     "output_type": "execute_result"
    }
   ],
   "source": [
    "# Função para calcular a regressão polinomial com coeficientes lineares\n",
    "\n",
    "# -- Parâmetros --\n",
    "# x: conjunto dos pontos do eixo x\n",
    "# y: conjunto dos pontos do eixo y\n",
    "# funcoes: array de funções\n",
    "\n",
    "# -- Retorno --\n",
    "# Lista de coeficientes tal que F(x) = c_1*f_1(x)+...+c_k*f_k(x)\n",
    "\n",
    "function regressão_coef_linear(x,y,funcoes)\n",
    "    \n",
    "    #Forma a matriz de vandermonde, aplicando uma função em cada coluna, tendo um x_n em cada linha.\n",
    "    V=vandermonde_para_linear(x, funcoes)\n",
    " \n",
    "    #Realiza a operação de mínimos quadrados e retorna um array de coeficientes.\n",
    "    c = minimos_quadrados(V,y)\n",
    "    return c\n",
    "end"
   ]
  },
  {
   "cell_type": "code",
   "execution_count": 90,
   "id": "dde77cae-43e2-42fd-a30f-fe9a63ff6c6e",
   "metadata": {},
   "outputs": [
    {
     "name": "stdout",
     "output_type": "stream",
     "text": [
      "A lista de coeficientes encontrada foi: [2.000000000000049, 0.9999999999999893, 2.886579864025407e-15]\n",
      "Os coeficientes encontrados estão corretos\n"
     ]
    }
   ],
   "source": [
    "# -- Exemplo 1 --\n",
    "\n",
    "x = [1.0, 3.0, 5]\n",
    "y = [3, 5, 7.0]\n",
    "f1(x)=1\n",
    "f2(x)=x\n",
    "f3(x)=x^2\n",
    "f_array = [f1,f2,f3]\n",
    "z = regressão_coef_linear(x,y,f_array)\n",
    "fun(x)=z[1]*f1(x)+z[2]*f2(x)+z[3]*f3(x)\n",
    "\n",
    "println(\"A lista de coeficientes encontrada foi: \", z)\n",
    "\n",
    "# -- Checagem de resultados --  \n",
    "fun(x) = z[1] * f1(x) + z[2] * f2(x) + z[3] * f3(x)  \n",
    "n, = size(x) \n",
    "correto = true \n",
    "\n",
    "for i = 1:n     \n",
    "    abs(fun(x[i]) - y[i]) < 0.0001 ? continue : correto = false \n",
    "end  \n",
    "correto ? println(\"Os coeficientes encontrados estão corretos\") : println(\"Os coeficientes encontrados estão incorretos\")"
   ]
  },
  {
   "cell_type": "code",
   "execution_count": 96,
   "id": "ba779d2e-d362-429b-9d73-c99db7282a87",
   "metadata": {},
   "outputs": [
    {
     "name": "stdout",
     "output_type": "stream",
     "text": [
      "A lista de coeficientes encontrada foi: [8.026923076919912, 2.159198717950458, -1.0449711538458835, 0.13899358974345277, -0.004836538461529415]\n",
      "Os coeficientes encontrados estão corretos\n"
     ]
    }
   ],
   "source": [
    "# -- Exemplo 2 --\n",
    "\n",
    "x = [-3, 2, 5, 7, 10]\n",
    "y = [-12, 9.2, 7.05, 8, 15.75]\n",
    "f1(x)=1\n",
    "f2(x)=x\n",
    "f3(x)=x^2\n",
    "f4(x)=x^3\n",
    "f5(x)=x^4\n",
    "f_array = [f1,f2,f3,f4,f5]\n",
    "z = regressão_coef_linear(x,y,f_array)\n",
    "\n",
    "println(\"A lista de coeficientes encontrada foi: \", z)\n",
    "\n",
    "# -- Checagem de resultados --  \n",
    "fun(x) = z[1] * f1(x) + z[2] * f2(x) + z[3] * f3(x)  + z[4]*f4(x) + z[5]*f5(x)\n",
    "n, = size(x) \n",
    "correto = true \n",
    "\n",
    "for i = 1:n     \n",
    "    abs(fun(x[i]) - y[i]) < 0.0001 ? continue : correto = false \n",
    "end  \n",
    "correto ? println(\"Os coeficientes encontrados estão corretos\") : println(\"Os coeficientes encontrados estão incorretos\")"
   ]
  },
  {
   "cell_type": "code",
   "execution_count": 99,
   "id": "eaeed949-1523-4a10-9537-c18ce3cc0791",
   "metadata": {},
   "outputs": [
    {
     "name": "stdout",
     "output_type": "stream",
     "text": [
      "A lista de coeficientes encontrada foi: [29.999999990622957, 1.2854079880801406, -0.06764433646331713, 0.0007601279803502744, 8.447330753867004e-5, -1.0386762150975067e-6, 1.1601689610349502e-10]\n",
      "Os coeficientes encontrados estão corretos\n"
     ]
    }
   ],
   "source": [
    "# -- Exemplo 3 --\n",
    "\n",
    "x = [-20, -15, 0, 23, 33, 40, 80]\n",
    "y = [-12, -2, 30, 50, 85.75, 132.2, 176]\n",
    "f1(x)=1\n",
    "f2(x)=x\n",
    "f3(x)=x^2\n",
    "f4(x)=x^3\n",
    "f5(x)=x^4\n",
    "f6(x)=x^5\n",
    "f7(x)=x^6\n",
    "f_array = [f1,f2,f3,f4,f5,f6,f7]\n",
    "z = regressão_coef_linear(x,y,f_array)\n",
    "\n",
    "println(\"A lista de coeficientes encontrada foi: \", z)\n",
    "\n",
    "# -- Checagem de resultados --  \n",
    "fun(x) = z[1] * f1(x) + z[2] * f2(x) + z[3] * f3(x) + z[4] * f4(x) + z[5] * f5(x) + z[6] * f6(x) + z[7] * f7(x)\n",
    "n, = size(x) \n",
    "correto = true \n",
    "\n",
    "for i = 1:n     \n",
    "    abs(fun(x[i]) - y[i]) < 0.0001 ? continue : correto = false \n",
    "end  \n",
    "correto ? println(\"Os coeficientes encontrados estão corretos\") : println(\"Os coeficientes encontrados estão incorretos\")"
   ]
  },
  {
   "cell_type": "code",
   "execution_count": null,
   "id": "9101204f-7ce1-4bcf-91c7-175c9add841c",
   "metadata": {},
   "outputs": [],
   "source": []
  }
 ],
 "metadata": {
  "kernelspec": {
   "display_name": "Julia 1.6.4",
   "language": "julia",
   "name": "julia-1.6"
  },
  "language_info": {
   "file_extension": ".jl",
   "mimetype": "application/julia",
   "name": "julia",
   "version": "1.6.4"
  }
 },
 "nbformat": 4,
 "nbformat_minor": 5
}

{
 "cells": [
  {
   "cell_type": "markdown",
   "id": "5c579aad-a20b-47f1-a388-ddcceed0bd87",
   "metadata": {},
   "source": [
    "# Tarefa 3 - Francisco José Santos de Oliveira - 119150156"
   ]
  },
  {
   "cell_type": "markdown",
   "id": "f185a13b-d33a-417c-8521-2d39b2482b22",
   "metadata": {},
   "source": [
    "> Trabalhei na resolução de algumas questões com Carlos Bravo e Gabriele Jandres."
   ]
  },
  {
   "cell_type": "markdown",
   "id": "a0ff21ec-3f5b-41c0-a251-447c502075d3",
   "metadata": {
    "tags": []
   },
   "source": [
    "## Questão 1"
   ]
  },
  {
   "cell_type": "markdown",
   "id": "341f1ecd-8b14-46d1-8f8b-8b11d6b9ba3d",
   "metadata": {},
   "source": [
    "Primeiro, transformamos a raiz de 10 em uma função e estabelecemos o 'a' e o 'b' do intervalo."
   ]
  },
  {
   "cell_type": "code",
   "execution_count": 1,
   "id": "0e57288f-0263-46bc-ae8d-7fef2f4b84c0",
   "metadata": {},
   "outputs": [
    {
     "data": {
      "text/plain": [
       "20"
      ]
     },
     "execution_count": 1,
     "metadata": {},
     "output_type": "execute_result"
    }
   ],
   "source": [
    "f(x) = x^2 - 10\n",
    "a = 0\n",
    "b = 20"
   ]
  },
  {
   "cell_type": "markdown",
   "id": "4a20b114-c402-4801-b650-39c7ff465ffe",
   "metadata": {},
   "source": [
    "Em seguida, implementamos a função de bissecção trabalhada em aula, fazendo uma pequena modificação: ao final do código, solicitamos o retorno da varíavel\n",
    "'iterações'. Isso retornará a quantidade de passos."
   ]
  },
  {
   "cell_type": "code",
   "execution_count": 3,
   "id": "e5a8324d-32f0-4bef-aeb8-751d30fb27df",
   "metadata": {},
   "outputs": [
    {
     "data": {
      "text/plain": [
       "bissecao (generic function with 1 method)"
      ]
     },
     "execution_count": 3,
     "metadata": {},
     "output_type": "execute_result"
    }
   ],
   "source": [
    "function bissecao(f,a,b,tamanho_final_do_intervalo) \n",
    "#especificação: dado a e b tal que f(a) e f(b) tem sinais opostos (obrigação do usuário)\n",
    "#retorna x_final tal que |x_final - x_c| <= tamanho_final_do_intervalo/2 com f(x_c)=0 (nossa promessa)\n",
    "    \n",
    "    if é_raiz(f,a)\n",
    "        return a\n",
    "    end\n",
    "    if é_raiz(f,b)\n",
    "        return b\n",
    "    end\n",
    "    if !(tem_sinais_opostos(f,a,b))\n",
    "        return \"Não tem sinais opostos\"\n",
    "    end\n",
    "    \n",
    "    iterações = floor(log2((b-a)/tamanho_final_do_intervalo))+1\n",
    "    \n",
    "    for i=1:iterações\n",
    "        m=média(a,b)\n",
    "        if é_raiz(f,m)\n",
    "            return m\n",
    "        end\n",
    "        \n",
    "        if tem_sinais_opostos(f,a,m)\n",
    "            b=m\n",
    "        else\n",
    "            a=m\n",
    "        end\n",
    "    end\n",
    "    \n",
    "    print(\"passos: \")\n",
    "    print(iterações)\n",
    "    x_final=média(a,b)\n",
    "    return x_final\n",
    "end"
   ]
  },
  {
   "cell_type": "code",
   "execution_count": 4,
   "id": "06ebb037-8421-42fb-b3a6-f80761f16f89",
   "metadata": {},
   "outputs": [
    {
     "data": {
      "text/plain": [
       "tem_sinais_opostos (generic function with 1 method)"
      ]
     },
     "execution_count": 4,
     "metadata": {},
     "output_type": "execute_result"
    }
   ],
   "source": [
    "function tem_sinais_opostos(f,a,b) #função recebe f(a) e f(b) não nulos\n",
    "    return f(a)*f(b) < 0\n",
    "end"
   ]
  },
  {
   "cell_type": "code",
   "execution_count": 5,
   "id": "6cce7d2c-a5e2-410b-abf3-87e40a9573d3",
   "metadata": {},
   "outputs": [
    {
     "data": {
      "text/plain": [
       "é_raiz (generic function with 1 method)"
      ]
     },
     "execution_count": 5,
     "metadata": {},
     "output_type": "execute_result"
    }
   ],
   "source": [
    "function é_raiz(f,a)\n",
    "    return f(a)==0\n",
    "end"
   ]
  },
  {
   "cell_type": "code",
   "execution_count": 6,
   "id": "bbbc7967-3290-45c9-94b4-5a22b2eadc57",
   "metadata": {},
   "outputs": [
    {
     "data": {
      "text/plain": [
       "média (generic function with 1 method)"
      ]
     },
     "execution_count": 6,
     "metadata": {},
     "output_type": "execute_result"
    }
   ],
   "source": [
    "function média(x,y)\n",
    "    return (x+y)/2\n",
    "end"
   ]
  },
  {
   "cell_type": "markdown",
   "id": "c773c7fb-01b4-4030-bcdc-e7375c133adb",
   "metadata": {},
   "source": [
    "Agora, aplicamos os nossos valores na função criada e encontramos, respectivamente, o valor aproximado da raiz de 10 e a quantidade de passos feita.\n",
    "\n",
    "OBS: Como será necessário utilizar distância final de intervalo em outra questão, eu irei adaptar o parâmetro para erro diretamente da chamada, multiplicando a distância por dois para que isso passe a ser verdade."
   ]
  },
  {
   "cell_type": "code",
   "execution_count": 236,
   "id": "421869f9-1afc-49ae-8587-21f6c4e24e45",
   "metadata": {},
   "outputs": [
    {
     "name": "stdout",
     "output_type": "stream",
     "text": [
      "passos: 30.0"
     ]
    },
    {
     "data": {
      "text/plain": [
       "3.162277666851878"
      ]
     },
     "execution_count": 236,
     "metadata": {},
     "output_type": "execute_result"
    }
   ],
   "source": [
    "bissecao(f, a, b, 2*1e-8)"
   ]
  },
  {
   "cell_type": "markdown",
   "id": "4ede0b66-027f-4bd6-beb2-c16df3c38763",
   "metadata": {},
   "source": [
    "Portanto, o valor para a raiz de 10 encontrado foi 3.162277666851878 e a quantidade de passos necessários foi 30."
   ]
  },
  {
   "cell_type": "markdown",
   "id": "e5ce6a88-c70a-43ef-995a-dc3769e92b19",
   "metadata": {},
   "source": [
    "## Questão 2\n",
    "\n",
    "Vamos primeiro implementar uma função para o Método de Newton:"
   ]
  },
  {
   "cell_type": "code",
   "execution_count": 2,
   "id": "2f890ddf-65ab-42b5-b5f3-b7b7228132e2",
   "metadata": {},
   "outputs": [
    {
     "data": {
      "text/plain": [
       "Newton (generic function with 1 method)"
      ]
     },
     "execution_count": 2,
     "metadata": {},
     "output_type": "execute_result"
    }
   ],
   "source": [
    "function Newton(f, fd, x)\n",
    "    #entradas: função, primeira derivada e x\n",
    "    \n",
    "    #criamos um limite de passos para que o algoritmo não fique rodando infinitamente\n",
    "    passos, limite_passos = 0, 1000\n",
    "    tolerância = 1e-14\n",
    "    \n",
    "    #loop para aproximação do x\n",
    "    while(abs(f(x))>tolerância) && passos < limite_passos\n",
    "        \n",
    "        #\n",
    "        x = x - f(x) / fd(x)\n",
    "        passos += 1\n",
    "    end\n",
    "    \n",
    "    #tratamento de erro para caso o limite de passos tenha sido excedido\n",
    "    if(passos > limite_passos)\n",
    "        error(\"número de passos excedido sem convergência bem sucedida.\")\n",
    "    end\n",
    "    \n",
    "    #retorno do valor aproximado de x\n",
    "    x\n",
    "end"
   ]
  },
  {
   "cell_type": "markdown",
   "id": "83f22f53-afa6-474b-90c4-93ef43ed32d1",
   "metadata": {},
   "source": [
    "Agora que temos funções para o Método da Bissecção e para o Método de Newton, criamos uma que englobe ambas para o interesse do enunciado."
   ]
  },
  {
   "cell_type": "code",
   "execution_count": 9,
   "id": "b5bf994d-6ddf-441e-a69d-b85d753121be",
   "metadata": {},
   "outputs": [
    {
     "data": {
      "text/plain": [
       "questão2 (generic function with 1 method)"
      ]
     },
     "execution_count": 9,
     "metadata": {},
     "output_type": "execute_result"
    }
   ],
   "source": [
    "function questão2(p, dp)\n",
    "    if !(tem_sinais_opostos(p,-100,100))\n",
    "        return \"Não tem sinais trocados\"\n",
    "    end\n",
    "    \n",
    "    #bissecção sendo feita para diminuir o intervalo para 10^-2\n",
    "    x = bissecao(p, -100, 100, 0.01)\n",
    "    \n",
    "    #aplicação do método de newton para encontrar uma das raízes\n",
    "    raiz = Newton(p, dp, x)\n",
    "    \n",
    "    raiz\n",
    "end"
   ]
  },
  {
   "cell_type": "markdown",
   "id": "46241656-060f-41fc-90d8-7fbbde9b3054",
   "metadata": {},
   "source": [
    "Criamos um polinômio de grau 5 para ser testado:"
   ]
  },
  {
   "cell_type": "code",
   "execution_count": 237,
   "id": "9d36295e-8d7b-4dbe-a41c-3fcc7cae3937",
   "metadata": {},
   "outputs": [
    {
     "data": {
      "text/plain": [
       "gd (generic function with 1 method)"
      ]
     },
     "execution_count": 237,
     "metadata": {},
     "output_type": "execute_result"
    }
   ],
   "source": [
    "g(x) = x^5 + 2x^3 + 10x + 4\n",
    "gd(x) = 5x^4 + 6x^2 + 10"
   ]
  },
  {
   "cell_type": "code",
   "execution_count": 55,
   "id": "549baa1b-6f2b-41cf-a2f2-2876ff180a3a",
   "metadata": {},
   "outputs": [
    {
     "data": {
      "text/plain": [
       "Plots.GRBackend()"
      ]
     },
     "execution_count": 55,
     "metadata": {},
     "output_type": "execute_result"
    }
   ],
   "source": [
    "using Plots\n",
    "gr(size=(600,400))"
   ]
  },
  {
   "cell_type": "code",
   "execution_count": 11,
   "id": "00c2123d-8dc2-44ac-98a2-de6048288da2",
   "metadata": {},
   "outputs": [
    {
     "data": {
      "image/svg+xml": [
       "<?xml version=\"1.0\" encoding=\"utf-8\"?>\n",
       "<svg xmlns=\"http://www.w3.org/2000/svg\" xmlns:xlink=\"http://www.w3.org/1999/xlink\" width=\"600\" height=\"400\" viewBox=\"0 0 2400 1600\">\n",
       "<defs>\n",
       "  <clipPath id=\"clip240\">\n",
       "    <rect x=\"0\" y=\"0\" width=\"2400\" height=\"1600\"/>\n",
       "  </clipPath>\n",
       "</defs>\n",
       "<path clip-path=\"url(#clip240)\" d=\"\n",
       "M0 1600 L2400 1600 L2400 0 L0 0  Z\n",
       "  \" fill=\"#ffffff\" fill-rule=\"evenodd\" fill-opacity=\"1\"/>\n",
       "<defs>\n",
       "  <clipPath id=\"clip241\">\n",
       "    <rect x=\"480\" y=\"0\" width=\"1681\" height=\"1600\"/>\n",
       "  </clipPath>\n",
       "</defs>\n",
       "<path clip-path=\"url(#clip240)\" d=\"\n",
       "M336.205 1486.45 L2352.76 1486.45 L2352.76 47.2441 L336.205 47.2441  Z\n",
       "  \" fill=\"#ffffff\" fill-rule=\"evenodd\" fill-opacity=\"1\"/>\n",
       "<defs>\n",
       "  <clipPath id=\"clip242\">\n",
       "    <rect x=\"336\" y=\"47\" width=\"2018\" height=\"1440\"/>\n",
       "  </clipPath>\n",
       "</defs>\n",
       "<polyline clip-path=\"url(#clip242)\" style=\"stroke:#000000; stroke-linecap:butt; stroke-linejoin:round; stroke-width:2; stroke-opacity:0.1; fill:none\" points=\"\n",
       "  393.277,1486.45 393.277,47.2441 \n",
       "  \"/>\n",
       "<polyline clip-path=\"url(#clip242)\" style=\"stroke:#000000; stroke-linecap:butt; stroke-linejoin:round; stroke-width:2; stroke-opacity:0.1; fill:none\" points=\"\n",
       "  868.879,1486.45 868.879,47.2441 \n",
       "  \"/>\n",
       "<polyline clip-path=\"url(#clip242)\" style=\"stroke:#000000; stroke-linecap:butt; stroke-linejoin:round; stroke-width:2; stroke-opacity:0.1; fill:none\" points=\"\n",
       "  1344.48,1486.45 1344.48,47.2441 \n",
       "  \"/>\n",
       "<polyline clip-path=\"url(#clip242)\" style=\"stroke:#000000; stroke-linecap:butt; stroke-linejoin:round; stroke-width:2; stroke-opacity:0.1; fill:none\" points=\"\n",
       "  1820.08,1486.45 1820.08,47.2441 \n",
       "  \"/>\n",
       "<polyline clip-path=\"url(#clip242)\" style=\"stroke:#000000; stroke-linecap:butt; stroke-linejoin:round; stroke-width:2; stroke-opacity:0.1; fill:none\" points=\"\n",
       "  2295.68,1486.45 2295.68,47.2441 \n",
       "  \"/>\n",
       "<polyline clip-path=\"url(#clip240)\" style=\"stroke:#000000; stroke-linecap:butt; stroke-linejoin:round; stroke-width:4; stroke-opacity:1; fill:none\" points=\"\n",
       "  336.205,1486.45 2352.76,1486.45 \n",
       "  \"/>\n",
       "<polyline clip-path=\"url(#clip240)\" style=\"stroke:#000000; stroke-linecap:butt; stroke-linejoin:round; stroke-width:4; stroke-opacity:1; fill:none\" points=\"\n",
       "  393.277,1486.45 393.277,1467.55 \n",
       "  \"/>\n",
       "<polyline clip-path=\"url(#clip240)\" style=\"stroke:#000000; stroke-linecap:butt; stroke-linejoin:round; stroke-width:4; stroke-opacity:1; fill:none\" points=\"\n",
       "  868.879,1486.45 868.879,1467.55 \n",
       "  \"/>\n",
       "<polyline clip-path=\"url(#clip240)\" style=\"stroke:#000000; stroke-linecap:butt; stroke-linejoin:round; stroke-width:4; stroke-opacity:1; fill:none\" points=\"\n",
       "  1344.48,1486.45 1344.48,1467.55 \n",
       "  \"/>\n",
       "<polyline clip-path=\"url(#clip240)\" style=\"stroke:#000000; stroke-linecap:butt; stroke-linejoin:round; stroke-width:4; stroke-opacity:1; fill:none\" points=\"\n",
       "  1820.08,1486.45 1820.08,1467.55 \n",
       "  \"/>\n",
       "<polyline clip-path=\"url(#clip240)\" style=\"stroke:#000000; stroke-linecap:butt; stroke-linejoin:round; stroke-width:4; stroke-opacity:1; fill:none\" points=\"\n",
       "  2295.68,1486.45 2295.68,1467.55 \n",
       "  \"/>\n",
       "<path clip-path=\"url(#clip240)\" d=\"M332.259 1532.02 L361.935 1532.02 L361.935 1535.95 L332.259 1535.95 L332.259 1532.02 Z\" fill=\"#000000\" fill-rule=\"evenodd\" fill-opacity=\"1\" /><path clip-path=\"url(#clip240)\" d=\"M372.838 1544.91 L380.477 1544.91 L380.477 1518.55 L372.166 1520.21 L372.166 1515.95 L380.43 1514.29 L385.106 1514.29 L385.106 1544.91 L392.745 1544.91 L392.745 1548.85 L372.838 1548.85 L372.838 1544.91 Z\" fill=\"#000000\" fill-rule=\"evenodd\" fill-opacity=\"1\" /><path clip-path=\"url(#clip240)\" d=\"M412.189 1517.37 Q408.578 1517.37 406.75 1520.93 Q404.944 1524.47 404.944 1531.6 Q404.944 1538.71 406.75 1542.27 Q408.578 1545.82 412.189 1545.82 Q415.824 1545.82 417.629 1542.27 Q419.458 1538.71 419.458 1531.6 Q419.458 1524.47 417.629 1520.93 Q415.824 1517.37 412.189 1517.37 M412.189 1513.66 Q417.999 1513.66 421.055 1518.27 Q424.134 1522.85 424.134 1531.6 Q424.134 1540.33 421.055 1544.94 Q417.999 1549.52 412.189 1549.52 Q406.379 1549.52 403.3 1544.94 Q400.245 1540.33 400.245 1531.6 Q400.245 1522.85 403.3 1518.27 Q406.379 1513.66 412.189 1513.66 Z\" fill=\"#000000\" fill-rule=\"evenodd\" fill-opacity=\"1\" /><path clip-path=\"url(#clip240)\" d=\"M442.351 1517.37 Q438.74 1517.37 436.911 1520.93 Q435.106 1524.47 435.106 1531.6 Q435.106 1538.71 436.911 1542.27 Q438.74 1545.82 442.351 1545.82 Q445.985 1545.82 447.791 1542.27 Q449.62 1538.71 449.62 1531.6 Q449.62 1524.47 447.791 1520.93 Q445.985 1517.37 442.351 1517.37 M442.351 1513.66 Q448.161 1513.66 451.217 1518.27 Q454.296 1522.85 454.296 1531.6 Q454.296 1540.33 451.217 1544.94 Q448.161 1549.52 442.351 1549.52 Q436.541 1549.52 433.462 1544.94 Q430.407 1540.33 430.407 1531.6 Q430.407 1522.85 433.462 1518.27 Q436.541 1513.66 442.351 1513.66 Z\" fill=\"#000000\" fill-rule=\"evenodd\" fill-opacity=\"1\" /><path clip-path=\"url(#clip240)\" d=\"M822.942 1532.02 L852.617 1532.02 L852.617 1535.95 L822.942 1535.95 L822.942 1532.02 Z\" fill=\"#000000\" fill-rule=\"evenodd\" fill-opacity=\"1\" /><path clip-path=\"url(#clip240)\" d=\"M862.756 1514.29 L881.113 1514.29 L881.113 1518.22 L867.039 1518.22 L867.039 1526.7 Q868.057 1526.35 869.076 1526.19 Q870.094 1526 871.113 1526 Q876.9 1526 880.279 1529.17 Q883.659 1532.34 883.659 1537.76 Q883.659 1543.34 880.187 1546.44 Q876.715 1549.52 870.395 1549.52 Q868.219 1549.52 865.951 1549.15 Q863.705 1548.78 861.298 1548.04 L861.298 1543.34 Q863.381 1544.47 865.604 1545.03 Q867.826 1545.58 870.303 1545.58 Q874.307 1545.58 876.645 1543.48 Q878.983 1541.37 878.983 1537.76 Q878.983 1534.15 876.645 1532.04 Q874.307 1529.94 870.303 1529.94 Q868.428 1529.94 866.553 1530.35 Q864.701 1530.77 862.756 1531.65 L862.756 1514.29 Z\" fill=\"#000000\" fill-rule=\"evenodd\" fill-opacity=\"1\" /><path clip-path=\"url(#clip240)\" d=\"M902.872 1517.37 Q899.261 1517.37 897.432 1520.93 Q895.627 1524.47 895.627 1531.6 Q895.627 1538.71 897.432 1542.27 Q899.261 1545.82 902.872 1545.82 Q906.506 1545.82 908.312 1542.27 Q910.14 1538.71 910.14 1531.6 Q910.14 1524.47 908.312 1520.93 Q906.506 1517.37 902.872 1517.37 M902.872 1513.66 Q908.682 1513.66 911.738 1518.27 Q914.816 1522.85 914.816 1531.6 Q914.816 1540.33 911.738 1544.94 Q908.682 1549.52 902.872 1549.52 Q897.062 1549.52 893.983 1544.94 Q890.927 1540.33 890.927 1531.6 Q890.927 1522.85 893.983 1518.27 Q897.062 1513.66 902.872 1513.66 Z\" fill=\"#000000\" fill-rule=\"evenodd\" fill-opacity=\"1\" /><path clip-path=\"url(#clip240)\" d=\"M1344.48 1517.37 Q1340.87 1517.37 1339.04 1520.93 Q1337.24 1524.47 1337.24 1531.6 Q1337.24 1538.71 1339.04 1542.27 Q1340.87 1545.82 1344.48 1545.82 Q1348.11 1545.82 1349.92 1542.27 Q1351.75 1538.71 1351.75 1531.6 Q1351.75 1524.47 1349.92 1520.93 Q1348.11 1517.37 1344.48 1517.37 M1344.48 1513.66 Q1350.29 1513.66 1353.35 1518.27 Q1356.42 1522.85 1356.42 1531.6 Q1356.42 1540.33 1353.35 1544.94 Q1350.29 1549.52 1344.48 1549.52 Q1338.67 1549.52 1335.59 1544.94 Q1332.54 1540.33 1332.54 1531.6 Q1332.54 1522.85 1335.59 1518.27 Q1338.67 1513.66 1344.48 1513.66 Z\" fill=\"#000000\" fill-rule=\"evenodd\" fill-opacity=\"1\" /><path clip-path=\"url(#clip240)\" d=\"M1794.78 1514.29 L1813.14 1514.29 L1813.14 1518.22 L1799.06 1518.22 L1799.06 1526.7 Q1800.08 1526.35 1801.1 1526.19 Q1802.12 1526 1803.14 1526 Q1808.92 1526 1812.3 1529.17 Q1815.68 1532.34 1815.68 1537.76 Q1815.68 1543.34 1812.21 1546.44 Q1808.74 1549.52 1802.42 1549.52 Q1800.24 1549.52 1797.98 1549.15 Q1795.73 1548.78 1793.32 1548.04 L1793.32 1543.34 Q1795.41 1544.47 1797.63 1545.03 Q1799.85 1545.58 1802.33 1545.58 Q1806.33 1545.58 1808.67 1543.48 Q1811.01 1541.37 1811.01 1537.76 Q1811.01 1534.15 1808.67 1532.04 Q1806.33 1529.94 1802.33 1529.94 Q1800.45 1529.94 1798.58 1530.35 Q1796.73 1530.77 1794.78 1531.65 L1794.78 1514.29 Z\" fill=\"#000000\" fill-rule=\"evenodd\" fill-opacity=\"1\" /><path clip-path=\"url(#clip240)\" d=\"M1834.9 1517.37 Q1831.29 1517.37 1829.46 1520.93 Q1827.65 1524.47 1827.65 1531.6 Q1827.65 1538.71 1829.46 1542.27 Q1831.29 1545.82 1834.9 1545.82 Q1838.53 1545.82 1840.34 1542.27 Q1842.17 1538.71 1842.17 1531.6 Q1842.17 1524.47 1840.34 1520.93 Q1838.53 1517.37 1834.9 1517.37 M1834.9 1513.66 Q1840.71 1513.66 1843.76 1518.27 Q1846.84 1522.85 1846.84 1531.6 Q1846.84 1540.33 1843.76 1544.94 Q1840.71 1549.52 1834.9 1549.52 Q1829.09 1549.52 1826.01 1544.94 Q1822.95 1540.33 1822.95 1531.6 Q1822.95 1522.85 1826.01 1518.27 Q1829.09 1513.66 1834.9 1513.66 Z\" fill=\"#000000\" fill-rule=\"evenodd\" fill-opacity=\"1\" /><path clip-path=\"url(#clip240)\" d=\"M2255.29 1544.91 L2262.93 1544.91 L2262.93 1518.55 L2254.62 1520.21 L2254.62 1515.95 L2262.88 1514.29 L2267.56 1514.29 L2267.56 1544.91 L2275.2 1544.91 L2275.2 1548.85 L2255.29 1548.85 L2255.29 1544.91 Z\" fill=\"#000000\" fill-rule=\"evenodd\" fill-opacity=\"1\" /><path clip-path=\"url(#clip240)\" d=\"M2294.64 1517.37 Q2291.03 1517.37 2289.2 1520.93 Q2287.4 1524.47 2287.4 1531.6 Q2287.4 1538.71 2289.2 1542.27 Q2291.03 1545.82 2294.64 1545.82 Q2298.28 1545.82 2300.08 1542.27 Q2301.91 1538.71 2301.91 1531.6 Q2301.91 1524.47 2300.08 1520.93 Q2298.28 1517.37 2294.64 1517.37 M2294.64 1513.66 Q2300.45 1513.66 2303.51 1518.27 Q2306.59 1522.85 2306.59 1531.6 Q2306.59 1540.33 2303.51 1544.94 Q2300.45 1549.52 2294.64 1549.52 Q2288.83 1549.52 2285.75 1544.94 Q2282.7 1540.33 2282.7 1531.6 Q2282.7 1522.85 2285.75 1518.27 Q2288.83 1513.66 2294.64 1513.66 Z\" fill=\"#000000\" fill-rule=\"evenodd\" fill-opacity=\"1\" /><path clip-path=\"url(#clip240)\" d=\"M2324.8 1517.37 Q2321.19 1517.37 2319.36 1520.93 Q2317.56 1524.47 2317.56 1531.6 Q2317.56 1538.71 2319.36 1542.27 Q2321.19 1545.82 2324.8 1545.82 Q2328.44 1545.82 2330.24 1542.27 Q2332.07 1538.71 2332.07 1531.6 Q2332.07 1524.47 2330.24 1520.93 Q2328.44 1517.37 2324.8 1517.37 M2324.8 1513.66 Q2330.61 1513.66 2333.67 1518.27 Q2336.75 1522.85 2336.75 1531.6 Q2336.75 1540.33 2333.67 1544.94 Q2330.61 1549.52 2324.8 1549.52 Q2318.99 1549.52 2315.92 1544.94 Q2312.86 1540.33 2312.86 1531.6 Q2312.86 1522.85 2315.92 1518.27 Q2318.99 1513.66 2324.8 1513.66 Z\" fill=\"#000000\" fill-rule=\"evenodd\" fill-opacity=\"1\" /><polyline clip-path=\"url(#clip242)\" style=\"stroke:#000000; stroke-linecap:butt; stroke-linejoin:round; stroke-width:2; stroke-opacity:0.1; fill:none\" points=\"\n",
       "  336.205,1445.58 2352.76,1445.58 \n",
       "  \"/>\n",
       "<polyline clip-path=\"url(#clip242)\" style=\"stroke:#000000; stroke-linecap:butt; stroke-linejoin:round; stroke-width:2; stroke-opacity:0.1; fill:none\" points=\"\n",
       "  336.205,1106.21 2352.76,1106.21 \n",
       "  \"/>\n",
       "<polyline clip-path=\"url(#clip242)\" style=\"stroke:#000000; stroke-linecap:butt; stroke-linejoin:round; stroke-width:2; stroke-opacity:0.1; fill:none\" points=\"\n",
       "  336.205,766.846 2352.76,766.846 \n",
       "  \"/>\n",
       "<polyline clip-path=\"url(#clip242)\" style=\"stroke:#000000; stroke-linecap:butt; stroke-linejoin:round; stroke-width:2; stroke-opacity:0.1; fill:none\" points=\"\n",
       "  336.205,427.479 2352.76,427.479 \n",
       "  \"/>\n",
       "<polyline clip-path=\"url(#clip242)\" style=\"stroke:#000000; stroke-linecap:butt; stroke-linejoin:round; stroke-width:2; stroke-opacity:0.1; fill:none\" points=\"\n",
       "  336.205,88.1121 2352.76,88.1121 \n",
       "  \"/>\n",
       "<polyline clip-path=\"url(#clip240)\" style=\"stroke:#000000; stroke-linecap:butt; stroke-linejoin:round; stroke-width:4; stroke-opacity:1; fill:none\" points=\"\n",
       "  336.205,1486.45 336.205,47.2441 \n",
       "  \"/>\n",
       "<polyline clip-path=\"url(#clip240)\" style=\"stroke:#000000; stroke-linecap:butt; stroke-linejoin:round; stroke-width:4; stroke-opacity:1; fill:none\" points=\"\n",
       "  336.205,1445.58 355.103,1445.58 \n",
       "  \"/>\n",
       "<polyline clip-path=\"url(#clip240)\" style=\"stroke:#000000; stroke-linecap:butt; stroke-linejoin:round; stroke-width:4; stroke-opacity:1; fill:none\" points=\"\n",
       "  336.205,1106.21 355.103,1106.21 \n",
       "  \"/>\n",
       "<polyline clip-path=\"url(#clip240)\" style=\"stroke:#000000; stroke-linecap:butt; stroke-linejoin:round; stroke-width:4; stroke-opacity:1; fill:none\" points=\"\n",
       "  336.205,766.846 355.103,766.846 \n",
       "  \"/>\n",
       "<polyline clip-path=\"url(#clip240)\" style=\"stroke:#000000; stroke-linecap:butt; stroke-linejoin:round; stroke-width:4; stroke-opacity:1; fill:none\" points=\"\n",
       "  336.205,427.479 355.103,427.479 \n",
       "  \"/>\n",
       "<polyline clip-path=\"url(#clip240)\" style=\"stroke:#000000; stroke-linecap:butt; stroke-linejoin:round; stroke-width:4; stroke-opacity:1; fill:none\" points=\"\n",
       "  336.205,88.1121 355.103,88.1121 \n",
       "  \"/>\n",
       "<path clip-path=\"url(#clip240)\" d=\"M50.9921 1452.48 L80.6679 1452.48 L80.6679 1456.41 L50.9921 1456.41 L50.9921 1452.48 Z\" fill=\"#000000\" fill-rule=\"evenodd\" fill-opacity=\"1\" /><path clip-path=\"url(#clip240)\" d=\"M91.5706 1465.37 L99.2095 1465.37 L99.2095 1439.01 L90.8993 1440.67 L90.8993 1436.41 L99.1632 1434.75 L103.839 1434.75 L103.839 1465.37 L111.478 1465.37 L111.478 1469.31 L91.5706 1469.31 L91.5706 1465.37 Z\" fill=\"#000000\" fill-rule=\"evenodd\" fill-opacity=\"1\" /><path clip-path=\"url(#clip240)\" d=\"M120.922 1463.43 L125.807 1463.43 L125.807 1469.31 L120.922 1469.31 L120.922 1463.43 Z\" fill=\"#000000\" fill-rule=\"evenodd\" fill-opacity=\"1\" /><path clip-path=\"url(#clip240)\" d=\"M145.992 1437.83 Q142.381 1437.83 140.552 1441.39 Q138.746 1444.93 138.746 1452.06 Q138.746 1459.17 140.552 1462.73 Q142.381 1466.28 145.992 1466.28 Q149.626 1466.28 151.431 1462.73 Q153.26 1459.17 153.26 1452.06 Q153.26 1444.93 151.431 1441.39 Q149.626 1437.83 145.992 1437.83 M145.992 1434.12 Q151.802 1434.12 154.857 1438.73 Q157.936 1443.31 157.936 1452.06 Q157.936 1460.79 154.857 1465.4 Q151.802 1469.98 145.992 1469.98 Q140.181 1469.98 137.103 1465.4 Q134.047 1460.79 134.047 1452.06 Q134.047 1443.31 137.103 1438.73 Q140.181 1434.12 145.992 1434.12 Z\" fill=\"#000000\" fill-rule=\"evenodd\" fill-opacity=\"1\" /><path clip-path=\"url(#clip240)\" d=\"M194.325 1443.84 L183.746 1454.47 L194.325 1465.05 L191.57 1467.85 L180.945 1457.22 L170.32 1467.85 L167.589 1465.05 L178.144 1454.47 L167.589 1443.84 L170.32 1441.04 L180.945 1451.67 L191.57 1441.04 L194.325 1443.84 Z\" fill=\"#000000\" fill-rule=\"evenodd\" fill-opacity=\"1\" /><path clip-path=\"url(#clip240)\" d=\"M206.686 1465.37 L214.325 1465.37 L214.325 1439.01 L206.014 1440.67 L206.014 1436.41 L214.278 1434.75 L218.954 1434.75 L218.954 1465.37 L226.593 1465.37 L226.593 1469.31 L206.686 1469.31 L206.686 1465.37 Z\" fill=\"#000000\" fill-rule=\"evenodd\" fill-opacity=\"1\" /><path clip-path=\"url(#clip240)\" d=\"M246.037 1437.83 Q242.426 1437.83 240.598 1441.39 Q238.792 1444.93 238.792 1452.06 Q238.792 1459.17 240.598 1462.73 Q242.426 1466.28 246.037 1466.28 Q249.672 1466.28 251.477 1462.73 Q253.306 1459.17 253.306 1452.06 Q253.306 1444.93 251.477 1441.39 Q249.672 1437.83 246.037 1437.83 M246.037 1434.12 Q251.848 1434.12 254.903 1438.73 Q257.982 1443.31 257.982 1452.06 Q257.982 1460.79 254.903 1465.4 Q251.848 1469.98 246.037 1469.98 Q240.227 1469.98 237.149 1465.4 Q234.093 1460.79 234.093 1452.06 Q234.093 1443.31 237.149 1438.73 Q240.227 1434.12 246.037 1434.12 Z\" fill=\"#000000\" fill-rule=\"evenodd\" fill-opacity=\"1\" /><path clip-path=\"url(#clip240)\" d=\"M258.527 1438.7 L264.734 1438.7 L264.734 1417.28 L257.982 1418.63 L257.982 1415.17 L264.696 1413.82 L268.495 1413.82 L268.495 1438.7 L274.702 1438.7 L274.702 1441.9 L258.527 1441.9 L258.527 1438.7 Z\" fill=\"#000000\" fill-rule=\"evenodd\" fill-opacity=\"1\" /><path clip-path=\"url(#clip240)\" d=\"M290.5 1416.32 Q287.566 1416.32 286.081 1419.21 Q284.614 1422.09 284.614 1427.89 Q284.614 1433.66 286.081 1436.56 Q287.566 1439.43 290.5 1439.43 Q293.453 1439.43 294.92 1436.56 Q296.406 1433.66 296.406 1427.89 Q296.406 1422.09 294.92 1419.21 Q293.453 1416.32 290.5 1416.32 M290.5 1413.31 Q295.221 1413.31 297.704 1417.05 Q300.205 1420.78 300.205 1427.89 Q300.205 1434.98 297.704 1438.72 Q295.221 1442.44 290.5 1442.44 Q285.78 1442.44 283.278 1438.72 Q280.796 1434.98 280.796 1427.89 Q280.796 1420.78 283.278 1417.05 Q285.78 1413.31 290.5 1413.31 Z\" fill=\"#000000\" fill-rule=\"evenodd\" fill-opacity=\"1\" /><path clip-path=\"url(#clip240)\" d=\"M73.8436 1113.11 L103.519 1113.11 L103.519 1117.05 L73.8436 1117.05 L73.8436 1113.11 Z\" fill=\"#000000\" fill-rule=\"evenodd\" fill-opacity=\"1\" /><path clip-path=\"url(#clip240)\" d=\"M113.658 1095.38 L132.015 1095.38 L132.015 1099.32 L117.941 1099.32 L117.941 1107.79 Q118.959 1107.44 119.978 1107.28 Q120.996 1107.09 122.015 1107.09 Q127.802 1107.09 131.181 1110.26 Q134.561 1113.44 134.561 1118.85 Q134.561 1124.43 131.089 1127.53 Q127.616 1130.61 121.297 1130.61 Q119.121 1130.61 116.853 1130.24 Q114.607 1129.87 112.2 1129.13 L112.2 1124.43 Q114.283 1125.57 116.505 1126.12 Q118.728 1126.68 121.204 1126.68 Q125.209 1126.68 127.547 1124.57 Q129.885 1122.46 129.885 1118.85 Q129.885 1115.24 127.547 1113.14 Q125.209 1111.03 121.204 1111.03 Q119.329 1111.03 117.454 1111.45 Q115.603 1111.86 113.658 1112.74 L113.658 1095.38 Z\" fill=\"#000000\" fill-rule=\"evenodd\" fill-opacity=\"1\" /><path clip-path=\"url(#clip240)\" d=\"M143.774 1124.06 L148.658 1124.06 L148.658 1129.94 L143.774 1129.94 L143.774 1124.06 Z\" fill=\"#000000\" fill-rule=\"evenodd\" fill-opacity=\"1\" /><path clip-path=\"url(#clip240)\" d=\"M168.843 1098.46 Q165.232 1098.46 163.403 1102.02 Q161.598 1105.57 161.598 1112.7 Q161.598 1119.8 163.403 1123.37 Q165.232 1126.91 168.843 1126.91 Q172.477 1126.91 174.283 1123.37 Q176.112 1119.8 176.112 1112.7 Q176.112 1105.57 174.283 1102.02 Q172.477 1098.46 168.843 1098.46 M168.843 1094.76 Q174.653 1094.76 177.709 1099.36 Q180.787 1103.95 180.787 1112.7 Q180.787 1121.42 177.709 1126.03 Q174.653 1130.61 168.843 1130.61 Q163.033 1130.61 159.954 1126.03 Q156.899 1121.42 156.899 1112.7 Q156.899 1103.95 159.954 1099.36 Q163.033 1094.76 168.843 1094.76 Z\" fill=\"#000000\" fill-rule=\"evenodd\" fill-opacity=\"1\" /><path clip-path=\"url(#clip240)\" d=\"M217.176 1104.48 L206.597 1115.1 L217.176 1125.68 L214.422 1128.48 L203.797 1117.86 L193.172 1128.48 L190.44 1125.68 L200.996 1115.1 L190.44 1104.48 L193.172 1101.68 L203.797 1112.3 L214.422 1101.68 L217.176 1104.48 Z\" fill=\"#000000\" fill-rule=\"evenodd\" fill-opacity=\"1\" /><path clip-path=\"url(#clip240)\" d=\"M229.537 1126.01 L237.176 1126.01 L237.176 1099.64 L228.866 1101.31 L228.866 1097.05 L237.13 1095.38 L241.806 1095.38 L241.806 1126.01 L249.444 1126.01 L249.444 1129.94 L229.537 1129.94 L229.537 1126.01 Z\" fill=\"#000000\" fill-rule=\"evenodd\" fill-opacity=\"1\" /><path clip-path=\"url(#clip240)\" d=\"M268.889 1098.46 Q265.278 1098.46 263.449 1102.02 Q261.643 1105.57 261.643 1112.7 Q261.643 1119.8 263.449 1123.37 Q265.278 1126.91 268.889 1126.91 Q272.523 1126.91 274.329 1123.37 Q276.157 1119.8 276.157 1112.7 Q276.157 1105.57 274.329 1102.02 Q272.523 1098.46 268.889 1098.46 M268.889 1094.76 Q274.699 1094.76 277.755 1099.36 Q280.833 1103.95 280.833 1112.7 Q280.833 1121.42 277.755 1126.03 Q274.699 1130.61 268.889 1130.61 Q263.079 1130.61 260 1126.03 Q256.944 1121.42 256.944 1112.7 Q256.944 1103.95 260 1099.36 Q263.079 1094.76 268.889 1094.76 Z\" fill=\"#000000\" fill-rule=\"evenodd\" fill-opacity=\"1\" /><path clip-path=\"url(#clip240)\" d=\"M282.639 1101.95 L282.639 1098.49 Q284.068 1099.16 285.535 1099.52 Q287.002 1099.88 288.413 1099.88 Q292.174 1099.88 294.149 1097.36 Q296.143 1094.82 296.425 1089.67 Q295.334 1091.28 293.66 1092.15 Q291.986 1093.01 289.955 1093.01 Q285.742 1093.01 283.278 1090.47 Q280.833 1087.92 280.833 1083.5 Q280.833 1079.17 283.391 1076.56 Q285.949 1073.94 290.199 1073.94 Q295.071 1073.94 297.629 1077.69 Q300.205 1081.41 300.205 1088.52 Q300.205 1095.16 297.045 1099.13 Q293.905 1103.08 288.582 1103.08 Q287.153 1103.08 285.686 1102.79 Q284.219 1102.51 282.639 1101.95 M290.199 1090.04 Q292.757 1090.04 294.243 1088.29 Q295.748 1086.54 295.748 1083.5 Q295.748 1080.47 294.243 1078.72 Q292.757 1076.95 290.199 1076.95 Q287.642 1076.95 286.137 1078.72 Q284.651 1080.47 284.651 1083.5 Q284.651 1086.54 286.137 1088.29 Q287.642 1090.04 290.199 1090.04 Z\" fill=\"#000000\" fill-rule=\"evenodd\" fill-opacity=\"1\" /><path clip-path=\"url(#clip240)\" d=\"M288.261 752.645 Q284.65 752.645 282.821 756.209 Q281.015 759.751 281.015 766.881 Q281.015 773.987 282.821 777.552 Q284.65 781.094 288.261 781.094 Q291.895 781.094 293.701 777.552 Q295.529 773.987 295.529 766.881 Q295.529 759.751 293.701 756.209 Q291.895 752.645 288.261 752.645 M288.261 748.941 Q294.071 748.941 297.127 753.547 Q300.205 758.131 300.205 766.881 Q300.205 775.608 297.127 780.214 Q294.071 784.797 288.261 784.797 Q282.451 784.797 279.372 780.214 Q276.316 775.608 276.316 766.881 Q276.316 758.131 279.372 753.547 Q282.451 748.941 288.261 748.941 Z\" fill=\"#000000\" fill-rule=\"evenodd\" fill-opacity=\"1\" /><path clip-path=\"url(#clip240)\" d=\"M113.658 416.647 L132.015 416.647 L132.015 420.582 L117.941 420.582 L117.941 429.054 Q118.959 428.707 119.978 428.545 Q120.996 428.36 122.015 428.36 Q127.802 428.36 131.181 431.531 Q134.561 434.702 134.561 440.119 Q134.561 445.697 131.089 448.799 Q127.616 451.878 121.297 451.878 Q119.121 451.878 116.853 451.508 Q114.607 451.137 112.2 450.396 L112.2 445.697 Q114.283 446.832 116.505 447.387 Q118.728 447.943 121.204 447.943 Q125.209 447.943 127.547 445.836 Q129.885 443.73 129.885 440.119 Q129.885 436.508 127.547 434.401 Q125.209 432.295 121.204 432.295 Q119.329 432.295 117.454 432.711 Q115.603 433.128 113.658 434.008 L113.658 416.647 Z\" fill=\"#000000\" fill-rule=\"evenodd\" fill-opacity=\"1\" /><path clip-path=\"url(#clip240)\" d=\"M143.774 445.327 L148.658 445.327 L148.658 451.207 L143.774 451.207 L143.774 445.327 Z\" fill=\"#000000\" fill-rule=\"evenodd\" fill-opacity=\"1\" /><path clip-path=\"url(#clip240)\" d=\"M168.843 419.725 Q165.232 419.725 163.403 423.29 Q161.598 426.832 161.598 433.961 Q161.598 441.068 163.403 444.633 Q165.232 448.174 168.843 448.174 Q172.477 448.174 174.283 444.633 Q176.112 441.068 176.112 433.961 Q176.112 426.832 174.283 423.29 Q172.477 419.725 168.843 419.725 M168.843 416.022 Q174.653 416.022 177.709 420.628 Q180.787 425.211 180.787 433.961 Q180.787 442.688 177.709 447.295 Q174.653 451.878 168.843 451.878 Q163.033 451.878 159.954 447.295 Q156.899 442.688 156.899 433.961 Q156.899 425.211 159.954 420.628 Q163.033 416.022 168.843 416.022 Z\" fill=\"#000000\" fill-rule=\"evenodd\" fill-opacity=\"1\" /><path clip-path=\"url(#clip240)\" d=\"M217.176 425.744 L206.597 436.369 L217.176 446.947 L214.422 449.748 L203.797 439.123 L193.172 449.748 L190.44 446.947 L200.996 436.369 L190.44 425.744 L193.172 422.943 L203.797 433.568 L214.422 422.943 L217.176 425.744 Z\" fill=\"#000000\" fill-rule=\"evenodd\" fill-opacity=\"1\" /><path clip-path=\"url(#clip240)\" d=\"M229.537 447.271 L237.176 447.271 L237.176 420.906 L228.866 422.573 L228.866 418.313 L237.13 416.647 L241.806 416.647 L241.806 447.271 L249.444 447.271 L249.444 451.207 L229.537 451.207 L229.537 447.271 Z\" fill=\"#000000\" fill-rule=\"evenodd\" fill-opacity=\"1\" /><path clip-path=\"url(#clip240)\" d=\"M268.889 419.725 Q265.278 419.725 263.449 423.29 Q261.643 426.832 261.643 433.961 Q261.643 441.068 263.449 444.633 Q265.278 448.174 268.889 448.174 Q272.523 448.174 274.329 444.633 Q276.157 441.068 276.157 433.961 Q276.157 426.832 274.329 423.29 Q272.523 419.725 268.889 419.725 M268.889 416.022 Q274.699 416.022 277.755 420.628 Q280.833 425.211 280.833 433.961 Q280.833 442.688 277.755 447.295 Q274.699 451.878 268.889 451.878 Q263.079 451.878 260 447.295 Q256.944 442.688 256.944 433.961 Q256.944 425.211 260 420.628 Q263.079 416.022 268.889 416.022 Z\" fill=\"#000000\" fill-rule=\"evenodd\" fill-opacity=\"1\" /><path clip-path=\"url(#clip240)\" d=\"M282.639 423.213 L282.639 419.753 Q284.068 420.43 285.535 420.787 Q287.002 421.144 288.413 421.144 Q292.174 421.144 294.149 418.624 Q296.143 416.085 296.425 410.932 Q295.334 412.549 293.66 413.414 Q291.986 414.28 289.955 414.28 Q285.742 414.28 283.278 411.74 Q280.833 409.183 280.833 404.763 Q280.833 400.437 283.391 397.823 Q285.949 395.208 290.199 395.208 Q295.071 395.208 297.629 398.951 Q300.205 402.675 300.205 409.784 Q300.205 416.424 297.045 420.392 Q293.905 424.342 288.582 424.342 Q287.153 424.342 285.686 424.06 Q284.219 423.777 282.639 423.213 M290.199 411.308 Q292.757 411.308 294.243 409.559 Q295.748 407.81 295.748 404.763 Q295.748 401.735 294.243 399.986 Q292.757 398.218 290.199 398.218 Q287.642 398.218 286.137 399.986 Q284.651 401.735 284.651 404.763 Q284.651 407.81 286.137 409.559 Q287.642 411.308 290.199 411.308 Z\" fill=\"#000000\" fill-rule=\"evenodd\" fill-opacity=\"1\" /><path clip-path=\"url(#clip240)\" d=\"M91.5706 107.905 L99.2095 107.905 L99.2095 81.5389 L90.8993 83.2056 L90.8993 78.9463 L99.1632 77.2797 L103.839 77.2797 L103.839 107.905 L111.478 107.905 L111.478 111.84 L91.5706 111.84 L91.5706 107.905 Z\" fill=\"#000000\" fill-rule=\"evenodd\" fill-opacity=\"1\" /><path clip-path=\"url(#clip240)\" d=\"M120.922 105.96 L125.807 105.96 L125.807 111.84 L120.922 111.84 L120.922 105.96 Z\" fill=\"#000000\" fill-rule=\"evenodd\" fill-opacity=\"1\" /><path clip-path=\"url(#clip240)\" d=\"M145.992 80.3584 Q142.381 80.3584 140.552 83.9232 Q138.746 87.4648 138.746 94.5944 Q138.746 101.701 140.552 105.266 Q142.381 108.807 145.992 108.807 Q149.626 108.807 151.431 105.266 Q153.26 101.701 153.26 94.5944 Q153.26 87.4648 151.431 83.9232 Q149.626 80.3584 145.992 80.3584 M145.992 76.6547 Q151.802 76.6547 154.857 81.2612 Q157.936 85.8445 157.936 94.5944 Q157.936 103.321 154.857 107.928 Q151.802 112.511 145.992 112.511 Q140.181 112.511 137.103 107.928 Q134.047 103.321 134.047 94.5944 Q134.047 85.8445 137.103 81.2612 Q140.181 76.6547 145.992 76.6547 Z\" fill=\"#000000\" fill-rule=\"evenodd\" fill-opacity=\"1\" /><path clip-path=\"url(#clip240)\" d=\"M194.325 86.3769 L183.746 97.0018 L194.325 107.58 L191.57 110.381 L180.945 99.7564 L170.32 110.381 L167.589 107.58 L178.144 97.0018 L167.589 86.3769 L170.32 83.576 L180.945 94.2009 L191.57 83.576 L194.325 86.3769 Z\" fill=\"#000000\" fill-rule=\"evenodd\" fill-opacity=\"1\" /><path clip-path=\"url(#clip240)\" d=\"M206.686 107.905 L214.325 107.905 L214.325 81.5389 L206.014 83.2056 L206.014 78.9463 L214.278 77.2797 L218.954 77.2797 L218.954 107.905 L226.593 107.905 L226.593 111.84 L206.686 111.84 L206.686 107.905 Z\" fill=\"#000000\" fill-rule=\"evenodd\" fill-opacity=\"1\" /><path clip-path=\"url(#clip240)\" d=\"M246.037 80.3584 Q242.426 80.3584 240.598 83.9232 Q238.792 87.4648 238.792 94.5944 Q238.792 101.701 240.598 105.266 Q242.426 108.807 246.037 108.807 Q249.672 108.807 251.477 105.266 Q253.306 101.701 253.306 94.5944 Q253.306 87.4648 251.477 83.9232 Q249.672 80.3584 246.037 80.3584 M246.037 76.6547 Q251.848 76.6547 254.903 81.2612 Q257.982 85.8445 257.982 94.5944 Q257.982 103.321 254.903 107.928 Q251.848 112.511 246.037 112.511 Q240.227 112.511 237.149 107.928 Q234.093 103.321 234.093 94.5944 Q234.093 85.8445 237.149 81.2612 Q240.227 76.6547 246.037 76.6547 Z\" fill=\"#000000\" fill-rule=\"evenodd\" fill-opacity=\"1\" /><path clip-path=\"url(#clip240)\" d=\"M258.527 81.232 L264.734 81.232 L264.734 59.8099 L257.982 61.1641 L257.982 57.7035 L264.696 56.3493 L268.495 56.3493 L268.495 81.232 L274.702 81.232 L274.702 84.4293 L258.527 84.4293 L258.527 81.232 Z\" fill=\"#000000\" fill-rule=\"evenodd\" fill-opacity=\"1\" /><path clip-path=\"url(#clip240)\" d=\"M290.5 58.8507 Q287.566 58.8507 286.081 61.7471 Q284.614 64.6247 284.614 70.4175 Q284.614 76.1915 286.081 79.0879 Q287.566 81.9655 290.5 81.9655 Q293.453 81.9655 294.92 79.0879 Q296.406 76.1915 296.406 70.4175 Q296.406 64.6247 294.92 61.7471 Q293.453 58.8507 290.5 58.8507 M290.5 55.8415 Q295.221 55.8415 297.704 59.5842 Q300.205 63.3082 300.205 70.4175 Q300.205 77.508 297.704 81.2508 Q295.221 84.9747 290.5 84.9747 Q285.78 84.9747 283.278 81.2508 Q280.796 77.508 280.796 70.4175 Q280.796 63.3082 283.278 59.5842 Q285.78 55.8415 290.5 55.8415 Z\" fill=\"#000000\" fill-rule=\"evenodd\" fill-opacity=\"1\" /><polyline clip-path=\"url(#clip242)\" style=\"stroke:#000000; stroke-linecap:butt; stroke-linejoin:round; stroke-width:4; stroke-opacity:1; fill:none\" points=\"\n",
       "  393.277,1445.72 397.922,1429.3 402.567,1413.21 407.211,1397.43 411.856,1381.96 433.329,1314.34 454.802,1252.8 476.276,1196.93 497.749,1146.31 540.695,1059.37 \n",
       "  583.642,989.143 609.451,953.916 635.26,923.304 661.068,896.837 686.877,874.08 730.52,842.921 774.162,819.467 868.978,788.051 956.389,774.529 1050.1,768.777 \n",
       "  1158.68,767.04 1255.17,766.851 1339.79,766.846 1432.04,766.841 1524.84,766.679 1627.44,765.261 1725.06,759.878 1775.82,753.819 1826.57,744.131 1869.29,732.121 \n",
       "  1912.02,715.496 1964.18,687.152 2016.34,647.479 2040.85,624.056 2065.37,597.092 2089.88,566.2 2114.4,530.966 2153.68,464.349 2192.95,383.465 2232.23,286.136 \n",
       "  2271.51,169.972 2277.55,150.26 2283.59,130.03 2289.64,109.272 2295.68,87.9763 \n",
       "  \"/>\n",
       "<path clip-path=\"url(#clip240)\" d=\"\n",
       "M2009.05 198.898 L2285.54 198.898 L2285.54 95.2176 L2009.05 95.2176  Z\n",
       "  \" fill=\"#ffffff\" fill-rule=\"evenodd\" fill-opacity=\"1\"/>\n",
       "<polyline clip-path=\"url(#clip240)\" style=\"stroke:#000000; stroke-linecap:butt; stroke-linejoin:round; stroke-width:4; stroke-opacity:1; fill:none\" points=\"\n",
       "  2009.05,198.898 2285.54,198.898 2285.54,95.2176 2009.05,95.2176 2009.05,198.898 \n",
       "  \"/>\n",
       "<polyline clip-path=\"url(#clip240)\" style=\"stroke:#000000; stroke-linecap:butt; stroke-linejoin:round; stroke-width:4; stroke-opacity:1; fill:none\" points=\"\n",
       "  2031.45,147.058 2165.89,147.058 \n",
       "  \"/>\n",
       "<path clip-path=\"url(#clip240)\" d=\"M2202.14 166.745 Q2200.33 171.375 2198.62 172.787 Q2196.91 174.199 2194.04 174.199 L2190.63 174.199 L2190.63 170.634 L2193.13 170.634 Q2194.89 170.634 2195.86 169.8 Q2196.84 168.967 2198.02 165.865 L2198.78 163.921 L2188.3 138.412 L2192.81 138.412 L2200.91 158.689 L2209.01 138.412 L2213.53 138.412 L2202.14 166.745 Z\" fill=\"#000000\" fill-rule=\"evenodd\" fill-opacity=\"1\" /><path clip-path=\"url(#clip240)\" d=\"M2220.82 160.402 L2228.46 160.402 L2228.46 134.037 L2220.15 135.703 L2220.15 131.444 L2228.41 129.778 L2233.09 129.778 L2233.09 160.402 L2240.73 160.402 L2240.73 164.338 L2220.82 164.338 L2220.82 160.402 Z\" fill=\"#000000\" fill-rule=\"evenodd\" fill-opacity=\"1\" /></svg>\n"
      ]
     },
     "execution_count": 11,
     "metadata": {},
     "output_type": "execute_result"
    }
   ],
   "source": [
    "plot(g, -100, 100, c=:black)"
   ]
  },
  {
   "cell_type": "markdown",
   "id": "8d13b1ab-86d1-4557-9bea-497d3c35ee60",
   "metadata": {},
   "source": [
    "Observando o gráfico, já sabemos que a função não pode emitir mensagem de erro e deve seguir com os dois métodos normalmente."
   ]
  },
  {
   "cell_type": "code",
   "execution_count": 13,
   "id": "5e6ad70f-8a58-4c0f-bbd1-d0e4e578de1a",
   "metadata": {},
   "outputs": [
    {
     "name": "stdout",
     "output_type": "stream",
     "text": [
      "passos: 15.0"
     ]
    },
    {
     "data": {
      "text/plain": [
       "-0.3874901924124323"
      ]
     },
     "execution_count": 13,
     "metadata": {},
     "output_type": "execute_result"
    }
   ],
   "source": [
    "questão2(g,gd)"
   ]
  },
  {
   "cell_type": "markdown",
   "id": "5eb129f1-1e2b-4581-906b-04e2575d2d09",
   "metadata": {},
   "source": [
    "Portanto, o valor encontrado para uma das raízes desse polinômio é -0.3874901924124323."
   ]
  },
  {
   "cell_type": "markdown",
   "id": "de8aa6ab-df7b-43dd-8605-8ba2d9a1342d",
   "metadata": {
    "tags": []
   },
   "source": [
    "# Questão 3 - Método Escolhido: Bissecção\n",
    "\n",
    "Primeiro, transformamos ln(3) em uma função.\n",
    "\n",
    "OBS: Esse símbolo pequeno é euler"
   ]
  },
  {
   "cell_type": "code",
   "execution_count": 16,
   "id": "f55310a7-0aa8-46fd-8202-96dd1263835c",
   "metadata": {},
   "outputs": [
    {
     "data": {
      "text/plain": [
       "h (generic function with 1 method)"
      ]
     },
     "execution_count": 16,
     "metadata": {},
     "output_type": "execute_result"
    }
   ],
   "source": [
    "h(x) = (ℯ^x) - 3"
   ]
  },
  {
   "cell_type": "markdown",
   "id": "20237f19-f0b0-4908-a10c-f68973cb683c",
   "metadata": {},
   "source": [
    "Se sabemos calcular e^x para qualquer x, podemos estabelecer um bom intervalo para colocar nos parâmetros 'a' e 'b'.\n",
    "\n",
    "Sabemos que e^1 = 2.7182818 (aproximadamente), portanto, x=1 pode ser o intervalo inferior.\n",
    "\n",
    "Da mesma forma, sabemos que e^2 = 7.389056 (aproximadamente), logo, x=2 pode ser o intervalo superior.\n",
    "\n",
    "Em sequência, aplicamos a bissecção e obtemos a nossa aproximação com intervalo menor que 10^-3."
   ]
  },
  {
   "cell_type": "code",
   "execution_count": 18,
   "id": "1efed453-fe5e-42ef-baa5-600d67ebae8c",
   "metadata": {},
   "outputs": [
    {
     "name": "stdout",
     "output_type": "stream",
     "text": [
      "passos: 10.0"
     ]
    },
    {
     "data": {
      "text/plain": [
       "1.09814453125"
      ]
     },
     "execution_count": 18,
     "metadata": {},
     "output_type": "execute_result"
    }
   ],
   "source": [
    "bissecao(h, 1, 2, 1e-3)"
   ]
  },
  {
   "cell_type": "markdown",
   "id": "25159657-95bb-45f2-8e95-9bce21caffcc",
   "metadata": {},
   "source": [
    "Portanto, o valor encontrado para o logaritmo natural de 3 é 1.09814453125."
   ]
  },
  {
   "cell_type": "markdown",
   "id": "a7b997a2-2941-47e7-86a2-61e68fbf016d",
   "metadata": {},
   "source": [
    "## Questão 4\n",
    "\n",
    "Utilizando os cossenos da tabela, sabemos 3 pontos da função cosseno. Traduzindo para o input da função(radianos), temos que:\n",
    "\n",
    ">Cos(π/6) = sqrt(3)/2  \n",
    "Cos(π/4) = sqrt(2)/2  \n",
    "Cos(π/3) = 1/2"
   ]
  },
  {
   "cell_type": "markdown",
   "id": "c2192b5e-4bcb-4a03-b284-536d661eb4fd",
   "metadata": {},
   "source": [
    "Com essas informações, conseguimos definir o vetor x e y para serem utilizado nas funções de interpolação"
   ]
  },
  {
   "cell_type": "code",
   "execution_count": 238,
   "id": "6459e201-5c38-4473-9bfb-bb31d7acfaa5",
   "metadata": {},
   "outputs": [
    {
     "data": {
      "text/plain": [
       "3-element Vector{Float64}:\n",
       " 0.8660254037844386\n",
       " 0.7071067811865476\n",
       " 0.5"
      ]
     },
     "execution_count": 238,
     "metadata": {},
     "output_type": "execute_result"
    }
   ],
   "source": [
    "x = [π/6; π/4; π/3]\n",
    "y = [sqrt(3)/2; sqrt(2)/2; 1/2]"
   ]
  },
  {
   "cell_type": "markdown",
   "id": "8d8f51b1-88b6-4bcb-8fa8-70c729c88ab5",
   "metadata": {},
   "source": [
    "Agora, implementamos a função de interpolação e de avaliar o polinômio, feitas em aula"
   ]
  },
  {
   "cell_type": "code",
   "execution_count": 23,
   "id": "4f791d5b-cb1a-4e54-b564-f326f3473b21",
   "metadata": {},
   "outputs": [
    {
     "data": {
      "text/plain": [
       "interpolação (generic function with 1 method)"
      ]
     },
     "execution_count": 23,
     "metadata": {},
     "output_type": "execute_result"
    }
   ],
   "source": [
    "using LinearAlgebra\n",
    "function interpolação(x, y)\n",
    "   \n",
    "    #criar a matriz de Vondermonde\n",
    "    V=[x.^0 x.^1 x.^2]\n",
    "    #resolver o sistema linear Vc=y\n",
    "    c=V\\y\n",
    "    \n",
    "    return c #vetor de coeficientes\n",
    "end"
   ]
  },
  {
   "cell_type": "code",
   "execution_count": 141,
   "id": "1f871560-aed5-4006-b6b9-0813caa2f359",
   "metadata": {},
   "outputs": [
    {
     "data": {
      "text/plain": [
       "avaliar_um_polinomio (generic function with 1 method)"
      ]
     },
     "execution_count": 141,
     "metadata": {},
     "output_type": "execute_result"
    }
   ],
   "source": [
    "function avaliar_um_polinomio(c,x)\n",
    "    V=[x.^0 x.^1 x.^2]\n",
    "    y=V*c\n",
    "    return y\n",
    "end"
   ]
  },
  {
   "cell_type": "markdown",
   "id": "c59d3556-080b-4928-b0d5-17b3b1d24c8f",
   "metadata": {},
   "source": [
    "Agora, efetuamos a interpolação."
   ]
  },
  {
   "cell_type": "code",
   "execution_count": 239,
   "id": "771d2e08-8d8d-4d54-9798-c1e6e6c8b61a",
   "metadata": {},
   "outputs": [
    {
     "data": {
      "text/plain": [
       "3-element Vector{Float64}:\n",
       "  1.0392981732142506\n",
       " -0.14686140578658125\n",
       " -0.35153865113381094"
      ]
     },
     "execution_count": 239,
     "metadata": {},
     "output_type": "execute_result"
    }
   ],
   "source": [
    "c = interpolação(x,y)"
   ]
  },
  {
   "cell_type": "markdown",
   "id": "1c6ede5e-36b0-4a71-ad3f-bc9258eb4094",
   "metadata": {},
   "source": [
    "Em seguida adicionamos 2pi/9 (40 graus em radiano) ao vetor de X para que possamos reverter o processo e receber o valor de y."
   ]
  },
  {
   "cell_type": "code",
   "execution_count": 240,
   "id": "73cd77e6-10ca-42f2-ada0-e4777e9f33a3",
   "metadata": {},
   "outputs": [
    {
     "data": {
      "text/plain": [
       "4-element Vector{Float64}:\n",
       " 0.8660254037844385\n",
       " 0.7071067811865475\n",
       " 0.4999999999999999\n",
       " 0.7654338952290286"
      ]
     },
     "execution_count": 240,
     "metadata": {},
     "output_type": "execute_result"
    }
   ],
   "source": [
    "x = [π/6; π/4; π/3; (2π)/9]\n",
    "y = avaliar_um_polinomio(c,x)"
   ]
  },
  {
   "cell_type": "markdown",
   "id": "70b430ae-e0c8-4dba-a258-c32e2efea49a",
   "metadata": {},
   "source": [
    "Portanto, o valor encontrado para o cosseno de 40° é 0.7654338952290286."
   ]
  },
  {
   "cell_type": "markdown",
   "id": "b72aaf0b-316a-4273-9351-ad6b289c37b6",
   "metadata": {},
   "source": [
    "## Questão 5"
   ]
  },
  {
   "cell_type": "markdown",
   "id": "439434e5-0ca8-4717-8c96-7ff363d8a8cc",
   "metadata": {},
   "source": [
    "Utilizando as informações dadas no enunciado, temos:\n",
    "\n",
    ">f(0) = 25  \n",
    "f(60) = 30  \n",
    "f(150) = 34\n",
    "\n",
    "Onde x é a quantidade de minutos anteriores ao último momento registrado (17h30)\n",
    "\n",
    "Colocamos os inputs na função x e os outputs na y e realizamos a interpolação para achar os coeficientes:"
   ]
  },
  {
   "cell_type": "code",
   "execution_count": 226,
   "id": "48642137-9cfa-4dcb-bcc8-b57962476888",
   "metadata": {},
   "outputs": [
    {
     "data": {
      "text/plain": [
       "3-element Vector{Float64}:\n",
       " 25.0\n",
       "  0.09888888888888889\n",
       " -0.00025925925925925926"
      ]
     },
     "execution_count": 226,
     "metadata": {},
     "output_type": "execute_result"
    }
   ],
   "source": [
    "x = [0; 60; 150;]\n",
    "y = [25; 30; 34;]\n",
    "interpolação(x,y)"
   ]
  },
  {
   "cell_type": "markdown",
   "id": "baeec5a8-3861-455c-8ef5-91f501cb12b3",
   "metadata": {},
   "source": [
    "Então, f(x) = -0.00025925925925925926x^2 + 0.09888888888888889x + 25.0\n",
    "\n",
    "Para viablizar o método da bissecção, iremos adaptar essa função para colocar o valor 37 como o 0.\n",
    "\n",
    ">37 = -0.00025925925925925926x^2 + 0.09888888888888889x + 25.0  \n",
    "0 = -0.00025925925925925926x^2 + 0.09888888888888889x - 12"
   ]
  },
  {
   "cell_type": "code",
   "execution_count": 11,
   "id": "fb430d24-afde-4885-b4e0-b702744f0299",
   "metadata": {},
   "outputs": [
    {
     "data": {
      "text/plain": [
       "f (generic function with 1 method)"
      ]
     },
     "execution_count": 11,
     "metadata": {},
     "output_type": "execute_result"
    }
   ],
   "source": [
    "f(x) = -0.00025925925925925926x^2 + 0.09888888888888889x + 25"
   ]
  },
  {
   "cell_type": "markdown",
   "id": "d83c03a4-3079-46b5-a88e-9ada751828f1",
   "metadata": {},
   "source": [
    "Por fim, executamos o método da bissecção:"
   ]
  },
  {
   "cell_type": "code",
   "execution_count": 3,
   "id": "be209edc-5884-464b-a22c-d996067ffee6",
   "metadata": {},
   "outputs": [
    {
     "ename": "LoadError",
     "evalue": "UndefVarError: bissecao not defined",
     "output_type": "error",
     "traceback": [
      "UndefVarError: bissecao not defined",
      "",
      "Stacktrace:",
      " [1] top-level scope",
      "   @ In[3]:1",
      " [2] eval",
      "   @ .\\boot.jl:360 [inlined]",
      " [3] include_string(mapexpr::typeof(REPL.softscope), mod::Module, code::String, filename::String)",
      "   @ Base .\\loading.jl:1116"
     ]
    }
   ],
   "source": [
    "bissecao(f, 0, 1440, 1e-14)"
   ]
  },
  {
   "cell_type": "code",
   "execution_count": 3,
   "id": "062921d7-57a1-44ef-beff-431176497cbf",
   "metadata": {},
   "outputs": [
    {
     "name": "stderr",
     "output_type": "stream",
     "text": [
      "\n",
      "(process:7444): GLib-GIO-WARNING **: 12:26:40.641: Unexpectedly, UWP app `60132torumyax.SimpleImageViewer_1.2.17.0_x86__s0dtgdfwgsbky' (AUMId `60132torumyax.SimpleImageViewer_s0dtgdfwgsbky!ImageViewer') supports 5 extensions but has no verbs\n"
     ]
    },
    {
     "data": {
      "image/svg+xml": [
       "<?xml version=\"1.0\" encoding=\"utf-8\"?>\n",
       "<svg xmlns=\"http://www.w3.org/2000/svg\" xmlns:xlink=\"http://www.w3.org/1999/xlink\" width=\"600\" height=\"400\" viewBox=\"0 0 2400 1600\">\n",
       "<defs>\n",
       "  <clipPath id=\"clip370\">\n",
       "    <rect x=\"0\" y=\"0\" width=\"2400\" height=\"1600\"/>\n",
       "  </clipPath>\n",
       "</defs>\n",
       "<path clip-path=\"url(#clip370)\" d=\"\n",
       "M0 1600 L2400 1600 L2400 0 L0 0  Z\n",
       "  \" fill=\"#ffffff\" fill-rule=\"evenodd\" fill-opacity=\"1\"/>\n",
       "<defs>\n",
       "  <clipPath id=\"clip371\">\n",
       "    <rect x=\"480\" y=\"0\" width=\"1681\" height=\"1600\"/>\n",
       "  </clipPath>\n",
       "</defs>\n",
       "<path clip-path=\"url(#clip370)\" d=\"\n",
       "M277.431 1486.45 L2352.76 1486.45 L2352.76 47.2441 L277.431 47.2441  Z\n",
       "  \" fill=\"#ffffff\" fill-rule=\"evenodd\" fill-opacity=\"1\"/>\n",
       "<defs>\n",
       "  <clipPath id=\"clip372\">\n",
       "    <rect x=\"277\" y=\"47\" width=\"2076\" height=\"1440\"/>\n",
       "  </clipPath>\n",
       "</defs>\n",
       "<polyline clip-path=\"url(#clip372)\" style=\"stroke:#000000; stroke-linecap:butt; stroke-linejoin:round; stroke-width:2; stroke-opacity:0.1; fill:none\" points=\"\n",
       "  336.167,1486.45 336.167,47.2441 \n",
       "  \"/>\n",
       "<polyline clip-path=\"url(#clip372)\" style=\"stroke:#000000; stroke-linecap:butt; stroke-linejoin:round; stroke-width:2; stroke-opacity:0.1; fill:none\" points=\"\n",
       "  988.784,1486.45 988.784,47.2441 \n",
       "  \"/>\n",
       "<polyline clip-path=\"url(#clip372)\" style=\"stroke:#000000; stroke-linecap:butt; stroke-linejoin:round; stroke-width:2; stroke-opacity:0.1; fill:none\" points=\"\n",
       "  1641.4,1486.45 1641.4,47.2441 \n",
       "  \"/>\n",
       "<polyline clip-path=\"url(#clip372)\" style=\"stroke:#000000; stroke-linecap:butt; stroke-linejoin:round; stroke-width:2; stroke-opacity:0.1; fill:none\" points=\"\n",
       "  2294.02,1486.45 2294.02,47.2441 \n",
       "  \"/>\n",
       "<polyline clip-path=\"url(#clip370)\" style=\"stroke:#000000; stroke-linecap:butt; stroke-linejoin:round; stroke-width:4; stroke-opacity:1; fill:none\" points=\"\n",
       "  277.431,1486.45 2352.76,1486.45 \n",
       "  \"/>\n",
       "<polyline clip-path=\"url(#clip370)\" style=\"stroke:#000000; stroke-linecap:butt; stroke-linejoin:round; stroke-width:4; stroke-opacity:1; fill:none\" points=\"\n",
       "  336.167,1486.45 336.167,1467.55 \n",
       "  \"/>\n",
       "<polyline clip-path=\"url(#clip370)\" style=\"stroke:#000000; stroke-linecap:butt; stroke-linejoin:round; stroke-width:4; stroke-opacity:1; fill:none\" points=\"\n",
       "  988.784,1486.45 988.784,1467.55 \n",
       "  \"/>\n",
       "<polyline clip-path=\"url(#clip370)\" style=\"stroke:#000000; stroke-linecap:butt; stroke-linejoin:round; stroke-width:4; stroke-opacity:1; fill:none\" points=\"\n",
       "  1641.4,1486.45 1641.4,1467.55 \n",
       "  \"/>\n",
       "<polyline clip-path=\"url(#clip370)\" style=\"stroke:#000000; stroke-linecap:butt; stroke-linejoin:round; stroke-width:4; stroke-opacity:1; fill:none\" points=\"\n",
       "  2294.02,1486.45 2294.02,1467.55 \n",
       "  \"/>\n",
       "<path clip-path=\"url(#clip370)\" d=\"M336.167 1517.37 Q332.555 1517.37 330.727 1520.93 Q328.921 1524.47 328.921 1531.6 Q328.921 1538.71 330.727 1542.27 Q332.555 1545.82 336.167 1545.82 Q339.801 1545.82 341.606 1542.27 Q343.435 1538.71 343.435 1531.6 Q343.435 1524.47 341.606 1520.93 Q339.801 1517.37 336.167 1517.37 M336.167 1513.66 Q341.977 1513.66 345.032 1518.27 Q348.111 1522.85 348.111 1531.6 Q348.111 1540.33 345.032 1544.94 Q341.977 1549.52 336.167 1549.52 Q330.356 1549.52 327.278 1544.94 Q324.222 1540.33 324.222 1531.6 Q324.222 1522.85 327.278 1518.27 Q330.356 1513.66 336.167 1513.66 Z\" fill=\"#000000\" fill-rule=\"evenodd\" fill-opacity=\"1\" /><path clip-path=\"url(#clip370)\" d=\"M948.391 1544.91 L956.03 1544.91 L956.03 1518.55 L947.72 1520.21 L947.72 1515.95 L955.984 1514.29 L960.66 1514.29 L960.66 1544.91 L968.298 1544.91 L968.298 1548.85 L948.391 1548.85 L948.391 1544.91 Z\" fill=\"#000000\" fill-rule=\"evenodd\" fill-opacity=\"1\" /><path clip-path=\"url(#clip370)\" d=\"M987.743 1517.37 Q984.132 1517.37 982.303 1520.93 Q980.497 1524.47 980.497 1531.6 Q980.497 1538.71 982.303 1542.27 Q984.132 1545.82 987.743 1545.82 Q991.377 1545.82 993.183 1542.27 Q995.011 1538.71 995.011 1531.6 Q995.011 1524.47 993.183 1520.93 Q991.377 1517.37 987.743 1517.37 M987.743 1513.66 Q993.553 1513.66 996.608 1518.27 Q999.687 1522.85 999.687 1531.6 Q999.687 1540.33 996.608 1544.94 Q993.553 1549.52 987.743 1549.52 Q981.933 1549.52 978.854 1544.94 Q975.798 1540.33 975.798 1531.6 Q975.798 1522.85 978.854 1518.27 Q981.933 1513.66 987.743 1513.66 Z\" fill=\"#000000\" fill-rule=\"evenodd\" fill-opacity=\"1\" /><path clip-path=\"url(#clip370)\" d=\"M1017.9 1517.37 Q1014.29 1517.37 1012.46 1520.93 Q1010.66 1524.47 1010.66 1531.6 Q1010.66 1538.71 1012.46 1542.27 Q1014.29 1545.82 1017.9 1545.82 Q1021.54 1545.82 1023.34 1542.27 Q1025.17 1538.71 1025.17 1531.6 Q1025.17 1524.47 1023.34 1520.93 Q1021.54 1517.37 1017.9 1517.37 M1017.9 1513.66 Q1023.71 1513.66 1026.77 1518.27 Q1029.85 1522.85 1029.85 1531.6 Q1029.85 1540.33 1026.77 1544.94 Q1023.71 1549.52 1017.9 1549.52 Q1012.09 1549.52 1009.02 1544.94 Q1005.96 1540.33 1005.96 1531.6 Q1005.96 1522.85 1009.02 1518.27 Q1012.09 1513.66 1017.9 1513.66 Z\" fill=\"#000000\" fill-rule=\"evenodd\" fill-opacity=\"1\" /><path clip-path=\"url(#clip370)\" d=\"M1605.09 1544.91 L1621.41 1544.91 L1621.41 1548.85 L1599.47 1548.85 L1599.47 1544.91 Q1602.13 1542.16 1606.72 1537.53 Q1611.32 1532.88 1612.5 1531.53 Q1614.75 1529.01 1615.63 1527.27 Q1616.53 1525.51 1616.53 1523.82 Q1616.53 1521.07 1614.59 1519.33 Q1612.66 1517.6 1609.56 1517.6 Q1607.36 1517.6 1604.91 1518.36 Q1602.48 1519.13 1599.7 1520.68 L1599.7 1515.95 Q1602.53 1514.82 1604.98 1514.24 Q1607.43 1513.66 1609.47 1513.66 Q1614.84 1513.66 1618.03 1516.35 Q1621.23 1519.03 1621.23 1523.52 Q1621.23 1525.65 1620.42 1527.57 Q1619.63 1529.47 1617.53 1532.07 Q1616.95 1532.74 1613.84 1535.95 Q1610.74 1539.15 1605.09 1544.91 Z\" fill=\"#000000\" fill-rule=\"evenodd\" fill-opacity=\"1\" /><path clip-path=\"url(#clip370)\" d=\"M1641.23 1517.37 Q1637.62 1517.37 1635.79 1520.93 Q1633.98 1524.47 1633.98 1531.6 Q1633.98 1538.71 1635.79 1542.27 Q1637.62 1545.82 1641.23 1545.82 Q1644.86 1545.82 1646.67 1542.27 Q1648.5 1538.71 1648.5 1531.6 Q1648.5 1524.47 1646.67 1520.93 Q1644.86 1517.37 1641.23 1517.37 M1641.23 1513.66 Q1647.04 1513.66 1650.09 1518.27 Q1653.17 1522.85 1653.17 1531.6 Q1653.17 1540.33 1650.09 1544.94 Q1647.04 1549.52 1641.23 1549.52 Q1635.42 1549.52 1632.34 1544.94 Q1629.28 1540.33 1629.28 1531.6 Q1629.28 1522.85 1632.34 1518.27 Q1635.42 1513.66 1641.23 1513.66 Z\" fill=\"#000000\" fill-rule=\"evenodd\" fill-opacity=\"1\" /><path clip-path=\"url(#clip370)\" d=\"M1671.39 1517.37 Q1667.78 1517.37 1665.95 1520.93 Q1664.15 1524.47 1664.15 1531.6 Q1664.15 1538.71 1665.95 1542.27 Q1667.78 1545.82 1671.39 1545.82 Q1675.02 1545.82 1676.83 1542.27 Q1678.66 1538.71 1678.66 1531.6 Q1678.66 1524.47 1676.83 1520.93 Q1675.02 1517.37 1671.39 1517.37 M1671.39 1513.66 Q1677.2 1513.66 1680.26 1518.27 Q1683.34 1522.85 1683.34 1531.6 Q1683.34 1540.33 1680.26 1544.94 Q1677.2 1549.52 1671.39 1549.52 Q1665.58 1549.52 1662.5 1544.94 Q1659.45 1540.33 1659.45 1531.6 Q1659.45 1522.85 1662.5 1518.27 Q1665.58 1513.66 1671.39 1513.66 Z\" fill=\"#000000\" fill-rule=\"evenodd\" fill-opacity=\"1\" /><path clip-path=\"url(#clip370)\" d=\"M2267.78 1530.21 Q2271.14 1530.93 2273.01 1533.2 Q2274.91 1535.47 2274.91 1538.8 Q2274.91 1543.92 2271.39 1546.72 Q2267.87 1549.52 2261.39 1549.52 Q2259.22 1549.52 2256.9 1549.08 Q2254.61 1548.66 2252.16 1547.81 L2252.16 1543.29 Q2254.1 1544.43 2256.42 1545.01 Q2258.73 1545.58 2261.25 1545.58 Q2265.65 1545.58 2267.94 1543.85 Q2270.26 1542.11 2270.26 1538.8 Q2270.26 1535.75 2268.11 1534.03 Q2265.98 1532.3 2262.16 1532.3 L2258.13 1532.3 L2258.13 1528.45 L2262.34 1528.45 Q2265.79 1528.45 2267.62 1527.09 Q2269.45 1525.7 2269.45 1523.11 Q2269.45 1520.45 2267.55 1519.03 Q2265.68 1517.6 2262.16 1517.6 Q2260.24 1517.6 2258.04 1518.01 Q2255.84 1518.43 2253.2 1519.31 L2253.2 1515.14 Q2255.86 1514.4 2258.18 1514.03 Q2260.51 1513.66 2262.57 1513.66 Q2267.9 1513.66 2271 1516.09 Q2274.1 1518.5 2274.1 1522.62 Q2274.1 1525.49 2272.46 1527.48 Q2270.81 1529.45 2267.78 1530.21 Z\" fill=\"#000000\" fill-rule=\"evenodd\" fill-opacity=\"1\" /><path clip-path=\"url(#clip370)\" d=\"M2293.78 1517.37 Q2290.17 1517.37 2288.34 1520.93 Q2286.53 1524.47 2286.53 1531.6 Q2286.53 1538.71 2288.34 1542.27 Q2290.17 1545.82 2293.78 1545.82 Q2297.41 1545.82 2299.22 1542.27 Q2301.05 1538.71 2301.05 1531.6 Q2301.05 1524.47 2299.22 1520.93 Q2297.41 1517.37 2293.78 1517.37 M2293.78 1513.66 Q2299.59 1513.66 2302.64 1518.27 Q2305.72 1522.85 2305.72 1531.6 Q2305.72 1540.33 2302.64 1544.94 Q2299.59 1549.52 2293.78 1549.52 Q2287.97 1549.52 2284.89 1544.94 Q2281.83 1540.33 2281.83 1531.6 Q2281.83 1522.85 2284.89 1518.27 Q2287.97 1513.66 2293.78 1513.66 Z\" fill=\"#000000\" fill-rule=\"evenodd\" fill-opacity=\"1\" /><path clip-path=\"url(#clip370)\" d=\"M2323.94 1517.37 Q2320.33 1517.37 2318.5 1520.93 Q2316.69 1524.47 2316.69 1531.6 Q2316.69 1538.71 2318.5 1542.27 Q2320.33 1545.82 2323.94 1545.82 Q2327.57 1545.82 2329.38 1542.27 Q2331.21 1538.71 2331.21 1531.6 Q2331.21 1524.47 2329.38 1520.93 Q2327.57 1517.37 2323.94 1517.37 M2323.94 1513.66 Q2329.75 1513.66 2332.8 1518.27 Q2335.88 1522.85 2335.88 1531.6 Q2335.88 1540.33 2332.8 1544.94 Q2329.75 1549.52 2323.94 1549.52 Q2318.13 1549.52 2315.05 1544.94 Q2311.99 1540.33 2311.99 1531.6 Q2311.99 1522.85 2315.05 1518.27 Q2318.13 1513.66 2323.94 1513.66 Z\" fill=\"#000000\" fill-rule=\"evenodd\" fill-opacity=\"1\" /><polyline clip-path=\"url(#clip372)\" style=\"stroke:#000000; stroke-linecap:butt; stroke-linejoin:round; stroke-width:2; stroke-opacity:0.1; fill:none\" points=\"\n",
       "  277.431,1445.56 2352.76,1445.56 \n",
       "  \"/>\n",
       "<polyline clip-path=\"url(#clip372)\" style=\"stroke:#000000; stroke-linecap:butt; stroke-linejoin:round; stroke-width:2; stroke-opacity:0.1; fill:none\" points=\"\n",
       "  277.431,1143.84 2352.76,1143.84 \n",
       "  \"/>\n",
       "<polyline clip-path=\"url(#clip372)\" style=\"stroke:#000000; stroke-linecap:butt; stroke-linejoin:round; stroke-width:2; stroke-opacity:0.1; fill:none\" points=\"\n",
       "  277.431,842.125 2352.76,842.125 \n",
       "  \"/>\n",
       "<polyline clip-path=\"url(#clip372)\" style=\"stroke:#000000; stroke-linecap:butt; stroke-linejoin:round; stroke-width:2; stroke-opacity:0.1; fill:none\" points=\"\n",
       "  277.431,540.405 2352.76,540.405 \n",
       "  \"/>\n",
       "<polyline clip-path=\"url(#clip372)\" style=\"stroke:#000000; stroke-linecap:butt; stroke-linejoin:round; stroke-width:2; stroke-opacity:0.1; fill:none\" points=\"\n",
       "  277.431,238.685 2352.76,238.685 \n",
       "  \"/>\n",
       "<polyline clip-path=\"url(#clip370)\" style=\"stroke:#000000; stroke-linecap:butt; stroke-linejoin:round; stroke-width:4; stroke-opacity:1; fill:none\" points=\"\n",
       "  277.431,1486.45 277.431,47.2441 \n",
       "  \"/>\n",
       "<polyline clip-path=\"url(#clip370)\" style=\"stroke:#000000; stroke-linecap:butt; stroke-linejoin:round; stroke-width:4; stroke-opacity:1; fill:none\" points=\"\n",
       "  277.431,1445.56 296.329,1445.56 \n",
       "  \"/>\n",
       "<polyline clip-path=\"url(#clip370)\" style=\"stroke:#000000; stroke-linecap:butt; stroke-linejoin:round; stroke-width:4; stroke-opacity:1; fill:none\" points=\"\n",
       "  277.431,1143.84 296.329,1143.84 \n",
       "  \"/>\n",
       "<polyline clip-path=\"url(#clip370)\" style=\"stroke:#000000; stroke-linecap:butt; stroke-linejoin:round; stroke-width:4; stroke-opacity:1; fill:none\" points=\"\n",
       "  277.431,842.125 296.329,842.125 \n",
       "  \"/>\n",
       "<polyline clip-path=\"url(#clip370)\" style=\"stroke:#000000; stroke-linecap:butt; stroke-linejoin:round; stroke-width:4; stroke-opacity:1; fill:none\" points=\"\n",
       "  277.431,540.405 296.329,540.405 \n",
       "  \"/>\n",
       "<polyline clip-path=\"url(#clip370)\" style=\"stroke:#000000; stroke-linecap:butt; stroke-linejoin:round; stroke-width:4; stroke-opacity:1; fill:none\" points=\"\n",
       "  277.431,238.685 296.329,238.685 \n",
       "  \"/>\n",
       "<path clip-path=\"url(#clip370)\" d=\"M229.487 1431.36 Q225.875 1431.36 224.047 1434.93 Q222.241 1438.47 222.241 1445.6 Q222.241 1452.71 224.047 1456.27 Q225.875 1459.81 229.487 1459.81 Q233.121 1459.81 234.926 1456.27 Q236.755 1452.71 236.755 1445.6 Q236.755 1438.47 234.926 1434.93 Q233.121 1431.36 229.487 1431.36 M229.487 1427.66 Q235.297 1427.66 238.352 1432.27 Q241.431 1436.85 241.431 1445.6 Q241.431 1454.33 238.352 1458.93 Q235.297 1463.52 229.487 1463.52 Q223.676 1463.52 220.598 1458.93 Q217.542 1454.33 217.542 1445.6 Q217.542 1436.85 220.598 1432.27 Q223.676 1427.66 229.487 1427.66 Z\" fill=\"#000000\" fill-rule=\"evenodd\" fill-opacity=\"1\" /><path clip-path=\"url(#clip370)\" d=\"M57.7745 1163.64 L74.0939 1163.64 L74.0939 1167.57 L52.1495 1167.57 L52.1495 1163.64 Q54.8115 1160.88 59.3949 1156.25 Q64.0013 1151.6 65.1819 1150.26 Q67.4272 1147.73 68.3068 1146 Q69.2096 1144.24 69.2096 1142.55 Q69.2096 1139.79 67.2652 1138.06 Q65.3439 1136.32 62.2421 1136.32 Q60.043 1136.32 57.5893 1137.09 Q55.1588 1137.85 52.381 1139.4 L52.381 1134.68 Q55.2051 1133.54 57.6588 1132.97 Q60.1124 1132.39 62.1495 1132.39 Q67.5198 1132.39 70.7142 1135.07 Q73.9087 1137.76 73.9087 1142.25 Q73.9087 1144.38 73.0985 1146.3 Q72.3115 1148.2 70.205 1150.79 Q69.6263 1151.46 66.5245 1154.68 Q63.4226 1157.87 57.7745 1163.64 Z\" fill=\"#000000\" fill-rule=\"evenodd\" fill-opacity=\"1\" /><path clip-path=\"url(#clip370)\" d=\"M83.9086 1161.69 L88.7928 1161.69 L88.7928 1167.57 L83.9086 1167.57 L83.9086 1161.69 Z\" fill=\"#000000\" fill-rule=\"evenodd\" fill-opacity=\"1\" /><path clip-path=\"url(#clip370)\" d=\"M108.978 1136.09 Q105.367 1136.09 103.538 1139.66 Q101.733 1143.2 101.733 1150.33 Q101.733 1157.43 103.538 1161 Q105.367 1164.54 108.978 1164.54 Q112.612 1164.54 114.418 1161 Q116.246 1157.43 116.246 1150.33 Q116.246 1143.2 114.418 1139.66 Q112.612 1136.09 108.978 1136.09 M108.978 1132.39 Q114.788 1132.39 117.844 1136.99 Q120.922 1141.58 120.922 1150.33 Q120.922 1159.05 117.844 1163.66 Q114.788 1168.24 108.978 1168.24 Q103.168 1168.24 100.089 1163.66 Q97.0335 1159.05 97.0335 1150.33 Q97.0335 1141.58 100.089 1136.99 Q103.168 1132.39 108.978 1132.39 Z\" fill=\"#000000\" fill-rule=\"evenodd\" fill-opacity=\"1\" /><path clip-path=\"url(#clip370)\" d=\"M157.311 1142.11 L146.732 1152.73 L157.311 1163.31 L154.556 1166.11 L143.931 1155.49 L133.306 1166.11 L130.575 1163.31 L141.131 1152.73 L130.575 1142.11 L133.306 1139.31 L143.931 1149.93 L154.556 1139.31 L157.311 1142.11 Z\" fill=\"#000000\" fill-rule=\"evenodd\" fill-opacity=\"1\" /><path clip-path=\"url(#clip370)\" d=\"M169.672 1163.64 L177.311 1163.64 L177.311 1137.27 L169.001 1138.94 L169.001 1134.68 L177.265 1133.01 L181.94 1133.01 L181.94 1163.64 L189.579 1163.64 L189.579 1167.57 L169.672 1167.57 L169.672 1163.64 Z\" fill=\"#000000\" fill-rule=\"evenodd\" fill-opacity=\"1\" /><path clip-path=\"url(#clip370)\" d=\"M209.024 1136.09 Q205.413 1136.09 203.584 1139.66 Q201.778 1143.2 201.778 1150.33 Q201.778 1157.43 203.584 1161 Q205.413 1164.54 209.024 1164.54 Q212.658 1164.54 214.463 1161 Q216.292 1157.43 216.292 1150.33 Q216.292 1143.2 214.463 1139.66 Q212.658 1136.09 209.024 1136.09 M209.024 1132.39 Q214.834 1132.39 217.889 1136.99 Q220.968 1141.58 220.968 1150.33 Q220.968 1159.05 217.889 1163.66 Q214.834 1168.24 209.024 1168.24 Q203.214 1168.24 200.135 1163.66 Q197.079 1159.05 197.079 1150.33 Q197.079 1141.58 200.135 1136.99 Q203.214 1132.39 209.024 1132.39 Z\" fill=\"#000000\" fill-rule=\"evenodd\" fill-opacity=\"1\" /><path clip-path=\"url(#clip370)\" d=\"M233.645 1115.39 L224.053 1130.38 L233.645 1130.38 L233.645 1115.39 M232.648 1112.08 L237.425 1112.08 L237.425 1130.38 L241.431 1130.38 L241.431 1133.54 L237.425 1133.54 L237.425 1140.16 L233.645 1140.16 L233.645 1133.54 L220.968 1133.54 L220.968 1129.87 L232.648 1112.08 Z\" fill=\"#000000\" fill-rule=\"evenodd\" fill-opacity=\"1\" /><path clip-path=\"url(#clip370)\" d=\"M66.5939 835.367 L54.7884 853.816 L66.5939 853.816 L66.5939 835.367 M65.367 831.293 L71.2466 831.293 L71.2466 853.816 L76.1772 853.816 L76.1772 857.705 L71.2466 857.705 L71.2466 865.853 L66.5939 865.853 L66.5939 857.705 L50.9921 857.705 L50.9921 853.191 L65.367 831.293 Z\" fill=\"#000000\" fill-rule=\"evenodd\" fill-opacity=\"1\" /><path clip-path=\"url(#clip370)\" d=\"M83.9086 859.973 L88.7928 859.973 L88.7928 865.853 L83.9086 865.853 L83.9086 859.973 Z\" fill=\"#000000\" fill-rule=\"evenodd\" fill-opacity=\"1\" /><path clip-path=\"url(#clip370)\" d=\"M108.978 834.371 Q105.367 834.371 103.538 837.936 Q101.733 841.478 101.733 848.607 Q101.733 855.714 103.538 859.279 Q105.367 862.82 108.978 862.82 Q112.612 862.82 114.418 859.279 Q116.246 855.714 116.246 848.607 Q116.246 841.478 114.418 837.936 Q112.612 834.371 108.978 834.371 M108.978 830.668 Q114.788 830.668 117.844 835.274 Q120.922 839.857 120.922 848.607 Q120.922 857.334 117.844 861.941 Q114.788 866.524 108.978 866.524 Q103.168 866.524 100.089 861.941 Q97.0335 857.334 97.0335 848.607 Q97.0335 839.857 100.089 835.274 Q103.168 830.668 108.978 830.668 Z\" fill=\"#000000\" fill-rule=\"evenodd\" fill-opacity=\"1\" /><path clip-path=\"url(#clip370)\" d=\"M157.311 840.39 L146.732 851.015 L157.311 861.593 L154.556 864.394 L143.931 853.769 L133.306 864.394 L130.575 861.593 L141.131 851.015 L130.575 840.39 L133.306 837.589 L143.931 848.214 L154.556 837.589 L157.311 840.39 Z\" fill=\"#000000\" fill-rule=\"evenodd\" fill-opacity=\"1\" /><path clip-path=\"url(#clip370)\" d=\"M169.672 861.918 L177.311 861.918 L177.311 835.552 L169.001 837.219 L169.001 832.959 L177.265 831.293 L181.94 831.293 L181.94 861.918 L189.579 861.918 L189.579 865.853 L169.672 865.853 L169.672 861.918 Z\" fill=\"#000000\" fill-rule=\"evenodd\" fill-opacity=\"1\" /><path clip-path=\"url(#clip370)\" d=\"M209.024 834.371 Q205.413 834.371 203.584 837.936 Q201.778 841.478 201.778 848.607 Q201.778 855.714 203.584 859.279 Q205.413 862.82 209.024 862.82 Q212.658 862.82 214.463 859.279 Q216.292 855.714 216.292 848.607 Q216.292 841.478 214.463 837.936 Q212.658 834.371 209.024 834.371 M209.024 830.668 Q214.834 830.668 217.889 835.274 Q220.968 839.857 220.968 848.607 Q220.968 857.334 217.889 861.941 Q214.834 866.524 209.024 866.524 Q203.214 866.524 200.135 861.941 Q197.079 857.334 197.079 848.607 Q197.079 839.857 200.135 835.274 Q203.214 830.668 209.024 830.668 Z\" fill=\"#000000\" fill-rule=\"evenodd\" fill-opacity=\"1\" /><path clip-path=\"url(#clip370)\" d=\"M233.645 813.672 L224.053 828.662 L233.645 828.662 L233.645 813.672 M232.648 810.362 L237.425 810.362 L237.425 828.662 L241.431 828.662 L241.431 831.822 L237.425 831.822 L237.425 838.442 L233.645 838.442 L233.645 831.822 L220.968 831.822 L220.968 828.154 L232.648 810.362 Z\" fill=\"#000000\" fill-rule=\"evenodd\" fill-opacity=\"1\" /><path clip-path=\"url(#clip370)\" d=\"M64.3254 544.989 Q61.1773 544.989 59.3254 547.142 Q57.4967 549.295 57.4967 553.045 Q57.4967 556.772 59.3254 558.948 Q61.1773 561.1 64.3254 561.1 Q67.4735 561.1 69.3022 558.948 Q71.1541 556.772 71.1541 553.045 Q71.1541 549.295 69.3022 547.142 Q67.4735 544.989 64.3254 544.989 M73.6077 530.337 L73.6077 534.596 Q71.8485 533.763 70.0429 533.323 Q68.2606 532.883 66.5013 532.883 Q61.8717 532.883 59.418 536.008 Q56.9875 539.133 56.6402 545.452 Q58.006 543.438 60.0662 542.374 Q62.1263 541.286 64.6032 541.286 Q69.8115 541.286 72.8207 544.457 Q75.8531 547.605 75.8531 553.045 Q75.8531 558.369 72.705 561.587 Q69.5568 564.804 64.3254 564.804 Q58.33 564.804 55.1588 560.221 Q51.9875 555.614 51.9875 546.888 Q51.9875 538.693 55.8764 533.832 Q59.7652 528.948 66.3161 528.948 Q68.0754 528.948 69.8578 529.295 Q71.6633 529.642 73.6077 530.337 Z\" fill=\"#000000\" fill-rule=\"evenodd\" fill-opacity=\"1\" /><path clip-path=\"url(#clip370)\" d=\"M83.9086 558.253 L88.7928 558.253 L88.7928 564.133 L83.9086 564.133 L83.9086 558.253 Z\" fill=\"#000000\" fill-rule=\"evenodd\" fill-opacity=\"1\" /><path clip-path=\"url(#clip370)\" d=\"M108.978 532.652 Q105.367 532.652 103.538 536.216 Q101.733 539.758 101.733 546.888 Q101.733 553.994 103.538 557.559 Q105.367 561.1 108.978 561.1 Q112.612 561.1 114.418 557.559 Q116.246 553.994 116.246 546.888 Q116.246 539.758 114.418 536.216 Q112.612 532.652 108.978 532.652 M108.978 528.948 Q114.788 528.948 117.844 533.554 Q120.922 538.138 120.922 546.888 Q120.922 555.614 117.844 560.221 Q114.788 564.804 108.978 564.804 Q103.168 564.804 100.089 560.221 Q97.0335 555.614 97.0335 546.888 Q97.0335 538.138 100.089 533.554 Q103.168 528.948 108.978 528.948 Z\" fill=\"#000000\" fill-rule=\"evenodd\" fill-opacity=\"1\" /><path clip-path=\"url(#clip370)\" d=\"M157.311 538.67 L146.732 549.295 L157.311 559.874 L154.556 562.674 L143.931 552.05 L133.306 562.674 L130.575 559.874 L141.131 549.295 L130.575 538.67 L133.306 535.869 L143.931 546.494 L154.556 535.869 L157.311 538.67 Z\" fill=\"#000000\" fill-rule=\"evenodd\" fill-opacity=\"1\" /><path clip-path=\"url(#clip370)\" d=\"M169.672 560.198 L177.311 560.198 L177.311 533.832 L169.001 535.499 L169.001 531.239 L177.265 529.573 L181.94 529.573 L181.94 560.198 L189.579 560.198 L189.579 564.133 L169.672 564.133 L169.672 560.198 Z\" fill=\"#000000\" fill-rule=\"evenodd\" fill-opacity=\"1\" /><path clip-path=\"url(#clip370)\" d=\"M209.024 532.652 Q205.413 532.652 203.584 536.216 Q201.778 539.758 201.778 546.888 Q201.778 553.994 203.584 557.559 Q205.413 561.1 209.024 561.1 Q212.658 561.1 214.463 557.559 Q216.292 553.994 216.292 546.888 Q216.292 539.758 214.463 536.216 Q212.658 532.652 209.024 532.652 M209.024 528.948 Q214.834 528.948 217.889 533.554 Q220.968 538.138 220.968 546.888 Q220.968 555.614 217.889 560.221 Q214.834 564.804 209.024 564.804 Q203.214 564.804 200.135 560.221 Q197.079 555.614 197.079 546.888 Q197.079 538.138 200.135 533.554 Q203.214 528.948 209.024 528.948 Z\" fill=\"#000000\" fill-rule=\"evenodd\" fill-opacity=\"1\" /><path clip-path=\"url(#clip370)\" d=\"M233.645 511.953 L224.053 526.942 L233.645 526.942 L233.645 511.953 M232.648 508.642 L237.425 508.642 L237.425 526.942 L241.431 526.942 L241.431 530.102 L237.425 530.102 L237.425 536.722 L233.645 536.722 L233.645 530.102 L220.968 530.102 L220.968 526.435 L232.648 508.642 Z\" fill=\"#000000\" fill-rule=\"evenodd\" fill-opacity=\"1\" /><path clip-path=\"url(#clip370)\" d=\"M63.7467 246.001 Q60.4134 246.001 58.4921 247.783 Q56.5939 249.566 56.5939 252.691 Q56.5939 255.816 58.4921 257.598 Q60.4134 259.381 63.7467 259.381 Q67.08 259.381 69.0013 257.598 Q70.9226 255.793 70.9226 252.691 Q70.9226 249.566 69.0013 247.783 Q67.1032 246.001 63.7467 246.001 M59.0708 244.01 Q56.0615 243.27 54.3717 241.209 Q52.7051 239.149 52.7051 236.186 Q52.7051 232.043 55.6449 229.635 Q58.6078 227.228 63.7467 227.228 Q68.9087 227.228 71.8485 229.635 Q74.7883 232.043 74.7883 236.186 Q74.7883 239.149 73.0985 241.209 Q71.4318 243.27 68.4457 244.01 Q71.8253 244.797 73.7003 247.089 Q75.5985 249.381 75.5985 252.691 Q75.5985 257.714 72.5198 260.399 Q69.4642 263.084 63.7467 263.084 Q58.0291 263.084 54.9504 260.399 Q51.8949 257.714 51.8949 252.691 Q51.8949 249.381 53.793 247.089 Q55.6912 244.797 59.0708 244.01 M57.3578 236.626 Q57.3578 239.311 59.0245 240.816 Q60.7143 242.32 63.7467 242.32 Q66.7559 242.32 68.4457 240.816 Q70.1587 239.311 70.1587 236.626 Q70.1587 233.941 68.4457 232.436 Q66.7559 230.932 63.7467 230.932 Q60.7143 230.932 59.0245 232.436 Q57.3578 233.941 57.3578 236.626 Z\" fill=\"#000000\" fill-rule=\"evenodd\" fill-opacity=\"1\" /><path clip-path=\"url(#clip370)\" d=\"M83.9086 256.533 L88.7928 256.533 L88.7928 262.413 L83.9086 262.413 L83.9086 256.533 Z\" fill=\"#000000\" fill-rule=\"evenodd\" fill-opacity=\"1\" /><path clip-path=\"url(#clip370)\" d=\"M108.978 230.932 Q105.367 230.932 103.538 234.496 Q101.733 238.038 101.733 245.168 Q101.733 252.274 103.538 255.839 Q105.367 259.381 108.978 259.381 Q112.612 259.381 114.418 255.839 Q116.246 252.274 116.246 245.168 Q116.246 238.038 114.418 234.496 Q112.612 230.932 108.978 230.932 M108.978 227.228 Q114.788 227.228 117.844 231.834 Q120.922 236.418 120.922 245.168 Q120.922 253.894 117.844 258.501 Q114.788 263.084 108.978 263.084 Q103.168 263.084 100.089 258.501 Q97.0335 253.894 97.0335 245.168 Q97.0335 236.418 100.089 231.834 Q103.168 227.228 108.978 227.228 Z\" fill=\"#000000\" fill-rule=\"evenodd\" fill-opacity=\"1\" /><path clip-path=\"url(#clip370)\" d=\"M157.311 236.95 L146.732 247.575 L157.311 258.154 L154.556 260.955 L143.931 250.33 L133.306 260.955 L130.575 258.154 L141.131 247.575 L130.575 236.95 L133.306 234.149 L143.931 244.774 L154.556 234.149 L157.311 236.95 Z\" fill=\"#000000\" fill-rule=\"evenodd\" fill-opacity=\"1\" /><path clip-path=\"url(#clip370)\" d=\"M169.672 258.478 L177.311 258.478 L177.311 232.112 L169.001 233.779 L169.001 229.52 L177.265 227.853 L181.94 227.853 L181.94 258.478 L189.579 258.478 L189.579 262.413 L169.672 262.413 L169.672 258.478 Z\" fill=\"#000000\" fill-rule=\"evenodd\" fill-opacity=\"1\" /><path clip-path=\"url(#clip370)\" d=\"M209.024 230.932 Q205.413 230.932 203.584 234.496 Q201.778 238.038 201.778 245.168 Q201.778 252.274 203.584 255.839 Q205.413 259.381 209.024 259.381 Q212.658 259.381 214.463 255.839 Q216.292 252.274 216.292 245.168 Q216.292 238.038 214.463 234.496 Q212.658 230.932 209.024 230.932 M209.024 227.228 Q214.834 227.228 217.889 231.834 Q220.968 236.418 220.968 245.168 Q220.968 253.894 217.889 258.501 Q214.834 263.084 209.024 263.084 Q203.214 263.084 200.135 258.501 Q197.079 253.894 197.079 245.168 Q197.079 236.418 200.135 231.834 Q203.214 227.228 209.024 227.228 Z\" fill=\"#000000\" fill-rule=\"evenodd\" fill-opacity=\"1\" /><path clip-path=\"url(#clip370)\" d=\"M233.645 210.233 L224.053 225.223 L233.645 225.223 L233.645 210.233 M232.648 206.923 L237.425 206.923 L237.425 225.223 L241.431 225.223 L241.431 228.382 L237.425 228.382 L237.425 235.003 L233.645 235.003 L233.645 228.382 L220.968 228.382 L220.968 224.715 L232.648 206.923 Z\" fill=\"#000000\" fill-rule=\"evenodd\" fill-opacity=\"1\" /><polyline clip-path=\"url(#clip372)\" style=\"stroke:#000000; stroke-linecap:butt; stroke-linejoin:round; stroke-width:4; stroke-opacity:1; fill:none\" points=\"\n",
       "  336.167,1445.72 355.287,1445.59 532.079,1432.12 638.324,1413.38 728.153,1391.29 825.732,1360.82 915.691,1326.76 1012.14,1283.87 1123.88,1225.93 1223.18,1167.03 \n",
       "  1310.26,1109.62 1405.2,1040.92 1500.71,965.357 1606.3,874.297 1706.77,780.322 1811.23,675.027 1899.17,580.398 2006.53,457.44 2107.45,334.411 2269.14,122.268 \n",
       "  2294.02,87.9763 \n",
       "  \"/>\n",
       "<path clip-path=\"url(#clip370)\" d=\"\n",
       "M2000.56 198.898 L2283.58 198.898 L2283.58 95.2176 L2000.56 95.2176  Z\n",
       "  \" fill=\"#ffffff\" fill-rule=\"evenodd\" fill-opacity=\"1\"/>\n",
       "<polyline clip-path=\"url(#clip370)\" style=\"stroke:#000000; stroke-linecap:butt; stroke-linejoin:round; stroke-width:4; stroke-opacity:1; fill:none\" points=\"\n",
       "  2000.56,198.898 2283.58,198.898 2283.58,95.2176 2000.56,95.2176 2000.56,198.898 \n",
       "  \"/>\n",
       "<polyline clip-path=\"url(#clip370)\" style=\"stroke:#000000; stroke-linecap:butt; stroke-linejoin:round; stroke-width:4; stroke-opacity:1; fill:none\" points=\"\n",
       "  2023.62,147.058 2161.97,147.058 \n",
       "  \"/>\n",
       "<path clip-path=\"url(#clip370)\" d=\"M2198.87 166.745 Q2197.07 171.375 2195.35 172.787 Q2193.64 174.199 2190.77 174.199 L2187.37 174.199 L2187.37 170.634 L2189.87 170.634 Q2191.63 170.634 2192.6 169.8 Q2193.57 168.967 2194.75 165.865 L2195.52 163.921 L2185.03 138.412 L2189.54 138.412 L2197.65 158.689 L2205.75 138.412 L2210.26 138.412 L2198.87 166.745 Z\" fill=\"#000000\" fill-rule=\"evenodd\" fill-opacity=\"1\" /><path clip-path=\"url(#clip370)\" d=\"M2217.55 160.402 L2225.19 160.402 L2225.19 134.037 L2216.88 135.703 L2216.88 131.444 L2225.15 129.778 L2229.82 129.778 L2229.82 160.402 L2237.46 160.402 L2237.46 164.338 L2217.55 164.338 L2217.55 160.402 Z\" fill=\"#000000\" fill-rule=\"evenodd\" fill-opacity=\"1\" /></svg>\n"
      ]
     },
     "execution_count": 3,
     "metadata": {},
     "output_type": "execute_result"
    }
   ],
   "source": [
    "using Plots\n",
    "gr(size=(600,400))\n",
    "plot(f, 0, 300, c=:black)"
   ]
  },
  {
   "cell_type": "markdown",
   "id": "0ee54c21-e191-4bbd-ac30-38c08033eae5",
   "metadata": {},
   "source": [
    "Como é possível observar, a função que geramos pelo método de interpolação não passa por 37. Vejamos então nossa melhor estimativa.\n",
    "\n",
    "Primeiro, encontramos o valor máximo da função gerada:"
   ]
  },
  {
   "cell_type": "code",
   "execution_count": 230,
   "id": "013c4533-30bd-4f18-b9a8-d41b3f3af802",
   "metadata": {},
   "outputs": [
    {
     "data": {
      "text/plain": [
       "34.429761904761904"
      ]
     },
     "execution_count": 230,
     "metadata": {},
     "output_type": "execute_result"
    }
   ],
   "source": [
    "f(x) = -0.00025925925925925926x^2 + 0.09888888888888889x + 25\n",
    "a = -0.00025925925925925926\n",
    "b = 0.09888888888888889\n",
    "c = 25\n",
    "-((b)^2 -4(a*c))/(4*a)"
   ]
  },
  {
   "cell_type": "markdown",
   "id": "a6e3178c-c872-4584-bf53-8b46cb2b7f57",
   "metadata": {},
   "source": [
    "Agora que sabemos o ponto máximo presente na função, conseguimos estimar um horário mais próximo do assassinato. \n",
    "\n",
    "34.429761904761904 = -0.00025925925925925926x^2 + 0.09888888888888889x + 25 \n",
    "\n",
    ">0 = -0.00025925925925925926x^2 + 0.09888888888888889x -9.429761904761904"
   ]
  },
  {
   "cell_type": "code",
   "execution_count": 231,
   "id": "55d0fa96-4230-456a-a3e2-5fae01cb0830",
   "metadata": {},
   "outputs": [
    {
     "data": {
      "text/plain": [
       "f (generic function with 1 method)"
      ]
     },
     "execution_count": 231,
     "metadata": {},
     "output_type": "execute_result"
    }
   ],
   "source": [
    "f(x) = -0.00025925925925925926x^2 + 0.09888888888888889x - 9.429761904761904"
   ]
  },
  {
   "cell_type": "markdown",
   "id": "4bebad0b-263d-435d-855c-f3bbf39743e4",
   "metadata": {},
   "source": [
    "Agora, resolvemos a equação de segundo grau para achar x:"
   ]
  },
  {
   "cell_type": "code",
   "execution_count": 232,
   "id": "e4047472-aa48-4747-966b-b06f60a401e3",
   "metadata": {},
   "outputs": [
    {
     "data": {
      "text/plain": [
       "190.71428571428572"
      ]
     },
     "execution_count": 232,
     "metadata": {},
     "output_type": "execute_result"
    }
   ],
   "source": [
    "c = - 9.429761904761904\n",
    "(-b+sqrt((b^2) - 4(a*c)))/(2*a)"
   ]
  },
  {
   "cell_type": "markdown",
   "id": "3b1294f7-1f19-47e8-b74c-9ad756a91250",
   "metadata": {},
   "source": [
    "Isso signifca que a temperatura de 34.429761904761904° aconteceu 190.71428571428572 minutos antes de agora \n",
    "\n",
    "(entenda agora como 17h30, o horário onde foi checada a temperatura pela última vez).\n",
    "\n",
    ">190.71428571428572 = 3 horas, 10 minutos e 42 segundos.\n",
    "\n",
    "Portanto, podemos ao menos concluir que o assassinato já havia ocorrido às 14h19m18s."
   ]
  },
  {
   "cell_type": "markdown",
   "id": "c1346009-b8ce-41ef-8d18-16fc34f10289",
   "metadata": {},
   "source": [
    "## Questão 6"
   ]
  },
  {
   "cell_type": "markdown",
   "id": "1d121f11-fab1-4bfb-a7f7-a65aca23248c",
   "metadata": {},
   "source": [
    "Pelos dados fornecidos, sabemos que:\n",
    "\n",
    ">A( 1, 2 ) = 800m  \n",
    "A( 1, 4 ) = 400m  \n",
    "A( 3, 2 ) = 600m  \n",
    "A( 3, 4 ) = 500m\n",
    "\n",
    "Utilizando o Método de Lagrange e trabalhando com todas as combinações possíveis, obtemos 4 grandes estruturas:"
   ]
  },
  {
   "cell_type": "markdown",
   "id": "d9f9eaf1-8e09-403f-aa7c-160891fdb7cb",
   "metadata": {},
   "source": [
    ">((x - 3) * (y - 4))/((1 - 3) * (2 - 4)) = **((xy - 4x - 3y +12 ) / 4 )** [1]  \n",
    " ((x - 1) * (y - 2))/((3 - 1) * (4 - 2)) = **((xy - 2x - y +2 ) / 4 )** [2]  \n",
    " ((x - 1) * (y - 4))/((3 - 1) * (2 - 4)) = **((xy - 4x - y +4 ) / -4 )** [3]  \n",
    " ((x - 3) * (y - 2))/((1 - 3) * (4 - 2)) = **((xy - 2x - 3y +6 ) / -4 )** [4]"
   ]
  },
  {
   "cell_type": "markdown",
   "id": "88428b9b-5d37-4981-a9ff-6d6c03fa200e",
   "metadata": {},
   "source": [
    "Em seguida, agregamos essas 4 grandes estruturas à fórmula:\n",
    "\n",
    "> [1] * 800 + [2] * 500 + [3] * 600 + [4] * 400\n"
   ]
  },
  {
   "cell_type": "markdown",
   "id": "956d4a16-0230-481c-b570-c6e4fdd71d65",
   "metadata": {},
   "source": [
    "Efetuando todas as operações, a nossa função fica:\n",
    "\n",
    ">**A(x,y) = 75xy -250x -275y + 1450**"
   ]
  },
  {
   "cell_type": "markdown",
   "id": "0ab3b14e-1c48-4050-be92-0376b57f6172",
   "metadata": {},
   "source": [
    "Agora, vamos encontrar o gradiente para poder localizar possíveis máximos e mínimos globais:\n",
    "\n",
    "> ∂/∂x (75xy -250x -275y + 1450) = 75y - 250  \n",
    "  ∂/∂y (75xy -250x -275y + 1450) = 75x - 275\n",
    "\n",
    "Assim, nosso vetor gradiente então é **(75y -250, 75x -275)**\n",
    "\n",
    "Agora, estabelecemos um sistema com essas duas equações sendo igualadas a zero:\n",
    "\n",
    "> 75y - 250 = 0  \n",
    "  75x - 275 = 0\n",
    "  \n",
    "Dessa forma, encontramos **x = 11/3** e **y = 10/3**\n",
    "\n",
    "Aplicando os valores encontrados, obtemos:\n",
    "\n",
    "> A(11/3 , 10/3)"
   ]
  },
  {
   "cell_type": "code",
   "execution_count": 257,
   "id": "afc32d13-60a4-4faf-95fc-91b5141d3724",
   "metadata": {},
   "outputs": [
    {
     "data": {
      "text/plain": [
       "533.3333333333334"
      ]
     },
     "execution_count": 257,
     "metadata": {},
     "output_type": "execute_result"
    }
   ],
   "source": [
    "75*(11/3)*(10/3) -250*(11/3) -275*(10/3) +1450"
   ]
  },
  {
   "cell_type": "markdown",
   "id": "348ad3d6-4834-48f7-aaaa-8bd0f6a771fd",
   "metadata": {},
   "source": [
    "No entanto, o valor encontrado não é superior a A( 1, 2 ), tampouco inferior a A( 1, 4 ). Portanto, **não foi possível encontrar nem máximo nem mínimo global**. Por consequência, trata-se de um ponto sela."
   ]
  },
  {
   "cell_type": "markdown",
   "id": "07a14496-d1b5-4d46-b8bd-ac32930eeb20",
   "metadata": {},
   "source": [
    "## Questão 7"
   ]
  },
  {
   "cell_type": "markdown",
   "id": "a469a5fb-1b71-41cf-aaf3-ebfd5a3f64e2",
   "metadata": {},
   "source": [
    "Queremos realizar interpolação por partes trabalhando com funções de cinco pontos e polinômios de terceiro grau. \n",
    "\n",
    "É recomendado optar por funções cúbicas do que funções quadráticas nesse caso, dado que isso viabiliza a criação de mais variáveis, favorecendo o balanceamento entre elas e as equações. Caso ultrapasse, continua sendo vantajoso, visto que é mais viável gerar novas equações do que variáveis. O equilíbrio entre elas é vantajoso para auxiliar no encontro da solução de um sistema.\n",
    "\n",
    "Dividimos então esses cinco pontos entre duas funções P(x) e Q(x), onde o último ponto de P é o primeiro de Q, assim evitando os chamados bicos.\n",
    "\n",
    "A partir daí então, já conseguimos gerar 6 equações:\n",
    "\n",
    "> P(x0) = y0  \n",
    "P(x1) = y1  \n",
    "P(x2) = y2  \n",
    "Q(x2) = y2  \n",
    "Q(x3) = y3  \n",
    "Q(x4) = y4  \n",
    "\n",
    "No entanto, se olharmos para P(x) e Q(x), temos:\n",
    "\n",
    "> P(x) = **c0** + **c1**x + **c2**x^2 + **c3**x^3    \n",
    "C(x) = **d0** + **d1**x + **d2**x^2 + **d3**x^3  \n",
    "\n",
    "Portanto, temos 8 variáveis para 6 equações, configurando um desequilíbrio. Por sorte, podemos gerar duas novas equações para corrigir cuidar desse empecilho:\n",
    "\n",
    "> P'(x2) = Q'(x2) (\"Colagem\" das duas funções, inclinação igual)  \n",
    "P''(x2) = Q''(x2) (Curvatura igual)\n",
    "\n",
    "Enfim, temos 8 variáveis para 8 equações. O cenário é propício para a obtenção de uma solução."
   ]
  },
  {
   "cell_type": "code",
   "execution_count": 13,
   "id": "b026ba36-7cc4-456f-92bc-b347ef61a371",
   "metadata": {},
   "outputs": [
    {
     "data": {
      "text/plain": [
       "pontos_5 (generic function with 1 method)"
      ]
     },
     "execution_count": 13,
     "metadata": {},
     "output_type": "execute_result"
    }
   ],
   "source": [
    "function pontos_5(x,y)\n",
    "   V = [ 1  x[1]  x[1]^2  x[1]^3    0  0     0        0;\n",
    "         1  x[2]  x[2]^2  x[2]^3    0  0     0        0;\n",
    "         1  x[3]  x[3]^2  x[3]^3    0  0     0        0;\n",
    "         0  0     0       0         1  x[3]  x[3]^2   x[3]^3;\n",
    "         0  0     0       0         1  x[4]  x[4]^2   x[4]^3; \n",
    "         0  0     0       0         1  x[5]  x[5]^2   x[5]^3;\n",
    "         0  1     2*x[3]  3*x[3]^2  0  -1    -2*x[3]  -3*x[3]^2;\n",
    "         0  0     2       6*x[3]    0  0     -2       -6*x[3]   ]\n",
    "    \n",
    "    y = [ \n",
    "        y[1];\n",
    "        y[2];\n",
    "        y[3];\n",
    "        y[3];\n",
    "        y[4];\n",
    "        y[5];\n",
    "        0;\n",
    "        0\n",
    "        ]\n",
    "    \n",
    "    #resolver o sistema linear Vc=y\n",
    "    c=V\\y\n",
    "    \n",
    "    return c\n",
    "end"
   ]
  },
  {
   "cell_type": "code",
   "execution_count": 14,
   "id": "d8e11e0d-6525-433a-b69b-fe52d658836b",
   "metadata": {},
   "outputs": [
    {
     "data": {
      "text/plain": [
       "8-element Vector{Float64}:\n",
       "   3.8500000000000147\n",
       "  -6.158333333333357\n",
       "   3.3000000000000105\n",
       "  -0.49166666666666803\n",
       " -24.50000000000003\n",
       "  22.19166666666669\n",
       "  -6.150000000000006\n",
       "   0.5583333333333338"
      ]
     },
     "execution_count": 14,
     "metadata": {},
     "output_type": "execute_result"
    }
   ],
   "source": [
    "x = [1; 2; 3; 4; 5]\n",
    "y = [0.5; 0.8; 1.8; 1.6; 2.5]\n",
    "c = pontos_5(x,y)"
   ]
  },
  {
   "cell_type": "code",
   "execution_count": 15,
   "id": "3a9dd674-2fcb-4266-9191-9725ad862551",
   "metadata": {},
   "outputs": [
    {
     "data": {
      "image/svg+xml": [
       "<?xml version=\"1.0\" encoding=\"utf-8\"?>\n",
       "<svg xmlns=\"http://www.w3.org/2000/svg\" xmlns:xlink=\"http://www.w3.org/1999/xlink\" width=\"600\" height=\"400\" viewBox=\"0 0 2400 1600\">\n",
       "<defs>\n",
       "  <clipPath id=\"clip030\">\n",
       "    <rect x=\"0\" y=\"0\" width=\"2400\" height=\"1600\"/>\n",
       "  </clipPath>\n",
       "</defs>\n",
       "<path clip-path=\"url(#clip030)\" d=\"\n",
       "M0 1600 L2400 1600 L2400 0 L0 0  Z\n",
       "  \" fill=\"#ffffff\" fill-rule=\"evenodd\" fill-opacity=\"1\"/>\n",
       "<defs>\n",
       "  <clipPath id=\"clip031\">\n",
       "    <rect x=\"480\" y=\"0\" width=\"1681\" height=\"1600\"/>\n",
       "  </clipPath>\n",
       "</defs>\n",
       "<path clip-path=\"url(#clip030)\" d=\"\n",
       "M155.765 1486.45 L2352.76 1486.45 L2352.76 47.2441 L155.765 47.2441  Z\n",
       "  \" fill=\"#ffffff\" fill-rule=\"evenodd\" fill-opacity=\"1\"/>\n",
       "<defs>\n",
       "  <clipPath id=\"clip032\">\n",
       "    <rect x=\"155\" y=\"47\" width=\"2198\" height=\"1440\"/>\n",
       "  </clipPath>\n",
       "</defs>\n",
       "<polyline clip-path=\"url(#clip032)\" style=\"stroke:#000000; stroke-linecap:butt; stroke-linejoin:round; stroke-width:2; stroke-opacity:0.1; fill:none\" points=\"\n",
       "  217.944,1486.45 217.944,47.2441 \n",
       "  \"/>\n",
       "<polyline clip-path=\"url(#clip032)\" style=\"stroke:#000000; stroke-linecap:butt; stroke-linejoin:round; stroke-width:2; stroke-opacity:0.1; fill:none\" points=\"\n",
       "  736.102,1486.45 736.102,47.2441 \n",
       "  \"/>\n",
       "<polyline clip-path=\"url(#clip032)\" style=\"stroke:#000000; stroke-linecap:butt; stroke-linejoin:round; stroke-width:2; stroke-opacity:0.1; fill:none\" points=\"\n",
       "  1254.26,1486.45 1254.26,47.2441 \n",
       "  \"/>\n",
       "<polyline clip-path=\"url(#clip032)\" style=\"stroke:#000000; stroke-linecap:butt; stroke-linejoin:round; stroke-width:2; stroke-opacity:0.1; fill:none\" points=\"\n",
       "  1772.42,1486.45 1772.42,47.2441 \n",
       "  \"/>\n",
       "<polyline clip-path=\"url(#clip032)\" style=\"stroke:#000000; stroke-linecap:butt; stroke-linejoin:round; stroke-width:2; stroke-opacity:0.1; fill:none\" points=\"\n",
       "  2290.58,1486.45 2290.58,47.2441 \n",
       "  \"/>\n",
       "<polyline clip-path=\"url(#clip030)\" style=\"stroke:#000000; stroke-linecap:butt; stroke-linejoin:round; stroke-width:4; stroke-opacity:1; fill:none\" points=\"\n",
       "  155.765,1486.45 2352.76,1486.45 \n",
       "  \"/>\n",
       "<polyline clip-path=\"url(#clip030)\" style=\"stroke:#000000; stroke-linecap:butt; stroke-linejoin:round; stroke-width:4; stroke-opacity:1; fill:none\" points=\"\n",
       "  217.944,1486.45 217.944,1467.55 \n",
       "  \"/>\n",
       "<polyline clip-path=\"url(#clip030)\" style=\"stroke:#000000; stroke-linecap:butt; stroke-linejoin:round; stroke-width:4; stroke-opacity:1; fill:none\" points=\"\n",
       "  736.102,1486.45 736.102,1467.55 \n",
       "  \"/>\n",
       "<polyline clip-path=\"url(#clip030)\" style=\"stroke:#000000; stroke-linecap:butt; stroke-linejoin:round; stroke-width:4; stroke-opacity:1; fill:none\" points=\"\n",
       "  1254.26,1486.45 1254.26,1467.55 \n",
       "  \"/>\n",
       "<polyline clip-path=\"url(#clip030)\" style=\"stroke:#000000; stroke-linecap:butt; stroke-linejoin:round; stroke-width:4; stroke-opacity:1; fill:none\" points=\"\n",
       "  1772.42,1486.45 1772.42,1467.55 \n",
       "  \"/>\n",
       "<polyline clip-path=\"url(#clip030)\" style=\"stroke:#000000; stroke-linecap:butt; stroke-linejoin:round; stroke-width:4; stroke-opacity:1; fill:none\" points=\"\n",
       "  2290.58,1486.45 2290.58,1467.55 \n",
       "  \"/>\n",
       "<path clip-path=\"url(#clip030)\" d=\"M208.326 1544.91 L215.965 1544.91 L215.965 1518.55 L207.655 1520.21 L207.655 1515.95 L215.918 1514.29 L220.594 1514.29 L220.594 1544.91 L228.233 1544.91 L228.233 1548.85 L208.326 1548.85 L208.326 1544.91 Z\" fill=\"#000000\" fill-rule=\"evenodd\" fill-opacity=\"1\" /><path clip-path=\"url(#clip030)\" d=\"M730.755 1544.91 L747.074 1544.91 L747.074 1548.85 L725.13 1548.85 L725.13 1544.91 Q727.792 1542.16 732.375 1537.53 Q736.982 1532.88 738.162 1531.53 Q740.408 1529.01 741.287 1527.27 Q742.19 1525.51 742.19 1523.82 Q742.19 1521.07 740.246 1519.33 Q738.324 1517.6 735.223 1517.6 Q733.023 1517.6 730.57 1518.36 Q728.139 1519.13 725.361 1520.68 L725.361 1515.95 Q728.186 1514.82 730.639 1514.24 Q733.093 1513.66 735.13 1513.66 Q740.5 1513.66 743.695 1516.35 Q746.889 1519.03 746.889 1523.52 Q746.889 1525.65 746.079 1527.57 Q745.292 1529.47 743.185 1532.07 Q742.607 1532.74 739.505 1535.95 Q736.403 1539.15 730.755 1544.91 Z\" fill=\"#000000\" fill-rule=\"evenodd\" fill-opacity=\"1\" /><path clip-path=\"url(#clip030)\" d=\"M1258.51 1530.21 Q1261.86 1530.93 1263.74 1533.2 Q1265.64 1535.47 1265.64 1538.8 Q1265.64 1543.92 1262.12 1546.72 Q1258.6 1549.52 1252.12 1549.52 Q1249.94 1549.52 1247.63 1549.08 Q1245.34 1548.66 1242.88 1547.81 L1242.88 1543.29 Q1244.83 1544.43 1247.14 1545.01 Q1249.46 1545.58 1251.98 1545.58 Q1256.38 1545.58 1258.67 1543.85 Q1260.98 1542.11 1260.98 1538.8 Q1260.98 1535.75 1258.83 1534.03 Q1256.7 1532.3 1252.88 1532.3 L1248.86 1532.3 L1248.86 1528.45 L1253.07 1528.45 Q1256.52 1528.45 1258.35 1527.09 Q1260.17 1525.7 1260.17 1523.11 Q1260.17 1520.45 1258.28 1519.03 Q1256.4 1517.6 1252.88 1517.6 Q1250.96 1517.6 1248.76 1518.01 Q1246.56 1518.43 1243.92 1519.31 L1243.92 1515.14 Q1246.59 1514.4 1248.9 1514.03 Q1251.24 1513.66 1253.3 1513.66 Q1258.62 1513.66 1261.73 1516.09 Q1264.83 1518.5 1264.83 1522.62 Q1264.83 1525.49 1263.18 1527.48 Q1261.54 1529.45 1258.51 1530.21 Z\" fill=\"#000000\" fill-rule=\"evenodd\" fill-opacity=\"1\" /><path clip-path=\"url(#clip030)\" d=\"M1775.43 1518.36 L1763.62 1536.81 L1775.43 1536.81 L1775.43 1518.36 M1774.2 1514.29 L1780.08 1514.29 L1780.08 1536.81 L1785.01 1536.81 L1785.01 1540.7 L1780.08 1540.7 L1780.08 1548.85 L1775.43 1548.85 L1775.43 1540.7 L1759.83 1540.7 L1759.83 1536.19 L1774.2 1514.29 Z\" fill=\"#000000\" fill-rule=\"evenodd\" fill-opacity=\"1\" /><path clip-path=\"url(#clip030)\" d=\"M2280.85 1514.29 L2299.21 1514.29 L2299.21 1518.22 L2285.14 1518.22 L2285.14 1526.7 Q2286.16 1526.35 2287.17 1526.19 Q2288.19 1526 2289.21 1526 Q2295 1526 2298.38 1529.17 Q2301.76 1532.34 2301.76 1537.76 Q2301.76 1543.34 2298.29 1546.44 Q2294.81 1549.52 2288.49 1549.52 Q2286.32 1549.52 2284.05 1549.15 Q2281.8 1548.78 2279.4 1548.04 L2279.4 1543.34 Q2281.48 1544.47 2283.7 1545.03 Q2285.92 1545.58 2288.4 1545.58 Q2292.41 1545.58 2294.74 1543.48 Q2297.08 1541.37 2297.08 1537.76 Q2297.08 1534.15 2294.74 1532.04 Q2292.41 1529.94 2288.4 1529.94 Q2286.53 1529.94 2284.65 1530.35 Q2282.8 1530.77 2280.85 1531.65 L2280.85 1514.29 Z\" fill=\"#000000\" fill-rule=\"evenodd\" fill-opacity=\"1\" /><polyline clip-path=\"url(#clip032)\" style=\"stroke:#000000; stroke-linecap:butt; stroke-linejoin:round; stroke-width:2; stroke-opacity:0.1; fill:none\" points=\"\n",
       "  155.765,1345.41 2352.76,1345.41 \n",
       "  \"/>\n",
       "<polyline clip-path=\"url(#clip032)\" style=\"stroke:#000000; stroke-linecap:butt; stroke-linejoin:round; stroke-width:2; stroke-opacity:0.1; fill:none\" points=\"\n",
       "  155.765,1031.05 2352.76,1031.05 \n",
       "  \"/>\n",
       "<polyline clip-path=\"url(#clip032)\" style=\"stroke:#000000; stroke-linecap:butt; stroke-linejoin:round; stroke-width:2; stroke-opacity:0.1; fill:none\" points=\"\n",
       "  155.765,716.694 2352.76,716.694 \n",
       "  \"/>\n",
       "<polyline clip-path=\"url(#clip032)\" style=\"stroke:#000000; stroke-linecap:butt; stroke-linejoin:round; stroke-width:2; stroke-opacity:0.1; fill:none\" points=\"\n",
       "  155.765,402.335 2352.76,402.335 \n",
       "  \"/>\n",
       "<polyline clip-path=\"url(#clip032)\" style=\"stroke:#000000; stroke-linecap:butt; stroke-linejoin:round; stroke-width:2; stroke-opacity:0.1; fill:none\" points=\"\n",
       "  155.765,87.9763 2352.76,87.9763 \n",
       "  \"/>\n",
       "<polyline clip-path=\"url(#clip030)\" style=\"stroke:#000000; stroke-linecap:butt; stroke-linejoin:round; stroke-width:4; stroke-opacity:1; fill:none\" points=\"\n",
       "  155.765,1486.45 155.765,47.2441 \n",
       "  \"/>\n",
       "<polyline clip-path=\"url(#clip030)\" style=\"stroke:#000000; stroke-linecap:butt; stroke-linejoin:round; stroke-width:4; stroke-opacity:1; fill:none\" points=\"\n",
       "  155.765,1345.41 174.663,1345.41 \n",
       "  \"/>\n",
       "<polyline clip-path=\"url(#clip030)\" style=\"stroke:#000000; stroke-linecap:butt; stroke-linejoin:round; stroke-width:4; stroke-opacity:1; fill:none\" points=\"\n",
       "  155.765,1031.05 174.663,1031.05 \n",
       "  \"/>\n",
       "<polyline clip-path=\"url(#clip030)\" style=\"stroke:#000000; stroke-linecap:butt; stroke-linejoin:round; stroke-width:4; stroke-opacity:1; fill:none\" points=\"\n",
       "  155.765,716.694 174.663,716.694 \n",
       "  \"/>\n",
       "<polyline clip-path=\"url(#clip030)\" style=\"stroke:#000000; stroke-linecap:butt; stroke-linejoin:round; stroke-width:4; stroke-opacity:1; fill:none\" points=\"\n",
       "  155.765,402.335 174.663,402.335 \n",
       "  \"/>\n",
       "<polyline clip-path=\"url(#clip030)\" style=\"stroke:#000000; stroke-linecap:butt; stroke-linejoin:round; stroke-width:4; stroke-opacity:1; fill:none\" points=\"\n",
       "  155.765,87.9763 174.663,87.9763 \n",
       "  \"/>\n",
       "<path clip-path=\"url(#clip030)\" d=\"M63.5847 1331.21 Q59.9736 1331.21 58.1449 1334.78 Q56.3393 1338.32 56.3393 1345.45 Q56.3393 1352.55 58.1449 1356.12 Q59.9736 1359.66 63.5847 1359.66 Q67.2189 1359.66 69.0244 1356.12 Q70.8531 1352.55 70.8531 1345.45 Q70.8531 1338.32 69.0244 1334.78 Q67.2189 1331.21 63.5847 1331.21 M63.5847 1327.51 Q69.3948 1327.51 72.4503 1332.11 Q75.529 1336.7 75.529 1345.45 Q75.529 1354.17 72.4503 1358.78 Q69.3948 1363.36 63.5847 1363.36 Q57.7745 1363.36 54.6958 1358.78 Q51.6403 1354.17 51.6403 1345.45 Q51.6403 1336.7 54.6958 1332.11 Q57.7745 1327.51 63.5847 1327.51 Z\" fill=\"#000000\" fill-rule=\"evenodd\" fill-opacity=\"1\" /><path clip-path=\"url(#clip030)\" d=\"M83.7466 1356.81 L88.6308 1356.81 L88.6308 1362.69 L83.7466 1362.69 L83.7466 1356.81 Z\" fill=\"#000000\" fill-rule=\"evenodd\" fill-opacity=\"1\" /><path clip-path=\"url(#clip030)\" d=\"M98.8622 1328.13 L117.219 1328.13 L117.219 1332.07 L103.145 1332.07 L103.145 1340.54 Q104.163 1340.19 105.182 1340.03 Q106.2 1339.84 107.219 1339.84 Q113.006 1339.84 116.385 1343.02 Q119.765 1346.19 119.765 1351.6 Q119.765 1357.18 116.293 1360.28 Q112.82 1363.36 106.501 1363.36 Q104.325 1363.36 102.057 1362.99 Q99.8113 1362.62 97.4039 1361.88 L97.4039 1357.18 Q99.4872 1358.32 101.709 1358.87 Q103.932 1359.43 106.408 1359.43 Q110.413 1359.43 112.751 1357.32 Q115.089 1355.21 115.089 1351.6 Q115.089 1347.99 112.751 1345.89 Q110.413 1343.78 106.408 1343.78 Q104.534 1343.78 102.659 1344.2 Q100.807 1344.61 98.8622 1345.49 L98.8622 1328.13 Z\" fill=\"#000000\" fill-rule=\"evenodd\" fill-opacity=\"1\" /><path clip-path=\"url(#clip030)\" d=\"M53.3995 1044.4 L61.0384 1044.4 L61.0384 1018.03 L52.7282 1019.7 L52.7282 1015.44 L60.9921 1013.77 L65.668 1013.77 L65.668 1044.4 L73.3068 1044.4 L73.3068 1048.33 L53.3995 1048.33 L53.3995 1044.4 Z\" fill=\"#000000\" fill-rule=\"evenodd\" fill-opacity=\"1\" /><path clip-path=\"url(#clip030)\" d=\"M82.7512 1042.45 L87.6354 1042.45 L87.6354 1048.33 L82.7512 1048.33 L82.7512 1042.45 Z\" fill=\"#000000\" fill-rule=\"evenodd\" fill-opacity=\"1\" /><path clip-path=\"url(#clip030)\" d=\"M107.821 1016.85 Q104.209 1016.85 102.381 1020.42 Q100.575 1023.96 100.575 1031.09 Q100.575 1038.19 102.381 1041.76 Q104.209 1045.3 107.821 1045.3 Q111.455 1045.3 113.26 1041.76 Q115.089 1038.19 115.089 1031.09 Q115.089 1023.96 113.26 1020.42 Q111.455 1016.85 107.821 1016.85 M107.821 1013.15 Q113.631 1013.15 116.686 1017.75 Q119.765 1022.34 119.765 1031.09 Q119.765 1039.81 116.686 1044.42 Q113.631 1049 107.821 1049 Q102.01 1049 98.9317 1044.42 Q95.8761 1039.81 95.8761 1031.09 Q95.8761 1022.34 98.9317 1017.75 Q102.01 1013.15 107.821 1013.15 Z\" fill=\"#000000\" fill-rule=\"evenodd\" fill-opacity=\"1\" /><path clip-path=\"url(#clip030)\" d=\"M54.3949 730.039 L62.0337 730.039 L62.0337 703.673 L53.7236 705.34 L53.7236 701.081 L61.9874 699.414 L66.6633 699.414 L66.6633 730.039 L74.3022 730.039 L74.3022 733.974 L54.3949 733.974 L54.3949 730.039 Z\" fill=\"#000000\" fill-rule=\"evenodd\" fill-opacity=\"1\" /><path clip-path=\"url(#clip030)\" d=\"M83.7466 728.094 L88.6308 728.094 L88.6308 733.974 L83.7466 733.974 L83.7466 728.094 Z\" fill=\"#000000\" fill-rule=\"evenodd\" fill-opacity=\"1\" /><path clip-path=\"url(#clip030)\" d=\"M98.8622 699.414 L117.219 699.414 L117.219 703.349 L103.145 703.349 L103.145 711.821 Q104.163 711.474 105.182 711.312 Q106.2 711.127 107.219 711.127 Q113.006 711.127 116.385 714.298 Q119.765 717.469 119.765 722.886 Q119.765 728.465 116.293 731.567 Q112.82 734.645 106.501 734.645 Q104.325 734.645 102.057 734.275 Q99.8113 733.905 97.4039 733.164 L97.4039 728.465 Q99.4872 729.599 101.709 730.155 Q103.932 730.71 106.408 730.71 Q110.413 730.71 112.751 728.604 Q115.089 726.497 115.089 722.886 Q115.089 719.275 112.751 717.169 Q110.413 715.062 106.408 715.062 Q104.534 715.062 102.659 715.479 Q100.807 715.895 98.8622 716.775 L98.8622 699.414 Z\" fill=\"#000000\" fill-rule=\"evenodd\" fill-opacity=\"1\" /><path clip-path=\"url(#clip030)\" d=\"M56.6171 415.68 L72.9365 415.68 L72.9365 419.615 L50.9921 419.615 L50.9921 415.68 Q53.6541 412.925 58.2375 408.296 Q62.8439 403.643 64.0245 402.3 Q66.2698 399.777 67.1494 398.041 Q68.0522 396.282 68.0522 394.592 Q68.0522 391.838 66.1078 390.101 Q64.1865 388.365 61.0847 388.365 Q58.8856 388.365 56.4319 389.129 Q54.0014 389.893 51.2236 391.444 L51.2236 386.722 Q54.0477 385.588 56.5014 385.009 Q58.955 384.43 60.9921 384.43 Q66.3624 384.43 69.5568 387.115 Q72.7513 389.8 72.7513 394.291 Q72.7513 396.421 71.9411 398.342 Q71.1541 400.24 69.0476 402.833 Q68.4689 403.504 65.367 406.722 Q62.2652 409.916 56.6171 415.68 Z\" fill=\"#000000\" fill-rule=\"evenodd\" fill-opacity=\"1\" /><path clip-path=\"url(#clip030)\" d=\"M82.7512 413.736 L87.6354 413.736 L87.6354 419.615 L82.7512 419.615 L82.7512 413.736 Z\" fill=\"#000000\" fill-rule=\"evenodd\" fill-opacity=\"1\" /><path clip-path=\"url(#clip030)\" d=\"M107.821 388.134 Q104.209 388.134 102.381 391.699 Q100.575 395.24 100.575 402.37 Q100.575 409.476 102.381 413.041 Q104.209 416.583 107.821 416.583 Q111.455 416.583 113.26 413.041 Q115.089 409.476 115.089 402.37 Q115.089 395.24 113.26 391.699 Q111.455 388.134 107.821 388.134 M107.821 384.43 Q113.631 384.43 116.686 389.037 Q119.765 393.62 119.765 402.37 Q119.765 411.097 116.686 415.703 Q113.631 420.286 107.821 420.286 Q102.01 420.286 98.9317 415.703 Q95.8761 411.097 95.8761 402.37 Q95.8761 393.62 98.9317 389.037 Q102.01 384.43 107.821 384.43 Z\" fill=\"#000000\" fill-rule=\"evenodd\" fill-opacity=\"1\" /><path clip-path=\"url(#clip030)\" d=\"M57.6125 101.321 L73.9318 101.321 L73.9318 105.256 L51.9875 105.256 L51.9875 101.321 Q54.6495 98.5665 59.2328 93.9369 Q63.8393 89.2841 65.0198 87.9416 Q67.2652 85.4184 68.1448 83.6823 Q69.0476 81.9231 69.0476 80.2333 Q69.0476 77.4786 67.1032 75.7425 Q65.1819 74.0064 62.08 74.0064 Q59.881 74.0064 57.4273 74.7703 Q54.9967 75.5342 52.219 77.0851 L52.219 72.3629 Q55.043 71.2287 57.4967 70.65 Q59.9504 70.0713 61.9874 70.0713 Q67.3578 70.0713 70.5522 72.7565 Q73.7466 75.4416 73.7466 79.9323 Q73.7466 82.062 72.9365 83.9832 Q72.1494 85.8814 70.0429 88.474 Q69.4642 89.1453 66.3624 92.3628 Q63.2606 95.5573 57.6125 101.321 Z\" fill=\"#000000\" fill-rule=\"evenodd\" fill-opacity=\"1\" /><path clip-path=\"url(#clip030)\" d=\"M83.7466 99.3767 L88.6308 99.3767 L88.6308 105.256 L83.7466 105.256 L83.7466 99.3767 Z\" fill=\"#000000\" fill-rule=\"evenodd\" fill-opacity=\"1\" /><path clip-path=\"url(#clip030)\" d=\"M98.8622 70.6963 L117.219 70.6963 L117.219 74.6314 L103.145 74.6314 L103.145 83.1036 Q104.163 82.7564 105.182 82.5944 Q106.2 82.4092 107.219 82.4092 Q113.006 82.4092 116.385 85.5805 Q119.765 88.7517 119.765 94.1684 Q119.765 99.747 116.293 102.849 Q112.82 105.928 106.501 105.928 Q104.325 105.928 102.057 105.557 Q99.8113 105.187 97.4039 104.446 L97.4039 99.747 Q99.4872 100.881 101.709 101.437 Q103.932 101.992 106.408 101.992 Q110.413 101.992 112.751 99.8859 Q115.089 97.7795 115.089 94.1684 Q115.089 90.5573 112.751 88.4508 Q110.413 86.3443 106.408 86.3443 Q104.534 86.3443 102.659 86.761 Q100.807 87.1777 98.8622 88.0573 L98.8622 70.6963 Z\" fill=\"#000000\" fill-rule=\"evenodd\" fill-opacity=\"1\" /><polyline clip-path=\"url(#clip032)\" style=\"stroke:#009af9; stroke-linecap:butt; stroke-linejoin:round; stroke-width:4; stroke-opacity:1; fill:none\" points=\"\n",
       "  217.944,1345.41 220.474,1348.56 223.004,1351.65 225.534,1354.68 228.064,1357.67 251.459,1382.72 274.854,1403.33 298.248,1419.69 321.643,1431.95 349.761,1441.52 \n",
       "  377.88,1445.72 401.653,1445.3 425.427,1441.43 451.252,1433.53 477.077,1422.01 500.885,1408.37 524.693,1392.03 575.744,1348.7 634.89,1286.3 687.452,1221.99 \n",
       "  733.545,1160.33 783.798,1089.1 834.35,1014.89 890.241,931.937 943.421,854.178 998.715,776.727 1045.26,715.851 1073.67,681.248 1102.09,648.954 1128.8,620.977 \n",
       "  1155.51,595.565 1198.3,560.837 1241.09,534.39 1247.68,531.122 1254.26,528.079 \n",
       "  \"/>\n",
       "<polyline clip-path=\"url(#clip032)\" style=\"stroke:#e26f46; stroke-linecap:butt; stroke-linejoin:round; stroke-width:4; stroke-opacity:1; fill:none\" points=\"\n",
       "  1254.26,528.079 1264.38,523.843 1357.96,507.458 1386.08,509.428 1414.2,513.987 1437.97,519.611 1461.74,526.641 1513.39,545.784 1561.01,566.66 1612.06,590.572 \n",
       "  1671.21,617.66 1723.77,638.767 1769.86,653.167 1820.11,662.675 1870.67,663.833 1898.61,660.141 1926.56,652.946 1953.15,642.545 1979.74,628.388 2007.38,609.38 \n",
       "  2035.03,585.685 2058.3,561.869 2081.58,534.313 2109.99,495.324 2138.4,450.129 2151.76,426.644 2165.11,401.675 2178.47,375.187 2191.82,347.142 2213.22,298.88 \n",
       "  2234.62,246.384 2256.01,189.505 2277.41,128.096 2280.7,118.234 2283.99,108.26 2287.28,98.1743 2290.58,87.9763 \n",
       "  \"/>\n",
       "<path clip-path=\"url(#clip030)\" d=\"\n",
       "M1982.98 250.738 L2279.52 250.738 L2279.52 95.2176 L1982.98 95.2176  Z\n",
       "  \" fill=\"#ffffff\" fill-rule=\"evenodd\" fill-opacity=\"1\"/>\n",
       "<polyline clip-path=\"url(#clip030)\" style=\"stroke:#000000; stroke-linecap:butt; stroke-linejoin:round; stroke-width:4; stroke-opacity:1; fill:none\" points=\"\n",
       "  1982.98,250.738 2279.52,250.738 2279.52,95.2176 1982.98,95.2176 1982.98,250.738 \n",
       "  \"/>\n",
       "<polyline clip-path=\"url(#clip030)\" style=\"stroke:#009af9; stroke-linecap:butt; stroke-linejoin:round; stroke-width:4; stroke-opacity:1; fill:none\" points=\"\n",
       "  2007.39,147.058 2153.86,147.058 \n",
       "  \"/>\n",
       "<path clip-path=\"url(#clip030)\" d=\"M2192.11 166.745 Q2190.31 171.375 2188.59 172.787 Q2186.88 174.199 2184.01 174.199 L2180.61 174.199 L2180.61 170.634 L2183.11 170.634 Q2184.87 170.634 2185.84 169.8 Q2186.81 168.967 2187.99 165.865 L2188.76 163.921 L2178.27 138.412 L2182.78 138.412 L2190.89 158.689 L2198.99 138.412 L2203.5 138.412 L2192.11 166.745 Z\" fill=\"#000000\" fill-rule=\"evenodd\" fill-opacity=\"1\" /><path clip-path=\"url(#clip030)\" d=\"M2210.79 160.402 L2218.43 160.402 L2218.43 134.037 L2210.12 135.703 L2210.12 131.444 L2218.39 129.778 L2223.06 129.778 L2223.06 160.402 L2230.7 160.402 L2230.7 164.338 L2210.79 164.338 L2210.79 160.402 Z\" fill=\"#000000\" fill-rule=\"evenodd\" fill-opacity=\"1\" /><polyline clip-path=\"url(#clip030)\" style=\"stroke:#e26f46; stroke-linecap:butt; stroke-linejoin:round; stroke-width:4; stroke-opacity:1; fill:none\" points=\"\n",
       "  2007.39,198.898 2153.86,198.898 \n",
       "  \"/>\n",
       "<path clip-path=\"url(#clip030)\" d=\"M2192.11 218.585 Q2190.31 223.215 2188.59 224.627 Q2186.88 226.039 2184.01 226.039 L2180.61 226.039 L2180.61 222.474 L2183.11 222.474 Q2184.87 222.474 2185.84 221.64 Q2186.81 220.807 2187.99 217.705 L2188.76 215.761 L2178.27 190.252 L2182.78 190.252 L2190.89 210.529 L2198.99 190.252 L2203.5 190.252 L2192.11 218.585 Z\" fill=\"#000000\" fill-rule=\"evenodd\" fill-opacity=\"1\" /><path clip-path=\"url(#clip030)\" d=\"M2214.01 212.242 L2230.33 212.242 L2230.33 216.178 L2208.39 216.178 L2208.39 212.242 Q2211.05 209.488 2215.63 204.858 Q2220.24 200.205 2221.42 198.863 Q2223.66 196.34 2224.54 194.604 Q2225.45 192.844 2225.45 191.155 Q2225.45 188.4 2223.5 186.664 Q2221.58 184.928 2218.48 184.928 Q2216.28 184.928 2213.83 185.692 Q2211.4 186.455 2208.62 188.006 L2208.62 183.284 Q2211.44 182.15 2213.9 181.571 Q2216.35 180.993 2218.39 180.993 Q2223.76 180.993 2226.95 183.678 Q2230.15 186.363 2230.15 190.854 Q2230.15 192.983 2229.34 194.905 Q2228.55 196.803 2226.44 199.395 Q2225.86 200.067 2222.76 203.284 Q2219.66 206.479 2214.01 212.242 Z\" fill=\"#000000\" fill-rule=\"evenodd\" fill-opacity=\"1\" /></svg>\n"
      ]
     },
     "execution_count": 15,
     "metadata": {},
     "output_type": "execute_result"
    }
   ],
   "source": [
    "P(x) = c[1] + c[2] * x + c[3] * x^2 + c[4] * x^3\n",
    "Q(x) = c[5] + c[6] * x + c[7] * x^2 + c[8] * x^3\n",
    "plot(P, 1, 3)\n",
    "plot!(Q, 3, 5)"
   ]
  },
  {
   "cell_type": "code",
   "execution_count": 2,
   "id": "07c773c2-c3c4-40ed-aee0-5088faad0b84",
   "metadata": {},
   "outputs": [
    {
     "data": {
      "text/plain": [
       "2"
      ]
     },
     "execution_count": 2,
     "metadata": {},
     "output_type": "execute_result"
    }
   ],
   "source": [
    "a=2"
   ]
  },
  {
   "cell_type": "code",
   "execution_count": null,
   "id": "8ee8d2a9-f9a7-4e60-b3d2-d64d4f1fe7b6",
   "metadata": {},
   "outputs": [],
   "source": []
  }
 ],
 "metadata": {
  "kernelspec": {
   "display_name": "Julia 1.6.4",
   "language": "julia",
   "name": "julia-1.6"
  },
  "language_info": {
   "file_extension": ".jl",
   "mimetype": "application/julia",
   "name": "julia",
   "version": "1.6.4"
  }
 },
 "nbformat": 4,
 "nbformat_minor": 5
}

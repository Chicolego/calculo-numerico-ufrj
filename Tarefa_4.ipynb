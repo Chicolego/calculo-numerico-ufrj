{
 "cells": [
  {
   "cell_type": "markdown",
   "id": "543454f0-783f-49e4-902c-4dd671615ad4",
   "metadata": {},
   "source": [
    "# Tarefa 4 - Francisco José Santos de Oliveira - 119150156"
   ]
  },
  {
   "cell_type": "markdown",
   "id": "28c1b05d-e687-4e22-a798-b24f6989860a",
   "metadata": {
    "tags": []
   },
   "source": [
    "## Importações"
   ]
  },
  {
   "cell_type": "code",
   "execution_count": 1,
   "id": "baf519c7-b49d-43ec-b7cc-e7637c23c647",
   "metadata": {},
   "outputs": [
    {
     "name": "stderr",
     "output_type": "stream",
     "text": [
      "\n",
      "(process:1720): GLib-GIO-WARNING **: 16:51:10.110: Unexpectedly, UWP app `60132torumyax.SimpleImageViewer_1.2.17.0_x86__s0dtgdfwgsbky' (AUMId `60132torumyax.SimpleImageViewer_s0dtgdfwgsbky!ImageViewer') supports 5 extensions but has no verbs\n"
     ]
    }
   ],
   "source": [
    "using Random\n",
    "using Plots\n",
    "using Polynomials\n",
    "using LinearAlgebra"
   ]
  },
  {
   "cell_type": "markdown",
   "id": "c1fa8e42-1205-4a31-839e-11cba24768d2",
   "metadata": {
    "jp-MarkdownHeadingCollapsed": true,
    "tags": []
   },
   "source": [
    "## Questão 1.1"
   ]
  },
  {
   "cell_type": "markdown",
   "id": "694a7364-2fb7-4cd6-a601-95acb2964867",
   "metadata": {
    "jp-MarkdownHeadingCollapsed": true,
    "tags": []
   },
   "source": [
    "### Item 1.1.2"
   ]
  },
  {
   "cell_type": "markdown",
   "id": "e55dfc77-39f3-4118-af4c-fc6a1867b7fc",
   "metadata": {},
   "source": [
    "Implementamos o Método de Newton com quantidade de passos:"
   ]
  },
  {
   "cell_type": "code",
   "execution_count": 2,
   "id": "7e0f547c-9207-4e7e-9586-ea14bb38b8a9",
   "metadata": {},
   "outputs": [
    {
     "data": {
      "text/plain": [
       "Newton (generic function with 1 method)"
      ]
     },
     "execution_count": 2,
     "metadata": {},
     "output_type": "execute_result"
    }
   ],
   "source": [
    "function Newton(f, fd, x, limite_passos)\n",
    "    #entradas: função, primeira derivada, x e o limite de passos\n",
    "    \n",
    "    #criamos um limite de passos para que o algoritmo não fique rodando infinitamente\n",
    "    passos = 0\n",
    "    tolerância = 1e-14\n",
    "    \n",
    "    #loop para aproximação do x\n",
    "    while(abs(f(x))>tolerância) && passos < limite_passos\n",
    "        \n",
    "        #\n",
    "        x = x - f(x) / fd(x)\n",
    "        passos += 1\n",
    "    end\n",
    "    \n",
    "    #tratamento de erro para caso o limite de passos tenha sido excedido\n",
    "    if(passos > limite_passos)\n",
    "        error(\"número de passos excedido sem convergência bem sucedida.\")\n",
    "    end\n",
    "    \n",
    "    #retorno do valor aproximado de x\n",
    "    x\n",
    "end"
   ]
  },
  {
   "cell_type": "markdown",
   "id": "476294f9-b26d-4c46-b2fe-16783a63b78b",
   "metadata": {},
   "source": [
    "Agora, implementamos os parâmetros para poder chamar a função Newton. Como sabemos que x = 1 já chega relativamente perto de 3, tentarei partir desse ponto para me aproximar da resposta final. "
   ]
  },
  {
   "cell_type": "code",
   "execution_count": 3,
   "id": "c2a4bfa2-d843-4e20-b5f7-c126646ed56d",
   "metadata": {},
   "outputs": [
    {
     "data": {
      "text/plain": [
       "1.0986122886681096"
      ]
     },
     "execution_count": 3,
     "metadata": {},
     "output_type": "execute_result"
    }
   ],
   "source": [
    "f(x) = (ℯ^x) - 3\n",
    "fd(x) = ℯ^x\n",
    "x = 1.0\n",
    "Newton(f,fd,x,20)"
   ]
  },
  {
   "cell_type": "markdown",
   "id": "d9940a88-7440-47e8-93c3-b30431a1bece",
   "metadata": {
    "jp-MarkdownHeadingCollapsed": true,
    "tags": []
   },
   "source": [
    "### Item 1.1.4"
   ]
  },
  {
   "cell_type": "markdown",
   "id": "a00ecdc5-a673-4f06-95c8-7004174d7a69",
   "metadata": {},
   "source": [
    "Implementamos o algoritmo de interpolação polinomial e o de conversão para valores:"
   ]
  },
  {
   "cell_type": "code",
   "execution_count": 4,
   "id": "40801b84-90da-4d05-9ecd-29a2f36068f8",
   "metadata": {},
   "outputs": [
    {
     "data": {
      "text/plain": [
       "interpolação (generic function with 1 method)"
      ]
     },
     "execution_count": 4,
     "metadata": {},
     "output_type": "execute_result"
    }
   ],
   "source": [
    "function interpolação(x, y)\n",
    "   \n",
    "    #criar a matriz de Vondermonde\n",
    "    V=[x.^0 x.^1 x.^2]\n",
    "    #resolver o sistema linear Vc=y\n",
    "    c=V\\y\n",
    "    \n",
    "    return c #vetor de coeficientes\n",
    "end"
   ]
  },
  {
   "cell_type": "code",
   "execution_count": 5,
   "id": "68d5cda8-41be-411f-b1dd-0116ab7ad55d",
   "metadata": {},
   "outputs": [
    {
     "data": {
      "text/plain": [
       "avaliar_um_polinomio (generic function with 1 method)"
      ]
     },
     "execution_count": 5,
     "metadata": {},
     "output_type": "execute_result"
    }
   ],
   "source": [
    "function avaliar_um_polinomio(c,x)\n",
    "    V=[x.^0 x.^1 x.^2]\n",
    "    y=V*c\n",
    "    return y\n",
    "end"
   ]
  },
  {
   "cell_type": "code",
   "execution_count": 6,
   "id": "de6568ae-9f04-4521-a6bf-0e479ddd46e3",
   "metadata": {},
   "outputs": [
    {
     "data": {
      "text/plain": [
       "2-element Vector{Int64}:\n",
       " 0\n",
       " 1"
      ]
     },
     "execution_count": 6,
     "metadata": {},
     "output_type": "execute_result"
    }
   ],
   "source": [
    "x = [1; 2.718281828459045;]\n",
    "y = [0; 1;]"
   ]
  },
  {
   "cell_type": "code",
   "execution_count": 7,
   "id": "5ce6d3a4-7bfc-480f-83e3-251ded8ba337",
   "metadata": {},
   "outputs": [
    {
     "data": {
      "text/plain": [
       "3-element Vector{Float64}:\n",
       " -0.12360883132207473\n",
       " -0.04501528658519045\n",
       "  0.16862411790726461"
      ]
     },
     "execution_count": 7,
     "metadata": {},
     "output_type": "execute_result"
    }
   ],
   "source": [
    "j=interpolação(x,y)"
   ]
  },
  {
   "cell_type": "code",
   "execution_count": 8,
   "id": "93dd83ab-be31-4e9b-9160-29c06ec61962",
   "metadata": {},
   "outputs": [
    {
     "data": {
      "text/plain": [
       "3-element Vector{Float64}:\n",
       " -5.551115123125783e-16\n",
       "  1.0000000000000004\n",
       "  1.2589623700877355"
      ]
     },
     "execution_count": 8,
     "metadata": {},
     "output_type": "execute_result"
    }
   ],
   "source": [
    "x=[1; 2.718281828459045; 3]\n",
    "y = avaliar_um_polinomio(j,x)"
   ]
  },
  {
   "cell_type": "markdown",
   "id": "a47ec16a-0895-4467-822e-2507e5750cec",
   "metadata": {},
   "source": [
    "Agora, precisamos estimar o erro máximo. Começamos calculando a segunda derivada (porque n+1 = 2) da função interpolada.\n",
    "\n",
    "$$(ln(x))'' = |-\\frac{1}{x^2}|$$\n",
    "\n",
    "Agora, temos a seguinte fórmula para o teto do erro:\n",
    "\n",
    "$$\\frac{f^{(n+1)}(\\epsilon)*|x-x0|*|x-x1|}{(n+1)!}$$\n",
    "\n",
    "Onde x é o 3 do ln 3, x0 e x1 os pontos utilizados (1 e 2.718281828459045) e n o grau, agora fazemos as substituições. Iremos substituir o x pelo ponto onde o valor será maior, já que queremos o teto. Nesse caso, o x será 1.\n",
    "\n",
    "$$\\frac{|-\\frac{1}{1^2}|*|3-1|*|3-e|}{(2)!}$$\n",
    "\n",
    "$$\\frac{1*|2|*|0.2817181715409549|}{2}$$\n",
    "\n",
    "$$Erro Max = 0.2817181715409549$$"
   ]
  },
  {
   "cell_type": "markdown",
   "id": "1a1b89fc-c5a4-4219-88e0-3b17fe08a985",
   "metadata": {
    "jp-MarkdownHeadingCollapsed": true,
    "tags": []
   },
   "source": [
    "### Item 1.1.5"
   ]
  },
  {
   "cell_type": "code",
   "execution_count": 9,
   "id": "9ac84135-6ada-4008-b8c1-ee5adf36e3da",
   "metadata": {},
   "outputs": [
    {
     "data": {
      "text/plain": [
       "4-element Vector{Float64}:\n",
       " 4.163336342344337e-17\n",
       " 1.0\n",
       " 2.0000000000000004\n",
       " 1.1315109615486734"
      ]
     },
     "execution_count": 9,
     "metadata": {},
     "output_type": "execute_result"
    }
   ],
   "source": [
    "x = [1; 2.718281828459045; 7.38905609893065]\n",
    "y = [0; 1; 2]\n",
    "c=interpolação(x,y)\n",
    "x = [1; 2.718281828459045; 7.38905609893065; 3]\n",
    "y = avaliar_um_polinomio(c,x)"
   ]
  },
  {
   "cell_type": "markdown",
   "id": "5d55f41a-d36e-4cfe-a8a4-018b7cc2483a",
   "metadata": {},
   "source": [
    "Agora, precisamos estimar o erro máximo. Começamos calculando a terceira derivada (porque n+1 = 3) da função interpolada.\n",
    "\n",
    "$$(ln(x))''' = |\\frac{2}{x^3}|$$\n",
    "\n",
    "Agora, temos a seguinte fórmula para o teto do erro:\n",
    "\n",
    "$$\\frac{f^{(n+1)}(\\epsilon)*|x-x0|*|x-x1|*|x-x2|}{(n+1)!}$$\n",
    "\n",
    "Onde x é o 3 do ln 3, x0, x1 e x2 os pontos utilizados (1, 2.718281828459045 e 7.38905609893065) e n o grau, agora fazemos as substituições. Iremos substituir o x pelo ponto onde o valor será maior, já que queremos o teto. Nesse caso, o x será 1.\n",
    "\n",
    "$$\\frac{|\\frac{2}{1^3}|*|3-1|*|3-e|*|3-e^2|}{(3)!}$$\n",
    "\n",
    "$$\\frac{2*2*0.2817181715409549*4.38905609893065}{6}$$\n",
    "\n",
    "$$Erro Max = 0.8243179058677773$$"
   ]
  },
  {
   "cell_type": "markdown",
   "id": "a79b9033-dc46-4679-946c-78cb003a967a",
   "metadata": {
    "tags": []
   },
   "source": [
    "## Questão 1.2"
   ]
  },
  {
   "cell_type": "markdown",
   "id": "b67bd6ed-cca0-47ef-9007-3a97f951ec60",
   "metadata": {
    "tags": []
   },
   "source": [
    "### Item 1.2.1 "
   ]
  },
  {
   "cell_type": "markdown",
   "id": "d4cc1a0e-1fbf-4b86-8a0a-623fa861bb57",
   "metadata": {},
   "source": [
    "Vamos gerar 30 pontos aleatórios com ruído, de uma função de quinto grau."
   ]
  },
  {
   "cell_type": "code",
   "execution_count": 10,
   "id": "fe6a2973-addd-4587-92ec-4d8aec0cb1f0",
   "metadata": {},
   "outputs": [
    {
     "data": {
      "image/svg+xml": [
       "<?xml version=\"1.0\" encoding=\"utf-8\"?>\n",
       "<svg xmlns=\"http://www.w3.org/2000/svg\" xmlns:xlink=\"http://www.w3.org/1999/xlink\" width=\"600\" height=\"400\" viewBox=\"0 0 2400 1600\">\n",
       "<defs>\n",
       "  <clipPath id=\"clip760\">\n",
       "    <rect x=\"0\" y=\"0\" width=\"2400\" height=\"1600\"/>\n",
       "  </clipPath>\n",
       "</defs>\n",
       "<path clip-path=\"url(#clip760)\" d=\"\n",
       "M0 1600 L2400 1600 L2400 0 L0 0  Z\n",
       "  \" fill=\"#ffffff\" fill-rule=\"evenodd\" fill-opacity=\"1\"/>\n",
       "<defs>\n",
       "  <clipPath id=\"clip761\">\n",
       "    <rect x=\"480\" y=\"0\" width=\"1681\" height=\"1600\"/>\n",
       "  </clipPath>\n",
       "</defs>\n",
       "<path clip-path=\"url(#clip760)\" d=\"\n",
       "M148.057 1486.45 L2352.76 1486.45 L2352.76 47.2441 L148.057 47.2441  Z\n",
       "  \" fill=\"#ffffff\" fill-rule=\"evenodd\" fill-opacity=\"1\"/>\n",
       "<defs>\n",
       "  <clipPath id=\"clip762\">\n",
       "    <rect x=\"148\" y=\"47\" width=\"2206\" height=\"1440\"/>\n",
       "  </clipPath>\n",
       "</defs>\n",
       "<polyline clip-path=\"url(#clip762)\" style=\"stroke:#000000; stroke-linecap:butt; stroke-linejoin:round; stroke-width:2; stroke-opacity:0.1; fill:none\" points=\"\n",
       "  210.454,1486.45 210.454,47.2441 \n",
       "  \"/>\n",
       "<polyline clip-path=\"url(#clip762)\" style=\"stroke:#000000; stroke-linecap:butt; stroke-linejoin:round; stroke-width:2; stroke-opacity:0.1; fill:none\" points=\"\n",
       "  730.43,1486.45 730.43,47.2441 \n",
       "  \"/>\n",
       "<polyline clip-path=\"url(#clip762)\" style=\"stroke:#000000; stroke-linecap:butt; stroke-linejoin:round; stroke-width:2; stroke-opacity:0.1; fill:none\" points=\"\n",
       "  1250.41,1486.45 1250.41,47.2441 \n",
       "  \"/>\n",
       "<polyline clip-path=\"url(#clip762)\" style=\"stroke:#000000; stroke-linecap:butt; stroke-linejoin:round; stroke-width:2; stroke-opacity:0.1; fill:none\" points=\"\n",
       "  1770.38,1486.45 1770.38,47.2441 \n",
       "  \"/>\n",
       "<polyline clip-path=\"url(#clip762)\" style=\"stroke:#000000; stroke-linecap:butt; stroke-linejoin:round; stroke-width:2; stroke-opacity:0.1; fill:none\" points=\"\n",
       "  2290.36,1486.45 2290.36,47.2441 \n",
       "  \"/>\n",
       "<polyline clip-path=\"url(#clip760)\" style=\"stroke:#000000; stroke-linecap:butt; stroke-linejoin:round; stroke-width:4; stroke-opacity:1; fill:none\" points=\"\n",
       "  148.057,1486.45 2352.76,1486.45 \n",
       "  \"/>\n",
       "<polyline clip-path=\"url(#clip760)\" style=\"stroke:#000000; stroke-linecap:butt; stroke-linejoin:round; stroke-width:4; stroke-opacity:1; fill:none\" points=\"\n",
       "  210.454,1486.45 210.454,1467.55 \n",
       "  \"/>\n",
       "<polyline clip-path=\"url(#clip760)\" style=\"stroke:#000000; stroke-linecap:butt; stroke-linejoin:round; stroke-width:4; stroke-opacity:1; fill:none\" points=\"\n",
       "  730.43,1486.45 730.43,1467.55 \n",
       "  \"/>\n",
       "<polyline clip-path=\"url(#clip760)\" style=\"stroke:#000000; stroke-linecap:butt; stroke-linejoin:round; stroke-width:4; stroke-opacity:1; fill:none\" points=\"\n",
       "  1250.41,1486.45 1250.41,1467.55 \n",
       "  \"/>\n",
       "<polyline clip-path=\"url(#clip760)\" style=\"stroke:#000000; stroke-linecap:butt; stroke-linejoin:round; stroke-width:4; stroke-opacity:1; fill:none\" points=\"\n",
       "  1770.38,1486.45 1770.38,1467.55 \n",
       "  \"/>\n",
       "<polyline clip-path=\"url(#clip760)\" style=\"stroke:#000000; stroke-linecap:butt; stroke-linejoin:round; stroke-width:4; stroke-opacity:1; fill:none\" points=\"\n",
       "  2290.36,1486.45 2290.36,1467.55 \n",
       "  \"/>\n",
       "<path clip-path=\"url(#clip760)\" d=\"M172.757 1517.37 Q169.146 1517.37 167.317 1520.93 Q165.512 1524.47 165.512 1531.6 Q165.512 1538.71 167.317 1542.27 Q169.146 1545.82 172.757 1545.82 Q176.391 1545.82 178.197 1542.27 Q180.026 1538.71 180.026 1531.6 Q180.026 1524.47 178.197 1520.93 Q176.391 1517.37 172.757 1517.37 M172.757 1513.66 Q178.567 1513.66 181.623 1518.27 Q184.702 1522.85 184.702 1531.6 Q184.702 1540.33 181.623 1544.94 Q178.567 1549.52 172.757 1549.52 Q166.947 1549.52 163.868 1544.94 Q160.813 1540.33 160.813 1531.6 Q160.813 1522.85 163.868 1518.27 Q166.947 1513.66 172.757 1513.66 Z\" fill=\"#000000\" fill-rule=\"evenodd\" fill-opacity=\"1\" /><path clip-path=\"url(#clip760)\" d=\"M192.919 1542.97 L197.803 1542.97 L197.803 1548.85 L192.919 1548.85 L192.919 1542.97 Z\" fill=\"#000000\" fill-rule=\"evenodd\" fill-opacity=\"1\" /><path clip-path=\"url(#clip760)\" d=\"M217.988 1517.37 Q214.377 1517.37 212.549 1520.93 Q210.743 1524.47 210.743 1531.6 Q210.743 1538.71 212.549 1542.27 Q214.377 1545.82 217.988 1545.82 Q221.623 1545.82 223.428 1542.27 Q225.257 1538.71 225.257 1531.6 Q225.257 1524.47 223.428 1520.93 Q221.623 1517.37 217.988 1517.37 M217.988 1513.66 Q223.799 1513.66 226.854 1518.27 Q229.933 1522.85 229.933 1531.6 Q229.933 1540.33 226.854 1544.94 Q223.799 1549.52 217.988 1549.52 Q212.178 1549.52 209.1 1544.94 Q206.044 1540.33 206.044 1531.6 Q206.044 1522.85 209.1 1518.27 Q212.178 1513.66 217.988 1513.66 Z\" fill=\"#000000\" fill-rule=\"evenodd\" fill-opacity=\"1\" /><path clip-path=\"url(#clip760)\" d=\"M248.15 1517.37 Q244.539 1517.37 242.711 1520.93 Q240.905 1524.47 240.905 1531.6 Q240.905 1538.71 242.711 1542.27 Q244.539 1545.82 248.15 1545.82 Q251.785 1545.82 253.59 1542.27 Q255.419 1538.71 255.419 1531.6 Q255.419 1524.47 253.59 1520.93 Q251.785 1517.37 248.15 1517.37 M248.15 1513.66 Q253.96 1513.66 257.016 1518.27 Q260.095 1522.85 260.095 1531.6 Q260.095 1540.33 257.016 1544.94 Q253.96 1549.52 248.15 1549.52 Q242.34 1549.52 239.261 1544.94 Q236.206 1540.33 236.206 1531.6 Q236.206 1522.85 239.261 1518.27 Q242.34 1513.66 248.15 1513.66 Z\" fill=\"#000000\" fill-rule=\"evenodd\" fill-opacity=\"1\" /><path clip-path=\"url(#clip760)\" d=\"M693.231 1517.37 Q689.62 1517.37 687.791 1520.93 Q685.986 1524.47 685.986 1531.6 Q685.986 1538.71 687.791 1542.27 Q689.62 1545.82 693.231 1545.82 Q696.865 1545.82 698.671 1542.27 Q700.5 1538.71 700.5 1531.6 Q700.5 1524.47 698.671 1520.93 Q696.865 1517.37 693.231 1517.37 M693.231 1513.66 Q699.041 1513.66 702.097 1518.27 Q705.176 1522.85 705.176 1531.6 Q705.176 1540.33 702.097 1544.94 Q699.041 1549.52 693.231 1549.52 Q687.421 1549.52 684.342 1544.94 Q681.287 1540.33 681.287 1531.6 Q681.287 1522.85 684.342 1518.27 Q687.421 1513.66 693.231 1513.66 Z\" fill=\"#000000\" fill-rule=\"evenodd\" fill-opacity=\"1\" /><path clip-path=\"url(#clip760)\" d=\"M713.393 1542.97 L718.277 1542.97 L718.277 1548.85 L713.393 1548.85 L713.393 1542.97 Z\" fill=\"#000000\" fill-rule=\"evenodd\" fill-opacity=\"1\" /><path clip-path=\"url(#clip760)\" d=\"M732.49 1544.91 L748.81 1544.91 L748.81 1548.85 L726.865 1548.85 L726.865 1544.91 Q729.527 1542.16 734.111 1537.53 Q738.717 1532.88 739.898 1531.53 Q742.143 1529.01 743.023 1527.27 Q743.925 1525.51 743.925 1523.82 Q743.925 1521.07 741.981 1519.33 Q740.06 1517.6 736.958 1517.6 Q734.759 1517.6 732.305 1518.36 Q729.874 1519.13 727.097 1520.68 L727.097 1515.95 Q729.921 1514.82 732.374 1514.24 Q734.828 1513.66 736.865 1513.66 Q742.236 1513.66 745.43 1516.35 Q748.624 1519.03 748.624 1523.52 Q748.624 1525.65 747.814 1527.57 Q747.027 1529.47 744.921 1532.07 Q744.342 1532.74 741.24 1535.95 Q738.138 1539.15 732.49 1544.91 Z\" fill=\"#000000\" fill-rule=\"evenodd\" fill-opacity=\"1\" /><path clip-path=\"url(#clip760)\" d=\"M758.671 1514.29 L777.027 1514.29 L777.027 1518.22 L762.953 1518.22 L762.953 1526.7 Q763.971 1526.35 764.99 1526.19 Q766.009 1526 767.027 1526 Q772.814 1526 776.194 1529.17 Q779.573 1532.34 779.573 1537.76 Q779.573 1543.34 776.101 1546.44 Q772.629 1549.52 766.309 1549.52 Q764.134 1549.52 761.865 1549.15 Q759.62 1548.78 757.212 1548.04 L757.212 1543.34 Q759.296 1544.47 761.518 1545.03 Q763.74 1545.58 766.217 1545.58 Q770.221 1545.58 772.559 1543.48 Q774.897 1541.37 774.897 1537.76 Q774.897 1534.15 772.559 1532.04 Q770.221 1529.94 766.217 1529.94 Q764.342 1529.94 762.467 1530.35 Q760.615 1530.77 758.671 1531.65 L758.671 1514.29 Z\" fill=\"#000000\" fill-rule=\"evenodd\" fill-opacity=\"1\" /><path clip-path=\"url(#clip760)\" d=\"M1212.71 1517.37 Q1209.1 1517.37 1207.27 1520.93 Q1205.46 1524.47 1205.46 1531.6 Q1205.46 1538.71 1207.27 1542.27 Q1209.1 1545.82 1212.71 1545.82 Q1216.34 1545.82 1218.15 1542.27 Q1219.98 1538.71 1219.98 1531.6 Q1219.98 1524.47 1218.15 1520.93 Q1216.34 1517.37 1212.71 1517.37 M1212.71 1513.66 Q1218.52 1513.66 1221.58 1518.27 Q1224.65 1522.85 1224.65 1531.6 Q1224.65 1540.33 1221.58 1544.94 Q1218.52 1549.52 1212.71 1549.52 Q1206.9 1549.52 1203.82 1544.94 Q1200.77 1540.33 1200.77 1531.6 Q1200.77 1522.85 1203.82 1518.27 Q1206.9 1513.66 1212.71 1513.66 Z\" fill=\"#000000\" fill-rule=\"evenodd\" fill-opacity=\"1\" /><path clip-path=\"url(#clip760)\" d=\"M1232.87 1542.97 L1237.76 1542.97 L1237.76 1548.85 L1232.87 1548.85 L1232.87 1542.97 Z\" fill=\"#000000\" fill-rule=\"evenodd\" fill-opacity=\"1\" /><path clip-path=\"url(#clip760)\" d=\"M1247.99 1514.29 L1266.34 1514.29 L1266.34 1518.22 L1252.27 1518.22 L1252.27 1526.7 Q1253.29 1526.35 1254.31 1526.19 Q1255.33 1526 1256.34 1526 Q1262.13 1526 1265.51 1529.17 Q1268.89 1532.34 1268.89 1537.76 Q1268.89 1543.34 1265.42 1546.44 Q1261.95 1549.52 1255.63 1549.52 Q1253.45 1549.52 1251.18 1549.15 Q1248.94 1548.78 1246.53 1548.04 L1246.53 1543.34 Q1248.61 1544.47 1250.83 1545.03 Q1253.06 1545.58 1255.53 1545.58 Q1259.54 1545.58 1261.88 1543.48 Q1264.21 1541.37 1264.21 1537.76 Q1264.21 1534.15 1261.88 1532.04 Q1259.54 1529.94 1255.53 1529.94 Q1253.66 1529.94 1251.78 1530.35 Q1249.93 1530.77 1247.99 1531.65 L1247.99 1514.29 Z\" fill=\"#000000\" fill-rule=\"evenodd\" fill-opacity=\"1\" /><path clip-path=\"url(#clip760)\" d=\"M1288.1 1517.37 Q1284.49 1517.37 1282.66 1520.93 Q1280.86 1524.47 1280.86 1531.6 Q1280.86 1538.71 1282.66 1542.27 Q1284.49 1545.82 1288.1 1545.82 Q1291.74 1545.82 1293.54 1542.27 Q1295.37 1538.71 1295.37 1531.6 Q1295.37 1524.47 1293.54 1520.93 Q1291.74 1517.37 1288.1 1517.37 M1288.1 1513.66 Q1293.91 1513.66 1296.97 1518.27 Q1300.05 1522.85 1300.05 1531.6 Q1300.05 1540.33 1296.97 1544.94 Q1293.91 1549.52 1288.1 1549.52 Q1282.29 1549.52 1279.21 1544.94 Q1276.16 1540.33 1276.16 1531.6 Q1276.16 1522.85 1279.21 1518.27 Q1282.29 1513.66 1288.1 1513.66 Z\" fill=\"#000000\" fill-rule=\"evenodd\" fill-opacity=\"1\" /><path clip-path=\"url(#clip760)\" d=\"M1733.18 1517.37 Q1729.57 1517.37 1727.74 1520.93 Q1725.94 1524.47 1725.94 1531.6 Q1725.94 1538.71 1727.74 1542.27 Q1729.57 1545.82 1733.18 1545.82 Q1736.82 1545.82 1738.62 1542.27 Q1740.45 1538.71 1740.45 1531.6 Q1740.45 1524.47 1738.62 1520.93 Q1736.82 1517.37 1733.18 1517.37 M1733.18 1513.66 Q1738.99 1513.66 1742.05 1518.27 Q1745.13 1522.85 1745.13 1531.6 Q1745.13 1540.33 1742.05 1544.94 Q1738.99 1549.52 1733.18 1549.52 Q1727.37 1549.52 1724.29 1544.94 Q1721.24 1540.33 1721.24 1531.6 Q1721.24 1522.85 1724.29 1518.27 Q1727.37 1513.66 1733.18 1513.66 Z\" fill=\"#000000\" fill-rule=\"evenodd\" fill-opacity=\"1\" /><path clip-path=\"url(#clip760)\" d=\"M1753.35 1542.97 L1758.23 1542.97 L1758.23 1548.85 L1753.35 1548.85 L1753.35 1542.97 Z\" fill=\"#000000\" fill-rule=\"evenodd\" fill-opacity=\"1\" /><path clip-path=\"url(#clip760)\" d=\"M1767.23 1514.29 L1789.46 1514.29 L1789.46 1516.28 L1776.91 1548.85 L1772.03 1548.85 L1783.83 1518.22 L1767.23 1518.22 L1767.23 1514.29 Z\" fill=\"#000000\" fill-rule=\"evenodd\" fill-opacity=\"1\" /><path clip-path=\"url(#clip760)\" d=\"M1798.62 1514.29 L1816.98 1514.29 L1816.98 1518.22 L1802.91 1518.22 L1802.91 1526.7 Q1803.92 1526.35 1804.94 1526.19 Q1805.96 1526 1806.98 1526 Q1812.77 1526 1816.15 1529.17 Q1819.53 1532.34 1819.53 1537.76 Q1819.53 1543.34 1816.05 1546.44 Q1812.58 1549.52 1806.26 1549.52 Q1804.09 1549.52 1801.82 1549.15 Q1799.57 1548.78 1797.16 1548.04 L1797.16 1543.34 Q1799.25 1544.47 1801.47 1545.03 Q1803.69 1545.58 1806.17 1545.58 Q1810.17 1545.58 1812.51 1543.48 Q1814.85 1541.37 1814.85 1537.76 Q1814.85 1534.15 1812.51 1532.04 Q1810.17 1529.94 1806.17 1529.94 Q1804.29 1529.94 1802.42 1530.35 Q1800.57 1530.77 1798.62 1531.65 L1798.62 1514.29 Z\" fill=\"#000000\" fill-rule=\"evenodd\" fill-opacity=\"1\" /><path clip-path=\"url(#clip760)\" d=\"M2242.43 1544.91 L2250.07 1544.91 L2250.07 1518.55 L2241.76 1520.21 L2241.76 1515.95 L2250.02 1514.29 L2254.7 1514.29 L2254.7 1544.91 L2262.34 1544.91 L2262.34 1548.85 L2242.43 1548.85 L2242.43 1544.91 Z\" fill=\"#000000\" fill-rule=\"evenodd\" fill-opacity=\"1\" /><path clip-path=\"url(#clip760)\" d=\"M2271.78 1542.97 L2276.67 1542.97 L2276.67 1548.85 L2271.78 1548.85 L2271.78 1542.97 Z\" fill=\"#000000\" fill-rule=\"evenodd\" fill-opacity=\"1\" /><path clip-path=\"url(#clip760)\" d=\"M2296.85 1517.37 Q2293.24 1517.37 2291.41 1520.93 Q2289.61 1524.47 2289.61 1531.6 Q2289.61 1538.71 2291.41 1542.27 Q2293.24 1545.82 2296.85 1545.82 Q2300.49 1545.82 2302.29 1542.27 Q2304.12 1538.71 2304.12 1531.6 Q2304.12 1524.47 2302.29 1520.93 Q2300.49 1517.37 2296.85 1517.37 M2296.85 1513.66 Q2302.66 1513.66 2305.72 1518.27 Q2308.8 1522.85 2308.8 1531.6 Q2308.8 1540.33 2305.72 1544.94 Q2302.66 1549.52 2296.85 1549.52 Q2291.04 1549.52 2287.96 1544.94 Q2284.91 1540.33 2284.91 1531.6 Q2284.91 1522.85 2287.96 1518.27 Q2291.04 1513.66 2296.85 1513.66 Z\" fill=\"#000000\" fill-rule=\"evenodd\" fill-opacity=\"1\" /><path clip-path=\"url(#clip760)\" d=\"M2327.01 1517.37 Q2323.4 1517.37 2321.57 1520.93 Q2319.77 1524.47 2319.77 1531.6 Q2319.77 1538.71 2321.57 1542.27 Q2323.4 1545.82 2327.01 1545.82 Q2330.65 1545.82 2332.45 1542.27 Q2334.28 1538.71 2334.28 1531.6 Q2334.28 1524.47 2332.45 1520.93 Q2330.65 1517.37 2327.01 1517.37 M2327.01 1513.66 Q2332.82 1513.66 2335.88 1518.27 Q2338.96 1522.85 2338.96 1531.6 Q2338.96 1540.33 2335.88 1544.94 Q2332.82 1549.52 2327.01 1549.52 Q2321.2 1549.52 2318.12 1544.94 Q2315.07 1540.33 2315.07 1531.6 Q2315.07 1522.85 2318.12 1518.27 Q2321.2 1513.66 2327.01 1513.66 Z\" fill=\"#000000\" fill-rule=\"evenodd\" fill-opacity=\"1\" /><polyline clip-path=\"url(#clip762)\" style=\"stroke:#000000; stroke-linecap:butt; stroke-linejoin:round; stroke-width:2; stroke-opacity:0.1; fill:none\" points=\"\n",
       "  148.057,1481.86 2352.76,1481.86 \n",
       "  \"/>\n",
       "<polyline clip-path=\"url(#clip762)\" style=\"stroke:#000000; stroke-linecap:butt; stroke-linejoin:round; stroke-width:2; stroke-opacity:0.1; fill:none\" points=\"\n",
       "  148.057,1221.65 2352.76,1221.65 \n",
       "  \"/>\n",
       "<polyline clip-path=\"url(#clip762)\" style=\"stroke:#000000; stroke-linecap:butt; stroke-linejoin:round; stroke-width:2; stroke-opacity:0.1; fill:none\" points=\"\n",
       "  148.057,961.449 2352.76,961.449 \n",
       "  \"/>\n",
       "<polyline clip-path=\"url(#clip762)\" style=\"stroke:#000000; stroke-linecap:butt; stroke-linejoin:round; stroke-width:2; stroke-opacity:0.1; fill:none\" points=\"\n",
       "  148.057,701.243 2352.76,701.243 \n",
       "  \"/>\n",
       "<polyline clip-path=\"url(#clip762)\" style=\"stroke:#000000; stroke-linecap:butt; stroke-linejoin:round; stroke-width:2; stroke-opacity:0.1; fill:none\" points=\"\n",
       "  148.057,441.038 2352.76,441.038 \n",
       "  \"/>\n",
       "<polyline clip-path=\"url(#clip762)\" style=\"stroke:#000000; stroke-linecap:butt; stroke-linejoin:round; stroke-width:2; stroke-opacity:0.1; fill:none\" points=\"\n",
       "  148.057,180.832 2352.76,180.832 \n",
       "  \"/>\n",
       "<polyline clip-path=\"url(#clip760)\" style=\"stroke:#000000; stroke-linecap:butt; stroke-linejoin:round; stroke-width:4; stroke-opacity:1; fill:none\" points=\"\n",
       "  148.057,1486.45 148.057,47.2441 \n",
       "  \"/>\n",
       "<polyline clip-path=\"url(#clip760)\" style=\"stroke:#000000; stroke-linecap:butt; stroke-linejoin:round; stroke-width:4; stroke-opacity:1; fill:none\" points=\"\n",
       "  148.057,1481.86 166.954,1481.86 \n",
       "  \"/>\n",
       "<polyline clip-path=\"url(#clip760)\" style=\"stroke:#000000; stroke-linecap:butt; stroke-linejoin:round; stroke-width:4; stroke-opacity:1; fill:none\" points=\"\n",
       "  148.057,1221.65 166.954,1221.65 \n",
       "  \"/>\n",
       "<polyline clip-path=\"url(#clip760)\" style=\"stroke:#000000; stroke-linecap:butt; stroke-linejoin:round; stroke-width:4; stroke-opacity:1; fill:none\" points=\"\n",
       "  148.057,961.449 166.954,961.449 \n",
       "  \"/>\n",
       "<polyline clip-path=\"url(#clip760)\" style=\"stroke:#000000; stroke-linecap:butt; stroke-linejoin:round; stroke-width:4; stroke-opacity:1; fill:none\" points=\"\n",
       "  148.057,701.243 166.954,701.243 \n",
       "  \"/>\n",
       "<polyline clip-path=\"url(#clip760)\" style=\"stroke:#000000; stroke-linecap:butt; stroke-linejoin:round; stroke-width:4; stroke-opacity:1; fill:none\" points=\"\n",
       "  148.057,441.038 166.954,441.038 \n",
       "  \"/>\n",
       "<polyline clip-path=\"url(#clip760)\" style=\"stroke:#000000; stroke-linecap:butt; stroke-linejoin:round; stroke-width:4; stroke-opacity:1; fill:none\" points=\"\n",
       "  148.057,180.832 166.954,180.832 \n",
       "  \"/>\n",
       "<path clip-path=\"url(#clip760)\" d=\"M50.9921 1482.31 L80.6679 1482.31 L80.6679 1486.25 L50.9921 1486.25 L50.9921 1482.31 Z\" fill=\"#000000\" fill-rule=\"evenodd\" fill-opacity=\"1\" /><path clip-path=\"url(#clip760)\" d=\"M104.927 1480.51 Q108.283 1481.22 110.158 1483.49 Q112.057 1485.76 112.057 1489.09 Q112.057 1494.21 108.538 1497.01 Q105.02 1499.81 98.5382 1499.81 Q96.3623 1499.81 94.0475 1499.37 Q91.7558 1498.96 89.3021 1498.1 L89.3021 1493.58 Q91.2465 1494.72 93.5613 1495.3 Q95.8761 1495.88 98.3993 1495.88 Q102.797 1495.88 105.089 1494.14 Q107.404 1492.4 107.404 1489.09 Q107.404 1486.04 105.251 1484.33 Q103.121 1482.59 99.3021 1482.59 L95.2743 1482.59 L95.2743 1478.75 L99.4872 1478.75 Q102.936 1478.75 104.765 1477.38 Q106.594 1475.99 106.594 1473.4 Q106.594 1470.74 104.696 1469.33 Q102.821 1467.89 99.3021 1467.89 Q97.3808 1467.89 95.1817 1468.31 Q92.9826 1468.72 90.3438 1469.6 L90.3438 1465.44 Q93.0058 1464.7 95.3206 1464.33 Q97.6585 1463.96 99.7187 1463.96 Q105.043 1463.96 108.145 1466.39 Q111.246 1468.79 111.246 1472.91 Q111.246 1475.78 109.603 1477.77 Q107.959 1479.74 104.927 1480.51 Z\" fill=\"#000000\" fill-rule=\"evenodd\" fill-opacity=\"1\" /><path clip-path=\"url(#clip760)\" d=\"M51.9412 1222.11 L81.617 1222.11 L81.617 1226.04 L51.9412 1226.04 L51.9412 1222.11 Z\" fill=\"#000000\" fill-rule=\"evenodd\" fill-opacity=\"1\" /><path clip-path=\"url(#clip760)\" d=\"M95.7373 1235 L112.057 1235 L112.057 1238.93 L90.1123 1238.93 L90.1123 1235 Q92.7743 1232.25 97.3576 1227.62 Q101.964 1222.96 103.145 1221.62 Q105.39 1219.1 106.27 1217.36 Q107.172 1215.6 107.172 1213.91 Q107.172 1211.16 105.228 1209.42 Q103.307 1207.68 100.205 1207.68 Q98.0058 1207.68 95.5521 1208.45 Q93.1215 1209.21 90.3438 1210.76 L90.3438 1206.04 Q93.1678 1204.91 95.6215 1204.33 Q98.0752 1203.75 100.112 1203.75 Q105.483 1203.75 108.677 1206.43 Q111.871 1209.12 111.871 1213.61 Q111.871 1215.74 111.061 1217.66 Q110.274 1219.56 108.168 1222.15 Q107.589 1222.82 104.487 1226.04 Q101.385 1229.24 95.7373 1235 Z\" fill=\"#000000\" fill-rule=\"evenodd\" fill-opacity=\"1\" /><path clip-path=\"url(#clip760)\" d=\"M51.5708 961.901 L81.2466 961.901 L81.2466 965.836 L51.5708 965.836 L51.5708 961.901 Z\" fill=\"#000000\" fill-rule=\"evenodd\" fill-opacity=\"1\" /><path clip-path=\"url(#clip760)\" d=\"M92.1493 974.794 L99.7882 974.794 L99.7882 948.428 L91.478 950.095 L91.478 945.836 L99.7419 944.169 L104.418 944.169 L104.418 974.794 L112.057 974.794 L112.057 978.729 L92.1493 978.729 L92.1493 974.794 Z\" fill=\"#000000\" fill-rule=\"evenodd\" fill-opacity=\"1\" /><path clip-path=\"url(#clip760)\" d=\"M100.112 687.042 Q96.5011 687.042 94.6724 690.607 Q92.8669 694.149 92.8669 701.278 Q92.8669 708.385 94.6724 711.949 Q96.5011 715.491 100.112 715.491 Q103.746 715.491 105.552 711.949 Q107.381 708.385 107.381 701.278 Q107.381 694.149 105.552 690.607 Q103.746 687.042 100.112 687.042 M100.112 683.338 Q105.922 683.338 108.978 687.945 Q112.057 692.528 112.057 701.278 Q112.057 710.005 108.978 714.611 Q105.922 719.195 100.112 719.195 Q94.3021 719.195 91.2234 714.611 Q88.1679 710.005 88.1679 701.278 Q88.1679 692.528 91.2234 687.945 Q94.3021 683.338 100.112 683.338 Z\" fill=\"#000000\" fill-rule=\"evenodd\" fill-opacity=\"1\" /><path clip-path=\"url(#clip760)\" d=\"M92.1493 454.383 L99.7882 454.383 L99.7882 428.017 L91.478 429.684 L91.478 425.424 L99.7419 423.758 L104.418 423.758 L104.418 454.383 L112.057 454.383 L112.057 458.318 L92.1493 458.318 L92.1493 454.383 Z\" fill=\"#000000\" fill-rule=\"evenodd\" fill-opacity=\"1\" /><path clip-path=\"url(#clip760)\" d=\"M95.7373 194.177 L112.057 194.177 L112.057 198.112 L90.1123 198.112 L90.1123 194.177 Q92.7743 191.422 97.3576 186.793 Q101.964 182.14 103.145 180.797 Q105.39 178.274 106.27 176.538 Q107.172 174.779 107.172 173.089 Q107.172 170.335 105.228 168.598 Q103.307 166.862 100.205 166.862 Q98.0058 166.862 95.5521 167.626 Q93.1215 168.39 90.3438 169.941 L90.3438 165.219 Q93.1678 164.085 95.6215 163.506 Q98.0752 162.927 100.112 162.927 Q105.483 162.927 108.677 165.612 Q111.871 168.298 111.871 172.788 Q111.871 174.918 111.061 176.839 Q110.274 178.737 108.168 181.33 Q107.589 182.001 104.487 185.219 Q101.385 188.413 95.7373 194.177 Z\" fill=\"#000000\" fill-rule=\"evenodd\" fill-opacity=\"1\" /><circle clip-path=\"url(#clip762)\" cx=\"210.454\" cy=\"506.865\" r=\"14\" fill=\"#009af9\" fill-rule=\"evenodd\" fill-opacity=\"1\" stroke=\"#000000\" stroke-opacity=\"1\" stroke-width=\"3.2\"/>\n",
       "<circle clip-path=\"url(#clip762)\" cx=\"282.175\" cy=\"464.14\" r=\"14\" fill=\"#009af9\" fill-rule=\"evenodd\" fill-opacity=\"1\" stroke=\"#000000\" stroke-opacity=\"1\" stroke-width=\"3.2\"/>\n",
       "<circle clip-path=\"url(#clip762)\" cx=\"353.895\" cy=\"802.368\" r=\"14\" fill=\"#009af9\" fill-rule=\"evenodd\" fill-opacity=\"1\" stroke=\"#000000\" stroke-opacity=\"1\" stroke-width=\"3.2\"/>\n",
       "<circle clip-path=\"url(#clip762)\" cx=\"425.616\" cy=\"740.127\" r=\"14\" fill=\"#009af9\" fill-rule=\"evenodd\" fill-opacity=\"1\" stroke=\"#000000\" stroke-opacity=\"1\" stroke-width=\"3.2\"/>\n",
       "<circle clip-path=\"url(#clip762)\" cx=\"497.337\" cy=\"534.008\" r=\"14\" fill=\"#009af9\" fill-rule=\"evenodd\" fill-opacity=\"1\" stroke=\"#000000\" stroke-opacity=\"1\" stroke-width=\"3.2\"/>\n",
       "<circle clip-path=\"url(#clip762)\" cx=\"569.058\" cy=\"617.432\" r=\"14\" fill=\"#009af9\" fill-rule=\"evenodd\" fill-opacity=\"1\" stroke=\"#000000\" stroke-opacity=\"1\" stroke-width=\"3.2\"/>\n",
       "<circle clip-path=\"url(#clip762)\" cx=\"640.779\" cy=\"684.86\" r=\"14\" fill=\"#009af9\" fill-rule=\"evenodd\" fill-opacity=\"1\" stroke=\"#000000\" stroke-opacity=\"1\" stroke-width=\"3.2\"/>\n",
       "<circle clip-path=\"url(#clip762)\" cx=\"712.5\" cy=\"735.893\" r=\"14\" fill=\"#009af9\" fill-rule=\"evenodd\" fill-opacity=\"1\" stroke=\"#000000\" stroke-opacity=\"1\" stroke-width=\"3.2\"/>\n",
       "<circle clip-path=\"url(#clip762)\" cx=\"784.221\" cy=\"853.471\" r=\"14\" fill=\"#009af9\" fill-rule=\"evenodd\" fill-opacity=\"1\" stroke=\"#000000\" stroke-opacity=\"1\" stroke-width=\"3.2\"/>\n",
       "<circle clip-path=\"url(#clip762)\" cx=\"855.942\" cy=\"257.657\" r=\"14\" fill=\"#009af9\" fill-rule=\"evenodd\" fill-opacity=\"1\" stroke=\"#000000\" stroke-opacity=\"1\" stroke-width=\"3.2\"/>\n",
       "<circle clip-path=\"url(#clip762)\" cx=\"927.662\" cy=\"907.827\" r=\"14\" fill=\"#009af9\" fill-rule=\"evenodd\" fill-opacity=\"1\" stroke=\"#000000\" stroke-opacity=\"1\" stroke-width=\"3.2\"/>\n",
       "<circle clip-path=\"url(#clip762)\" cx=\"999.383\" cy=\"931.735\" r=\"14\" fill=\"#009af9\" fill-rule=\"evenodd\" fill-opacity=\"1\" stroke=\"#000000\" stroke-opacity=\"1\" stroke-width=\"3.2\"/>\n",
       "<circle clip-path=\"url(#clip762)\" cx=\"1071.1\" cy=\"602.753\" r=\"14\" fill=\"#009af9\" fill-rule=\"evenodd\" fill-opacity=\"1\" stroke=\"#000000\" stroke-opacity=\"1\" stroke-width=\"3.2\"/>\n",
       "<circle clip-path=\"url(#clip762)\" cx=\"1142.82\" cy=\"487.663\" r=\"14\" fill=\"#009af9\" fill-rule=\"evenodd\" fill-opacity=\"1\" stroke=\"#000000\" stroke-opacity=\"1\" stroke-width=\"3.2\"/>\n",
       "<circle clip-path=\"url(#clip762)\" cx=\"1214.55\" cy=\"822.832\" r=\"14\" fill=\"#009af9\" fill-rule=\"evenodd\" fill-opacity=\"1\" stroke=\"#000000\" stroke-opacity=\"1\" stroke-width=\"3.2\"/>\n",
       "<circle clip-path=\"url(#clip762)\" cx=\"1286.27\" cy=\"781.306\" r=\"14\" fill=\"#009af9\" fill-rule=\"evenodd\" fill-opacity=\"1\" stroke=\"#000000\" stroke-opacity=\"1\" stroke-width=\"3.2\"/>\n",
       "<circle clip-path=\"url(#clip762)\" cx=\"1357.99\" cy=\"1191.68\" r=\"14\" fill=\"#009af9\" fill-rule=\"evenodd\" fill-opacity=\"1\" stroke=\"#000000\" stroke-opacity=\"1\" stroke-width=\"3.2\"/>\n",
       "<circle clip-path=\"url(#clip762)\" cx=\"1429.71\" cy=\"1445.72\" r=\"14\" fill=\"#009af9\" fill-rule=\"evenodd\" fill-opacity=\"1\" stroke=\"#000000\" stroke-opacity=\"1\" stroke-width=\"3.2\"/>\n",
       "<circle clip-path=\"url(#clip762)\" cx=\"1501.43\" cy=\"87.9763\" r=\"14\" fill=\"#009af9\" fill-rule=\"evenodd\" fill-opacity=\"1\" stroke=\"#000000\" stroke-opacity=\"1\" stroke-width=\"3.2\"/>\n",
       "<circle clip-path=\"url(#clip762)\" cx=\"1573.15\" cy=\"680.128\" r=\"14\" fill=\"#009af9\" fill-rule=\"evenodd\" fill-opacity=\"1\" stroke=\"#000000\" stroke-opacity=\"1\" stroke-width=\"3.2\"/>\n",
       "<circle clip-path=\"url(#clip762)\" cx=\"1644.87\" cy=\"932.409\" r=\"14\" fill=\"#009af9\" fill-rule=\"evenodd\" fill-opacity=\"1\" stroke=\"#000000\" stroke-opacity=\"1\" stroke-width=\"3.2\"/>\n",
       "<circle clip-path=\"url(#clip762)\" cx=\"1716.59\" cy=\"781.766\" r=\"14\" fill=\"#009af9\" fill-rule=\"evenodd\" fill-opacity=\"1\" stroke=\"#000000\" stroke-opacity=\"1\" stroke-width=\"3.2\"/>\n",
       "<circle clip-path=\"url(#clip762)\" cx=\"1788.31\" cy=\"921.562\" r=\"14\" fill=\"#009af9\" fill-rule=\"evenodd\" fill-opacity=\"1\" stroke=\"#000000\" stroke-opacity=\"1\" stroke-width=\"3.2\"/>\n",
       "<circle clip-path=\"url(#clip762)\" cx=\"1860.03\" cy=\"422.452\" r=\"14\" fill=\"#009af9\" fill-rule=\"evenodd\" fill-opacity=\"1\" stroke=\"#000000\" stroke-opacity=\"1\" stroke-width=\"3.2\"/>\n",
       "<circle clip-path=\"url(#clip762)\" cx=\"1931.75\" cy=\"773.081\" r=\"14\" fill=\"#009af9\" fill-rule=\"evenodd\" fill-opacity=\"1\" stroke=\"#000000\" stroke-opacity=\"1\" stroke-width=\"3.2\"/>\n",
       "<circle clip-path=\"url(#clip762)\" cx=\"2003.48\" cy=\"664.068\" r=\"14\" fill=\"#009af9\" fill-rule=\"evenodd\" fill-opacity=\"1\" stroke=\"#000000\" stroke-opacity=\"1\" stroke-width=\"3.2\"/>\n",
       "<circle clip-path=\"url(#clip762)\" cx=\"2075.2\" cy=\"706.142\" r=\"14\" fill=\"#009af9\" fill-rule=\"evenodd\" fill-opacity=\"1\" stroke=\"#000000\" stroke-opacity=\"1\" stroke-width=\"3.2\"/>\n",
       "<circle clip-path=\"url(#clip762)\" cx=\"2146.92\" cy=\"831.646\" r=\"14\" fill=\"#009af9\" fill-rule=\"evenodd\" fill-opacity=\"1\" stroke=\"#000000\" stroke-opacity=\"1\" stroke-width=\"3.2\"/>\n",
       "<circle clip-path=\"url(#clip762)\" cx=\"2218.64\" cy=\"581.528\" r=\"14\" fill=\"#009af9\" fill-rule=\"evenodd\" fill-opacity=\"1\" stroke=\"#000000\" stroke-opacity=\"1\" stroke-width=\"3.2\"/>\n",
       "<circle clip-path=\"url(#clip762)\" cx=\"2290.36\" cy=\"615.309\" r=\"14\" fill=\"#009af9\" fill-rule=\"evenodd\" fill-opacity=\"1\" stroke=\"#000000\" stroke-opacity=\"1\" stroke-width=\"3.2\"/>\n",
       "</svg>\n"
      ]
     },
     "execution_count": 10,
     "metadata": {},
     "output_type": "execute_result"
    }
   ],
   "source": [
    "Random.seed!(0)\n",
    "# Gerando dados fictícios para teste\n",
    "n = 30\n",
    "x = range(0, 1, length=n)\n",
    "e1(x) = x^5\n",
    "e2(x) = -x^3\n",
    "\n",
    "y = e1.(x) + e2.(x) + randn(n)*1.1\n",
    "\n",
    "scatter(x,y,leg=false)"
   ]
  },
  {
   "cell_type": "markdown",
   "id": "d2234430-3925-44b7-8ba2-9c41b3c69873",
   "metadata": {
    "tags": []
   },
   "source": [
    "### Item 1.2.2 Regressão polinomial com polinômios de grau 0 até o 29."
   ]
  },
  {
   "cell_type": "markdown",
   "id": "f69a999a-afa7-401f-aa5f-35170a50bf07",
   "metadata": {},
   "source": [
    "Implementamos as funções necessárias primeiramente:"
   ]
  },
  {
   "cell_type": "code",
   "execution_count": 11,
   "id": "a3b21d22-a489-4c39-9acd-d4b0c9a919bb",
   "metadata": {},
   "outputs": [
    {
     "data": {
      "text/plain": [
       "vandermonde (generic function with 1 method)"
      ]
     },
     "execution_count": 11,
     "metadata": {},
     "output_type": "execute_result"
    }
   ],
   "source": [
    "function vandermonde(x,y,grau)\n",
    "    n,=size(y)\n",
    "    V=zeros(n,grau+1)\n",
    "    for i=1:n #linhas\n",
    "        for j=1:(grau+1)\n",
    "            V[i,j]=x[i]^(j-1)\n",
    "        end\n",
    "    end\n",
    "    return V\n",
    "end"
   ]
  },
  {
   "cell_type": "code",
   "execution_count": 12,
   "id": "dda4318c-8d35-4c7c-9293-28c5a648563c",
   "metadata": {},
   "outputs": [
    {
     "data": {
      "text/plain": [
       "regressão (generic function with 1 method)"
      ]
     },
     "execution_count": 12,
     "metadata": {},
     "output_type": "execute_result"
    }
   ],
   "source": [
    "function regressão(x,y,grau)\n",
    "    V=vandermonde(x,y,grau)\n",
    "    c=V\\y #mínimos quadrados\n",
    "    return c\n",
    "end"
   ]
  },
  {
   "cell_type": "code",
   "execution_count": 13,
   "id": "c56a3d14-cd61-40db-a65f-ee19c7737bbd",
   "metadata": {},
   "outputs": [
    {
     "data": {
      "text/plain": [
       "umdoisdois (generic function with 1 method)"
      ]
     },
     "execution_count": 13,
     "metadata": {},
     "output_type": "execute_result"
    }
   ],
   "source": [
    "function umdoisdois(grau)\n",
    "    for i=0:grau\n",
    "        print(\"#######\\n\")\n",
    "        print(\"Grau: \")\n",
    "        print(i)\n",
    "        print(\"\\n#######\\n\")\n",
    "        print(regressão(x,y,i))\n",
    "        print(\"\\n\")\n",
    "    end\n",
    "end"
   ]
  },
  {
   "cell_type": "code",
   "execution_count": 14,
   "id": "583d94b7-d889-43ad-bc11-1dc6003609ee",
   "metadata": {},
   "outputs": [
    {
     "name": "stdout",
     "output_type": "stream",
     "text": [
      "#######\n",
      "Grau: 0\n",
      "#######\n",
      "[-0.042158484139560914]\n",
      "#######\n",
      "Grau: 1\n",
      "#######\n",
      "[0.14500242709916378, -0.3743218224774494]\n",
      "#######\n",
      "Grau: 2\n",
      "#######\n",
      "[0.6489097105782036, -3.505745655525764, 3.1314238330483133]\n",
      "#######\n",
      "Grau: 3\n",
      "#######\n",
      "[0.5726906631713311, -2.5054210677334594, 0.5877643541126326, 1.695772985957121]\n",
      "#######\n",
      "Grau: 4\n",
      "#######\n",
      "[0.5168695905993649, -1.1877075108860742, -5.578311520960103, 11.392497622407832, -4.84836231822536]\n",
      "#######\n",
      "Grau: 5\n",
      "#######\n",
      "[0.6924611968856923, -8.068457203696342, 45.854646095603165, -129.0436680414694, 154.3729285610277, -63.68851635170153]\n",
      "#######\n",
      "Grau: 6\n",
      "#######\n",
      "[0.9451132973878389, -23.872040437883403, 219.74426457979186, -851.2273743265371, 1530.4938711662214, -1281.7234237068935, 406.01163578506447]\n",
      "#######\n",
      "Grau: 7\n",
      "#######\n",
      "[0.8457936721056569, -14.081072865881577, 69.61299390639351, 27.111440830820733, -944.9626357698778, 2324.6182888144226, -2210.1474739617697, 747.4740313562206]\n",
      "#######\n",
      "Grau: 8\n",
      "#######\n",
      "[0.8239491964086939, -10.661441681183566, -0.5190839329770327, 575.9177103371604, -3070.47989041036, 6821.405134985536, -7501.492926530642, 3998.116748938937, -812.6606793961437]\n",
      "#######\n",
      "Grau: 9\n",
      "#######\n",
      "[0.8880512705410825, -27.007120953281298, 432.8016198563889, -3786.732935059273, 19031.067595960536, -56394.77377650038, 99126.20976025201, -101112.85940415564, 55171.77800250075, -12440.986373739026]\n",
      "#######\n",
      "Grau: 10\n",
      "#######\n",
      "[0.8765164494973862, -22.009261974276843, 266.7698581857345, -1702.912566738576, 5718.48915290296, -7309.1971808888175, -11509.121414524496, 53704.003006016545, -76046.223851616, 49234.87112665651, -12335.171499857515]\n",
      "#######\n",
      "Grau: 11\n",
      "#######\n",
      "[0.822782294546265, 19.921486688583574, -1427.4553695357752, 24091.396214549655, -196101.45187348456, 918975.5104246043, -2.6748007212426723e6, 4.99011598444616e6, -5.970387863129443e6, 4.428797453202407e6, -1.854160502170624e6, 334877.3328478213]\n",
      "#######\n",
      "Grau: 12\n",
      "#######\n",
      "[0.7441393793613033, 138.76238571464407, -7099.810607408352, 126315.95802104865, -1.1518466407713804e6, 6.2306873823772175e6, -2.1508860049395733e7, 4.916885691097411e7, -7.536064392282026e7, 7.662166199686259e7, -4.9588550733957246e7, 1.849623223512669e7, -3.026892483358892e6]\n",
      "#######\n",
      "Grau: 13\n",
      "#######\n",
      "[0.7687386099878812, 60.42993369133714, -2804.0803326714185, 36707.5649890663, -172026.880940151, -214282.41657052876, 5.938164853068582e6, -2.9663915336235687e7, 8.035709795999831e7, -1.3529459602611807e8, 1.4563104084110138e8, -9.775478652242132e7, 3.735138128309217e7, -6.212042113926726e6]\n",
      "#######\n",
      "Grau: 14\n",
      "#######\n",
      "[0.759625477300604, 127.56481708747006, -6929.433507695439, 134311.40612705474, -1.3965536239518737e6, 9.133333520295152e6, -4.085027587712863e7, 1.3073176510941935e8, -3.0539641329290175e8, 5.2154988025207084e8, -6.422148046739157e8, 5.531384730291959e8, -3.151432645483605e8, 1.0640908216793376e8, -1.6088732044454794e7]\n",
      "#######\n",
      "Grau: 15\n",
      "#######\n",
      "[0.7368352446432699, 556.58180994414, -35849.62765687029, 896479.8385604277, -1.2181971161915414e7, 1.030528182395885e8, -5.833260185548713e8, 2.3047245874392014e9, -6.514680543908542e9, 1.3335189414323204e10, -1.9790604118729664e10, 2.1070692801598434e10, -1.5675680753193071e10, 7.73304784924707e9, -2.271865476433366e9, 3.007702239424282e8]\n",
      "#######\n",
      "Grau: 16\n",
      "#######\n",
      "[0.7397252210969594, 402.45241426569817, -24642.586718221555, 572591.4072632486, -7.089980649497167e6, 5.323493833964238e7, -2.5652896801611063e8, 8.002122147572412e8, -1.5130172827691202e9, 1.1278458655004585e9, 2.2326536547389026e9, -8.224313234444254e9, 1.267402568064794e10, -1.1665446214501856e10, 6.618973782092756e9, -2.1470800948341985e9, 3.0598128746635216e8]\n",
      "#######\n",
      "Grau: 17\n",
      "#######\n",
      "[0.7502214432489127, -1343.6915556266586, 110553.8235090988, -3.656173332779709e6, 6.5798274583604075e7, -7.372484864000062e8, 5.550863326430675e9, -2.945590082432814e10, 1.1361395495730293e11, -3.247478346149091e11, 6.951525844487659e11, -1.1173197233045217e12, 1.3409855146282676e12, -1.1831469875341912e12, 7.44568604661235e11, -3.161851001704585e11, 8.11727612618915e10, -9.513739660887552e9]\n",
      "#######\n",
      "Grau: 18\n",
      "#######\n",
      "[0.7479232966709303, -93.7838477812312, 8495.299352605685, -238432.88932580667, 1.9459458694644016e6, 2.1355506228428543e7, -6.143319429151077e8, 6.419735203853111e9, -4.040574400331345e10, 1.7271022944918207e11, -5.278522153895532e11, 1.183050894066251e12, -1.9647751645919272e12, 2.4152947536264146e12, -2.1696251550151738e12, 1.3842174943426367e12, -5.940966197228977e11, 1.5379891158479495e11, -1.8145859028495575e10]\n",
      "#######\n",
      "Grau: 19\n",
      "#######\n",
      "[0.7484946482701218, -479.88198781664516, 40582.092895602815, -1.3389244743323363e6, 2.313109322061358e7, -2.3958898573862463e8, 1.5985777341157377e9, -7.111679379703816e9, 2.111829445149704e10, -3.963908976108224e10, 3.5978839104613976e10, 2.2869924154398705e10, -1.1128777612542406e11, 1.2502704640807819e11, -3.6357900295469055e9, -1.5335783261162576e11, 1.9834262308495038e11, -1.2601793698605942e11, 4.2377818747068855e10, -6.04526207691911e9]\n",
      "#######\n",
      "Grau: 20\n",
      "#######\n",
      "[0.7453345097776338, 2404.779383347105, -201709.49286833376, 7.067445035797788e6, -1.4037293628456503e8, 1.7881814378823633e9, -1.5612954425558416e10, 9.72744070349031e10, -4.4337475544911804e11, 1.498414214729386e12, -3.7626740336339897e12, 6.926370898803455e12, -8.932750125515193e12, 6.927957704712031e12, -5.651004998322329e11, -6.240316781762313e12, 8.800535373950498e12, -6.60867345024913e12, 3.0148365652502896e12, -7.906465935085891e11, 9.210535325322643e10]\n",
      "#######\n",
      "Grau: 21\n",
      "#######\n",
      "[0.7457843737334116, 1779.3672900800948, -146525.244819227, 5.027931098213091e6, -9.762374841556327e7, 1.21108695303024e9, -1.0232603984078403e10, 6.1117925977671425e10, -2.6348388680419095e11, 8.25534695771638e11, -1.86114401037944e12, 2.8988388819135376e12, -2.7351359851417876e12, 6.324771494141981e11, 2.005269195957075e12, -2.456709960265228e12, 1.0173021459838232e11, 2.4858688872701343e12, -2.918327720899774e12, 1.6795176246766743e12, -5.132946226414853e11, 6.6855868146422806e10]\n",
      "#######\n",
      "Grau: 22\n",
      "#######\n",
      "[0.7466974574840707, 1262.7577418607327, -101868.35156170359, 3.421611452726358e6, -6.506620469421022e7, 7.889976472769742e8, -6.483015183345779e9, 3.73405225835726e10, -1.532704657939242e11, 4.4837081034951953e11, -9.129696784242189e11, 1.197871278539101e12, -7.442504411790687e11, -3.83666777414576e11, 1.027951193712756e12, -2.804023645379234e11, -8.789607166957372e11, 7.598953448723062e11, 4.7603045217430896e11, -1.2221006075517307e12, 9.117268482883062e11, -3.24940001097077e11, 4.7130364908873116e10]\n",
      "#######\n",
      "Grau: 23\n",
      "#######\n",
      "[0.7467929221001998, 889.6300344620565, -70311.97024756794, 2.3186480679763495e6, -4.348419777619934e7, 5.2069701401585436e8, -4.215066462709232e9, 2.3785892815428173e10, -9.481637460784695e10, 2.6578010270707654e11, -5.0702068928883966e11, 5.933193892253574e11, -2.5860152294983603e11, -3.063110691836766e11, 4.2147724123767786e11, 9.556920215507614e10, -4.1886938976524274e11, 1.1115131122345123e10, 3.9894459950556635e11, -1.2192601984674147e11, -3.570252087319245e11, 4.0522906026909955e11, -1.7587676740551163e11, 2.8962027162317204e10]\n",
      "#######\n",
      "Grau: 24\n",
      "#######\n",
      "[0.7467636973271067, 997.3222483285864, -79396.79270984168, 2.6352042315616678e6, -4.9657634396123e7, 5.971891712057252e8, -4.859773966320693e9, 2.7631464984417267e10, -1.11398704982836e11, 3.1776492437592395e11, -6.239399246384535e11, 7.73094508320123e11, -4.2031936612104895e11, -2.8489365631826697e11, 5.522953682612089e11, -1.8425704843909878e10, -4.751269253421878e11, 1.504681024072037e11, 3.7906597242842175e11, -2.452462437191709e11, -2.379987264166584e11, 3.7394657560362305e11, -1.912517947547516e11, 4.094282701547132e10, -2.2990106347755294e9]\n",
      "#######\n",
      "Grau: 25\n",
      "#######\n",
      "[0.7468246825377294, 918.1041473756635, -72527.68920184996, 2.387189640707881e6, -4.461139013570824e7, 5.3157132704984295e8, -4.276412203598689e9, 2.394479969812603e10, -9.449000937339792e10, 2.6119028196231738e11, -4.877304495649318e11, 5.483132556426542e11, -2.0259305954694177e11, -3.181015191371781e11, 3.5702553240029144e11, 1.5331399394356036e11, -3.557801529540214e11, -9.339960942196608e10, 3.3375059596162225e11, 6.577561802465647e10, -3.233461343153476e11, 4.530026138946754e9, 3.241741367066124e11, -2.7839117820903796e11, 9.904487840745805e10, -1.3443869677210094e10]\n",
      "#######\n",
      "Grau: 26\n",
      "#######\n",
      "[0.7467968111937683, 828.1211540146479, -64738.028728341014, 2.106866354438174e6, -3.89413315893038e7, 4.585411695053273e8, -3.636418144251441e9, 1.9983489640971985e10, -7.68508359460685e10, 2.0461345509861847e11, -3.5981044892074835e11, 3.580544375679857e11, -5.7407133922269035e10, -2.7875969675954443e11, 1.774473524575536e11, 2.0810795321284406e11, -1.8292497252241e11, -1.9428152101438837e11, 1.537797952293692e11, 2.0351292156763763e11, -1.2128509158312878e11, -2.1095208556833835e11, 1.2513836087716525e11, 1.9616458777055832e11, -2.5631564597005853e11, 1.1328928690951271e11, -1.8289432775790432e10]\n",
      "#######\n",
      "Grau: 27\n",
      "#######\n",
      "[0.7469099464369728, 582.9437345599157, -43792.51871103226, 1.365992043371339e6, -2.4264902524191473e7, 2.740422672138293e8, -2.0639001141921897e9, 1.0554521922912516e10, -3.637699628295357e10, 8.031546565948714e10, -9.359274950255812e10, -9.013660599899055e9, 1.823513670701122e11, -1.62984229557998e11, -1.253448204795228e11, 2.244523280858356e11, 1.0911840261868845e11, -2.3929833225568143e11, -1.43449326064649e11, 2.2782940997290338e11, 1.9961004578821564e11, -2.022426882880703e11, -2.4790440479472964e11, 2.1173818407108484e11, 2.523711182305548e11, -3.9410587800613947e11, 1.9103526411279196e11, -3.325022173376772e10]\n",
      "#######\n",
      "Grau: 28\n",
      "#######\n",
      "[0.7468970318398901, 612.432770611749, -46446.24045665714, 1.466306113868591e6, -2.6414494091737594e7, 3.035865892591659e8, -2.341993421035125e9, 1.2415473319316568e10, -4.540309289283795e10, 1.1216820356951373e11, -1.741422040799188e11, 1.2977590124426164e11, 4.307575762009173e10, -1.402784094085327e11, -2.0719069531355934e9, 1.2874584311254504e11, 1.5800759928306236e10, -1.161838881497391e11, -5.358019682516176e10, 8.867666284773523e10, 9.148846527322656e10, -4.3330333055422905e10, -1.1099525001760999e11, -3.005713088658764e9, 1.1517317881812534e11, 2.21622610570756e10, -1.3788893433527234e11, 8.705370161433745e10, -1.7592878745100327e10]\n",
      "#######\n",
      "Grau: 29\n",
      "#######\n",
      "[0.7470181686393556, 1.0078489403452128e6, -9.473826863587992e7, 3.797287742551507e9, -8.78506293091426e10, 1.332001884567142e12, -1.4188331223556324e13, 1.1073632070448334e14, -6.495214607698039e14, 2.89824172346298e15, -9.814150262942564e15, 2.454270858746288e16, -4.1201152159346104e16, 2.737846497261853e16, 7.869494684912112e16, -3.1208355401497786e17, 5.729161059072405e17, -6.071096118799021e17, 2.3194347906731293e17, 3.548921175721764e17, -6.557357280170053e17, 4.3082713634834477e17, -2.814900434439588e16, -6.505025587398851e16, -1.6227852182837606e17, 3.4655152334817683e17, -2.972635634207938e17, 1.4137840634586059e17, -3.697887753975041e16, 4.1930142361773885e15]\n"
     ]
    }
   ],
   "source": [
    "umdoisdois(29)"
   ]
  },
  {
   "cell_type": "markdown",
   "id": "cfe00bc1-1eaf-493e-a328-2fa295fa1085",
   "metadata": {
    "tags": []
   },
   "source": [
    "### Item 1.2.3 Tentativa com um polinômio de grau superior a 29"
   ]
  },
  {
   "cell_type": "markdown",
   "id": "ec7f6692-8ef9-4ee9-9b61-5afb8e9e3dae",
   "metadata": {},
   "source": [
    "Tentarei aplicar uma regressão de grau 50 à função."
   ]
  },
  {
   "cell_type": "code",
   "execution_count": 15,
   "id": "4e2f9e2f-7506-40a0-a824-35180ac3fa43",
   "metadata": {},
   "outputs": [
    {
     "data": {
      "text/plain": [
       "6-element Vector{Float64}:\n",
       "    0.6924611968856923\n",
       "   -8.068457203696342\n",
       "   45.854646095603165\n",
       " -129.0436680414694\n",
       "  154.3729285610277\n",
       "  -63.68851635170153"
      ]
     },
     "execution_count": 15,
     "metadata": {},
     "output_type": "execute_result"
    }
   ],
   "source": [
    "o = regressão(x,y,50)\n",
    "i = regressão(x,y,5) # Apenas para comparação"
   ]
  },
  {
   "cell_type": "markdown",
   "id": "85cbc42f-0ba5-4eea-a7a1-556add559de0",
   "metadata": {},
   "source": [
    "Em sequência, usamos a biblioteca \"Polynomials\". Com ela, conseguiremos transformar o array de coeficientes em um polinômio."
   ]
  },
  {
   "cell_type": "code",
   "execution_count": 16,
   "id": "0b3f826e-2a84-40d8-8fa5-f57d4a796261",
   "metadata": {},
   "outputs": [
    {
     "data": {
      "image/svg+xml": [
       "<?xml version=\"1.0\" encoding=\"utf-8\"?>\n",
       "<svg xmlns=\"http://www.w3.org/2000/svg\" xmlns:xlink=\"http://www.w3.org/1999/xlink\" width=\"600\" height=\"400\" viewBox=\"0 0 2400 1600\">\n",
       "<defs>\n",
       "  <clipPath id=\"clip800\">\n",
       "    <rect x=\"0\" y=\"0\" width=\"2400\" height=\"1600\"/>\n",
       "  </clipPath>\n",
       "</defs>\n",
       "<path clip-path=\"url(#clip800)\" d=\"\n",
       "M0 1600 L2400 1600 L2400 0 L0 0  Z\n",
       "  \" fill=\"#ffffff\" fill-rule=\"evenodd\" fill-opacity=\"1\"/>\n",
       "<defs>\n",
       "  <clipPath id=\"clip801\">\n",
       "    <rect x=\"480\" y=\"0\" width=\"1681\" height=\"1600\"/>\n",
       "  </clipPath>\n",
       "</defs>\n",
       "<path clip-path=\"url(#clip800)\" d=\"\n",
       "M148.057 1486.45 L2352.76 1486.45 L2352.76 47.2441 L148.057 47.2441  Z\n",
       "  \" fill=\"#ffffff\" fill-rule=\"evenodd\" fill-opacity=\"1\"/>\n",
       "<defs>\n",
       "  <clipPath id=\"clip802\">\n",
       "    <rect x=\"148\" y=\"47\" width=\"2206\" height=\"1440\"/>\n",
       "  </clipPath>\n",
       "</defs>\n",
       "<polyline clip-path=\"url(#clip802)\" style=\"stroke:#000000; stroke-linecap:butt; stroke-linejoin:round; stroke-width:2; stroke-opacity:0.1; fill:none\" points=\"\n",
       "  210.454,1486.45 210.454,47.2441 \n",
       "  \"/>\n",
       "<polyline clip-path=\"url(#clip802)\" style=\"stroke:#000000; stroke-linecap:butt; stroke-linejoin:round; stroke-width:2; stroke-opacity:0.1; fill:none\" points=\"\n",
       "  730.43,1486.45 730.43,47.2441 \n",
       "  \"/>\n",
       "<polyline clip-path=\"url(#clip802)\" style=\"stroke:#000000; stroke-linecap:butt; stroke-linejoin:round; stroke-width:2; stroke-opacity:0.1; fill:none\" points=\"\n",
       "  1250.41,1486.45 1250.41,47.2441 \n",
       "  \"/>\n",
       "<polyline clip-path=\"url(#clip802)\" style=\"stroke:#000000; stroke-linecap:butt; stroke-linejoin:round; stroke-width:2; stroke-opacity:0.1; fill:none\" points=\"\n",
       "  1770.38,1486.45 1770.38,47.2441 \n",
       "  \"/>\n",
       "<polyline clip-path=\"url(#clip802)\" style=\"stroke:#000000; stroke-linecap:butt; stroke-linejoin:round; stroke-width:2; stroke-opacity:0.1; fill:none\" points=\"\n",
       "  2290.36,1486.45 2290.36,47.2441 \n",
       "  \"/>\n",
       "<polyline clip-path=\"url(#clip800)\" style=\"stroke:#000000; stroke-linecap:butt; stroke-linejoin:round; stroke-width:4; stroke-opacity:1; fill:none\" points=\"\n",
       "  148.057,1486.45 2352.76,1486.45 \n",
       "  \"/>\n",
       "<polyline clip-path=\"url(#clip800)\" style=\"stroke:#000000; stroke-linecap:butt; stroke-linejoin:round; stroke-width:4; stroke-opacity:1; fill:none\" points=\"\n",
       "  210.454,1486.45 210.454,1467.55 \n",
       "  \"/>\n",
       "<polyline clip-path=\"url(#clip800)\" style=\"stroke:#000000; stroke-linecap:butt; stroke-linejoin:round; stroke-width:4; stroke-opacity:1; fill:none\" points=\"\n",
       "  730.43,1486.45 730.43,1467.55 \n",
       "  \"/>\n",
       "<polyline clip-path=\"url(#clip800)\" style=\"stroke:#000000; stroke-linecap:butt; stroke-linejoin:round; stroke-width:4; stroke-opacity:1; fill:none\" points=\"\n",
       "  1250.41,1486.45 1250.41,1467.55 \n",
       "  \"/>\n",
       "<polyline clip-path=\"url(#clip800)\" style=\"stroke:#000000; stroke-linecap:butt; stroke-linejoin:round; stroke-width:4; stroke-opacity:1; fill:none\" points=\"\n",
       "  1770.38,1486.45 1770.38,1467.55 \n",
       "  \"/>\n",
       "<polyline clip-path=\"url(#clip800)\" style=\"stroke:#000000; stroke-linecap:butt; stroke-linejoin:round; stroke-width:4; stroke-opacity:1; fill:none\" points=\"\n",
       "  2290.36,1486.45 2290.36,1467.55 \n",
       "  \"/>\n",
       "<path clip-path=\"url(#clip800)\" d=\"M172.757 1517.37 Q169.146 1517.37 167.317 1520.93 Q165.512 1524.47 165.512 1531.6 Q165.512 1538.71 167.317 1542.27 Q169.146 1545.82 172.757 1545.82 Q176.391 1545.82 178.197 1542.27 Q180.026 1538.71 180.026 1531.6 Q180.026 1524.47 178.197 1520.93 Q176.391 1517.37 172.757 1517.37 M172.757 1513.66 Q178.567 1513.66 181.623 1518.27 Q184.702 1522.85 184.702 1531.6 Q184.702 1540.33 181.623 1544.94 Q178.567 1549.52 172.757 1549.52 Q166.947 1549.52 163.868 1544.94 Q160.813 1540.33 160.813 1531.6 Q160.813 1522.85 163.868 1518.27 Q166.947 1513.66 172.757 1513.66 Z\" fill=\"#000000\" fill-rule=\"evenodd\" fill-opacity=\"1\" /><path clip-path=\"url(#clip800)\" d=\"M192.919 1542.97 L197.803 1542.97 L197.803 1548.85 L192.919 1548.85 L192.919 1542.97 Z\" fill=\"#000000\" fill-rule=\"evenodd\" fill-opacity=\"1\" /><path clip-path=\"url(#clip800)\" d=\"M217.988 1517.37 Q214.377 1517.37 212.549 1520.93 Q210.743 1524.47 210.743 1531.6 Q210.743 1538.71 212.549 1542.27 Q214.377 1545.82 217.988 1545.82 Q221.623 1545.82 223.428 1542.27 Q225.257 1538.71 225.257 1531.6 Q225.257 1524.47 223.428 1520.93 Q221.623 1517.37 217.988 1517.37 M217.988 1513.66 Q223.799 1513.66 226.854 1518.27 Q229.933 1522.85 229.933 1531.6 Q229.933 1540.33 226.854 1544.94 Q223.799 1549.52 217.988 1549.52 Q212.178 1549.52 209.1 1544.94 Q206.044 1540.33 206.044 1531.6 Q206.044 1522.85 209.1 1518.27 Q212.178 1513.66 217.988 1513.66 Z\" fill=\"#000000\" fill-rule=\"evenodd\" fill-opacity=\"1\" /><path clip-path=\"url(#clip800)\" d=\"M248.15 1517.37 Q244.539 1517.37 242.711 1520.93 Q240.905 1524.47 240.905 1531.6 Q240.905 1538.71 242.711 1542.27 Q244.539 1545.82 248.15 1545.82 Q251.785 1545.82 253.59 1542.27 Q255.419 1538.71 255.419 1531.6 Q255.419 1524.47 253.59 1520.93 Q251.785 1517.37 248.15 1517.37 M248.15 1513.66 Q253.96 1513.66 257.016 1518.27 Q260.095 1522.85 260.095 1531.6 Q260.095 1540.33 257.016 1544.94 Q253.96 1549.52 248.15 1549.52 Q242.34 1549.52 239.261 1544.94 Q236.206 1540.33 236.206 1531.6 Q236.206 1522.85 239.261 1518.27 Q242.34 1513.66 248.15 1513.66 Z\" fill=\"#000000\" fill-rule=\"evenodd\" fill-opacity=\"1\" /><path clip-path=\"url(#clip800)\" d=\"M693.231 1517.37 Q689.62 1517.37 687.791 1520.93 Q685.986 1524.47 685.986 1531.6 Q685.986 1538.71 687.791 1542.27 Q689.62 1545.82 693.231 1545.82 Q696.865 1545.82 698.671 1542.27 Q700.5 1538.71 700.5 1531.6 Q700.5 1524.47 698.671 1520.93 Q696.865 1517.37 693.231 1517.37 M693.231 1513.66 Q699.041 1513.66 702.097 1518.27 Q705.176 1522.85 705.176 1531.6 Q705.176 1540.33 702.097 1544.94 Q699.041 1549.52 693.231 1549.52 Q687.421 1549.52 684.342 1544.94 Q681.287 1540.33 681.287 1531.6 Q681.287 1522.85 684.342 1518.27 Q687.421 1513.66 693.231 1513.66 Z\" fill=\"#000000\" fill-rule=\"evenodd\" fill-opacity=\"1\" /><path clip-path=\"url(#clip800)\" d=\"M713.393 1542.97 L718.277 1542.97 L718.277 1548.85 L713.393 1548.85 L713.393 1542.97 Z\" fill=\"#000000\" fill-rule=\"evenodd\" fill-opacity=\"1\" /><path clip-path=\"url(#clip800)\" d=\"M732.49 1544.91 L748.81 1544.91 L748.81 1548.85 L726.865 1548.85 L726.865 1544.91 Q729.527 1542.16 734.111 1537.53 Q738.717 1532.88 739.898 1531.53 Q742.143 1529.01 743.023 1527.27 Q743.925 1525.51 743.925 1523.82 Q743.925 1521.07 741.981 1519.33 Q740.06 1517.6 736.958 1517.6 Q734.759 1517.6 732.305 1518.36 Q729.874 1519.13 727.097 1520.68 L727.097 1515.95 Q729.921 1514.82 732.374 1514.24 Q734.828 1513.66 736.865 1513.66 Q742.236 1513.66 745.43 1516.35 Q748.624 1519.03 748.624 1523.52 Q748.624 1525.65 747.814 1527.57 Q747.027 1529.47 744.921 1532.07 Q744.342 1532.74 741.24 1535.95 Q738.138 1539.15 732.49 1544.91 Z\" fill=\"#000000\" fill-rule=\"evenodd\" fill-opacity=\"1\" /><path clip-path=\"url(#clip800)\" d=\"M758.671 1514.29 L777.027 1514.29 L777.027 1518.22 L762.953 1518.22 L762.953 1526.7 Q763.971 1526.35 764.99 1526.19 Q766.009 1526 767.027 1526 Q772.814 1526 776.194 1529.17 Q779.573 1532.34 779.573 1537.76 Q779.573 1543.34 776.101 1546.44 Q772.629 1549.52 766.309 1549.52 Q764.134 1549.52 761.865 1549.15 Q759.62 1548.78 757.212 1548.04 L757.212 1543.34 Q759.296 1544.47 761.518 1545.03 Q763.74 1545.58 766.217 1545.58 Q770.221 1545.58 772.559 1543.48 Q774.897 1541.37 774.897 1537.76 Q774.897 1534.15 772.559 1532.04 Q770.221 1529.94 766.217 1529.94 Q764.342 1529.94 762.467 1530.35 Q760.615 1530.77 758.671 1531.65 L758.671 1514.29 Z\" fill=\"#000000\" fill-rule=\"evenodd\" fill-opacity=\"1\" /><path clip-path=\"url(#clip800)\" d=\"M1212.71 1517.37 Q1209.1 1517.37 1207.27 1520.93 Q1205.46 1524.47 1205.46 1531.6 Q1205.46 1538.71 1207.27 1542.27 Q1209.1 1545.82 1212.71 1545.82 Q1216.34 1545.82 1218.15 1542.27 Q1219.98 1538.71 1219.98 1531.6 Q1219.98 1524.47 1218.15 1520.93 Q1216.34 1517.37 1212.71 1517.37 M1212.71 1513.66 Q1218.52 1513.66 1221.58 1518.27 Q1224.65 1522.85 1224.65 1531.6 Q1224.65 1540.33 1221.58 1544.94 Q1218.52 1549.52 1212.71 1549.52 Q1206.9 1549.52 1203.82 1544.94 Q1200.77 1540.33 1200.77 1531.6 Q1200.77 1522.85 1203.82 1518.27 Q1206.9 1513.66 1212.71 1513.66 Z\" fill=\"#000000\" fill-rule=\"evenodd\" fill-opacity=\"1\" /><path clip-path=\"url(#clip800)\" d=\"M1232.87 1542.97 L1237.76 1542.97 L1237.76 1548.85 L1232.87 1548.85 L1232.87 1542.97 Z\" fill=\"#000000\" fill-rule=\"evenodd\" fill-opacity=\"1\" /><path clip-path=\"url(#clip800)\" d=\"M1247.99 1514.29 L1266.34 1514.29 L1266.34 1518.22 L1252.27 1518.22 L1252.27 1526.7 Q1253.29 1526.35 1254.31 1526.19 Q1255.33 1526 1256.34 1526 Q1262.13 1526 1265.51 1529.17 Q1268.89 1532.34 1268.89 1537.76 Q1268.89 1543.34 1265.42 1546.44 Q1261.95 1549.52 1255.63 1549.52 Q1253.45 1549.52 1251.18 1549.15 Q1248.94 1548.78 1246.53 1548.04 L1246.53 1543.34 Q1248.61 1544.47 1250.83 1545.03 Q1253.06 1545.58 1255.53 1545.58 Q1259.54 1545.58 1261.88 1543.48 Q1264.21 1541.37 1264.21 1537.76 Q1264.21 1534.15 1261.88 1532.04 Q1259.54 1529.94 1255.53 1529.94 Q1253.66 1529.94 1251.78 1530.35 Q1249.93 1530.77 1247.99 1531.65 L1247.99 1514.29 Z\" fill=\"#000000\" fill-rule=\"evenodd\" fill-opacity=\"1\" /><path clip-path=\"url(#clip800)\" d=\"M1288.1 1517.37 Q1284.49 1517.37 1282.66 1520.93 Q1280.86 1524.47 1280.86 1531.6 Q1280.86 1538.71 1282.66 1542.27 Q1284.49 1545.82 1288.1 1545.82 Q1291.74 1545.82 1293.54 1542.27 Q1295.37 1538.71 1295.37 1531.6 Q1295.37 1524.47 1293.54 1520.93 Q1291.74 1517.37 1288.1 1517.37 M1288.1 1513.66 Q1293.91 1513.66 1296.97 1518.27 Q1300.05 1522.85 1300.05 1531.6 Q1300.05 1540.33 1296.97 1544.94 Q1293.91 1549.52 1288.1 1549.52 Q1282.29 1549.52 1279.21 1544.94 Q1276.16 1540.33 1276.16 1531.6 Q1276.16 1522.85 1279.21 1518.27 Q1282.29 1513.66 1288.1 1513.66 Z\" fill=\"#000000\" fill-rule=\"evenodd\" fill-opacity=\"1\" /><path clip-path=\"url(#clip800)\" d=\"M1733.18 1517.37 Q1729.57 1517.37 1727.74 1520.93 Q1725.94 1524.47 1725.94 1531.6 Q1725.94 1538.71 1727.74 1542.27 Q1729.57 1545.82 1733.18 1545.82 Q1736.82 1545.82 1738.62 1542.27 Q1740.45 1538.71 1740.45 1531.6 Q1740.45 1524.47 1738.62 1520.93 Q1736.82 1517.37 1733.18 1517.37 M1733.18 1513.66 Q1738.99 1513.66 1742.05 1518.27 Q1745.13 1522.85 1745.13 1531.6 Q1745.13 1540.33 1742.05 1544.94 Q1738.99 1549.52 1733.18 1549.52 Q1727.37 1549.52 1724.29 1544.94 Q1721.24 1540.33 1721.24 1531.6 Q1721.24 1522.85 1724.29 1518.27 Q1727.37 1513.66 1733.18 1513.66 Z\" fill=\"#000000\" fill-rule=\"evenodd\" fill-opacity=\"1\" /><path clip-path=\"url(#clip800)\" d=\"M1753.35 1542.97 L1758.23 1542.97 L1758.23 1548.85 L1753.35 1548.85 L1753.35 1542.97 Z\" fill=\"#000000\" fill-rule=\"evenodd\" fill-opacity=\"1\" /><path clip-path=\"url(#clip800)\" d=\"M1767.23 1514.29 L1789.46 1514.29 L1789.46 1516.28 L1776.91 1548.85 L1772.03 1548.85 L1783.83 1518.22 L1767.23 1518.22 L1767.23 1514.29 Z\" fill=\"#000000\" fill-rule=\"evenodd\" fill-opacity=\"1\" /><path clip-path=\"url(#clip800)\" d=\"M1798.62 1514.29 L1816.98 1514.29 L1816.98 1518.22 L1802.91 1518.22 L1802.91 1526.7 Q1803.92 1526.35 1804.94 1526.19 Q1805.96 1526 1806.98 1526 Q1812.77 1526 1816.15 1529.17 Q1819.53 1532.34 1819.53 1537.76 Q1819.53 1543.34 1816.05 1546.44 Q1812.58 1549.52 1806.26 1549.52 Q1804.09 1549.52 1801.82 1549.15 Q1799.57 1548.78 1797.16 1548.04 L1797.16 1543.34 Q1799.25 1544.47 1801.47 1545.03 Q1803.69 1545.58 1806.17 1545.58 Q1810.17 1545.58 1812.51 1543.48 Q1814.85 1541.37 1814.85 1537.76 Q1814.85 1534.15 1812.51 1532.04 Q1810.17 1529.94 1806.17 1529.94 Q1804.29 1529.94 1802.42 1530.35 Q1800.57 1530.77 1798.62 1531.65 L1798.62 1514.29 Z\" fill=\"#000000\" fill-rule=\"evenodd\" fill-opacity=\"1\" /><path clip-path=\"url(#clip800)\" d=\"M2242.43 1544.91 L2250.07 1544.91 L2250.07 1518.55 L2241.76 1520.21 L2241.76 1515.95 L2250.02 1514.29 L2254.7 1514.29 L2254.7 1544.91 L2262.34 1544.91 L2262.34 1548.85 L2242.43 1548.85 L2242.43 1544.91 Z\" fill=\"#000000\" fill-rule=\"evenodd\" fill-opacity=\"1\" /><path clip-path=\"url(#clip800)\" d=\"M2271.78 1542.97 L2276.67 1542.97 L2276.67 1548.85 L2271.78 1548.85 L2271.78 1542.97 Z\" fill=\"#000000\" fill-rule=\"evenodd\" fill-opacity=\"1\" /><path clip-path=\"url(#clip800)\" d=\"M2296.85 1517.37 Q2293.24 1517.37 2291.41 1520.93 Q2289.61 1524.47 2289.61 1531.6 Q2289.61 1538.71 2291.41 1542.27 Q2293.24 1545.82 2296.85 1545.82 Q2300.49 1545.82 2302.29 1542.27 Q2304.12 1538.71 2304.12 1531.6 Q2304.12 1524.47 2302.29 1520.93 Q2300.49 1517.37 2296.85 1517.37 M2296.85 1513.66 Q2302.66 1513.66 2305.72 1518.27 Q2308.8 1522.85 2308.8 1531.6 Q2308.8 1540.33 2305.72 1544.94 Q2302.66 1549.52 2296.85 1549.52 Q2291.04 1549.52 2287.96 1544.94 Q2284.91 1540.33 2284.91 1531.6 Q2284.91 1522.85 2287.96 1518.27 Q2291.04 1513.66 2296.85 1513.66 Z\" fill=\"#000000\" fill-rule=\"evenodd\" fill-opacity=\"1\" /><path clip-path=\"url(#clip800)\" d=\"M2327.01 1517.37 Q2323.4 1517.37 2321.57 1520.93 Q2319.77 1524.47 2319.77 1531.6 Q2319.77 1538.71 2321.57 1542.27 Q2323.4 1545.82 2327.01 1545.82 Q2330.65 1545.82 2332.45 1542.27 Q2334.28 1538.71 2334.28 1531.6 Q2334.28 1524.47 2332.45 1520.93 Q2330.65 1517.37 2327.01 1517.37 M2327.01 1513.66 Q2332.82 1513.66 2335.88 1518.27 Q2338.96 1522.85 2338.96 1531.6 Q2338.96 1540.33 2335.88 1544.94 Q2332.82 1549.52 2327.01 1549.52 Q2321.2 1549.52 2318.12 1544.94 Q2315.07 1540.33 2315.07 1531.6 Q2315.07 1522.85 2318.12 1518.27 Q2321.2 1513.66 2327.01 1513.66 Z\" fill=\"#000000\" fill-rule=\"evenodd\" fill-opacity=\"1\" /><polyline clip-path=\"url(#clip802)\" style=\"stroke:#000000; stroke-linecap:butt; stroke-linejoin:round; stroke-width:2; stroke-opacity:0.1; fill:none\" points=\"\n",
       "  148.057,1481.86 2352.76,1481.86 \n",
       "  \"/>\n",
       "<polyline clip-path=\"url(#clip802)\" style=\"stroke:#000000; stroke-linecap:butt; stroke-linejoin:round; stroke-width:2; stroke-opacity:0.1; fill:none\" points=\"\n",
       "  148.057,1221.65 2352.76,1221.65 \n",
       "  \"/>\n",
       "<polyline clip-path=\"url(#clip802)\" style=\"stroke:#000000; stroke-linecap:butt; stroke-linejoin:round; stroke-width:2; stroke-opacity:0.1; fill:none\" points=\"\n",
       "  148.057,961.449 2352.76,961.449 \n",
       "  \"/>\n",
       "<polyline clip-path=\"url(#clip802)\" style=\"stroke:#000000; stroke-linecap:butt; stroke-linejoin:round; stroke-width:2; stroke-opacity:0.1; fill:none\" points=\"\n",
       "  148.057,701.243 2352.76,701.243 \n",
       "  \"/>\n",
       "<polyline clip-path=\"url(#clip802)\" style=\"stroke:#000000; stroke-linecap:butt; stroke-linejoin:round; stroke-width:2; stroke-opacity:0.1; fill:none\" points=\"\n",
       "  148.057,441.038 2352.76,441.038 \n",
       "  \"/>\n",
       "<polyline clip-path=\"url(#clip802)\" style=\"stroke:#000000; stroke-linecap:butt; stroke-linejoin:round; stroke-width:2; stroke-opacity:0.1; fill:none\" points=\"\n",
       "  148.057,180.832 2352.76,180.832 \n",
       "  \"/>\n",
       "<polyline clip-path=\"url(#clip800)\" style=\"stroke:#000000; stroke-linecap:butt; stroke-linejoin:round; stroke-width:4; stroke-opacity:1; fill:none\" points=\"\n",
       "  148.057,1486.45 148.057,47.2441 \n",
       "  \"/>\n",
       "<polyline clip-path=\"url(#clip800)\" style=\"stroke:#000000; stroke-linecap:butt; stroke-linejoin:round; stroke-width:4; stroke-opacity:1; fill:none\" points=\"\n",
       "  148.057,1481.86 166.954,1481.86 \n",
       "  \"/>\n",
       "<polyline clip-path=\"url(#clip800)\" style=\"stroke:#000000; stroke-linecap:butt; stroke-linejoin:round; stroke-width:4; stroke-opacity:1; fill:none\" points=\"\n",
       "  148.057,1221.65 166.954,1221.65 \n",
       "  \"/>\n",
       "<polyline clip-path=\"url(#clip800)\" style=\"stroke:#000000; stroke-linecap:butt; stroke-linejoin:round; stroke-width:4; stroke-opacity:1; fill:none\" points=\"\n",
       "  148.057,961.449 166.954,961.449 \n",
       "  \"/>\n",
       "<polyline clip-path=\"url(#clip800)\" style=\"stroke:#000000; stroke-linecap:butt; stroke-linejoin:round; stroke-width:4; stroke-opacity:1; fill:none\" points=\"\n",
       "  148.057,701.243 166.954,701.243 \n",
       "  \"/>\n",
       "<polyline clip-path=\"url(#clip800)\" style=\"stroke:#000000; stroke-linecap:butt; stroke-linejoin:round; stroke-width:4; stroke-opacity:1; fill:none\" points=\"\n",
       "  148.057,441.038 166.954,441.038 \n",
       "  \"/>\n",
       "<polyline clip-path=\"url(#clip800)\" style=\"stroke:#000000; stroke-linecap:butt; stroke-linejoin:round; stroke-width:4; stroke-opacity:1; fill:none\" points=\"\n",
       "  148.057,180.832 166.954,180.832 \n",
       "  \"/>\n",
       "<path clip-path=\"url(#clip800)\" d=\"M50.9921 1482.31 L80.6679 1482.31 L80.6679 1486.25 L50.9921 1486.25 L50.9921 1482.31 Z\" fill=\"#000000\" fill-rule=\"evenodd\" fill-opacity=\"1\" /><path clip-path=\"url(#clip800)\" d=\"M104.927 1480.51 Q108.283 1481.22 110.158 1483.49 Q112.057 1485.76 112.057 1489.09 Q112.057 1494.21 108.538 1497.01 Q105.02 1499.81 98.5382 1499.81 Q96.3623 1499.81 94.0475 1499.37 Q91.7558 1498.96 89.3021 1498.1 L89.3021 1493.58 Q91.2465 1494.72 93.5613 1495.3 Q95.8761 1495.88 98.3993 1495.88 Q102.797 1495.88 105.089 1494.14 Q107.404 1492.4 107.404 1489.09 Q107.404 1486.04 105.251 1484.33 Q103.121 1482.59 99.3021 1482.59 L95.2743 1482.59 L95.2743 1478.75 L99.4872 1478.75 Q102.936 1478.75 104.765 1477.38 Q106.594 1475.99 106.594 1473.4 Q106.594 1470.74 104.696 1469.33 Q102.821 1467.89 99.3021 1467.89 Q97.3808 1467.89 95.1817 1468.31 Q92.9826 1468.72 90.3438 1469.6 L90.3438 1465.44 Q93.0058 1464.7 95.3206 1464.33 Q97.6585 1463.96 99.7187 1463.96 Q105.043 1463.96 108.145 1466.39 Q111.246 1468.79 111.246 1472.91 Q111.246 1475.78 109.603 1477.77 Q107.959 1479.74 104.927 1480.51 Z\" fill=\"#000000\" fill-rule=\"evenodd\" fill-opacity=\"1\" /><path clip-path=\"url(#clip800)\" d=\"M51.9412 1222.11 L81.617 1222.11 L81.617 1226.04 L51.9412 1226.04 L51.9412 1222.11 Z\" fill=\"#000000\" fill-rule=\"evenodd\" fill-opacity=\"1\" /><path clip-path=\"url(#clip800)\" d=\"M95.7373 1235 L112.057 1235 L112.057 1238.93 L90.1123 1238.93 L90.1123 1235 Q92.7743 1232.25 97.3576 1227.62 Q101.964 1222.96 103.145 1221.62 Q105.39 1219.1 106.27 1217.36 Q107.172 1215.6 107.172 1213.91 Q107.172 1211.16 105.228 1209.42 Q103.307 1207.68 100.205 1207.68 Q98.0058 1207.68 95.5521 1208.45 Q93.1215 1209.21 90.3438 1210.76 L90.3438 1206.04 Q93.1678 1204.91 95.6215 1204.33 Q98.0752 1203.75 100.112 1203.75 Q105.483 1203.75 108.677 1206.43 Q111.871 1209.12 111.871 1213.61 Q111.871 1215.74 111.061 1217.66 Q110.274 1219.56 108.168 1222.15 Q107.589 1222.82 104.487 1226.04 Q101.385 1229.24 95.7373 1235 Z\" fill=\"#000000\" fill-rule=\"evenodd\" fill-opacity=\"1\" /><path clip-path=\"url(#clip800)\" d=\"M51.5708 961.901 L81.2466 961.901 L81.2466 965.836 L51.5708 965.836 L51.5708 961.901 Z\" fill=\"#000000\" fill-rule=\"evenodd\" fill-opacity=\"1\" /><path clip-path=\"url(#clip800)\" d=\"M92.1493 974.794 L99.7882 974.794 L99.7882 948.428 L91.478 950.095 L91.478 945.836 L99.7419 944.169 L104.418 944.169 L104.418 974.794 L112.057 974.794 L112.057 978.729 L92.1493 978.729 L92.1493 974.794 Z\" fill=\"#000000\" fill-rule=\"evenodd\" fill-opacity=\"1\" /><path clip-path=\"url(#clip800)\" d=\"M100.112 687.042 Q96.5011 687.042 94.6724 690.607 Q92.8669 694.149 92.8669 701.278 Q92.8669 708.385 94.6724 711.949 Q96.5011 715.491 100.112 715.491 Q103.746 715.491 105.552 711.949 Q107.381 708.385 107.381 701.278 Q107.381 694.149 105.552 690.607 Q103.746 687.042 100.112 687.042 M100.112 683.338 Q105.922 683.338 108.978 687.945 Q112.057 692.528 112.057 701.278 Q112.057 710.005 108.978 714.611 Q105.922 719.195 100.112 719.195 Q94.3021 719.195 91.2234 714.611 Q88.1679 710.005 88.1679 701.278 Q88.1679 692.528 91.2234 687.945 Q94.3021 683.338 100.112 683.338 Z\" fill=\"#000000\" fill-rule=\"evenodd\" fill-opacity=\"1\" /><path clip-path=\"url(#clip800)\" d=\"M92.1493 454.383 L99.7882 454.383 L99.7882 428.017 L91.478 429.684 L91.478 425.424 L99.7419 423.758 L104.418 423.758 L104.418 454.383 L112.057 454.383 L112.057 458.318 L92.1493 458.318 L92.1493 454.383 Z\" fill=\"#000000\" fill-rule=\"evenodd\" fill-opacity=\"1\" /><path clip-path=\"url(#clip800)\" d=\"M95.7373 194.177 L112.057 194.177 L112.057 198.112 L90.1123 198.112 L90.1123 194.177 Q92.7743 191.422 97.3576 186.793 Q101.964 182.14 103.145 180.797 Q105.39 178.274 106.27 176.538 Q107.172 174.779 107.172 173.089 Q107.172 170.335 105.228 168.598 Q103.307 166.862 100.205 166.862 Q98.0058 166.862 95.5521 167.626 Q93.1215 168.39 90.3438 169.941 L90.3438 165.219 Q93.1678 164.085 95.6215 163.506 Q98.0752 162.927 100.112 162.927 Q105.483 162.927 108.677 165.612 Q111.871 168.298 111.871 172.788 Q111.871 174.918 111.061 176.839 Q110.274 178.737 108.168 181.33 Q107.589 182.001 104.487 185.219 Q101.385 188.413 95.7373 194.177 Z\" fill=\"#000000\" fill-rule=\"evenodd\" fill-opacity=\"1\" /><polyline clip-path=\"url(#clip802)\" style=\"stroke:#009af9; stroke-linecap:butt; stroke-linejoin:round; stroke-width:4; stroke-opacity:1; fill:none\" points=\"\n",
       "  210.454,506.962 282.175,462.194 353.895,813.566 425.616,698.999 497.337,628.453 569.058,483.109 640.779,766.53 712.5,830.766 784.221,568.964 855.942,558.898 \n",
       "  927.662,797.533 999.383,843.211 1071.1,684.595 1142.82,581.552 1214.55,616.568 1286.27,889.857 1357.99,1308.32 1429.71,1156.93 1501.43,404.317 1573.15,443.066 \n",
       "  1644.87,1066.62 1716.59,722.239 1788.31,942.581 1860.03,416.622 1931.75,774.447 2003.48,663.916 2075.2,706.3 2146.92,831.764 2218.64,581.667 2290.36,615.103 \n",
       "  \n",
       "  \"/>\n",
       "<polyline clip-path=\"url(#clip802)\" style=\"stroke:#e26f46; stroke-linecap:butt; stroke-linejoin:round; stroke-width:4; stroke-opacity:1; fill:none\" points=\"\n",
       "  210.454,521.061 282.175,580.59 353.895,619.233 425.616,643.328 497.337,658.044 569.058,667.475 640.779,674.744 712.5,682.091 784.221,690.979 855.942,702.184 \n",
       "  927.662,715.896 999.383,731.813 1071.1,749.242 1142.82,767.19 1214.55,784.467 1286.27,799.78 1357.99,811.831 1429.71,819.411 1501.43,821.5 1573.15,817.366 \n",
       "  1644.87,806.655 1716.59,789.495 1788.31,766.588 1860.03,739.312 1931.75,709.812 2003.48,681.1 2075.2,657.155 2146.92,643.013 2218.64,644.87 2290.36,670.176 \n",
       "  \n",
       "  \"/>\n",
       "<circle clip-path=\"url(#clip802)\" cx=\"210.454\" cy=\"506.865\" r=\"14\" fill=\"#3da44d\" fill-rule=\"evenodd\" fill-opacity=\"1\" stroke=\"#000000\" stroke-opacity=\"1\" stroke-width=\"3.2\"/>\n",
       "<circle clip-path=\"url(#clip802)\" cx=\"282.175\" cy=\"464.14\" r=\"14\" fill=\"#3da44d\" fill-rule=\"evenodd\" fill-opacity=\"1\" stroke=\"#000000\" stroke-opacity=\"1\" stroke-width=\"3.2\"/>\n",
       "<circle clip-path=\"url(#clip802)\" cx=\"353.895\" cy=\"802.368\" r=\"14\" fill=\"#3da44d\" fill-rule=\"evenodd\" fill-opacity=\"1\" stroke=\"#000000\" stroke-opacity=\"1\" stroke-width=\"3.2\"/>\n",
       "<circle clip-path=\"url(#clip802)\" cx=\"425.616\" cy=\"740.127\" r=\"14\" fill=\"#3da44d\" fill-rule=\"evenodd\" fill-opacity=\"1\" stroke=\"#000000\" stroke-opacity=\"1\" stroke-width=\"3.2\"/>\n",
       "<circle clip-path=\"url(#clip802)\" cx=\"497.337\" cy=\"534.008\" r=\"14\" fill=\"#3da44d\" fill-rule=\"evenodd\" fill-opacity=\"1\" stroke=\"#000000\" stroke-opacity=\"1\" stroke-width=\"3.2\"/>\n",
       "<circle clip-path=\"url(#clip802)\" cx=\"569.058\" cy=\"617.432\" r=\"14\" fill=\"#3da44d\" fill-rule=\"evenodd\" fill-opacity=\"1\" stroke=\"#000000\" stroke-opacity=\"1\" stroke-width=\"3.2\"/>\n",
       "<circle clip-path=\"url(#clip802)\" cx=\"640.779\" cy=\"684.86\" r=\"14\" fill=\"#3da44d\" fill-rule=\"evenodd\" fill-opacity=\"1\" stroke=\"#000000\" stroke-opacity=\"1\" stroke-width=\"3.2\"/>\n",
       "<circle clip-path=\"url(#clip802)\" cx=\"712.5\" cy=\"735.893\" r=\"14\" fill=\"#3da44d\" fill-rule=\"evenodd\" fill-opacity=\"1\" stroke=\"#000000\" stroke-opacity=\"1\" stroke-width=\"3.2\"/>\n",
       "<circle clip-path=\"url(#clip802)\" cx=\"784.221\" cy=\"853.471\" r=\"14\" fill=\"#3da44d\" fill-rule=\"evenodd\" fill-opacity=\"1\" stroke=\"#000000\" stroke-opacity=\"1\" stroke-width=\"3.2\"/>\n",
       "<circle clip-path=\"url(#clip802)\" cx=\"855.942\" cy=\"257.657\" r=\"14\" fill=\"#3da44d\" fill-rule=\"evenodd\" fill-opacity=\"1\" stroke=\"#000000\" stroke-opacity=\"1\" stroke-width=\"3.2\"/>\n",
       "<circle clip-path=\"url(#clip802)\" cx=\"927.662\" cy=\"907.827\" r=\"14\" fill=\"#3da44d\" fill-rule=\"evenodd\" fill-opacity=\"1\" stroke=\"#000000\" stroke-opacity=\"1\" stroke-width=\"3.2\"/>\n",
       "<circle clip-path=\"url(#clip802)\" cx=\"999.383\" cy=\"931.735\" r=\"14\" fill=\"#3da44d\" fill-rule=\"evenodd\" fill-opacity=\"1\" stroke=\"#000000\" stroke-opacity=\"1\" stroke-width=\"3.2\"/>\n",
       "<circle clip-path=\"url(#clip802)\" cx=\"1071.1\" cy=\"602.753\" r=\"14\" fill=\"#3da44d\" fill-rule=\"evenodd\" fill-opacity=\"1\" stroke=\"#000000\" stroke-opacity=\"1\" stroke-width=\"3.2\"/>\n",
       "<circle clip-path=\"url(#clip802)\" cx=\"1142.82\" cy=\"487.663\" r=\"14\" fill=\"#3da44d\" fill-rule=\"evenodd\" fill-opacity=\"1\" stroke=\"#000000\" stroke-opacity=\"1\" stroke-width=\"3.2\"/>\n",
       "<circle clip-path=\"url(#clip802)\" cx=\"1214.55\" cy=\"822.832\" r=\"14\" fill=\"#3da44d\" fill-rule=\"evenodd\" fill-opacity=\"1\" stroke=\"#000000\" stroke-opacity=\"1\" stroke-width=\"3.2\"/>\n",
       "<circle clip-path=\"url(#clip802)\" cx=\"1286.27\" cy=\"781.306\" r=\"14\" fill=\"#3da44d\" fill-rule=\"evenodd\" fill-opacity=\"1\" stroke=\"#000000\" stroke-opacity=\"1\" stroke-width=\"3.2\"/>\n",
       "<circle clip-path=\"url(#clip802)\" cx=\"1357.99\" cy=\"1191.68\" r=\"14\" fill=\"#3da44d\" fill-rule=\"evenodd\" fill-opacity=\"1\" stroke=\"#000000\" stroke-opacity=\"1\" stroke-width=\"3.2\"/>\n",
       "<circle clip-path=\"url(#clip802)\" cx=\"1429.71\" cy=\"1445.72\" r=\"14\" fill=\"#3da44d\" fill-rule=\"evenodd\" fill-opacity=\"1\" stroke=\"#000000\" stroke-opacity=\"1\" stroke-width=\"3.2\"/>\n",
       "<circle clip-path=\"url(#clip802)\" cx=\"1501.43\" cy=\"87.9763\" r=\"14\" fill=\"#3da44d\" fill-rule=\"evenodd\" fill-opacity=\"1\" stroke=\"#000000\" stroke-opacity=\"1\" stroke-width=\"3.2\"/>\n",
       "<circle clip-path=\"url(#clip802)\" cx=\"1573.15\" cy=\"680.128\" r=\"14\" fill=\"#3da44d\" fill-rule=\"evenodd\" fill-opacity=\"1\" stroke=\"#000000\" stroke-opacity=\"1\" stroke-width=\"3.2\"/>\n",
       "<circle clip-path=\"url(#clip802)\" cx=\"1644.87\" cy=\"932.409\" r=\"14\" fill=\"#3da44d\" fill-rule=\"evenodd\" fill-opacity=\"1\" stroke=\"#000000\" stroke-opacity=\"1\" stroke-width=\"3.2\"/>\n",
       "<circle clip-path=\"url(#clip802)\" cx=\"1716.59\" cy=\"781.766\" r=\"14\" fill=\"#3da44d\" fill-rule=\"evenodd\" fill-opacity=\"1\" stroke=\"#000000\" stroke-opacity=\"1\" stroke-width=\"3.2\"/>\n",
       "<circle clip-path=\"url(#clip802)\" cx=\"1788.31\" cy=\"921.562\" r=\"14\" fill=\"#3da44d\" fill-rule=\"evenodd\" fill-opacity=\"1\" stroke=\"#000000\" stroke-opacity=\"1\" stroke-width=\"3.2\"/>\n",
       "<circle clip-path=\"url(#clip802)\" cx=\"1860.03\" cy=\"422.452\" r=\"14\" fill=\"#3da44d\" fill-rule=\"evenodd\" fill-opacity=\"1\" stroke=\"#000000\" stroke-opacity=\"1\" stroke-width=\"3.2\"/>\n",
       "<circle clip-path=\"url(#clip802)\" cx=\"1931.75\" cy=\"773.081\" r=\"14\" fill=\"#3da44d\" fill-rule=\"evenodd\" fill-opacity=\"1\" stroke=\"#000000\" stroke-opacity=\"1\" stroke-width=\"3.2\"/>\n",
       "<circle clip-path=\"url(#clip802)\" cx=\"2003.48\" cy=\"664.068\" r=\"14\" fill=\"#3da44d\" fill-rule=\"evenodd\" fill-opacity=\"1\" stroke=\"#000000\" stroke-opacity=\"1\" stroke-width=\"3.2\"/>\n",
       "<circle clip-path=\"url(#clip802)\" cx=\"2075.2\" cy=\"706.142\" r=\"14\" fill=\"#3da44d\" fill-rule=\"evenodd\" fill-opacity=\"1\" stroke=\"#000000\" stroke-opacity=\"1\" stroke-width=\"3.2\"/>\n",
       "<circle clip-path=\"url(#clip802)\" cx=\"2146.92\" cy=\"831.646\" r=\"14\" fill=\"#3da44d\" fill-rule=\"evenodd\" fill-opacity=\"1\" stroke=\"#000000\" stroke-opacity=\"1\" stroke-width=\"3.2\"/>\n",
       "<circle clip-path=\"url(#clip802)\" cx=\"2218.64\" cy=\"581.528\" r=\"14\" fill=\"#3da44d\" fill-rule=\"evenodd\" fill-opacity=\"1\" stroke=\"#000000\" stroke-opacity=\"1\" stroke-width=\"3.2\"/>\n",
       "<circle clip-path=\"url(#clip802)\" cx=\"2290.36\" cy=\"615.309\" r=\"14\" fill=\"#3da44d\" fill-rule=\"evenodd\" fill-opacity=\"1\" stroke=\"#000000\" stroke-opacity=\"1\" stroke-width=\"3.2\"/>\n",
       "<path clip-path=\"url(#clip800)\" d=\"\n",
       "M1591.18 302.578 L2279.27 302.578 L2279.27 95.2176 L1591.18 95.2176  Z\n",
       "  \" fill=\"#ffffff\" fill-rule=\"evenodd\" fill-opacity=\"1\"/>\n",
       "<polyline clip-path=\"url(#clip800)\" style=\"stroke:#000000; stroke-linecap:butt; stroke-linejoin:round; stroke-width:4; stroke-opacity:1; fill:none\" points=\"\n",
       "  1591.18,302.578 2279.27,302.578 2279.27,95.2176 1591.18,95.2176 1591.18,302.578 \n",
       "  \"/>\n",
       "<polyline clip-path=\"url(#clip800)\" style=\"stroke:#009af9; stroke-linecap:butt; stroke-linejoin:round; stroke-width:4; stroke-opacity:1; fill:none\" points=\"\n",
       "  1615.67,147.058 1762.65,147.058 \n",
       "  \"/>\n",
       "<path clip-path=\"url(#clip800)\" d=\"M1803.54 148.134 Q1805.04 148.643 1806.46 150.31 Q1807.89 151.977 1809.33 154.893 L1814.07 164.338 L1809.05 164.338 L1804.63 155.472 Q1802.91 152 1801.29 150.865 Q1799.7 149.731 1796.92 149.731 L1791.83 149.731 L1791.83 164.338 L1787.15 164.338 L1787.15 129.778 L1797.71 129.778 Q1803.63 129.778 1806.55 132.254 Q1809.46 134.731 1809.46 139.731 Q1809.46 142.995 1807.94 145.148 Q1806.43 147.301 1803.54 148.134 M1791.83 133.62 L1791.83 145.889 L1797.71 145.889 Q1801.09 145.889 1802.8 144.338 Q1804.53 142.764 1804.53 139.731 Q1804.53 136.699 1802.8 135.171 Q1801.09 133.62 1797.71 133.62 L1791.83 133.62 Z\" fill=\"#000000\" fill-rule=\"evenodd\" fill-opacity=\"1\" /><path clip-path=\"url(#clip800)\" d=\"M1839.95 150.31 L1839.95 152.393 L1820.37 152.393 Q1820.65 156.791 1823.01 159.106 Q1825.39 161.398 1829.63 161.398 Q1832.08 161.398 1834.37 160.796 Q1836.69 160.194 1838.96 158.99 L1838.96 163.018 Q1836.66 163.99 1834.26 164.5 Q1831.85 165.009 1829.37 165.009 Q1823.17 165.009 1819.53 161.398 Q1815.92 157.787 1815.92 151.629 Q1815.92 145.264 1819.35 141.537 Q1822.8 137.787 1828.63 137.787 Q1833.86 137.787 1836.9 141.166 Q1839.95 144.523 1839.95 150.31 M1835.69 149.06 Q1835.65 145.565 1833.72 143.481 Q1831.83 141.398 1828.68 141.398 Q1825.11 141.398 1822.96 143.412 Q1820.83 145.426 1820.51 149.083 L1835.69 149.06 Z\" fill=\"#000000\" fill-rule=\"evenodd\" fill-opacity=\"1\" /><path clip-path=\"url(#clip800)\" d=\"M1864 151.074 Q1864 146.444 1862.08 143.898 Q1860.18 141.352 1856.73 141.352 Q1853.31 141.352 1851.39 143.898 Q1849.49 146.444 1849.49 151.074 Q1849.49 155.68 1851.39 158.226 Q1853.31 160.773 1856.73 160.773 Q1860.18 160.773 1862.08 158.226 Q1864 155.68 1864 151.074 M1868.26 161.12 Q1868.26 167.74 1865.32 170.958 Q1862.38 174.199 1856.32 174.199 Q1854.07 174.199 1852.08 173.851 Q1850.09 173.527 1848.21 172.833 L1848.21 168.689 Q1850.09 169.708 1851.92 170.194 Q1853.75 170.68 1855.64 170.68 Q1859.83 170.68 1861.92 168.481 Q1864 166.305 1864 161.884 L1864 159.777 Q1862.68 162.069 1860.62 163.203 Q1858.56 164.338 1855.69 164.338 Q1850.92 164.338 1848.01 160.703 Q1845.09 157.069 1845.09 151.074 Q1845.09 145.055 1848.01 141.421 Q1850.92 137.787 1855.69 137.787 Q1858.56 137.787 1860.62 138.921 Q1862.68 140.055 1864 142.347 L1864 138.412 L1868.26 138.412 L1868.26 161.12 Z\" fill=\"#000000\" fill-rule=\"evenodd\" fill-opacity=\"1\" /><path clip-path=\"url(#clip800)\" d=\"M1892.06 142.393 Q1891.34 141.977 1890.48 141.791 Q1889.65 141.583 1888.63 141.583 Q1885.02 141.583 1883.08 143.944 Q1881.15 146.282 1881.15 150.68 L1881.15 164.338 L1876.87 164.338 L1876.87 138.412 L1881.15 138.412 L1881.15 142.44 Q1882.5 140.078 1884.65 138.944 Q1886.8 137.787 1889.88 137.787 Q1890.32 137.787 1890.85 137.856 Q1891.39 137.903 1892.03 138.018 L1892.06 142.393 Z\" fill=\"#000000\" fill-rule=\"evenodd\" fill-opacity=\"1\" /><path clip-path=\"url(#clip800)\" d=\"M1917.66 150.31 L1917.66 152.393 L1898.08 152.393 Q1898.35 156.791 1900.71 159.106 Q1903.1 161.398 1907.33 161.398 Q1909.79 161.398 1912.08 160.796 Q1914.39 160.194 1916.66 158.99 L1916.66 163.018 Q1914.37 163.99 1911.96 164.5 Q1909.56 165.009 1907.08 165.009 Q1900.88 165.009 1897.24 161.398 Q1893.63 157.787 1893.63 151.629 Q1893.63 145.264 1897.06 141.537 Q1900.51 137.787 1906.34 137.787 Q1911.57 137.787 1914.6 141.166 Q1917.66 144.523 1917.66 150.31 M1913.4 149.06 Q1913.35 145.565 1911.43 143.481 Q1909.53 141.398 1906.39 141.398 Q1902.82 141.398 1900.67 143.412 Q1898.54 145.426 1898.21 149.083 L1913.4 149.06 Z\" fill=\"#000000\" fill-rule=\"evenodd\" fill-opacity=\"1\" /><path clip-path=\"url(#clip800)\" d=\"M1941.18 139.176 L1941.18 143.203 Q1939.37 142.277 1937.43 141.815 Q1935.48 141.352 1933.4 141.352 Q1930.23 141.352 1928.63 142.324 Q1927.06 143.296 1927.06 145.24 Q1927.06 146.722 1928.19 147.578 Q1929.33 148.412 1932.75 149.176 L1934.21 149.5 Q1938.75 150.472 1940.64 152.254 Q1942.57 154.014 1942.57 157.185 Q1942.57 160.796 1939.7 162.902 Q1936.85 165.009 1931.85 165.009 Q1929.76 165.009 1927.5 164.592 Q1925.25 164.199 1922.75 163.388 L1922.75 158.99 Q1925.11 160.217 1927.4 160.842 Q1929.7 161.444 1931.94 161.444 Q1934.95 161.444 1936.57 160.426 Q1938.19 159.384 1938.19 157.509 Q1938.19 155.773 1937.01 154.847 Q1935.85 153.921 1931.89 153.064 L1930.41 152.717 Q1926.45 151.884 1924.7 150.171 Q1922.94 148.435 1922.94 145.426 Q1922.94 141.768 1925.53 139.778 Q1928.12 137.787 1932.89 137.787 Q1935.25 137.787 1937.33 138.134 Q1939.42 138.481 1941.18 139.176 Z\" fill=\"#000000\" fill-rule=\"evenodd\" fill-opacity=\"1\" /><path clip-path=\"url(#clip800)\" d=\"M1965.88 139.176 L1965.88 143.203 Q1964.07 142.277 1962.13 141.815 Q1960.18 141.352 1958.1 141.352 Q1954.93 141.352 1953.33 142.324 Q1951.76 143.296 1951.76 145.24 Q1951.76 146.722 1952.89 147.578 Q1954.02 148.412 1957.45 149.176 L1958.91 149.5 Q1963.45 150.472 1965.34 152.254 Q1967.26 154.014 1967.26 157.185 Q1967.26 160.796 1964.39 162.902 Q1961.55 165.009 1956.55 165.009 Q1954.46 165.009 1952.2 164.592 Q1949.95 164.199 1947.45 163.388 L1947.45 158.99 Q1949.81 160.217 1952.1 160.842 Q1954.39 161.444 1956.64 161.444 Q1959.65 161.444 1961.27 160.426 Q1962.89 159.384 1962.89 157.509 Q1962.89 155.773 1961.71 154.847 Q1960.55 153.921 1956.59 153.064 L1955.11 152.717 Q1951.15 151.884 1949.39 150.171 Q1947.64 148.435 1947.64 145.426 Q1947.64 141.768 1950.23 139.778 Q1952.82 137.787 1957.59 137.787 Q1959.95 137.787 1962.03 138.134 Q1964.12 138.481 1965.88 139.176 Z\" fill=\"#000000\" fill-rule=\"evenodd\" fill-opacity=\"1\" /><path clip-path=\"url(#clip800)\" d=\"M1985.83 151.305 Q1980.67 151.305 1978.68 152.486 Q1976.69 153.666 1976.69 156.514 Q1976.69 158.782 1978.17 160.125 Q1979.67 161.444 1982.24 161.444 Q1985.78 161.444 1987.91 158.944 Q1990.07 156.421 1990.07 152.254 L1990.07 151.305 L1985.83 151.305 M1994.32 149.546 L1994.32 164.338 L1990.07 164.338 L1990.07 160.402 Q1988.61 162.763 1986.43 163.898 Q1984.26 165.009 1981.11 165.009 Q1977.13 165.009 1974.76 162.787 Q1972.43 160.541 1972.43 156.791 Q1972.43 152.416 1975.34 150.194 Q1978.28 147.972 1984.09 147.972 L1990.07 147.972 L1990.07 147.555 Q1990.07 144.615 1988.12 143.018 Q1986.2 141.398 1982.7 141.398 Q1980.48 141.398 1978.38 141.93 Q1976.27 142.463 1974.32 143.527 L1974.32 139.592 Q1976.66 138.69 1978.86 138.25 Q1981.06 137.787 1983.14 137.787 Q1988.77 137.787 1991.55 140.703 Q1994.32 143.62 1994.32 149.546 M1983.24 132.625 L1981.92 131.352 Q1981.41 130.889 1981.01 130.68 Q1980.64 130.449 1980.34 130.449 Q1979.46 130.449 1979.05 131.305 Q1978.63 132.139 1978.58 134.037 L1975.69 134.037 Q1975.74 130.912 1976.92 129.222 Q1978.1 127.509 1980.2 127.509 Q1981.08 127.509 1981.82 127.833 Q1982.57 128.157 1983.42 128.921 L1984.74 130.194 Q1985.25 130.657 1985.62 130.889 Q1986.01 131.097 1986.32 131.097 Q1987.2 131.097 1987.61 130.264 Q1988.03 129.407 1988.07 127.509 L1990.97 127.509 Q1990.92 130.634 1989.74 132.347 Q1988.56 134.037 1986.45 134.037 Q1985.57 134.037 1984.83 133.713 Q1984.09 133.389 1983.24 132.625 Z\" fill=\"#000000\" fill-rule=\"evenodd\" fill-opacity=\"1\" /><path clip-path=\"url(#clip800)\" d=\"M2013.14 141.398 Q2009.72 141.398 2007.73 144.083 Q2005.74 146.745 2005.74 151.398 Q2005.74 156.051 2007.7 158.736 Q2009.7 161.398 2013.14 161.398 Q2016.55 161.398 2018.54 158.713 Q2020.53 156.027 2020.53 151.398 Q2020.53 146.791 2018.54 144.106 Q2016.55 141.398 2013.14 141.398 M2013.14 137.787 Q2018.7 137.787 2021.87 141.398 Q2025.04 145.009 2025.04 151.398 Q2025.04 157.764 2021.87 161.398 Q2018.7 165.009 2013.14 165.009 Q2007.57 165.009 2004.39 161.398 Q2001.25 157.764 2001.25 151.398 Q2001.25 145.009 2004.39 141.398 Q2007.57 137.787 2013.14 137.787 Z\" fill=\"#000000\" fill-rule=\"evenodd\" fill-opacity=\"1\" /><path clip-path=\"url(#clip800)\" d=\"M2070.92 159.407 L2070.92 150.125 L2063.28 150.125 L2063.28 146.282 L2075.55 146.282 L2075.55 161.12 Q2072.84 163.041 2069.58 164.037 Q2066.32 165.009 2062.61 165.009 Q2054.51 165.009 2049.93 160.287 Q2045.37 155.541 2045.37 147.092 Q2045.37 138.62 2049.93 133.898 Q2054.51 129.153 2062.61 129.153 Q2065.99 129.153 2069.02 129.986 Q2072.08 130.819 2074.65 132.44 L2074.65 137.416 Q2072.06 135.217 2069.14 134.106 Q2066.22 132.995 2063 132.995 Q2056.66 132.995 2053.47 136.537 Q2050.3 140.078 2050.3 147.092 Q2050.3 154.083 2053.47 157.625 Q2056.66 161.166 2063 161.166 Q2065.48 161.166 2067.43 160.75 Q2069.37 160.31 2070.92 159.407 Z\" fill=\"#000000\" fill-rule=\"evenodd\" fill-opacity=\"1\" /><path clip-path=\"url(#clip800)\" d=\"M2098.93 142.393 Q2098.21 141.977 2097.36 141.791 Q2096.52 141.583 2095.5 141.583 Q2091.89 141.583 2089.95 143.944 Q2088.03 146.282 2088.03 150.68 L2088.03 164.338 L2083.75 164.338 L2083.75 138.412 L2088.03 138.412 L2088.03 142.44 Q2089.37 140.078 2091.52 138.944 Q2093.68 137.787 2096.75 137.787 Q2097.19 137.787 2097.73 137.856 Q2098.26 137.903 2098.91 138.018 L2098.93 142.393 Z\" fill=\"#000000\" fill-rule=\"evenodd\" fill-opacity=\"1\" /><path clip-path=\"url(#clip800)\" d=\"M2115.18 151.305 Q2110.02 151.305 2108.03 152.486 Q2106.04 153.666 2106.04 156.514 Q2106.04 158.782 2107.52 160.125 Q2109.02 161.444 2111.59 161.444 Q2115.13 161.444 2117.26 158.944 Q2119.42 156.421 2119.42 152.254 L2119.42 151.305 L2115.18 151.305 M2123.68 149.546 L2123.68 164.338 L2119.42 164.338 L2119.42 160.402 Q2117.96 162.763 2115.78 163.898 Q2113.61 165.009 2110.46 165.009 Q2106.48 165.009 2104.12 162.787 Q2101.78 160.541 2101.78 156.791 Q2101.78 152.416 2104.69 150.194 Q2107.63 147.972 2113.44 147.972 L2119.42 147.972 L2119.42 147.555 Q2119.42 144.615 2117.47 143.018 Q2115.55 141.398 2112.06 141.398 Q2109.83 141.398 2107.73 141.93 Q2105.62 142.463 2103.68 143.527 L2103.68 139.592 Q2106.01 138.69 2108.21 138.25 Q2110.41 137.787 2112.5 137.787 Q2118.12 137.787 2120.9 140.703 Q2123.68 143.62 2123.68 149.546 Z\" fill=\"#000000\" fill-rule=\"evenodd\" fill-opacity=\"1\" /><path clip-path=\"url(#clip800)\" d=\"M2132.01 154.106 L2132.01 138.412 L2136.27 138.412 L2136.27 153.944 Q2136.27 157.625 2137.7 159.476 Q2139.14 161.305 2142.01 161.305 Q2145.46 161.305 2147.45 159.106 Q2149.46 156.907 2149.46 153.111 L2149.46 138.412 L2153.72 138.412 L2153.72 164.338 L2149.46 164.338 L2149.46 160.356 Q2147.91 162.717 2145.85 163.875 Q2143.81 165.009 2141.11 165.009 Q2136.64 165.009 2134.32 162.231 Q2132.01 159.453 2132.01 154.106 M2142.73 137.787 L2142.73 137.787 Z\" fill=\"#000000\" fill-rule=\"evenodd\" fill-opacity=\"1\" /><path clip-path=\"url(#clip800)\" d=\"M2178.21 129.778 L2196.57 129.778 L2196.57 133.713 L2182.5 133.713 L2182.5 142.185 Q2183.51 141.838 2184.53 141.676 Q2185.55 141.49 2186.57 141.49 Q2192.36 141.49 2195.74 144.662 Q2199.12 147.833 2199.12 153.25 Q2199.12 158.828 2195.64 161.93 Q2192.17 165.009 2185.85 165.009 Q2183.68 165.009 2181.41 164.638 Q2179.16 164.268 2176.75 163.527 L2176.75 158.828 Q2178.84 159.963 2181.06 160.518 Q2183.28 161.074 2185.76 161.074 Q2189.76 161.074 2192.1 158.967 Q2194.44 156.861 2194.44 153.25 Q2194.44 149.639 2192.1 147.532 Q2189.76 145.426 2185.76 145.426 Q2183.88 145.426 2182.01 145.842 Q2180.16 146.259 2178.21 147.139 L2178.21 129.778 Z\" fill=\"#000000\" fill-rule=\"evenodd\" fill-opacity=\"1\" /><path clip-path=\"url(#clip800)\" d=\"M2218.33 132.856 Q2214.72 132.856 2212.89 136.421 Q2211.08 139.963 2211.08 147.092 Q2211.08 154.199 2212.89 157.764 Q2214.72 161.305 2218.33 161.305 Q2221.96 161.305 2223.77 157.764 Q2225.6 154.199 2225.6 147.092 Q2225.6 139.963 2223.77 136.421 Q2221.96 132.856 2218.33 132.856 M2218.33 129.153 Q2224.14 129.153 2227.19 133.759 Q2230.27 138.342 2230.27 147.092 Q2230.27 155.819 2227.19 160.426 Q2224.14 165.009 2218.33 165.009 Q2212.52 165.009 2209.44 160.426 Q2206.38 155.819 2206.38 147.092 Q2206.38 138.342 2209.44 133.759 Q2212.52 129.153 2218.33 129.153 Z\" fill=\"#000000\" fill-rule=\"evenodd\" fill-opacity=\"1\" /><polyline clip-path=\"url(#clip800)\" style=\"stroke:#e26f46; stroke-linecap:butt; stroke-linejoin:round; stroke-width:4; stroke-opacity:1; fill:none\" points=\"\n",
       "  1615.67,198.898 1762.65,198.898 \n",
       "  \"/>\n",
       "<path clip-path=\"url(#clip800)\" d=\"M1803.54 199.974 Q1805.04 200.483 1806.46 202.15 Q1807.89 203.817 1809.33 206.733 L1814.07 216.178 L1809.05 216.178 L1804.63 207.312 Q1802.91 203.84 1801.29 202.705 Q1799.7 201.571 1796.92 201.571 L1791.83 201.571 L1791.83 216.178 L1787.15 216.178 L1787.15 181.618 L1797.71 181.618 Q1803.63 181.618 1806.55 184.094 Q1809.46 186.571 1809.46 191.571 Q1809.46 194.835 1807.94 196.988 Q1806.43 199.141 1803.54 199.974 M1791.83 185.46 L1791.83 197.729 L1797.71 197.729 Q1801.09 197.729 1802.8 196.178 Q1804.53 194.604 1804.53 191.571 Q1804.53 188.539 1802.8 187.011 Q1801.09 185.46 1797.71 185.46 L1791.83 185.46 Z\" fill=\"#000000\" fill-rule=\"evenodd\" fill-opacity=\"1\" /><path clip-path=\"url(#clip800)\" d=\"M1839.95 202.15 L1839.95 204.233 L1820.37 204.233 Q1820.65 208.631 1823.01 210.946 Q1825.39 213.238 1829.63 213.238 Q1832.08 213.238 1834.37 212.636 Q1836.69 212.034 1838.96 210.83 L1838.96 214.858 Q1836.66 215.83 1834.26 216.34 Q1831.85 216.849 1829.37 216.849 Q1823.17 216.849 1819.53 213.238 Q1815.92 209.627 1815.92 203.469 Q1815.92 197.104 1819.35 193.377 Q1822.8 189.627 1828.63 189.627 Q1833.86 189.627 1836.9 193.006 Q1839.95 196.363 1839.95 202.15 M1835.69 200.9 Q1835.65 197.405 1833.72 195.321 Q1831.83 193.238 1828.68 193.238 Q1825.11 193.238 1822.96 195.252 Q1820.83 197.266 1820.51 200.923 L1835.69 200.9 Z\" fill=\"#000000\" fill-rule=\"evenodd\" fill-opacity=\"1\" /><path clip-path=\"url(#clip800)\" d=\"M1864 202.914 Q1864 198.284 1862.08 195.738 Q1860.18 193.192 1856.73 193.192 Q1853.31 193.192 1851.39 195.738 Q1849.49 198.284 1849.49 202.914 Q1849.49 207.52 1851.39 210.066 Q1853.31 212.613 1856.73 212.613 Q1860.18 212.613 1862.08 210.066 Q1864 207.52 1864 202.914 M1868.26 212.96 Q1868.26 219.58 1865.32 222.798 Q1862.38 226.039 1856.32 226.039 Q1854.07 226.039 1852.08 225.691 Q1850.09 225.367 1848.21 224.673 L1848.21 220.529 Q1850.09 221.548 1851.92 222.034 Q1853.75 222.52 1855.64 222.52 Q1859.83 222.52 1861.92 220.321 Q1864 218.145 1864 213.724 L1864 211.617 Q1862.68 213.909 1860.62 215.043 Q1858.56 216.178 1855.69 216.178 Q1850.92 216.178 1848.01 212.543 Q1845.09 208.909 1845.09 202.914 Q1845.09 196.895 1848.01 193.261 Q1850.92 189.627 1855.69 189.627 Q1858.56 189.627 1860.62 190.761 Q1862.68 191.895 1864 194.187 L1864 190.252 L1868.26 190.252 L1868.26 212.96 Z\" fill=\"#000000\" fill-rule=\"evenodd\" fill-opacity=\"1\" /><path clip-path=\"url(#clip800)\" d=\"M1892.06 194.233 Q1891.34 193.817 1890.48 193.631 Q1889.65 193.423 1888.63 193.423 Q1885.02 193.423 1883.08 195.784 Q1881.15 198.122 1881.15 202.52 L1881.15 216.178 L1876.87 216.178 L1876.87 190.252 L1881.15 190.252 L1881.15 194.28 Q1882.5 191.918 1884.65 190.784 Q1886.8 189.627 1889.88 189.627 Q1890.32 189.627 1890.85 189.696 Q1891.39 189.743 1892.03 189.858 L1892.06 194.233 Z\" fill=\"#000000\" fill-rule=\"evenodd\" fill-opacity=\"1\" /><path clip-path=\"url(#clip800)\" d=\"M1917.66 202.15 L1917.66 204.233 L1898.08 204.233 Q1898.35 208.631 1900.71 210.946 Q1903.1 213.238 1907.33 213.238 Q1909.79 213.238 1912.08 212.636 Q1914.39 212.034 1916.66 210.83 L1916.66 214.858 Q1914.37 215.83 1911.96 216.34 Q1909.56 216.849 1907.08 216.849 Q1900.88 216.849 1897.24 213.238 Q1893.63 209.627 1893.63 203.469 Q1893.63 197.104 1897.06 193.377 Q1900.51 189.627 1906.34 189.627 Q1911.57 189.627 1914.6 193.006 Q1917.66 196.363 1917.66 202.15 M1913.4 200.9 Q1913.35 197.405 1911.43 195.321 Q1909.53 193.238 1906.39 193.238 Q1902.82 193.238 1900.67 195.252 Q1898.54 197.266 1898.21 200.923 L1913.4 200.9 Z\" fill=\"#000000\" fill-rule=\"evenodd\" fill-opacity=\"1\" /><path clip-path=\"url(#clip800)\" d=\"M1941.18 191.016 L1941.18 195.043 Q1939.37 194.117 1937.43 193.655 Q1935.48 193.192 1933.4 193.192 Q1930.23 193.192 1928.63 194.164 Q1927.06 195.136 1927.06 197.08 Q1927.06 198.562 1928.19 199.418 Q1929.33 200.252 1932.75 201.016 L1934.21 201.34 Q1938.75 202.312 1940.64 204.094 Q1942.57 205.854 1942.57 209.025 Q1942.57 212.636 1939.7 214.742 Q1936.85 216.849 1931.85 216.849 Q1929.76 216.849 1927.5 216.432 Q1925.25 216.039 1922.75 215.228 L1922.75 210.83 Q1925.11 212.057 1927.4 212.682 Q1929.7 213.284 1931.94 213.284 Q1934.95 213.284 1936.57 212.266 Q1938.19 211.224 1938.19 209.349 Q1938.19 207.613 1937.01 206.687 Q1935.85 205.761 1931.89 204.904 L1930.41 204.557 Q1926.45 203.724 1924.7 202.011 Q1922.94 200.275 1922.94 197.266 Q1922.94 193.608 1925.53 191.618 Q1928.12 189.627 1932.89 189.627 Q1935.25 189.627 1937.33 189.974 Q1939.42 190.321 1941.18 191.016 Z\" fill=\"#000000\" fill-rule=\"evenodd\" fill-opacity=\"1\" /><path clip-path=\"url(#clip800)\" d=\"M1965.88 191.016 L1965.88 195.043 Q1964.07 194.117 1962.13 193.655 Q1960.18 193.192 1958.1 193.192 Q1954.93 193.192 1953.33 194.164 Q1951.76 195.136 1951.76 197.08 Q1951.76 198.562 1952.89 199.418 Q1954.02 200.252 1957.45 201.016 L1958.91 201.34 Q1963.45 202.312 1965.34 204.094 Q1967.26 205.854 1967.26 209.025 Q1967.26 212.636 1964.39 214.742 Q1961.55 216.849 1956.55 216.849 Q1954.46 216.849 1952.2 216.432 Q1949.95 216.039 1947.45 215.228 L1947.45 210.83 Q1949.81 212.057 1952.1 212.682 Q1954.39 213.284 1956.64 213.284 Q1959.65 213.284 1961.27 212.266 Q1962.89 211.224 1962.89 209.349 Q1962.89 207.613 1961.71 206.687 Q1960.55 205.761 1956.59 204.904 L1955.11 204.557 Q1951.15 203.724 1949.39 202.011 Q1947.64 200.275 1947.64 197.266 Q1947.64 193.608 1950.23 191.618 Q1952.82 189.627 1957.59 189.627 Q1959.95 189.627 1962.03 189.974 Q1964.12 190.321 1965.88 191.016 Z\" fill=\"#000000\" fill-rule=\"evenodd\" fill-opacity=\"1\" /><path clip-path=\"url(#clip800)\" d=\"M1985.83 203.145 Q1980.67 203.145 1978.68 204.326 Q1976.69 205.506 1976.69 208.354 Q1976.69 210.622 1978.17 211.965 Q1979.67 213.284 1982.24 213.284 Q1985.78 213.284 1987.91 210.784 Q1990.07 208.261 1990.07 204.094 L1990.07 203.145 L1985.83 203.145 M1994.32 201.386 L1994.32 216.178 L1990.07 216.178 L1990.07 212.242 Q1988.61 214.603 1986.43 215.738 Q1984.26 216.849 1981.11 216.849 Q1977.13 216.849 1974.76 214.627 Q1972.43 212.381 1972.43 208.631 Q1972.43 204.256 1975.34 202.034 Q1978.28 199.812 1984.09 199.812 L1990.07 199.812 L1990.07 199.395 Q1990.07 196.455 1988.12 194.858 Q1986.2 193.238 1982.7 193.238 Q1980.48 193.238 1978.38 193.77 Q1976.27 194.303 1974.32 195.367 L1974.32 191.432 Q1976.66 190.53 1978.86 190.09 Q1981.06 189.627 1983.14 189.627 Q1988.77 189.627 1991.55 192.543 Q1994.32 195.46 1994.32 201.386 M1983.24 184.465 L1981.92 183.192 Q1981.41 182.729 1981.01 182.52 Q1980.64 182.289 1980.34 182.289 Q1979.46 182.289 1979.05 183.145 Q1978.63 183.979 1978.58 185.877 L1975.69 185.877 Q1975.74 182.752 1976.92 181.062 Q1978.1 179.349 1980.2 179.349 Q1981.08 179.349 1981.82 179.673 Q1982.57 179.997 1983.42 180.761 L1984.74 182.034 Q1985.25 182.497 1985.62 182.729 Q1986.01 182.937 1986.32 182.937 Q1987.2 182.937 1987.61 182.104 Q1988.03 181.247 1988.07 179.349 L1990.97 179.349 Q1990.92 182.474 1989.74 184.187 Q1988.56 185.877 1986.45 185.877 Q1985.57 185.877 1984.83 185.553 Q1984.09 185.229 1983.24 184.465 Z\" fill=\"#000000\" fill-rule=\"evenodd\" fill-opacity=\"1\" /><path clip-path=\"url(#clip800)\" d=\"M2013.14 193.238 Q2009.72 193.238 2007.73 195.923 Q2005.74 198.585 2005.74 203.238 Q2005.74 207.891 2007.7 210.576 Q2009.7 213.238 2013.14 213.238 Q2016.55 213.238 2018.54 210.553 Q2020.53 207.867 2020.53 203.238 Q2020.53 198.631 2018.54 195.946 Q2016.55 193.238 2013.14 193.238 M2013.14 189.627 Q2018.7 189.627 2021.87 193.238 Q2025.04 196.849 2025.04 203.238 Q2025.04 209.604 2021.87 213.238 Q2018.7 216.849 2013.14 216.849 Q2007.57 216.849 2004.39 213.238 Q2001.25 209.604 2001.25 203.238 Q2001.25 196.849 2004.39 193.238 Q2007.57 189.627 2013.14 189.627 Z\" fill=\"#000000\" fill-rule=\"evenodd\" fill-opacity=\"1\" /><path clip-path=\"url(#clip800)\" d=\"M2070.92 211.247 L2070.92 201.965 L2063.28 201.965 L2063.28 198.122 L2075.55 198.122 L2075.55 212.96 Q2072.84 214.881 2069.58 215.877 Q2066.32 216.849 2062.61 216.849 Q2054.51 216.849 2049.93 212.127 Q2045.37 207.381 2045.37 198.932 Q2045.37 190.46 2049.93 185.738 Q2054.51 180.993 2062.61 180.993 Q2065.99 180.993 2069.02 181.826 Q2072.08 182.659 2074.65 184.28 L2074.65 189.256 Q2072.06 187.057 2069.14 185.946 Q2066.22 184.835 2063 184.835 Q2056.66 184.835 2053.47 188.377 Q2050.3 191.918 2050.3 198.932 Q2050.3 205.923 2053.47 209.465 Q2056.66 213.006 2063 213.006 Q2065.48 213.006 2067.43 212.59 Q2069.37 212.15 2070.92 211.247 Z\" fill=\"#000000\" fill-rule=\"evenodd\" fill-opacity=\"1\" /><path clip-path=\"url(#clip800)\" d=\"M2098.93 194.233 Q2098.21 193.817 2097.36 193.631 Q2096.52 193.423 2095.5 193.423 Q2091.89 193.423 2089.95 195.784 Q2088.03 198.122 2088.03 202.52 L2088.03 216.178 L2083.75 216.178 L2083.75 190.252 L2088.03 190.252 L2088.03 194.28 Q2089.37 191.918 2091.52 190.784 Q2093.68 189.627 2096.75 189.627 Q2097.19 189.627 2097.73 189.696 Q2098.26 189.743 2098.91 189.858 L2098.93 194.233 Z\" fill=\"#000000\" fill-rule=\"evenodd\" fill-opacity=\"1\" /><path clip-path=\"url(#clip800)\" d=\"M2115.18 203.145 Q2110.02 203.145 2108.03 204.326 Q2106.04 205.506 2106.04 208.354 Q2106.04 210.622 2107.52 211.965 Q2109.02 213.284 2111.59 213.284 Q2115.13 213.284 2117.26 210.784 Q2119.42 208.261 2119.42 204.094 L2119.42 203.145 L2115.18 203.145 M2123.68 201.386 L2123.68 216.178 L2119.42 216.178 L2119.42 212.242 Q2117.96 214.603 2115.78 215.738 Q2113.61 216.849 2110.46 216.849 Q2106.48 216.849 2104.12 214.627 Q2101.78 212.381 2101.78 208.631 Q2101.78 204.256 2104.69 202.034 Q2107.63 199.812 2113.44 199.812 L2119.42 199.812 L2119.42 199.395 Q2119.42 196.455 2117.47 194.858 Q2115.55 193.238 2112.06 193.238 Q2109.83 193.238 2107.73 193.77 Q2105.62 194.303 2103.68 195.367 L2103.68 191.432 Q2106.01 190.53 2108.21 190.09 Q2110.41 189.627 2112.5 189.627 Q2118.12 189.627 2120.9 192.543 Q2123.68 195.46 2123.68 201.386 Z\" fill=\"#000000\" fill-rule=\"evenodd\" fill-opacity=\"1\" /><path clip-path=\"url(#clip800)\" d=\"M2132.01 205.946 L2132.01 190.252 L2136.27 190.252 L2136.27 205.784 Q2136.27 209.465 2137.7 211.316 Q2139.14 213.145 2142.01 213.145 Q2145.46 213.145 2147.45 210.946 Q2149.46 208.747 2149.46 204.951 L2149.46 190.252 L2153.72 190.252 L2153.72 216.178 L2149.46 216.178 L2149.46 212.196 Q2147.91 214.557 2145.85 215.715 Q2143.81 216.849 2141.11 216.849 Q2136.64 216.849 2134.32 214.071 Q2132.01 211.293 2132.01 205.946 M2142.73 189.627 L2142.73 189.627 Z\" fill=\"#000000\" fill-rule=\"evenodd\" fill-opacity=\"1\" /><path clip-path=\"url(#clip800)\" d=\"M2178.21 181.618 L2196.57 181.618 L2196.57 185.553 L2182.5 185.553 L2182.5 194.025 Q2183.51 193.678 2184.53 193.516 Q2185.55 193.33 2186.57 193.33 Q2192.36 193.33 2195.74 196.502 Q2199.12 199.673 2199.12 205.09 Q2199.12 210.668 2195.64 213.77 Q2192.17 216.849 2185.85 216.849 Q2183.68 216.849 2181.41 216.478 Q2179.16 216.108 2176.75 215.367 L2176.75 210.668 Q2178.84 211.803 2181.06 212.358 Q2183.28 212.914 2185.76 212.914 Q2189.76 212.914 2192.1 210.807 Q2194.44 208.701 2194.44 205.09 Q2194.44 201.479 2192.1 199.372 Q2189.76 197.266 2185.76 197.266 Q2183.88 197.266 2182.01 197.682 Q2180.16 198.099 2178.21 198.979 L2178.21 181.618 Z\" fill=\"#000000\" fill-rule=\"evenodd\" fill-opacity=\"1\" /><circle clip-path=\"url(#clip800)\" cx=\"1689.16\" cy=\"250.738\" r=\"23\" fill=\"#3da44d\" fill-rule=\"evenodd\" fill-opacity=\"1\" stroke=\"#000000\" stroke-opacity=\"1\" stroke-width=\"5.12\"/>\n",
       "<path clip-path=\"url(#clip800)\" d=\"M1791.83 237.3 L1791.83 250.286 L1797.71 250.286 Q1800.97 250.286 1802.75 248.596 Q1804.53 246.907 1804.53 243.782 Q1804.53 240.68 1802.75 238.99 Q1800.97 237.3 1797.71 237.3 L1791.83 237.3 M1787.15 233.458 L1797.71 233.458 Q1803.52 233.458 1806.48 236.096 Q1809.46 238.712 1809.46 243.782 Q1809.46 248.897 1806.48 251.513 Q1803.52 254.129 1797.71 254.129 L1791.83 254.129 L1791.83 268.018 L1787.15 268.018 L1787.15 233.458 Z\" fill=\"#000000\" fill-rule=\"evenodd\" fill-opacity=\"1\" /><path clip-path=\"url(#clip800)\" d=\"M1823.91 245.078 Q1820.48 245.078 1818.49 247.763 Q1816.5 250.425 1816.5 255.078 Q1816.5 259.731 1818.47 262.416 Q1820.46 265.078 1823.91 265.078 Q1827.31 265.078 1829.3 262.393 Q1831.29 259.707 1831.29 255.078 Q1831.29 250.471 1829.3 247.786 Q1827.31 245.078 1823.91 245.078 M1823.91 241.467 Q1829.46 241.467 1832.64 245.078 Q1835.81 248.689 1835.81 255.078 Q1835.81 261.444 1832.64 265.078 Q1829.46 268.689 1823.91 268.689 Q1818.33 268.689 1815.16 265.078 Q1812.01 261.444 1812.01 255.078 Q1812.01 248.689 1815.16 245.078 Q1818.33 241.467 1823.91 241.467 Z\" fill=\"#000000\" fill-rule=\"evenodd\" fill-opacity=\"1\" /><path clip-path=\"url(#clip800)\" d=\"M1864.42 252.369 L1864.42 268.018 L1860.16 268.018 L1860.16 252.508 Q1860.16 248.828 1858.72 246.999 Q1857.29 245.17 1854.42 245.17 Q1850.97 245.17 1848.98 247.37 Q1846.99 249.569 1846.99 253.365 L1846.99 268.018 L1842.71 268.018 L1842.71 242.092 L1846.99 242.092 L1846.99 246.12 Q1848.52 243.782 1850.58 242.624 Q1852.66 241.467 1855.37 241.467 Q1859.83 241.467 1862.13 244.245 Q1864.42 246.999 1864.42 252.369 Z\" fill=\"#000000\" fill-rule=\"evenodd\" fill-opacity=\"1\" /><path clip-path=\"url(#clip800)\" d=\"M1877.13 234.731 L1877.13 242.092 L1885.9 242.092 L1885.9 245.402 L1877.13 245.402 L1877.13 259.476 Q1877.13 262.647 1877.98 263.55 Q1878.86 264.453 1881.52 264.453 L1885.9 264.453 L1885.9 268.018 L1881.52 268.018 Q1876.59 268.018 1874.72 266.189 Q1872.84 264.337 1872.84 259.476 L1872.84 245.402 L1869.72 245.402 L1869.72 242.092 L1872.84 242.092 L1872.84 234.731 L1877.13 234.731 Z\" fill=\"#000000\" fill-rule=\"evenodd\" fill-opacity=\"1\" /><path clip-path=\"url(#clip800)\" d=\"M1901.55 245.078 Q1898.12 245.078 1896.13 247.763 Q1894.14 250.425 1894.14 255.078 Q1894.14 259.731 1896.11 262.416 Q1898.1 265.078 1901.55 265.078 Q1904.95 265.078 1906.94 262.393 Q1908.93 259.707 1908.93 255.078 Q1908.93 250.471 1906.94 247.786 Q1904.95 245.078 1901.55 245.078 M1901.55 241.467 Q1907.1 241.467 1910.27 245.078 Q1913.45 248.689 1913.45 255.078 Q1913.45 261.444 1910.27 265.078 Q1907.1 268.689 1901.55 268.689 Q1895.97 268.689 1892.8 265.078 Q1889.65 261.444 1889.65 255.078 Q1889.65 248.689 1892.8 245.078 Q1895.97 241.467 1901.55 241.467 Z\" fill=\"#000000\" fill-rule=\"evenodd\" fill-opacity=\"1\" /><path clip-path=\"url(#clip800)\" d=\"M1937.03 242.856 L1937.03 246.883 Q1935.23 245.957 1933.28 245.495 Q1931.34 245.032 1929.26 245.032 Q1926.08 245.032 1924.49 246.004 Q1922.91 246.976 1922.91 248.92 Q1922.91 250.402 1924.05 251.258 Q1925.18 252.092 1928.61 252.856 L1930.07 253.18 Q1934.6 254.152 1936.5 255.934 Q1938.42 257.694 1938.42 260.865 Q1938.42 264.476 1935.55 266.582 Q1932.7 268.689 1927.7 268.689 Q1925.62 268.689 1923.35 268.272 Q1921.11 267.879 1918.61 267.068 L1918.61 262.67 Q1920.97 263.897 1923.26 264.522 Q1925.55 265.124 1927.8 265.124 Q1930.81 265.124 1932.43 264.106 Q1934.05 263.064 1934.05 261.189 Q1934.05 259.453 1932.87 258.527 Q1931.71 257.601 1927.75 256.744 L1926.27 256.397 Q1922.31 255.564 1920.55 253.851 Q1918.79 252.115 1918.79 249.106 Q1918.79 245.448 1921.39 243.458 Q1923.98 241.467 1928.75 241.467 Q1931.11 241.467 1933.19 241.814 Q1935.27 242.161 1937.03 242.856 Z\" fill=\"#000000\" fill-rule=\"evenodd\" fill-opacity=\"1\" /><path clip-path=\"url(#clip800)\" d=\"M1972.06 254.985 Q1966.89 254.985 1964.9 256.166 Q1962.91 257.346 1962.91 260.194 Q1962.91 262.462 1964.39 263.805 Q1965.9 265.124 1968.47 265.124 Q1972.01 265.124 1974.14 262.624 Q1976.29 260.101 1976.29 255.934 L1976.29 254.985 L1972.06 254.985 M1980.55 253.226 L1980.55 268.018 L1976.29 268.018 L1976.29 264.082 Q1974.83 266.443 1972.66 267.578 Q1970.48 268.689 1967.33 268.689 Q1963.35 268.689 1960.99 266.467 Q1958.65 264.221 1958.65 260.471 Q1958.65 256.096 1961.57 253.874 Q1964.51 251.652 1970.32 251.652 L1976.29 251.652 L1976.29 251.235 Q1976.29 248.295 1974.35 246.698 Q1972.43 245.078 1968.93 245.078 Q1966.71 245.078 1964.6 245.61 Q1962.5 246.143 1960.55 247.207 L1960.55 243.272 Q1962.89 242.37 1965.09 241.93 Q1967.29 241.467 1969.37 241.467 Q1975 241.467 1977.77 244.383 Q1980.55 247.3 1980.55 253.226 Z\" fill=\"#000000\" fill-rule=\"evenodd\" fill-opacity=\"1\" /><path clip-path=\"url(#clip800)\" d=\"M1989.32 231.999 L1993.58 231.999 L1993.58 268.018 L1989.32 268.018 L1989.32 231.999 Z\" fill=\"#000000\" fill-rule=\"evenodd\" fill-opacity=\"1\" /><path clip-path=\"url(#clip800)\" d=\"M2024.67 253.99 L2024.67 256.073 L2005.09 256.073 Q2005.37 260.471 2007.73 262.786 Q2010.11 265.078 2014.35 265.078 Q2016.8 265.078 2019.09 264.476 Q2021.41 263.874 2023.68 262.67 L2023.68 266.698 Q2021.38 267.67 2018.98 268.18 Q2016.57 268.689 2014.09 268.689 Q2007.89 268.689 2004.26 265.078 Q2000.64 261.467 2000.64 255.309 Q2000.64 248.944 2004.07 245.217 Q2007.52 241.467 2013.35 241.467 Q2018.58 241.467 2021.62 244.846 Q2024.67 248.203 2024.67 253.99 M2020.41 252.74 Q2020.37 249.245 2018.45 247.161 Q2016.55 245.078 2013.4 245.078 Q2009.83 245.078 2007.68 247.092 Q2005.55 249.106 2005.23 252.763 L2020.41 252.74 Z\" fill=\"#000000\" fill-rule=\"evenodd\" fill-opacity=\"1\" /><path clip-path=\"url(#clip800)\" d=\"M2043.44 254.985 Q2038.28 254.985 2036.29 256.166 Q2034.3 257.346 2034.3 260.194 Q2034.3 262.462 2035.78 263.805 Q2037.29 265.124 2039.86 265.124 Q2043.4 265.124 2045.53 262.624 Q2047.68 260.101 2047.68 255.934 L2047.68 254.985 L2043.44 254.985 M2051.94 253.226 L2051.94 268.018 L2047.68 268.018 L2047.68 264.082 Q2046.22 266.443 2044.05 267.578 Q2041.87 268.689 2038.72 268.689 Q2034.74 268.689 2032.38 266.467 Q2030.04 264.221 2030.04 260.471 Q2030.04 256.096 2032.96 253.874 Q2035.9 251.652 2041.71 251.652 L2047.68 251.652 L2047.68 251.235 Q2047.68 248.295 2045.74 246.698 Q2043.82 245.078 2040.32 245.078 Q2038.1 245.078 2035.99 245.61 Q2033.88 246.143 2031.94 247.207 L2031.94 243.272 Q2034.28 242.37 2036.48 241.93 Q2038.68 241.467 2040.76 241.467 Q2046.38 241.467 2049.16 244.383 Q2051.94 247.3 2051.94 253.226 Z\" fill=\"#000000\" fill-rule=\"evenodd\" fill-opacity=\"1\" /><path clip-path=\"url(#clip800)\" d=\"M2064.93 234.731 L2064.93 242.092 L2073.7 242.092 L2073.7 245.402 L2064.93 245.402 L2064.93 259.476 Q2064.93 262.647 2065.78 263.55 Q2066.66 264.453 2069.32 264.453 L2073.7 264.453 L2073.7 268.018 L2069.32 268.018 Q2064.39 268.018 2062.52 266.189 Q2060.64 264.337 2060.64 259.476 L2060.64 245.402 L2057.52 245.402 L2057.52 242.092 L2060.64 242.092 L2060.64 234.731 L2064.93 234.731 Z\" fill=\"#000000\" fill-rule=\"evenodd\" fill-opacity=\"1\" /><path clip-path=\"url(#clip800)\" d=\"M2089.35 245.078 Q2085.92 245.078 2083.93 247.763 Q2081.94 250.425 2081.94 255.078 Q2081.94 259.731 2083.91 262.416 Q2085.9 265.078 2089.35 265.078 Q2092.75 265.078 2094.74 262.393 Q2096.73 259.707 2096.73 255.078 Q2096.73 250.471 2094.74 247.786 Q2092.75 245.078 2089.35 245.078 M2089.35 241.467 Q2094.9 241.467 2098.07 245.078 Q2101.25 248.689 2101.25 255.078 Q2101.25 261.444 2098.07 265.078 Q2094.9 268.689 2089.35 268.689 Q2083.77 268.689 2080.6 265.078 Q2077.45 261.444 2077.45 255.078 Q2077.45 248.689 2080.6 245.078 Q2083.77 241.467 2089.35 241.467 M2092.57 230.101 L2097.17 230.101 L2089.63 238.805 L2086.08 238.805 L2092.57 230.101 Z\" fill=\"#000000\" fill-rule=\"evenodd\" fill-opacity=\"1\" /><path clip-path=\"url(#clip800)\" d=\"M2123.33 246.073 Q2122.61 245.657 2121.75 245.471 Q2120.92 245.263 2119.9 245.263 Q2116.29 245.263 2114.35 247.624 Q2112.43 249.962 2112.43 254.36 L2112.43 268.018 L2108.14 268.018 L2108.14 242.092 L2112.43 242.092 L2112.43 246.12 Q2113.77 243.758 2115.92 242.624 Q2118.07 241.467 2121.15 241.467 Q2121.59 241.467 2122.13 241.536 Q2122.66 241.583 2123.31 241.698 L2123.33 246.073 Z\" fill=\"#000000\" fill-rule=\"evenodd\" fill-opacity=\"1\" /><path clip-path=\"url(#clip800)\" d=\"M2127.8 242.092 L2132.06 242.092 L2132.06 268.018 L2127.8 268.018 L2127.8 242.092 M2127.8 231.999 L2132.06 231.999 L2132.06 237.393 L2127.8 237.393 L2127.8 231.999 Z\" fill=\"#000000\" fill-rule=\"evenodd\" fill-opacity=\"1\" /><path clip-path=\"url(#clip800)\" d=\"M2151.01 245.078 Q2147.59 245.078 2145.6 247.763 Q2143.61 250.425 2143.61 255.078 Q2143.61 259.731 2145.57 262.416 Q2147.56 265.078 2151.01 265.078 Q2154.42 265.078 2156.41 262.393 Q2158.4 259.707 2158.4 255.078 Q2158.4 250.471 2156.41 247.786 Q2154.42 245.078 2151.01 245.078 M2151.01 241.467 Q2156.57 241.467 2159.74 245.078 Q2162.91 248.689 2162.91 255.078 Q2162.91 261.444 2159.74 265.078 Q2156.57 268.689 2151.01 268.689 Q2145.44 268.689 2142.26 265.078 Q2139.12 261.444 2139.12 255.078 Q2139.12 248.689 2142.26 245.078 Q2145.44 241.467 2151.01 241.467 Z\" fill=\"#000000\" fill-rule=\"evenodd\" fill-opacity=\"1\" /><path clip-path=\"url(#clip800)\" d=\"M2186.5 242.856 L2186.5 246.883 Q2184.69 245.957 2182.75 245.495 Q2180.81 245.032 2178.72 245.032 Q2175.55 245.032 2173.95 246.004 Q2172.38 246.976 2172.38 248.92 Q2172.38 250.402 2173.51 251.258 Q2174.65 252.092 2178.07 252.856 L2179.53 253.18 Q2184.07 254.152 2185.97 255.934 Q2187.89 257.694 2187.89 260.865 Q2187.89 264.476 2185.02 266.582 Q2182.17 268.689 2177.17 268.689 Q2175.09 268.689 2172.82 268.272 Q2170.57 267.879 2168.07 267.068 L2168.07 262.67 Q2170.43 263.897 2172.73 264.522 Q2175.02 265.124 2177.26 265.124 Q2180.27 265.124 2181.89 264.106 Q2183.51 263.064 2183.51 261.189 Q2183.51 259.453 2182.33 258.527 Q2181.18 257.601 2177.22 256.744 L2175.74 256.397 Q2171.78 255.564 2170.02 253.851 Q2168.26 252.115 2168.26 249.106 Q2168.26 245.448 2170.85 243.458 Q2173.44 241.467 2178.21 241.467 Q2180.57 241.467 2182.66 241.814 Q2184.74 242.161 2186.5 242.856 Z\" fill=\"#000000\" fill-rule=\"evenodd\" fill-opacity=\"1\" /></svg>\n"
      ]
     },
     "execution_count": 16,
     "metadata": {},
     "output_type": "execute_result"
    }
   ],
   "source": [
    "plot(x,Polynomial(o).(x), label=\"Regressão Grau 50\", leg=true)\n",
    "plot!(x,Polynomial(i).(x), label=\"Regressão Grau 5\", leg=true)\n",
    "scatter!(x,y, label=\"Pontos aleatórios\")"
   ]
  },
  {
   "cell_type": "markdown",
   "id": "9bc4e8e7-8593-4408-b483-e54e42ef3ffd",
   "metadata": {},
   "source": [
    "Basicamente, o Julia consegue fazer a regressão com polinômios maiores que o 29 (número de pontos dados + 1). Provavelmente, dada uma maior quantidade de equações do que coefcientes, há uma liberdade para o estabelecimento de soluções, ou seja, não há uma saída única."
   ]
  },
  {
   "cell_type": "markdown",
   "id": "5ffe6096-9015-4615-9a98-7236154e245f",
   "metadata": {
    "tags": []
   },
   "source": [
    "### Item 1.2.4 Gráfico Erro total x Grau"
   ]
  },
  {
   "cell_type": "markdown",
   "id": "b8ee9c2a-a4a7-435d-93f3-42e4dcd5c9e9",
   "metadata": {},
   "source": [
    "Implementamos a função de erro total, que será necessária para a criação do gráfico:"
   ]
  },
  {
   "cell_type": "code",
   "execution_count": 17,
   "id": "aa5d8b4f-b696-4aa8-96fa-e5f9c76bb15a",
   "metadata": {},
   "outputs": [
    {
     "data": {
      "text/plain": [
       "erro_total (generic function with 1 method)"
      ]
     },
     "execution_count": 17,
     "metadata": {},
     "output_type": "execute_result"
    }
   ],
   "source": [
    "function erro_total(x,y,modelo)\n",
    "    n,=size(y)\n",
    "    S=0\n",
    "    for i=1:n\n",
    "        S=S+(y[i]-modelo(x[i]))^2\n",
    "    end\n",
    "    return sqrt(S)  \n",
    "end"
   ]
  },
  {
   "cell_type": "code",
   "execution_count": 18,
   "id": "7def5eb6-bf75-46ed-a145-12c301d4647f",
   "metadata": {},
   "outputs": [
    {
     "data": {
      "text/plain": [
       "erro_versus_grau (generic function with 1 method)"
      ]
     },
     "execution_count": 18,
     "metadata": {},
     "output_type": "execute_result"
    }
   ],
   "source": [
    "function erro_versus_grau(x,y,grau)\n",
    "    \n",
    "    #Criação de um vetor vazio com o tamanho sendo igual ao total de coeficientes\n",
    "    array_erros = Vector{Float64}(undef, grau+1) \n",
    "    \n",
    "    #Loop para fazer a regressão, transformar ela em um polinômio, torná-lo modelo e alocar o valor do erro total em um array que armazena todos os erros\n",
    "    for i=1:grau+1\n",
    "        o=regressão(x,y,i-1)\n",
    "        modelo=Polynomial(o)\n",
    "        array_erros[i]=erro_total(x,y,modelo)\n",
    "        print(\"Erro Grau \")\n",
    "        print(i-1)\n",
    "        print(\" >>> \")\n",
    "        print(array_erros[i])\n",
    "        print(\"\\n\")\n",
    "    end\n",
    "    \n",
    "    plot(array_erros,title=\"Erro Total x Grau\")\n",
    "end"
   ]
  },
  {
   "cell_type": "code",
   "execution_count": 19,
   "id": "4fbda42c-b9a2-4eaf-bd31-5411bdd48601",
   "metadata": {},
   "outputs": [
    {
     "name": "stdout",
     "output_type": "stream",
     "text": [
      "Erro Grau 0 >>> 5.344042448678303\n",
      "Erro Grau 1 >>> 5.308892497756501\n",
      "Erro Grau 2 >>> 5.1306017922091165\n",
      "Erro Grau 3 >>> 5.1269776003580905\n",
      "Erro Grau 4 >>> 5.124999360875871\n",
      "Erro Grau 5 >>> 5.102524085966476\n",
      "Erro Grau 6 >>> 5.04298797807723\n",
      "Erro Grau 7 >>> 5.030068545496784\n",
      "Erro Grau 8 >>> 5.029114743232748\n",
      "Erro Grau 9 >>> 5.0154471634803475\n",
      "Erro Grau 10 >>> 5.01464519085351\n",
      "Erro Grau 11 >>> 4.980234949549037\n",
      "Erro Grau 12 >>> 4.818850117883293\n",
      "Erro Grau 13 >>> 4.78110173532417\n",
      "Erro Grau 14 >>> 4.767766508054251\n",
      "Erro Grau 15 >>> 4.527333335184696\n",
      "Erro Grau 16 >>> 4.515078152895704\n",
      "Erro Grau 17 >>> 3.939202856885767\n",
      "Erro Grau 18 >>> 3.8418260207980865\n",
      "Erro Grau 19 >>> 3.8633697939810037\n",
      "Erro Grau 20 >>> 3.6185676596260543\n",
      "Erro Grau 21 >>> 3.598733972111681\n",
      "Erro Grau 22 >>> 3.5883399283759005\n",
      "Erro Grau 23 >>> 3.5863681451069813\n",
      "Erro Grau 24 >>> 3.586371434903802\n",
      "Erro Grau 25 >>> 3.5858056276245107\n",
      "Erro Grau 26 >>> 3.5850583587975415\n",
      "Erro Grau 27 >>> 3.584277803254186\n",
      "Erro Grau 28 >>> 3.5844556277767152\n",
      "Erro Grau 29 >>> 293.8576797825239\n",
      "Erro Grau 30 >>> 3.584252714570269\n",
      "Erro Grau 31 >>> 3.5836083216167274\n",
      "Erro Grau 32 >>> 3.5734706391776627\n",
      "Erro Grau 33 >>> 3.565248299539058\n",
      "Erro Grau 34 >>> 3.557770732226203\n",
      "Erro Grau 35 >>> 3.54420193112894\n",
      "Erro Grau 36 >>> 3.525736963986593\n",
      "Erro Grau 37 >>> 3.5075908512763943\n",
      "Erro Grau 38 >>> 3.1607783083849825\n",
      "Erro Grau 39 >>> 3.108308975404663\n",
      "Erro Grau 40 >>> 3.0611881824484852\n",
      "Erro Grau 41 >>> 3.02690670434769\n",
      "Erro Grau 42 >>> 2.98977413907471\n",
      "Erro Grau 43 >>> 2.9631390421389243\n",
      "Erro Grau 44 >>> 2.9425222247214013\n",
      "Erro Grau 45 >>> 2.9282460628801044\n",
      "Erro Grau 46 >>> 2.9219151173668463\n",
      "Erro Grau 47 >>> 2.920766125555598\n",
      "Erro Grau 48 >>> 2.9238776994835853\n",
      "Erro Grau 49 >>> 2.931925063440707\n",
      "Erro Grau 50 >>> 2.930089798457146\n"
     ]
    },
    {
     "data": {
      "image/svg+xml": [
       "<?xml version=\"1.0\" encoding=\"utf-8\"?>\n",
       "<svg xmlns=\"http://www.w3.org/2000/svg\" xmlns:xlink=\"http://www.w3.org/1999/xlink\" width=\"600\" height=\"400\" viewBox=\"0 0 2400 1600\">\n",
       "<defs>\n",
       "  <clipPath id=\"clip840\">\n",
       "    <rect x=\"0\" y=\"0\" width=\"2400\" height=\"1600\"/>\n",
       "  </clipPath>\n",
       "</defs>\n",
       "<path clip-path=\"url(#clip840)\" d=\"\n",
       "M0 1600 L2400 1600 L2400 0 L0 0  Z\n",
       "  \" fill=\"#ffffff\" fill-rule=\"evenodd\" fill-opacity=\"1\"/>\n",
       "<defs>\n",
       "  <clipPath id=\"clip841\">\n",
       "    <rect x=\"480\" y=\"0\" width=\"1681\" height=\"1600\"/>\n",
       "  </clipPath>\n",
       "</defs>\n",
       "<path clip-path=\"url(#clip840)\" d=\"\n",
       "M170.857 1486.45 L2352.76 1486.45 L2352.76 123.472 L170.857 123.472  Z\n",
       "  \" fill=\"#ffffff\" fill-rule=\"evenodd\" fill-opacity=\"1\"/>\n",
       "<defs>\n",
       "  <clipPath id=\"clip842\">\n",
       "    <rect x=\"170\" y=\"123\" width=\"2183\" height=\"1364\"/>\n",
       "  </clipPath>\n",
       "</defs>\n",
       "<polyline clip-path=\"url(#clip842)\" style=\"stroke:#000000; stroke-linecap:butt; stroke-linejoin:round; stroke-width:2; stroke-opacity:0.1; fill:none\" points=\"\n",
       "  191.441,1486.45 191.441,123.472 \n",
       "  \"/>\n",
       "<polyline clip-path=\"url(#clip842)\" style=\"stroke:#000000; stroke-linecap:butt; stroke-linejoin:round; stroke-width:2; stroke-opacity:0.1; fill:none\" points=\"\n",
       "  603.12,1486.45 603.12,123.472 \n",
       "  \"/>\n",
       "<polyline clip-path=\"url(#clip842)\" style=\"stroke:#000000; stroke-linecap:butt; stroke-linejoin:round; stroke-width:2; stroke-opacity:0.1; fill:none\" points=\"\n",
       "  1014.8,1486.45 1014.8,123.472 \n",
       "  \"/>\n",
       "<polyline clip-path=\"url(#clip842)\" style=\"stroke:#000000; stroke-linecap:butt; stroke-linejoin:round; stroke-width:2; stroke-opacity:0.1; fill:none\" points=\"\n",
       "  1426.48,1486.45 1426.48,123.472 \n",
       "  \"/>\n",
       "<polyline clip-path=\"url(#clip842)\" style=\"stroke:#000000; stroke-linecap:butt; stroke-linejoin:round; stroke-width:2; stroke-opacity:0.1; fill:none\" points=\"\n",
       "  1838.16,1486.45 1838.16,123.472 \n",
       "  \"/>\n",
       "<polyline clip-path=\"url(#clip842)\" style=\"stroke:#000000; stroke-linecap:butt; stroke-linejoin:round; stroke-width:2; stroke-opacity:0.1; fill:none\" points=\"\n",
       "  2249.84,1486.45 2249.84,123.472 \n",
       "  \"/>\n",
       "<polyline clip-path=\"url(#clip840)\" style=\"stroke:#000000; stroke-linecap:butt; stroke-linejoin:round; stroke-width:4; stroke-opacity:1; fill:none\" points=\"\n",
       "  170.857,1486.45 2352.76,1486.45 \n",
       "  \"/>\n",
       "<polyline clip-path=\"url(#clip840)\" style=\"stroke:#000000; stroke-linecap:butt; stroke-linejoin:round; stroke-width:4; stroke-opacity:1; fill:none\" points=\"\n",
       "  191.441,1486.45 191.441,1467.55 \n",
       "  \"/>\n",
       "<polyline clip-path=\"url(#clip840)\" style=\"stroke:#000000; stroke-linecap:butt; stroke-linejoin:round; stroke-width:4; stroke-opacity:1; fill:none\" points=\"\n",
       "  603.12,1486.45 603.12,1467.55 \n",
       "  \"/>\n",
       "<polyline clip-path=\"url(#clip840)\" style=\"stroke:#000000; stroke-linecap:butt; stroke-linejoin:round; stroke-width:4; stroke-opacity:1; fill:none\" points=\"\n",
       "  1014.8,1486.45 1014.8,1467.55 \n",
       "  \"/>\n",
       "<polyline clip-path=\"url(#clip840)\" style=\"stroke:#000000; stroke-linecap:butt; stroke-linejoin:round; stroke-width:4; stroke-opacity:1; fill:none\" points=\"\n",
       "  1426.48,1486.45 1426.48,1467.55 \n",
       "  \"/>\n",
       "<polyline clip-path=\"url(#clip840)\" style=\"stroke:#000000; stroke-linecap:butt; stroke-linejoin:round; stroke-width:4; stroke-opacity:1; fill:none\" points=\"\n",
       "  1838.16,1486.45 1838.16,1467.55 \n",
       "  \"/>\n",
       "<polyline clip-path=\"url(#clip840)\" style=\"stroke:#000000; stroke-linecap:butt; stroke-linejoin:round; stroke-width:4; stroke-opacity:1; fill:none\" points=\"\n",
       "  2249.84,1486.45 2249.84,1467.55 \n",
       "  \"/>\n",
       "<path clip-path=\"url(#clip840)\" d=\"M191.441 1517.37 Q187.83 1517.37 186.002 1520.93 Q184.196 1524.47 184.196 1531.6 Q184.196 1538.71 186.002 1542.27 Q187.83 1545.82 191.441 1545.82 Q195.076 1545.82 196.881 1542.27 Q198.71 1538.71 198.71 1531.6 Q198.71 1524.47 196.881 1520.93 Q195.076 1517.37 191.441 1517.37 M191.441 1513.66 Q197.252 1513.66 200.307 1518.27 Q203.386 1522.85 203.386 1531.6 Q203.386 1540.33 200.307 1544.94 Q197.252 1549.52 191.441 1549.52 Q185.631 1549.52 182.553 1544.94 Q179.497 1540.33 179.497 1531.6 Q179.497 1522.85 182.553 1518.27 Q185.631 1513.66 191.441 1513.66 Z\" fill=\"#000000\" fill-rule=\"evenodd\" fill-opacity=\"1\" /><path clip-path=\"url(#clip840)\" d=\"M577.808 1544.91 L585.447 1544.91 L585.447 1518.55 L577.137 1520.21 L577.137 1515.95 L585.401 1514.29 L590.076 1514.29 L590.076 1544.91 L597.715 1544.91 L597.715 1548.85 L577.808 1548.85 L577.808 1544.91 Z\" fill=\"#000000\" fill-rule=\"evenodd\" fill-opacity=\"1\" /><path clip-path=\"url(#clip840)\" d=\"M617.16 1517.37 Q613.549 1517.37 611.72 1520.93 Q609.914 1524.47 609.914 1531.6 Q609.914 1538.71 611.72 1542.27 Q613.549 1545.82 617.16 1545.82 Q620.794 1545.82 622.599 1542.27 Q624.428 1538.71 624.428 1531.6 Q624.428 1524.47 622.599 1520.93 Q620.794 1517.37 617.16 1517.37 M617.16 1513.66 Q622.97 1513.66 626.025 1518.27 Q629.104 1522.85 629.104 1531.6 Q629.104 1540.33 626.025 1544.94 Q622.97 1549.52 617.16 1549.52 Q611.349 1549.52 608.271 1544.94 Q605.215 1540.33 605.215 1531.6 Q605.215 1522.85 608.271 1518.27 Q611.349 1513.66 617.16 1513.66 Z\" fill=\"#000000\" fill-rule=\"evenodd\" fill-opacity=\"1\" /><path clip-path=\"url(#clip840)\" d=\"M993.573 1544.91 L1009.89 1544.91 L1009.89 1548.85 L987.948 1548.85 L987.948 1544.91 Q990.61 1542.16 995.193 1537.53 Q999.799 1532.88 1000.98 1531.53 Q1003.23 1529.01 1004.1 1527.27 Q1005.01 1525.51 1005.01 1523.82 Q1005.01 1521.07 1003.06 1519.33 Q1001.14 1517.6 998.04 1517.6 Q995.841 1517.6 993.387 1518.36 Q990.957 1519.13 988.179 1520.68 L988.179 1515.95 Q991.003 1514.82 993.457 1514.24 Q995.91 1513.66 997.948 1513.66 Q1003.32 1513.66 1006.51 1516.35 Q1009.71 1519.03 1009.71 1523.52 Q1009.71 1525.65 1008.9 1527.57 Q1008.11 1529.47 1006 1532.07 Q1005.42 1532.74 1002.32 1535.95 Q999.221 1539.15 993.573 1544.91 Z\" fill=\"#000000\" fill-rule=\"evenodd\" fill-opacity=\"1\" /><path clip-path=\"url(#clip840)\" d=\"M1029.71 1517.37 Q1026.1 1517.37 1024.27 1520.93 Q1022.46 1524.47 1022.46 1531.6 Q1022.46 1538.71 1024.27 1542.27 Q1026.1 1545.82 1029.71 1545.82 Q1033.34 1545.82 1035.15 1542.27 Q1036.98 1538.71 1036.98 1531.6 Q1036.98 1524.47 1035.15 1520.93 Q1033.34 1517.37 1029.71 1517.37 M1029.71 1513.66 Q1035.52 1513.66 1038.57 1518.27 Q1041.65 1522.85 1041.65 1531.6 Q1041.65 1540.33 1038.57 1544.94 Q1035.52 1549.52 1029.71 1549.52 Q1023.9 1549.52 1020.82 1544.94 Q1017.76 1540.33 1017.76 1531.6 Q1017.76 1522.85 1020.82 1518.27 Q1023.9 1513.66 1029.71 1513.66 Z\" fill=\"#000000\" fill-rule=\"evenodd\" fill-opacity=\"1\" /><path clip-path=\"url(#clip840)\" d=\"M1415.32 1530.21 Q1418.68 1530.93 1420.55 1533.2 Q1422.45 1535.47 1422.45 1538.8 Q1422.45 1543.92 1418.93 1546.72 Q1415.41 1549.52 1408.93 1549.52 Q1406.76 1549.52 1404.44 1549.08 Q1402.15 1548.66 1399.7 1547.81 L1399.7 1543.29 Q1401.64 1544.43 1403.96 1545.01 Q1406.27 1545.58 1408.79 1545.58 Q1413.19 1545.58 1415.48 1543.85 Q1417.8 1542.11 1417.8 1538.8 Q1417.8 1535.75 1415.64 1534.03 Q1413.52 1532.3 1409.7 1532.3 L1405.67 1532.3 L1405.67 1528.45 L1409.88 1528.45 Q1413.33 1528.45 1415.16 1527.09 Q1416.99 1525.7 1416.99 1523.11 Q1416.99 1520.45 1415.09 1519.03 Q1413.21 1517.6 1409.7 1517.6 Q1407.77 1517.6 1405.58 1518.01 Q1403.38 1518.43 1400.74 1519.31 L1400.74 1515.14 Q1403.4 1514.4 1405.71 1514.03 Q1408.05 1513.66 1410.11 1513.66 Q1415.44 1513.66 1418.54 1516.09 Q1421.64 1518.5 1421.64 1522.62 Q1421.64 1525.49 1420 1527.48 Q1418.35 1529.45 1415.32 1530.21 Z\" fill=\"#000000\" fill-rule=\"evenodd\" fill-opacity=\"1\" /><path clip-path=\"url(#clip840)\" d=\"M1441.32 1517.37 Q1437.71 1517.37 1435.88 1520.93 Q1434.07 1524.47 1434.07 1531.6 Q1434.07 1538.71 1435.88 1542.27 Q1437.71 1545.82 1441.32 1545.82 Q1444.95 1545.82 1446.76 1542.27 Q1448.58 1538.71 1448.58 1531.6 Q1448.58 1524.47 1446.76 1520.93 Q1444.95 1517.37 1441.32 1517.37 M1441.32 1513.66 Q1447.13 1513.66 1450.18 1518.27 Q1453.26 1522.85 1453.26 1531.6 Q1453.26 1540.33 1450.18 1544.94 Q1447.13 1549.52 1441.32 1549.52 Q1435.51 1549.52 1432.43 1544.94 Q1429.37 1540.33 1429.37 1531.6 Q1429.37 1522.85 1432.43 1518.27 Q1435.51 1513.66 1441.32 1513.66 Z\" fill=\"#000000\" fill-rule=\"evenodd\" fill-opacity=\"1\" /><path clip-path=\"url(#clip840)\" d=\"M1826.33 1518.36 L1814.52 1536.81 L1826.33 1536.81 L1826.33 1518.36 M1825.1 1514.29 L1830.98 1514.29 L1830.98 1536.81 L1835.91 1536.81 L1835.91 1540.7 L1830.98 1540.7 L1830.98 1548.85 L1826.33 1548.85 L1826.33 1540.7 L1810.73 1540.7 L1810.73 1536.19 L1825.1 1514.29 Z\" fill=\"#000000\" fill-rule=\"evenodd\" fill-opacity=\"1\" /><path clip-path=\"url(#clip840)\" d=\"M1853.64 1517.37 Q1850.03 1517.37 1848.2 1520.93 Q1846.4 1524.47 1846.4 1531.6 Q1846.4 1538.71 1848.2 1542.27 Q1850.03 1545.82 1853.64 1545.82 Q1857.28 1545.82 1859.08 1542.27 Q1860.91 1538.71 1860.91 1531.6 Q1860.91 1524.47 1859.08 1520.93 Q1857.28 1517.37 1853.64 1517.37 M1853.64 1513.66 Q1859.45 1513.66 1862.51 1518.27 Q1865.59 1522.85 1865.59 1531.6 Q1865.59 1540.33 1862.51 1544.94 Q1859.45 1549.52 1853.64 1549.52 Q1847.83 1549.52 1844.75 1544.94 Q1841.7 1540.33 1841.7 1531.6 Q1841.7 1522.85 1844.75 1518.27 Q1847.83 1513.66 1853.64 1513.66 Z\" fill=\"#000000\" fill-rule=\"evenodd\" fill-opacity=\"1\" /><path clip-path=\"url(#clip840)\" d=\"M2224.54 1514.29 L2242.89 1514.29 L2242.89 1518.22 L2228.82 1518.22 L2228.82 1526.7 Q2229.84 1526.35 2230.85 1526.19 Q2231.87 1526 2232.89 1526 Q2238.68 1526 2242.06 1529.17 Q2245.44 1532.34 2245.44 1537.76 Q2245.44 1543.34 2241.97 1546.44 Q2238.49 1549.52 2232.17 1549.52 Q2230 1549.52 2227.73 1549.15 Q2225.48 1548.78 2223.08 1548.04 L2223.08 1543.34 Q2225.16 1544.47 2227.38 1545.03 Q2229.6 1545.58 2232.08 1545.58 Q2236.09 1545.58 2238.42 1543.48 Q2240.76 1541.37 2240.76 1537.76 Q2240.76 1534.15 2238.42 1532.04 Q2236.09 1529.94 2232.08 1529.94 Q2230.21 1529.94 2228.33 1530.35 Q2226.48 1530.77 2224.54 1531.65 L2224.54 1514.29 Z\" fill=\"#000000\" fill-rule=\"evenodd\" fill-opacity=\"1\" /><path clip-path=\"url(#clip840)\" d=\"M2264.65 1517.37 Q2261.04 1517.37 2259.21 1520.93 Q2257.41 1524.47 2257.41 1531.6 Q2257.41 1538.71 2259.21 1542.27 Q2261.04 1545.82 2264.65 1545.82 Q2268.29 1545.82 2270.09 1542.27 Q2271.92 1538.71 2271.92 1531.6 Q2271.92 1524.47 2270.09 1520.93 Q2268.29 1517.37 2264.65 1517.37 M2264.65 1513.66 Q2270.46 1513.66 2273.52 1518.27 Q2276.6 1522.85 2276.6 1531.6 Q2276.6 1540.33 2273.52 1544.94 Q2270.46 1549.52 2264.65 1549.52 Q2258.84 1549.52 2255.76 1544.94 Q2252.71 1540.33 2252.71 1531.6 Q2252.71 1522.85 2255.76 1518.27 Q2258.84 1513.66 2264.65 1513.66 Z\" fill=\"#000000\" fill-rule=\"evenodd\" fill-opacity=\"1\" /><polyline clip-path=\"url(#clip842)\" style=\"stroke:#000000; stroke-linecap:butt; stroke-linejoin:round; stroke-width:2; stroke-opacity:0.1; fill:none\" points=\"\n",
       "  170.857,1460.78 2352.76,1460.78 \n",
       "  \"/>\n",
       "<polyline clip-path=\"url(#clip842)\" style=\"stroke:#000000; stroke-linecap:butt; stroke-linejoin:round; stroke-width:2; stroke-opacity:0.1; fill:none\" points=\"\n",
       "  170.857,1018.82 2352.76,1018.82 \n",
       "  \"/>\n",
       "<polyline clip-path=\"url(#clip842)\" style=\"stroke:#000000; stroke-linecap:butt; stroke-linejoin:round; stroke-width:2; stroke-opacity:0.1; fill:none\" points=\"\n",
       "  170.857,576.861 2352.76,576.861 \n",
       "  \"/>\n",
       "<polyline clip-path=\"url(#clip842)\" style=\"stroke:#000000; stroke-linecap:butt; stroke-linejoin:round; stroke-width:2; stroke-opacity:0.1; fill:none\" points=\"\n",
       "  170.857,134.9 2352.76,134.9 \n",
       "  \"/>\n",
       "<polyline clip-path=\"url(#clip840)\" style=\"stroke:#000000; stroke-linecap:butt; stroke-linejoin:round; stroke-width:4; stroke-opacity:1; fill:none\" points=\"\n",
       "  170.857,1486.45 170.857,123.472 \n",
       "  \"/>\n",
       "<polyline clip-path=\"url(#clip840)\" style=\"stroke:#000000; stroke-linecap:butt; stroke-linejoin:round; stroke-width:4; stroke-opacity:1; fill:none\" points=\"\n",
       "  170.857,1460.78 189.755,1460.78 \n",
       "  \"/>\n",
       "<polyline clip-path=\"url(#clip840)\" style=\"stroke:#000000; stroke-linecap:butt; stroke-linejoin:round; stroke-width:4; stroke-opacity:1; fill:none\" points=\"\n",
       "  170.857,1018.82 189.755,1018.82 \n",
       "  \"/>\n",
       "<polyline clip-path=\"url(#clip840)\" style=\"stroke:#000000; stroke-linecap:butt; stroke-linejoin:round; stroke-width:4; stroke-opacity:1; fill:none\" points=\"\n",
       "  170.857,576.861 189.755,576.861 \n",
       "  \"/>\n",
       "<polyline clip-path=\"url(#clip840)\" style=\"stroke:#000000; stroke-linecap:butt; stroke-linejoin:round; stroke-width:4; stroke-opacity:1; fill:none\" points=\"\n",
       "  170.857,134.9 189.755,134.9 \n",
       "  \"/>\n",
       "<path clip-path=\"url(#clip840)\" d=\"M122.913 1446.58 Q119.302 1446.58 117.473 1450.15 Q115.668 1453.69 115.668 1460.82 Q115.668 1467.92 117.473 1471.49 Q119.302 1475.03 122.913 1475.03 Q126.547 1475.03 128.353 1471.49 Q130.182 1467.92 130.182 1460.82 Q130.182 1453.69 128.353 1450.15 Q126.547 1446.58 122.913 1446.58 M122.913 1442.88 Q128.723 1442.88 131.779 1447.48 Q134.857 1452.07 134.857 1460.82 Q134.857 1469.54 131.779 1474.15 Q128.723 1478.73 122.913 1478.73 Q117.103 1478.73 114.024 1474.15 Q110.969 1469.54 110.969 1460.82 Q110.969 1452.07 114.024 1447.48 Q117.103 1442.88 122.913 1442.88 Z\" fill=\"#000000\" fill-rule=\"evenodd\" fill-opacity=\"1\" /><path clip-path=\"url(#clip840)\" d=\"M53.3995 1032.17 L61.0384 1032.17 L61.0384 1005.8 L52.7282 1007.47 L52.7282 1003.21 L60.9921 1001.54 L65.668 1001.54 L65.668 1032.17 L73.3068 1032.17 L73.3068 1036.1 L53.3995 1036.1 L53.3995 1032.17 Z\" fill=\"#000000\" fill-rule=\"evenodd\" fill-opacity=\"1\" /><path clip-path=\"url(#clip840)\" d=\"M92.7512 1004.62 Q89.1401 1004.62 87.3114 1008.18 Q85.5058 1011.73 85.5058 1018.86 Q85.5058 1025.96 87.3114 1029.53 Q89.1401 1033.07 92.7512 1033.07 Q96.3854 1033.07 98.1909 1029.53 Q100.02 1025.96 100.02 1018.86 Q100.02 1011.73 98.1909 1008.18 Q96.3854 1004.62 92.7512 1004.62 M92.7512 1000.92 Q98.5613 1000.92 101.617 1005.52 Q104.696 1010.11 104.696 1018.86 Q104.696 1027.58 101.617 1032.19 Q98.5613 1036.77 92.7512 1036.77 Q86.941 1036.77 83.8623 1032.19 Q80.8068 1027.58 80.8068 1018.86 Q80.8068 1010.11 83.8623 1005.52 Q86.941 1000.92 92.7512 1000.92 Z\" fill=\"#000000\" fill-rule=\"evenodd\" fill-opacity=\"1\" /><path clip-path=\"url(#clip840)\" d=\"M122.913 1004.62 Q119.302 1004.62 117.473 1008.18 Q115.668 1011.73 115.668 1018.86 Q115.668 1025.96 117.473 1029.53 Q119.302 1033.07 122.913 1033.07 Q126.547 1033.07 128.353 1029.53 Q130.182 1025.96 130.182 1018.86 Q130.182 1011.73 128.353 1008.18 Q126.547 1004.62 122.913 1004.62 M122.913 1000.92 Q128.723 1000.92 131.779 1005.52 Q134.857 1010.11 134.857 1018.86 Q134.857 1027.58 131.779 1032.19 Q128.723 1036.77 122.913 1036.77 Q117.103 1036.77 114.024 1032.19 Q110.969 1027.58 110.969 1018.86 Q110.969 1010.11 114.024 1005.52 Q117.103 1000.92 122.913 1000.92 Z\" fill=\"#000000\" fill-rule=\"evenodd\" fill-opacity=\"1\" /><path clip-path=\"url(#clip840)\" d=\"M56.6171 590.206 L72.9365 590.206 L72.9365 594.141 L50.9921 594.141 L50.9921 590.206 Q53.6541 587.451 58.2375 582.821 Q62.8439 578.169 64.0245 576.826 Q66.2698 574.303 67.1494 572.567 Q68.0522 570.808 68.0522 569.118 Q68.0522 566.363 66.1078 564.627 Q64.1865 562.891 61.0847 562.891 Q58.8856 562.891 56.4319 563.655 Q54.0014 564.419 51.2236 565.97 L51.2236 561.247 Q54.0477 560.113 56.5014 559.534 Q58.955 558.956 60.9921 558.956 Q66.3624 558.956 69.5568 561.641 Q72.7513 564.326 72.7513 568.817 Q72.7513 570.946 71.9411 572.868 Q71.1541 574.766 69.0476 577.358 Q68.4689 578.03 65.367 581.247 Q62.2652 584.442 56.6171 590.206 Z\" fill=\"#000000\" fill-rule=\"evenodd\" fill-opacity=\"1\" /><path clip-path=\"url(#clip840)\" d=\"M92.7512 562.659 Q89.1401 562.659 87.3114 566.224 Q85.5058 569.766 85.5058 576.895 Q85.5058 584.002 87.3114 587.567 Q89.1401 591.108 92.7512 591.108 Q96.3854 591.108 98.1909 587.567 Q100.02 584.002 100.02 576.895 Q100.02 569.766 98.1909 566.224 Q96.3854 562.659 92.7512 562.659 M92.7512 558.956 Q98.5613 558.956 101.617 563.562 Q104.696 568.146 104.696 576.895 Q104.696 585.622 101.617 590.229 Q98.5613 594.812 92.7512 594.812 Q86.941 594.812 83.8623 590.229 Q80.8068 585.622 80.8068 576.895 Q80.8068 568.146 83.8623 563.562 Q86.941 558.956 92.7512 558.956 Z\" fill=\"#000000\" fill-rule=\"evenodd\" fill-opacity=\"1\" /><path clip-path=\"url(#clip840)\" d=\"M122.913 562.659 Q119.302 562.659 117.473 566.224 Q115.668 569.766 115.668 576.895 Q115.668 584.002 117.473 587.567 Q119.302 591.108 122.913 591.108 Q126.547 591.108 128.353 587.567 Q130.182 584.002 130.182 576.895 Q130.182 569.766 128.353 566.224 Q126.547 562.659 122.913 562.659 M122.913 558.956 Q128.723 558.956 131.779 563.562 Q134.857 568.146 134.857 576.895 Q134.857 585.622 131.779 590.229 Q128.723 594.812 122.913 594.812 Q117.103 594.812 114.024 590.229 Q110.969 585.622 110.969 576.895 Q110.969 568.146 114.024 563.562 Q117.103 558.956 122.913 558.956 Z\" fill=\"#000000\" fill-rule=\"evenodd\" fill-opacity=\"1\" /><path clip-path=\"url(#clip840)\" d=\"M66.7559 133.546 Q70.1124 134.264 71.9874 136.532 Q73.8855 138.801 73.8855 142.134 Q73.8855 147.25 70.367 150.051 Q66.8485 152.852 60.3671 152.852 Q58.1912 152.852 55.8764 152.412 Q53.5847 151.995 51.131 151.139 L51.131 146.625 Q53.0754 147.759 55.3903 148.338 Q57.7051 148.916 60.2282 148.916 Q64.6263 148.916 66.918 147.18 Q69.2328 145.444 69.2328 142.134 Q69.2328 139.079 67.08 137.366 Q64.9504 135.629 61.131 135.629 L57.1032 135.629 L57.1032 131.787 L61.3161 131.787 Q64.7652 131.787 66.5939 130.421 Q68.4226 129.032 68.4226 126.44 Q68.4226 123.778 66.5245 122.366 Q64.6495 120.93 61.131 120.93 Q59.2097 120.93 57.0106 121.347 Q54.8115 121.764 52.1727 122.643 L52.1727 118.477 Q54.8347 117.736 57.1495 117.366 Q59.4875 116.995 61.5476 116.995 Q66.8717 116.995 69.9735 119.426 Q73.0753 121.833 73.0753 125.954 Q73.0753 128.824 71.4318 130.815 Q69.7883 132.782 66.7559 133.546 Z\" fill=\"#000000\" fill-rule=\"evenodd\" fill-opacity=\"1\" /><path clip-path=\"url(#clip840)\" d=\"M92.7512 120.699 Q89.1401 120.699 87.3114 124.264 Q85.5058 127.805 85.5058 134.935 Q85.5058 142.041 87.3114 145.606 Q89.1401 149.148 92.7512 149.148 Q96.3854 149.148 98.1909 145.606 Q100.02 142.041 100.02 134.935 Q100.02 127.805 98.1909 124.264 Q96.3854 120.699 92.7512 120.699 M92.7512 116.995 Q98.5613 116.995 101.617 121.602 Q104.696 126.185 104.696 134.935 Q104.696 143.662 101.617 148.268 Q98.5613 152.852 92.7512 152.852 Q86.941 152.852 83.8623 148.268 Q80.8068 143.662 80.8068 134.935 Q80.8068 126.185 83.8623 121.602 Q86.941 116.995 92.7512 116.995 Z\" fill=\"#000000\" fill-rule=\"evenodd\" fill-opacity=\"1\" /><path clip-path=\"url(#clip840)\" d=\"M122.913 120.699 Q119.302 120.699 117.473 124.264 Q115.668 127.805 115.668 134.935 Q115.668 142.041 117.473 145.606 Q119.302 149.148 122.913 149.148 Q126.547 149.148 128.353 145.606 Q130.182 142.041 130.182 134.935 Q130.182 127.805 128.353 124.264 Q126.547 120.699 122.913 120.699 M122.913 116.995 Q128.723 116.995 131.779 121.602 Q134.857 126.185 134.857 134.935 Q134.857 143.662 131.779 148.268 Q128.723 152.852 122.913 152.852 Q117.103 152.852 114.024 148.268 Q110.969 143.662 110.969 134.935 Q110.969 126.185 114.024 121.602 Q117.103 116.995 122.913 116.995 Z\" fill=\"#000000\" fill-rule=\"evenodd\" fill-opacity=\"1\" /><path clip-path=\"url(#clip840)\" d=\"M923.698 12.096 L961.938 12.096 L961.938 18.9825 L931.881 18.9825 L931.881 36.8875 L960.683 36.8875 L960.683 43.7741 L931.881 43.7741 L931.881 65.6895 L962.668 65.6895 L962.668 72.576 L923.698 72.576 L923.698 12.096 Z\" fill=\"#000000\" fill-rule=\"evenodd\" fill-opacity=\"1\" /><path clip-path=\"url(#clip840)\" d=\"M1002.08 34.1734 Q1000.83 33.4443 999.328 33.1202 Q997.87 32.7556 996.088 32.7556 Q989.768 32.7556 986.365 36.8875 Q983.003 40.9789 983.003 48.6757 L983.003 72.576 L975.509 72.576 L975.509 27.2059 L983.003 27.2059 L983.003 34.2544 Q985.353 30.1225 989.12 28.1376 Q992.887 26.1121 998.275 26.1121 Q999.045 26.1121 999.976 26.2337 Q1000.91 26.3147 1002.04 26.5172 L1002.08 34.1734 Z\" fill=\"#000000\" fill-rule=\"evenodd\" fill-opacity=\"1\" /><path clip-path=\"url(#clip840)\" d=\"M1034.73 34.1734 Q1033.48 33.4443 1031.98 33.1202 Q1030.52 32.7556 1028.74 32.7556 Q1022.42 32.7556 1019.02 36.8875 Q1015.65 40.9789 1015.65 48.6757 L1015.65 72.576 L1008.16 72.576 L1008.16 27.2059 L1015.65 27.2059 L1015.65 34.2544 Q1018 30.1225 1021.77 28.1376 Q1025.54 26.1121 1030.93 26.1121 Q1031.7 26.1121 1032.63 26.2337 Q1033.56 26.3147 1034.69 26.5172 L1034.73 34.1734 Z\" fill=\"#000000\" fill-rule=\"evenodd\" fill-opacity=\"1\" /><path clip-path=\"url(#clip840)\" d=\"M1058.31 32.4315 Q1052.31 32.4315 1048.83 37.1306 Q1045.35 41.7891 1045.35 49.9314 Q1045.35 58.0738 1048.79 62.7728 Q1052.27 67.4314 1058.31 67.4314 Q1064.26 67.4314 1067.75 62.7323 Q1071.23 58.0333 1071.23 49.9314 Q1071.23 41.8701 1067.75 37.1711 Q1064.26 32.4315 1058.31 32.4315 M1058.31 26.1121 Q1068.03 26.1121 1073.58 32.4315 Q1079.13 38.7509 1079.13 49.9314 Q1079.13 61.0714 1073.58 67.4314 Q1068.03 73.7508 1058.31 73.7508 Q1048.55 73.7508 1043 67.4314 Q1037.49 61.0714 1037.49 49.9314 Q1037.49 38.7509 1043 32.4315 Q1048.55 26.1121 1058.31 26.1121 Z\" fill=\"#000000\" fill-rule=\"evenodd\" fill-opacity=\"1\" /><path clip-path=\"url(#clip840)\" d=\"M1109.8 12.096 L1160.96 12.096 L1160.96 18.9825 L1139.49 18.9825 L1139.49 72.576 L1131.27 72.576 L1131.27 18.9825 L1109.8 18.9825 L1109.8 12.096 Z\" fill=\"#000000\" fill-rule=\"evenodd\" fill-opacity=\"1\" /><path clip-path=\"url(#clip840)\" d=\"M1172.02 32.4315 Q1166.02 32.4315 1162.54 37.1306 Q1159.06 41.7891 1159.06 49.9314 Q1159.06 58.0738 1162.5 62.7728 Q1165.98 67.4314 1172.02 67.4314 Q1177.97 67.4314 1181.46 62.7323 Q1184.94 58.0333 1184.94 49.9314 Q1184.94 41.8701 1181.46 37.1711 Q1177.97 32.4315 1172.02 32.4315 M1172.02 26.1121 Q1181.74 26.1121 1187.29 32.4315 Q1192.84 38.7509 1192.84 49.9314 Q1192.84 61.0714 1187.29 67.4314 Q1181.74 73.7508 1172.02 73.7508 Q1162.26 73.7508 1156.71 67.4314 Q1151.2 61.0714 1151.2 49.9314 Q1151.2 38.7509 1156.71 32.4315 Q1162.26 26.1121 1172.02 26.1121 Z\" fill=\"#000000\" fill-rule=\"evenodd\" fill-opacity=\"1\" /><path clip-path=\"url(#clip840)\" d=\"M1212.57 14.324 L1212.57 27.2059 L1227.92 27.2059 L1227.92 32.9987 L1212.57 32.9987 L1212.57 57.6282 Q1212.57 63.1779 1214.07 64.7578 Q1215.61 66.3376 1220.26 66.3376 L1227.92 66.3376 L1227.92 72.576 L1220.26 72.576 Q1211.64 72.576 1208.35 69.3758 Q1205.07 66.1351 1205.07 57.6282 L1205.07 32.9987 L1199.61 32.9987 L1199.61 27.2059 L1205.07 27.2059 L1205.07 14.324 L1212.57 14.324 Z\" fill=\"#000000\" fill-rule=\"evenodd\" fill-opacity=\"1\" /><path clip-path=\"url(#clip840)\" d=\"M1258.34 49.7694 Q1249.31 49.7694 1245.83 51.8354 Q1242.34 53.9013 1242.34 58.8839 Q1242.34 62.8538 1244.93 65.2034 Q1247.57 67.5124 1252.06 67.5124 Q1258.26 67.5124 1261.99 63.1374 Q1265.76 58.7219 1265.76 51.4303 L1265.76 49.7694 L1258.34 49.7694 M1273.21 46.6907 L1273.21 72.576 L1265.76 72.576 L1265.76 65.6895 Q1263.2 69.8214 1259.4 71.8063 Q1255.59 73.7508 1250.08 73.7508 Q1243.11 73.7508 1238.98 69.8619 Q1234.89 65.9325 1234.89 59.3701 Q1234.89 51.7138 1239.99 47.825 Q1245.14 43.9361 1255.3 43.9361 L1265.76 43.9361 L1265.76 43.2069 Q1265.76 38.0623 1262.35 35.2672 Q1258.99 32.4315 1252.87 32.4315 Q1248.99 32.4315 1245.3 33.3632 Q1241.61 34.295 1238.21 36.1584 L1238.21 29.2718 Q1242.3 27.692 1246.15 26.9223 Q1250 26.1121 1253.64 26.1121 Q1263.49 26.1121 1268.35 31.2163 Q1273.21 36.3204 1273.21 46.6907 Z\" fill=\"#000000\" fill-rule=\"evenodd\" fill-opacity=\"1\" /><path clip-path=\"url(#clip840)\" d=\"M1288.56 9.54393 L1296.02 9.54393 L1296.02 72.576 L1288.56 72.576 L1288.56 9.54393 Z\" fill=\"#000000\" fill-rule=\"evenodd\" fill-opacity=\"1\" /><path clip-path=\"url(#clip840)\" d=\"M1375.7 27.2059 L1359.29 49.2833 L1376.55 72.576 L1367.76 72.576 L1354.55 54.752 L1341.35 72.576 L1332.56 72.576 L1350.18 48.8377 L1334.05 27.2059 L1342.85 27.2059 L1354.88 43.369 L1366.91 27.2059 L1375.7 27.2059 Z\" fill=\"#000000\" fill-rule=\"evenodd\" fill-opacity=\"1\" /><path clip-path=\"url(#clip840)\" d=\"M1455.01 63.9476 L1455.01 47.7034 L1441.65 47.7034 L1441.65 40.9789 L1463.12 40.9789 L1463.12 66.9452 Q1458.38 70.3075 1452.67 72.0494 Q1446.95 73.7508 1440.47 73.7508 Q1426.29 73.7508 1418.27 65.4869 Q1410.29 57.1826 1410.29 42.3968 Q1410.29 27.5705 1418.27 19.3066 Q1426.29 11.0023 1440.47 11.0023 Q1446.39 11.0023 1451.69 12.4606 Q1457.04 13.9189 1461.54 16.7545 L1461.54 25.464 Q1457 21.6156 1451.9 19.6712 Q1446.79 17.7268 1441.16 17.7268 Q1430.06 17.7268 1424.47 23.9246 Q1418.92 30.1225 1418.92 42.3968 Q1418.92 54.6305 1424.47 60.8284 Q1430.06 67.0263 1441.16 67.0263 Q1445.49 67.0263 1448.9 66.2971 Q1452.3 65.5274 1455.01 63.9476 Z\" fill=\"#000000\" fill-rule=\"evenodd\" fill-opacity=\"1\" /><path clip-path=\"url(#clip840)\" d=\"M1504.03 34.1734 Q1502.77 33.4443 1501.28 33.1202 Q1499.82 32.7556 1498.04 32.7556 Q1491.72 32.7556 1488.31 36.8875 Q1484.95 40.9789 1484.95 48.6757 L1484.95 72.576 L1477.46 72.576 L1477.46 27.2059 L1484.95 27.2059 L1484.95 34.2544 Q1487.3 30.1225 1491.07 28.1376 Q1494.83 26.1121 1500.22 26.1121 Q1500.99 26.1121 1501.92 26.2337 Q1502.86 26.3147 1503.99 26.5172 L1504.03 34.1734 Z\" fill=\"#000000\" fill-rule=\"evenodd\" fill-opacity=\"1\" /><path clip-path=\"url(#clip840)\" d=\"M1532.47 49.7694 Q1523.43 49.7694 1519.95 51.8354 Q1516.47 53.9013 1516.47 58.8839 Q1516.47 62.8538 1519.06 65.2034 Q1521.69 67.5124 1526.19 67.5124 Q1532.39 67.5124 1536.11 63.1374 Q1539.88 58.7219 1539.88 51.4303 L1539.88 49.7694 L1532.47 49.7694 M1547.33 46.6907 L1547.33 72.576 L1539.88 72.576 L1539.88 65.6895 Q1537.33 69.8214 1533.52 71.8063 Q1529.71 73.7508 1524.2 73.7508 Q1517.24 73.7508 1513.1 69.8619 Q1509.01 65.9325 1509.01 59.3701 Q1509.01 51.7138 1514.12 47.825 Q1519.26 43.9361 1529.43 43.9361 L1539.88 43.9361 L1539.88 43.2069 Q1539.88 38.0623 1536.48 35.2672 Q1533.12 32.4315 1527 32.4315 Q1523.11 32.4315 1519.42 33.3632 Q1515.74 34.295 1512.33 36.1584 L1512.33 29.2718 Q1516.43 27.692 1520.27 26.9223 Q1524.12 26.1121 1527.77 26.1121 Q1537.61 26.1121 1542.47 31.2163 Q1547.33 36.3204 1547.33 46.6907 Z\" fill=\"#000000\" fill-rule=\"evenodd\" fill-opacity=\"1\" /><path clip-path=\"url(#clip840)\" d=\"M1561.92 54.671 L1561.92 27.2059 L1569.37 27.2059 L1569.37 54.3874 Q1569.37 60.8284 1571.88 64.0691 Q1574.39 67.2693 1579.42 67.2693 Q1585.45 67.2693 1588.94 63.421 Q1592.46 59.5726 1592.46 52.9291 L1592.46 27.2059 L1599.92 27.2059 L1599.92 72.576 L1592.46 72.576 L1592.46 65.6084 Q1589.75 69.7404 1586.14 71.7658 Q1582.58 73.7508 1577.84 73.7508 Q1570.02 73.7508 1565.97 68.8897 Q1561.92 64.0286 1561.92 54.671 M1580.67 26.1121 L1580.67 26.1121 Z\" fill=\"#000000\" fill-rule=\"evenodd\" fill-opacity=\"1\" /><polyline clip-path=\"url(#clip842)\" style=\"stroke:#009af9; stroke-linecap:butt; stroke-linejoin:round; stroke-width:4; stroke-opacity:1; fill:none\" points=\"\n",
       "  232.609,1437.16 273.777,1437.32 314.945,1438.11 356.113,1438.12 397.281,1438.13 438.449,1438.23 479.617,1438.49 520.785,1438.55 561.952,1438.56 603.12,1438.62 \n",
       "  644.288,1438.62 685.456,1438.77 726.624,1439.48 767.792,1439.65 808.96,1439.71 850.128,1440.77 891.296,1440.83 932.463,1443.37 973.631,1443.8 1014.8,1443.71 \n",
       "  1055.97,1444.79 1097.14,1444.88 1138.3,1444.92 1179.47,1444.93 1220.64,1444.93 1261.81,1444.93 1302.97,1444.94 1344.14,1444.94 1385.31,1444.94 1426.48,162.047 \n",
       "  1467.65,1444.94 1508.81,1444.94 1549.98,1444.99 1591.15,1445.02 1632.32,1445.06 1673.49,1445.12 1714.65,1445.2 1755.82,1445.28 1796.99,1446.81 1838.16,1447.04 \n",
       "  1879.33,1447.25 1920.49,1447.4 1961.66,1447.57 2002.83,1447.69 2044,1447.78 2085.16,1447.84 2126.33,1447.87 2167.5,1447.87 2208.67,1447.86 2249.84,1447.82 \n",
       "  2291,1447.83 \n",
       "  \"/>\n",
       "<path clip-path=\"url(#clip840)\" d=\"\n",
       "M1985.16 272.585 L2280.03 272.585 L2280.03 168.905 L1985.16 168.905  Z\n",
       "  \" fill=\"#ffffff\" fill-rule=\"evenodd\" fill-opacity=\"1\"/>\n",
       "<polyline clip-path=\"url(#clip840)\" style=\"stroke:#000000; stroke-linecap:butt; stroke-linejoin:round; stroke-width:4; stroke-opacity:1; fill:none\" points=\"\n",
       "  1985.16,272.585 2280.03,272.585 2280.03,168.905 1985.16,168.905 1985.16,272.585 \n",
       "  \"/>\n",
       "<polyline clip-path=\"url(#clip840)\" style=\"stroke:#009af9; stroke-linecap:butt; stroke-linejoin:round; stroke-width:4; stroke-opacity:1; fill:none\" points=\"\n",
       "  2009.41,220.745 2154.87,220.745 \n",
       "  \"/>\n",
       "<path clip-path=\"url(#clip840)\" d=\"M2192.95 240.432 Q2191.15 245.062 2189.43 246.474 Q2187.72 247.886 2184.85 247.886 L2181.45 247.886 L2181.45 244.321 L2183.95 244.321 Q2185.71 244.321 2186.68 243.488 Q2187.65 242.654 2188.83 239.552 L2189.6 237.608 L2179.11 212.099 L2183.62 212.099 L2191.72 232.377 L2199.83 212.099 L2204.34 212.099 L2192.95 240.432 Z\" fill=\"#000000\" fill-rule=\"evenodd\" fill-opacity=\"1\" /><path clip-path=\"url(#clip840)\" d=\"M2211.63 234.089 L2219.27 234.089 L2219.27 207.724 L2210.96 209.391 L2210.96 205.131 L2219.22 203.465 L2223.9 203.465 L2223.9 234.089 L2231.54 234.089 L2231.54 238.025 L2211.63 238.025 L2211.63 234.089 Z\" fill=\"#000000\" fill-rule=\"evenodd\" fill-opacity=\"1\" /></svg>\n"
      ]
     },
     "execution_count": 19,
     "metadata": {},
     "output_type": "execute_result"
    }
   ],
   "source": [
    "erro_versus_grau(x,y,50)"
   ]
  },
  {
   "cell_type": "markdown",
   "id": "ca133dfd-aa8b-44d8-b204-046c4c9546f2",
   "metadata": {},
   "source": [
    "O erro segue diminuindo (com excessão do grau 30, por algum motivo). Isso de fato era esperado, já que:\n",
    "\n",
    ">1. Conforme o grau aumenta, há mais viabilidade para a função tentar passar por todos os pontos fornecidos.  \n",
    "2. A função possui bastante ruído, logo, atingir o grau 5 não irá zerar o erro.\n",
    "\n",
    "No entanto, é importante ressaltar o enorme overfitting que isso causa: os dados são cada vez mais bem explicados, porém, a explicação do fenômeno fica mais nebulosa. "
   ]
  },
  {
   "cell_type": "markdown",
   "id": "d2ae894c-e182-4787-a6ac-61fa62166561",
   "metadata": {
    "tags": []
   },
   "source": [
    "## Questão 1.3"
   ]
  },
  {
   "cell_type": "markdown",
   "id": "3ac15acf-2c01-41ad-87de-45b1589089ea",
   "metadata": {},
   "source": [
    "Primeiramente, vamos dar nome às variáveis de nosso sistema:\n",
    "\n",
    "> Toy Story = TS  \n",
    "Rocky = R  \n",
    "De volta pro futuro = DF  \n",
    "Curtindo a vida adoidado = C  \n",
    "Os Incríveis = I  \n",
    "Shrek = S  \n",
    "Harry Potter = HP  \n",
    "Duna = DU  \n",
    "Batman Begins = B\n",
    "  "
   ]
  },
  {
   "cell_type": "markdown",
   "id": "a6bd7089-875b-4f89-8ceb-3694e9f13b3c",
   "metadata": {},
   "source": [
    "Agora, estabelecemos as equações envolvendo essas variáveis:\n",
    "> $$TS - R = 11$$  \n",
    "$$DF - C = 3$$  \n",
    "$$I - DU = 7$$  \n",
    "$$B - HP = 2$$  \n",
    "$$S - DU = 9$$  \n",
    "$$HP - R = 7$$  \n",
    "$$TS - DF = 5$$  \n",
    "$$I - HP = 5$$  \n",
    "$$C - DU = 2$$  \n",
    "$$DF - DU = 2$$  \n",
    "$$S - R = 11$$  \n",
    "$$I - B = 5$$  \n",
    "$$TS - B = 3$$  \n",
    "$$I - C = 7$$  "
   ]
  },
  {
   "cell_type": "markdown",
   "id": "df703de8-95c9-4f37-acd7-907881a95c92",
   "metadata": {},
   "source": [
    "Em sequência, montamos as matrizes e calculamos o resultado com o operador \\ para a resolução do sistema linear ou uso de mínimos quadrados."
   ]
  },
  {
   "cell_type": "code",
   "execution_count": 20,
   "id": "df490aec-ac23-4927-8367-884d2fb826e0",
   "metadata": {},
   "outputs": [
    {
     "data": {
      "text/plain": [
       "9-element Vector{Float64}:\n",
       " 17.466042154566747\n",
       "  6.505854800936774\n",
       " 12.800936768149887\n",
       " 10.936768149882903\n",
       " 18.00936768149883\n",
       " 18.252927400468383\n",
       " 12.798594847775176\n",
       " 10.0\n",
       " 14.091334894613588"
      ]
     },
     "execution_count": 20,
     "metadata": {},
     "output_type": "execute_result"
    }
   ],
   "source": [
    "A = [ \n",
    " 1 -1  0  0  0  0  0  0  0;\n",
    " 0  0  1 -1  0  0  0  0  0;\n",
    " 0  0  0  0  1  0  0 -1  0;\n",
    " 0  0  0  0  0  0 -1  0  1;\n",
    " 0  0  0  0  0  1  0 -1  0;\n",
    " 0 -1  0  0  0  0  1  0  0;\n",
    " 1  0 -1  0  0  0  0  0  0;\n",
    " 0  0  0  1  0  0  0 -1  0;\n",
    " 0  0  1  0  0  0  0 -1  0;\n",
    " 0 -1  0  0  0  1  0  0  0;\n",
    " 0  0  0  0  1  0  0  0 -1;\n",
    " 1  0  0  0  0  0  0  0 -1;\n",
    " 0  0  0 -1  1  0  0  0  0;\n",
    " 0  0  0  0  0  0  0  1  0]\n",
    "\n",
    "B = [11;3;7;2;9;7;5;2;2;11;5;3;7;10]\n",
    "\n",
    "x=A\\B"
   ]
  },
  {
   "cell_type": "markdown",
   "id": "46a68f27-fad4-4882-ac52-6ce88311288f",
   "metadata": {},
   "source": [
    "Podemos ver então que o sexto coeficiente, isto é, Shrek, possui o maior valor. Portanto, trata-se do filme preferido entre os alunos participantes da pesquisa."
   ]
  },
  {
   "cell_type": "markdown",
   "id": "6aea082b-93dc-44b9-8e5f-f4a0e3976682",
   "metadata": {
    "tags": []
   },
   "source": [
    "## Questão 1.4"
   ]
  },
  {
   "cell_type": "markdown",
   "id": "d882ef5c-1266-488c-a969-6afe9125503c",
   "metadata": {},
   "source": [
    "Faremos o que foi realizado na 1.2.4: plotar um gráfico de erro total versus grau para saber exatamente em qual é melhor para trabalhar a estimativa. A primeira coisa a ser feita é escrever os 69 dados de x e y. Depois, chamamos a função erro_versus_grau."
   ]
  },
  {
   "cell_type": "code",
   "execution_count": 21,
   "id": "8ccdf7b3-bcc6-4a13-bc0f-f906bab196f2",
   "metadata": {},
   "outputs": [
    {
     "name": "stdout",
     "output_type": "stream",
     "text": [
      "Erro Grau 0 >>> 14.03945785319342\n",
      "Erro Grau 1 >>> 5.049197780093411\n",
      "Erro Grau 2 >>> 4.982549448045706\n",
      "Erro Grau 3 >>> 4.981346276253119\n",
      "Erro Grau 4 >>> 4.729552966968573\n",
      "Erro Grau 5 >>> 4.47216357359535\n",
      "Erro Grau 6 >>> 4.394814445596997\n",
      "Erro Grau 7 >>> 4.127833079840566\n",
      "Erro Grau 8 >>> 241.98218636540923\n",
      "Erro Grau 9 >>> 282.7746412561459\n",
      "Erro Grau 10 >>> 374.431883549115\n",
      "Erro Grau 11 >>> 1237.5530772718112\n",
      "Erro Grau 12 >>> 4496.004627507496\n",
      "Erro Grau 13 >>> 3.669897130407607e6\n",
      "Erro Grau 14 >>> 5.9368988515815e8\n",
      "Erro Grau 15 >>> 1.8515556007842252e11\n",
      "Erro Grau 16 >>> 3.7136997810412964e12\n",
      "Erro Grau 17 >>> 1.2193642607731972e15\n",
      "Erro Grau 18 >>> 8.35599727456279e16\n",
      "Erro Grau 19 >>> 2.508285425731184e18\n",
      "Erro Grau 20 >>> 1.9855895921863786e20\n",
      "Erro Grau 21 >>> 6.620028426056897e22\n",
      "Erro Grau 22 >>> 1.0270675793962071e25\n",
      "Erro Grau 23 >>> 1.4970211031697872e26\n",
      "Erro Grau 24 >>> 4.821397369608161e28\n",
      "Erro Grau 25 >>> 9.181706533889443e29\n",
      "Erro Grau 26 >>> 1.3541661094225373e31\n",
      "Erro Grau 27 >>> 2.4489240136105455e34\n",
      "Erro Grau 28 >>> 2.615277178595166e36\n",
      "Erro Grau 29 >>> 1.1404084903758907e38\n",
      "Erro Grau 30 >>> 9.385953860192529e39\n",
      "Erro Grau 31 >>> 3.436497935934462e40\n",
      "Erro Grau 32 >>> 1.0716689606542857e43\n",
      "Erro Grau 33 >>> 1.975311877681862e45\n",
      "Erro Grau 34 >>> 5.861007649980647e47\n",
      "Erro Grau 35 >>> 4.655576067943572e48\n",
      "Erro Grau 36 >>> 2.350785750690245e51\n",
      "Erro Grau 37 >>> 4.259688151090871e53\n",
      "Erro Grau 38 >>> 1.2158602023267353e55\n",
      "Erro Grau 39 >>> 4.5247429189315004e57\n",
      "Erro Grau 40 >>> 3.2531305923954462e59\n",
      "Erro Grau 41 >>> 8.406997368401333e60\n",
      "Erro Grau 42 >>> 7.385319161208288e62\n",
      "Erro Grau 43 >>> 7.635590117415624e64\n",
      "Erro Grau 44 >>> 4.7259565696806725e66\n",
      "Erro Grau 45 >>> 1.4744315965933989e69\n",
      "Erro Grau 46 >>> 9.867615599851697e70\n",
      "Erro Grau 47 >>> 4.947420653282184e71\n",
      "Erro Grau 48 >>> 2.4559283918657634e74\n",
      "Erro Grau 49 >>> 8.154884883394804e75\n",
      "Erro Grau 50 >>> 1.9531711510625204e78\n",
      "Erro Grau 51 >>> 5.9019520057734965e79\n",
      "Erro Grau 52 >>> 2.1976748775810998e82\n",
      "Erro Grau 53 >>> 3.025882144412876e83\n",
      "Erro Grau 54 >>> 2.0740638230187107e86\n",
      "Erro Grau 55 >>> 9.27438762709589e87\n",
      "Erro Grau 56 >>> 2.1299597408869613e90\n",
      "Erro Grau 57 >>> 2.723696963180338e92\n",
      "Erro Grau 58 >>> 6.548990728897154e93\n",
      "Erro Grau 59 >>> 1.5527270677988668e95\n",
      "Erro Grau 60 >>> 7.497998712547097e97\n",
      "Erro Grau 61 >>> 3.8925235309321275e99\n",
      "Erro Grau 62 >>> 8.804324375808161e101\n",
      "Erro Grau 63 >>> 2.7954895608622035e103\n",
      "Erro Grau 64 >>> 1.5853504232372547e106\n",
      "Erro Grau 65 >>> 4.2675736445787125e107\n",
      "Erro Grau 66 >>> 1.4292898314204227e110\n",
      "Erro Grau 67 >>> 7.439592190632182e111\n",
      "Erro Grau 68 >>> 6.501815301440012e111\n"
     ]
    },
    {
     "data": {
      "image/svg+xml": [
       "<?xml version=\"1.0\" encoding=\"utf-8\"?>\n",
       "<svg xmlns=\"http://www.w3.org/2000/svg\" xmlns:xlink=\"http://www.w3.org/1999/xlink\" width=\"600\" height=\"400\" viewBox=\"0 0 2400 1600\">\n",
       "<defs>\n",
       "  <clipPath id=\"clip880\">\n",
       "    <rect x=\"0\" y=\"0\" width=\"2400\" height=\"1600\"/>\n",
       "  </clipPath>\n",
       "</defs>\n",
       "<path clip-path=\"url(#clip880)\" d=\"\n",
       "M0 1600 L2400 1600 L2400 0 L0 0  Z\n",
       "  \" fill=\"#ffffff\" fill-rule=\"evenodd\" fill-opacity=\"1\"/>\n",
       "<defs>\n",
       "  <clipPath id=\"clip881\">\n",
       "    <rect x=\"480\" y=\"0\" width=\"1681\" height=\"1600\"/>\n",
       "  </clipPath>\n",
       "</defs>\n",
       "<path clip-path=\"url(#clip880)\" d=\"\n",
       "M322.701 1486.45 L2352.76 1486.45 L2352.76 123.472 L322.701 123.472  Z\n",
       "  \" fill=\"#ffffff\" fill-rule=\"evenodd\" fill-opacity=\"1\"/>\n",
       "<defs>\n",
       "  <clipPath id=\"clip882\">\n",
       "    <rect x=\"322\" y=\"123\" width=\"2031\" height=\"1364\"/>\n",
       "  </clipPath>\n",
       "</defs>\n",
       "<polyline clip-path=\"url(#clip882)\" style=\"stroke:#000000; stroke-linecap:butt; stroke-linejoin:round; stroke-width:2; stroke-opacity:0.1; fill:none\" points=\"\n",
       "  351.992,1486.45 351.992,123.472 \n",
       "  \"/>\n",
       "<polyline clip-path=\"url(#clip882)\" style=\"stroke:#000000; stroke-linecap:butt; stroke-linejoin:round; stroke-width:2; stroke-opacity:0.1; fill:none\" points=\"\n",
       "  915.27,1486.45 915.27,123.472 \n",
       "  \"/>\n",
       "<polyline clip-path=\"url(#clip882)\" style=\"stroke:#000000; stroke-linecap:butt; stroke-linejoin:round; stroke-width:2; stroke-opacity:0.1; fill:none\" points=\"\n",
       "  1478.55,1486.45 1478.55,123.472 \n",
       "  \"/>\n",
       "<polyline clip-path=\"url(#clip882)\" style=\"stroke:#000000; stroke-linecap:butt; stroke-linejoin:round; stroke-width:2; stroke-opacity:0.1; fill:none\" points=\"\n",
       "  2041.83,1486.45 2041.83,123.472 \n",
       "  \"/>\n",
       "<polyline clip-path=\"url(#clip880)\" style=\"stroke:#000000; stroke-linecap:butt; stroke-linejoin:round; stroke-width:4; stroke-opacity:1; fill:none\" points=\"\n",
       "  322.701,1486.45 2352.76,1486.45 \n",
       "  \"/>\n",
       "<polyline clip-path=\"url(#clip880)\" style=\"stroke:#000000; stroke-linecap:butt; stroke-linejoin:round; stroke-width:4; stroke-opacity:1; fill:none\" points=\"\n",
       "  351.992,1486.45 351.992,1467.55 \n",
       "  \"/>\n",
       "<polyline clip-path=\"url(#clip880)\" style=\"stroke:#000000; stroke-linecap:butt; stroke-linejoin:round; stroke-width:4; stroke-opacity:1; fill:none\" points=\"\n",
       "  915.27,1486.45 915.27,1467.55 \n",
       "  \"/>\n",
       "<polyline clip-path=\"url(#clip880)\" style=\"stroke:#000000; stroke-linecap:butt; stroke-linejoin:round; stroke-width:4; stroke-opacity:1; fill:none\" points=\"\n",
       "  1478.55,1486.45 1478.55,1467.55 \n",
       "  \"/>\n",
       "<polyline clip-path=\"url(#clip880)\" style=\"stroke:#000000; stroke-linecap:butt; stroke-linejoin:round; stroke-width:4; stroke-opacity:1; fill:none\" points=\"\n",
       "  2041.83,1486.45 2041.83,1467.55 \n",
       "  \"/>\n",
       "<path clip-path=\"url(#clip880)\" d=\"M351.992 1517.37 Q348.381 1517.37 346.552 1520.93 Q344.746 1524.47 344.746 1531.6 Q344.746 1538.71 346.552 1542.27 Q348.381 1545.82 351.992 1545.82 Q355.626 1545.82 357.431 1542.27 Q359.26 1538.71 359.26 1531.6 Q359.26 1524.47 357.431 1520.93 Q355.626 1517.37 351.992 1517.37 M351.992 1513.66 Q357.802 1513.66 360.857 1518.27 Q363.936 1522.85 363.936 1531.6 Q363.936 1540.33 360.857 1544.94 Q357.802 1549.52 351.992 1549.52 Q346.182 1549.52 343.103 1544.94 Q340.047 1540.33 340.047 1531.6 Q340.047 1522.85 343.103 1518.27 Q346.182 1513.66 351.992 1513.66 Z\" fill=\"#000000\" fill-rule=\"evenodd\" fill-opacity=\"1\" /><path clip-path=\"url(#clip880)\" d=\"M894.043 1544.91 L910.363 1544.91 L910.363 1548.85 L888.418 1548.85 L888.418 1544.91 Q891.08 1542.16 895.664 1537.53 Q900.27 1532.88 901.451 1531.53 Q903.696 1529.01 904.576 1527.27 Q905.478 1525.51 905.478 1523.82 Q905.478 1521.07 903.534 1519.33 Q901.613 1517.6 898.511 1517.6 Q896.312 1517.6 893.858 1518.36 Q891.427 1519.13 888.65 1520.68 L888.65 1515.95 Q891.474 1514.82 893.927 1514.24 Q896.381 1513.66 898.418 1513.66 Q903.788 1513.66 906.983 1516.35 Q910.177 1519.03 910.177 1523.52 Q910.177 1525.65 909.367 1527.57 Q908.58 1529.47 906.474 1532.07 Q905.895 1532.74 902.793 1535.95 Q899.691 1539.15 894.043 1544.91 Z\" fill=\"#000000\" fill-rule=\"evenodd\" fill-opacity=\"1\" /><path clip-path=\"url(#clip880)\" d=\"M930.177 1517.37 Q926.566 1517.37 924.737 1520.93 Q922.932 1524.47 922.932 1531.6 Q922.932 1538.71 924.737 1542.27 Q926.566 1545.82 930.177 1545.82 Q933.811 1545.82 935.617 1542.27 Q937.446 1538.71 937.446 1531.6 Q937.446 1524.47 935.617 1520.93 Q933.811 1517.37 930.177 1517.37 M930.177 1513.66 Q935.987 1513.66 939.043 1518.27 Q942.122 1522.85 942.122 1531.6 Q942.122 1540.33 939.043 1544.94 Q935.987 1549.52 930.177 1549.52 Q924.367 1549.52 921.288 1544.94 Q918.233 1540.33 918.233 1531.6 Q918.233 1522.85 921.288 1518.27 Q924.367 1513.66 930.177 1513.66 Z\" fill=\"#000000\" fill-rule=\"evenodd\" fill-opacity=\"1\" /><path clip-path=\"url(#clip880)\" d=\"M1466.72 1518.36 L1454.91 1536.81 L1466.72 1536.81 L1466.72 1518.36 M1465.49 1514.29 L1471.37 1514.29 L1471.37 1536.81 L1476.3 1536.81 L1476.3 1540.7 L1471.37 1540.7 L1471.37 1548.85 L1466.72 1548.85 L1466.72 1540.7 L1451.12 1540.7 L1451.12 1536.19 L1465.49 1514.29 Z\" fill=\"#000000\" fill-rule=\"evenodd\" fill-opacity=\"1\" /><path clip-path=\"url(#clip880)\" d=\"M1494.03 1517.37 Q1490.42 1517.37 1488.59 1520.93 Q1486.79 1524.47 1486.79 1531.6 Q1486.79 1538.71 1488.59 1542.27 Q1490.42 1545.82 1494.03 1545.82 Q1497.67 1545.82 1499.47 1542.27 Q1501.3 1538.71 1501.3 1531.6 Q1501.3 1524.47 1499.47 1520.93 Q1497.67 1517.37 1494.03 1517.37 M1494.03 1513.66 Q1499.84 1513.66 1502.9 1518.27 Q1505.98 1522.85 1505.98 1531.6 Q1505.98 1540.33 1502.9 1544.94 Q1499.84 1549.52 1494.03 1549.52 Q1488.22 1549.52 1485.15 1544.94 Q1482.09 1540.33 1482.09 1531.6 Q1482.09 1522.85 1485.15 1518.27 Q1488.22 1513.66 1494.03 1513.66 Z\" fill=\"#000000\" fill-rule=\"evenodd\" fill-opacity=\"1\" /><path clip-path=\"url(#clip880)\" d=\"M2027.23 1529.7 Q2024.08 1529.7 2022.23 1531.86 Q2020.4 1534.01 2020.4 1537.76 Q2020.4 1541.49 2022.23 1543.66 Q2024.08 1545.82 2027.23 1545.82 Q2030.38 1545.82 2032.21 1543.66 Q2034.06 1541.49 2034.06 1537.76 Q2034.06 1534.01 2032.21 1531.86 Q2030.38 1529.7 2027.23 1529.7 M2036.51 1515.05 L2036.51 1519.31 Q2034.75 1518.48 2032.95 1518.04 Q2031.17 1517.6 2029.41 1517.6 Q2024.78 1517.6 2022.32 1520.72 Q2019.89 1523.85 2019.55 1530.17 Q2020.91 1528.15 2022.97 1527.09 Q2025.03 1526 2027.51 1526 Q2032.72 1526 2035.73 1529.17 Q2038.76 1532.32 2038.76 1537.76 Q2038.76 1543.08 2035.61 1546.3 Q2032.46 1549.52 2027.23 1549.52 Q2021.24 1549.52 2018.06 1544.94 Q2014.89 1540.33 2014.89 1531.6 Q2014.89 1523.41 2018.78 1518.55 Q2022.67 1513.66 2029.22 1513.66 Q2030.98 1513.66 2032.76 1514.01 Q2034.57 1514.36 2036.51 1515.05 Z\" fill=\"#000000\" fill-rule=\"evenodd\" fill-opacity=\"1\" /><path clip-path=\"url(#clip880)\" d=\"M2056.81 1517.37 Q2053.2 1517.37 2051.37 1520.93 Q2049.57 1524.47 2049.57 1531.6 Q2049.57 1538.71 2051.37 1542.27 Q2053.2 1545.82 2056.81 1545.82 Q2060.45 1545.82 2062.25 1542.27 Q2064.08 1538.71 2064.08 1531.6 Q2064.08 1524.47 2062.25 1520.93 Q2060.45 1517.37 2056.81 1517.37 M2056.81 1513.66 Q2062.62 1513.66 2065.68 1518.27 Q2068.76 1522.85 2068.76 1531.6 Q2068.76 1540.33 2065.68 1544.94 Q2062.62 1549.52 2056.81 1549.52 Q2051 1549.52 2047.93 1544.94 Q2044.87 1540.33 2044.87 1531.6 Q2044.87 1522.85 2047.93 1518.27 Q2051 1513.66 2056.81 1513.66 Z\" fill=\"#000000\" fill-rule=\"evenodd\" fill-opacity=\"1\" /><polyline clip-path=\"url(#clip882)\" style=\"stroke:#000000; stroke-linecap:butt; stroke-linejoin:round; stroke-width:2; stroke-opacity:0.1; fill:none\" points=\"\n",
       "  322.701,1447.87 2352.76,1447.87 \n",
       "  \"/>\n",
       "<polyline clip-path=\"url(#clip882)\" style=\"stroke:#000000; stroke-linecap:butt; stroke-linejoin:round; stroke-width:2; stroke-opacity:0.1; fill:none\" points=\"\n",
       "  322.701,1102.2 2352.76,1102.2 \n",
       "  \"/>\n",
       "<polyline clip-path=\"url(#clip882)\" style=\"stroke:#000000; stroke-linecap:butt; stroke-linejoin:round; stroke-width:2; stroke-opacity:0.1; fill:none\" points=\"\n",
       "  322.701,756.531 2352.76,756.531 \n",
       "  \"/>\n",
       "<polyline clip-path=\"url(#clip882)\" style=\"stroke:#000000; stroke-linecap:butt; stroke-linejoin:round; stroke-width:2; stroke-opacity:0.1; fill:none\" points=\"\n",
       "  322.701,410.86 2352.76,410.86 \n",
       "  \"/>\n",
       "<polyline clip-path=\"url(#clip880)\" style=\"stroke:#000000; stroke-linecap:butt; stroke-linejoin:round; stroke-width:4; stroke-opacity:1; fill:none\" points=\"\n",
       "  322.701,1486.45 322.701,123.472 \n",
       "  \"/>\n",
       "<polyline clip-path=\"url(#clip880)\" style=\"stroke:#000000; stroke-linecap:butt; stroke-linejoin:round; stroke-width:4; stroke-opacity:1; fill:none\" points=\"\n",
       "  322.701,1447.87 341.599,1447.87 \n",
       "  \"/>\n",
       "<polyline clip-path=\"url(#clip880)\" style=\"stroke:#000000; stroke-linecap:butt; stroke-linejoin:round; stroke-width:4; stroke-opacity:1; fill:none\" points=\"\n",
       "  322.701,1102.2 341.599,1102.2 \n",
       "  \"/>\n",
       "<polyline clip-path=\"url(#clip880)\" style=\"stroke:#000000; stroke-linecap:butt; stroke-linejoin:round; stroke-width:4; stroke-opacity:1; fill:none\" points=\"\n",
       "  322.701,756.531 341.599,756.531 \n",
       "  \"/>\n",
       "<polyline clip-path=\"url(#clip880)\" style=\"stroke:#000000; stroke-linecap:butt; stroke-linejoin:round; stroke-width:4; stroke-opacity:1; fill:none\" points=\"\n",
       "  322.701,410.86 341.599,410.86 \n",
       "  \"/>\n",
       "<path clip-path=\"url(#clip880)\" d=\"M274.757 1433.67 Q271.146 1433.67 269.317 1437.24 Q267.512 1440.78 267.512 1447.91 Q267.512 1455.01 269.317 1458.58 Q271.146 1462.12 274.757 1462.12 Q278.391 1462.12 280.197 1458.58 Q282.025 1455.01 282.025 1447.91 Q282.025 1440.78 280.197 1437.24 Q278.391 1433.67 274.757 1433.67 M274.757 1429.97 Q280.567 1429.97 283.623 1434.57 Q286.701 1439.16 286.701 1447.91 Q286.701 1456.63 283.623 1461.24 Q280.567 1465.82 274.757 1465.82 Q268.947 1465.82 265.868 1461.24 Q262.812 1456.63 262.812 1447.91 Q262.812 1439.16 265.868 1434.57 Q268.947 1429.97 274.757 1429.97 Z\" fill=\"#000000\" fill-rule=\"evenodd\" fill-opacity=\"1\" /><path clip-path=\"url(#clip880)\" d=\"M57.7745 1121.99 L74.0939 1121.99 L74.0939 1125.93 L52.1495 1125.93 L52.1495 1121.99 Q54.8115 1119.24 59.3949 1114.61 Q64.0013 1109.96 65.1819 1108.61 Q67.4272 1106.09 68.3068 1104.36 Q69.2096 1102.6 69.2096 1100.91 Q69.2096 1098.15 67.2652 1096.42 Q65.3439 1094.68 62.2421 1094.68 Q60.043 1094.68 57.5893 1095.44 Q55.1588 1096.21 52.381 1097.76 L52.381 1093.04 Q55.2051 1091.9 57.6588 1091.32 Q60.1124 1090.74 62.1495 1090.74 Q67.5198 1090.74 70.7142 1093.43 Q73.9087 1096.11 73.9087 1100.61 Q73.9087 1102.74 73.0985 1104.66 Q72.3115 1106.55 70.205 1109.15 Q69.6263 1109.82 66.5245 1113.04 Q63.4226 1116.23 57.7745 1121.99 Z\" fill=\"#000000\" fill-rule=\"evenodd\" fill-opacity=\"1\" /><path clip-path=\"url(#clip880)\" d=\"M83.9086 1120.05 L88.7928 1120.05 L88.7928 1125.93 L83.9086 1125.93 L83.9086 1120.05 Z\" fill=\"#000000\" fill-rule=\"evenodd\" fill-opacity=\"1\" /><path clip-path=\"url(#clip880)\" d=\"M108.978 1094.45 Q105.367 1094.45 103.538 1098.01 Q101.733 1101.55 101.733 1108.68 Q101.733 1115.79 103.538 1119.36 Q105.367 1122.9 108.978 1122.9 Q112.612 1122.9 114.418 1119.36 Q116.246 1115.79 116.246 1108.68 Q116.246 1101.55 114.418 1098.01 Q112.612 1094.45 108.978 1094.45 M108.978 1090.74 Q114.788 1090.74 117.844 1095.35 Q120.922 1099.93 120.922 1108.68 Q120.922 1117.41 117.844 1122.02 Q114.788 1126.6 108.978 1126.6 Q103.168 1126.6 100.089 1122.02 Q97.0335 1117.41 97.0335 1108.68 Q97.0335 1099.93 100.089 1095.35 Q103.168 1090.74 108.978 1090.74 Z\" fill=\"#000000\" fill-rule=\"evenodd\" fill-opacity=\"1\" /><path clip-path=\"url(#clip880)\" d=\"M157.311 1100.47 L146.732 1111.09 L157.311 1121.67 L154.556 1124.47 L143.931 1113.85 L133.306 1124.47 L130.575 1121.67 L141.131 1111.09 L130.575 1100.47 L133.306 1097.67 L143.931 1108.29 L154.556 1097.67 L157.311 1100.47 Z\" fill=\"#000000\" fill-rule=\"evenodd\" fill-opacity=\"1\" /><path clip-path=\"url(#clip880)\" d=\"M169.672 1121.99 L177.311 1121.99 L177.311 1095.63 L169.001 1097.3 L169.001 1093.04 L177.265 1091.37 L181.94 1091.37 L181.94 1121.99 L189.579 1121.99 L189.579 1125.93 L169.672 1125.93 L169.672 1121.99 Z\" fill=\"#000000\" fill-rule=\"evenodd\" fill-opacity=\"1\" /><path clip-path=\"url(#clip880)\" d=\"M209.024 1094.45 Q205.413 1094.45 203.584 1098.01 Q201.778 1101.55 201.778 1108.68 Q201.778 1115.79 203.584 1119.36 Q205.413 1122.9 209.024 1122.9 Q212.658 1122.9 214.463 1119.36 Q216.292 1115.79 216.292 1108.68 Q216.292 1101.55 214.463 1098.01 Q212.658 1094.45 209.024 1094.45 M209.024 1090.74 Q214.834 1090.74 217.889 1095.35 Q220.968 1099.93 220.968 1108.68 Q220.968 1117.41 217.889 1122.02 Q214.834 1126.6 209.024 1126.6 Q203.214 1126.6 200.135 1122.02 Q197.079 1117.41 197.079 1108.68 Q197.079 1099.93 200.135 1095.35 Q203.214 1090.74 209.024 1090.74 Z\" fill=\"#000000\" fill-rule=\"evenodd\" fill-opacity=\"1\" /><path clip-path=\"url(#clip880)\" d=\"M221.513 1095.32 L227.72 1095.32 L227.72 1073.9 L220.968 1075.25 L220.968 1071.79 L227.682 1070.44 L231.482 1070.44 L231.482 1095.32 L237.688 1095.32 L237.688 1098.52 L221.513 1098.52 L221.513 1095.32 Z\" fill=\"#000000\" fill-rule=\"evenodd\" fill-opacity=\"1\" /><path clip-path=\"url(#clip880)\" d=\"M246.02 1095.32 L252.227 1095.32 L252.227 1073.9 L245.475 1075.25 L245.475 1071.79 L252.189 1070.44 L255.988 1070.44 L255.988 1095.32 L262.195 1095.32 L262.195 1098.52 L246.02 1098.52 L246.02 1095.32 Z\" fill=\"#000000\" fill-rule=\"evenodd\" fill-opacity=\"1\" /><path clip-path=\"url(#clip880)\" d=\"M270.527 1095.32 L276.733 1095.32 L276.733 1073.9 L269.981 1075.25 L269.981 1071.79 L276.695 1070.44 L280.495 1070.44 L280.495 1095.32 L286.701 1095.32 L286.701 1098.52 L270.527 1098.52 L270.527 1095.32 Z\" fill=\"#000000\" fill-rule=\"evenodd\" fill-opacity=\"1\" /><path clip-path=\"url(#clip880)\" d=\"M66.5939 749.772 L54.7884 768.221 L66.5939 768.221 L66.5939 749.772 M65.367 745.698 L71.2466 745.698 L71.2466 768.221 L76.1772 768.221 L76.1772 772.11 L71.2466 772.11 L71.2466 780.258 L66.5939 780.258 L66.5939 772.11 L50.9921 772.11 L50.9921 767.596 L65.367 745.698 Z\" fill=\"#000000\" fill-rule=\"evenodd\" fill-opacity=\"1\" /><path clip-path=\"url(#clip880)\" d=\"M83.9086 774.379 L88.7928 774.379 L88.7928 780.258 L83.9086 780.258 L83.9086 774.379 Z\" fill=\"#000000\" fill-rule=\"evenodd\" fill-opacity=\"1\" /><path clip-path=\"url(#clip880)\" d=\"M108.978 748.777 Q105.367 748.777 103.538 752.342 Q101.733 755.884 101.733 763.013 Q101.733 770.12 103.538 773.684 Q105.367 777.226 108.978 777.226 Q112.612 777.226 114.418 773.684 Q116.246 770.12 116.246 763.013 Q116.246 755.884 114.418 752.342 Q112.612 748.777 108.978 748.777 M108.978 745.073 Q114.788 745.073 117.844 749.68 Q120.922 754.263 120.922 763.013 Q120.922 771.74 117.844 776.346 Q114.788 780.93 108.978 780.93 Q103.168 780.93 100.089 776.346 Q97.0335 771.74 97.0335 763.013 Q97.0335 754.263 100.089 749.68 Q103.168 745.073 108.978 745.073 Z\" fill=\"#000000\" fill-rule=\"evenodd\" fill-opacity=\"1\" /><path clip-path=\"url(#clip880)\" d=\"M157.311 754.796 L146.732 765.421 L157.311 775.999 L154.556 778.8 L143.931 768.175 L133.306 778.8 L130.575 775.999 L141.131 765.421 L130.575 754.796 L133.306 751.995 L143.931 762.62 L154.556 751.995 L157.311 754.796 Z\" fill=\"#000000\" fill-rule=\"evenodd\" fill-opacity=\"1\" /><path clip-path=\"url(#clip880)\" d=\"M169.672 776.323 L177.311 776.323 L177.311 749.958 L169.001 751.624 L169.001 747.365 L177.265 745.698 L181.94 745.698 L181.94 776.323 L189.579 776.323 L189.579 780.258 L169.672 780.258 L169.672 776.323 Z\" fill=\"#000000\" fill-rule=\"evenodd\" fill-opacity=\"1\" /><path clip-path=\"url(#clip880)\" d=\"M209.024 748.777 Q205.413 748.777 203.584 752.342 Q201.778 755.884 201.778 763.013 Q201.778 770.12 203.584 773.684 Q205.413 777.226 209.024 777.226 Q212.658 777.226 214.463 773.684 Q216.292 770.12 216.292 763.013 Q216.292 755.884 214.463 752.342 Q212.658 748.777 209.024 748.777 M209.024 745.073 Q214.834 745.073 217.889 749.68 Q220.968 754.263 220.968 763.013 Q220.968 771.74 217.889 776.346 Q214.834 780.93 209.024 780.93 Q203.214 780.93 200.135 776.346 Q197.079 771.74 197.079 763.013 Q197.079 754.263 200.135 749.68 Q203.214 745.073 209.024 745.073 Z\" fill=\"#000000\" fill-rule=\"evenodd\" fill-opacity=\"1\" /><path clip-path=\"url(#clip880)\" d=\"M221.513 749.651 L227.72 749.651 L227.72 728.229 L220.968 729.583 L220.968 726.122 L227.682 724.768 L231.482 724.768 L231.482 749.651 L237.688 749.651 L237.688 752.848 L221.513 752.848 L221.513 749.651 Z\" fill=\"#000000\" fill-rule=\"evenodd\" fill-opacity=\"1\" /><path clip-path=\"url(#clip880)\" d=\"M246.02 749.651 L252.227 749.651 L252.227 728.229 L245.475 729.583 L245.475 726.122 L252.189 724.768 L255.988 724.768 L255.988 749.651 L262.195 749.651 L262.195 752.848 L246.02 752.848 L246.02 749.651 Z\" fill=\"#000000\" fill-rule=\"evenodd\" fill-opacity=\"1\" /><path clip-path=\"url(#clip880)\" d=\"M270.527 749.651 L276.733 749.651 L276.733 728.229 L269.981 729.583 L269.981 726.122 L276.695 724.768 L280.495 724.768 L280.495 749.651 L286.701 749.651 L286.701 752.848 L270.527 752.848 L270.527 749.651 Z\" fill=\"#000000\" fill-rule=\"evenodd\" fill-opacity=\"1\" /><path clip-path=\"url(#clip880)\" d=\"M64.3254 415.444 Q61.1773 415.444 59.3254 417.597 Q57.4967 419.749 57.4967 423.499 Q57.4967 427.226 59.3254 429.402 Q61.1773 431.555 64.3254 431.555 Q67.4735 431.555 69.3022 429.402 Q71.1541 427.226 71.1541 423.499 Q71.1541 419.749 69.3022 417.597 Q67.4735 415.444 64.3254 415.444 M73.6077 400.791 L73.6077 405.05 Q71.8485 404.217 70.0429 403.777 Q68.2606 403.337 66.5013 403.337 Q61.8717 403.337 59.418 406.462 Q56.9875 409.587 56.6402 415.907 Q58.006 413.893 60.0662 412.828 Q62.1263 411.74 64.6032 411.74 Q69.8115 411.74 72.8207 414.911 Q75.8531 418.06 75.8531 423.499 Q75.8531 428.823 72.705 432.041 Q69.5568 435.259 64.3254 435.259 Q58.33 435.259 55.1588 430.675 Q51.9875 426.069 51.9875 417.342 Q51.9875 409.148 55.8764 404.286 Q59.7652 399.402 66.3161 399.402 Q68.0754 399.402 69.8578 399.749 Q71.6633 400.097 73.6077 400.791 Z\" fill=\"#000000\" fill-rule=\"evenodd\" fill-opacity=\"1\" /><path clip-path=\"url(#clip880)\" d=\"M83.9086 428.708 L88.7928 428.708 L88.7928 434.587 L83.9086 434.587 L83.9086 428.708 Z\" fill=\"#000000\" fill-rule=\"evenodd\" fill-opacity=\"1\" /><path clip-path=\"url(#clip880)\" d=\"M108.978 403.106 Q105.367 403.106 103.538 406.671 Q101.733 410.212 101.733 417.342 Q101.733 424.448 103.538 428.013 Q105.367 431.555 108.978 431.555 Q112.612 431.555 114.418 428.013 Q116.246 424.448 116.246 417.342 Q116.246 410.212 114.418 406.671 Q112.612 403.106 108.978 403.106 M108.978 399.402 Q114.788 399.402 117.844 404.009 Q120.922 408.592 120.922 417.342 Q120.922 426.069 117.844 430.675 Q114.788 435.259 108.978 435.259 Q103.168 435.259 100.089 430.675 Q97.0335 426.069 97.0335 417.342 Q97.0335 408.592 100.089 404.009 Q103.168 399.402 108.978 399.402 Z\" fill=\"#000000\" fill-rule=\"evenodd\" fill-opacity=\"1\" /><path clip-path=\"url(#clip880)\" d=\"M157.311 409.124 L146.732 419.749 L157.311 430.328 L154.556 433.129 L143.931 422.504 L133.306 433.129 L130.575 430.328 L141.131 419.749 L130.575 409.124 L133.306 406.324 L143.931 416.948 L154.556 406.324 L157.311 409.124 Z\" fill=\"#000000\" fill-rule=\"evenodd\" fill-opacity=\"1\" /><path clip-path=\"url(#clip880)\" d=\"M169.672 430.652 L177.311 430.652 L177.311 404.286 L169.001 405.953 L169.001 401.694 L177.265 400.027 L181.94 400.027 L181.94 430.652 L189.579 430.652 L189.579 434.587 L169.672 434.587 L169.672 430.652 Z\" fill=\"#000000\" fill-rule=\"evenodd\" fill-opacity=\"1\" /><path clip-path=\"url(#clip880)\" d=\"M209.024 403.106 Q205.413 403.106 203.584 406.671 Q201.778 410.212 201.778 417.342 Q201.778 424.448 203.584 428.013 Q205.413 431.555 209.024 431.555 Q212.658 431.555 214.463 428.013 Q216.292 424.448 216.292 417.342 Q216.292 410.212 214.463 406.671 Q212.658 403.106 209.024 403.106 M209.024 399.402 Q214.834 399.402 217.889 404.009 Q220.968 408.592 220.968 417.342 Q220.968 426.069 217.889 430.675 Q214.834 435.259 209.024 435.259 Q203.214 435.259 200.135 430.675 Q197.079 426.069 197.079 417.342 Q197.079 408.592 200.135 404.009 Q203.214 399.402 209.024 399.402 Z\" fill=\"#000000\" fill-rule=\"evenodd\" fill-opacity=\"1\" /><path clip-path=\"url(#clip880)\" d=\"M221.513 403.98 L227.72 403.98 L227.72 382.557 L220.968 383.912 L220.968 380.451 L227.682 379.097 L231.482 379.097 L231.482 403.98 L237.688 403.98 L237.688 407.177 L221.513 407.177 L221.513 403.98 Z\" fill=\"#000000\" fill-rule=\"evenodd\" fill-opacity=\"1\" /><path clip-path=\"url(#clip880)\" d=\"M246.02 403.98 L252.227 403.98 L252.227 382.557 L245.475 383.912 L245.475 380.451 L252.189 379.097 L255.988 379.097 L255.988 403.98 L262.195 403.98 L262.195 407.177 L246.02 407.177 L246.02 403.98 Z\" fill=\"#000000\" fill-rule=\"evenodd\" fill-opacity=\"1\" /><path clip-path=\"url(#clip880)\" d=\"M270.527 403.98 L276.733 403.98 L276.733 382.557 L269.981 383.912 L269.981 380.451 L276.695 379.097 L280.495 379.097 L280.495 403.98 L286.701 403.98 L286.701 407.177 L270.527 407.177 L270.527 403.98 Z\" fill=\"#000000\" fill-rule=\"evenodd\" fill-opacity=\"1\" /><path clip-path=\"url(#clip880)\" d=\"M999.62 12.096 L1037.86 12.096 L1037.86 18.9825 L1007.8 18.9825 L1007.8 36.8875 L1036.6 36.8875 L1036.6 43.7741 L1007.8 43.7741 L1007.8 65.6895 L1038.59 65.6895 L1038.59 72.576 L999.62 72.576 L999.62 12.096 Z\" fill=\"#000000\" fill-rule=\"evenodd\" fill-opacity=\"1\" /><path clip-path=\"url(#clip880)\" d=\"M1078 34.1734 Q1076.75 33.4443 1075.25 33.1202 Q1073.79 32.7556 1072.01 32.7556 Q1065.69 32.7556 1062.29 36.8875 Q1058.93 40.9789 1058.93 48.6757 L1058.93 72.576 L1051.43 72.576 L1051.43 27.2059 L1058.93 27.2059 L1058.93 34.2544 Q1061.27 30.1225 1065.04 28.1376 Q1068.81 26.1121 1074.2 26.1121 Q1074.97 26.1121 1075.9 26.2337 Q1076.83 26.3147 1077.96 26.5172 L1078 34.1734 Z\" fill=\"#000000\" fill-rule=\"evenodd\" fill-opacity=\"1\" /><path clip-path=\"url(#clip880)\" d=\"M1110.66 34.1734 Q1109.4 33.4443 1107.9 33.1202 Q1106.44 32.7556 1104.66 32.7556 Q1098.34 32.7556 1094.94 36.8875 Q1091.58 40.9789 1091.58 48.6757 L1091.58 72.576 L1084.08 72.576 L1084.08 27.2059 L1091.58 27.2059 L1091.58 34.2544 Q1093.92 30.1225 1097.69 28.1376 Q1101.46 26.1121 1106.85 26.1121 Q1107.62 26.1121 1108.55 26.2337 Q1109.48 26.3147 1110.61 26.5172 L1110.66 34.1734 Z\" fill=\"#000000\" fill-rule=\"evenodd\" fill-opacity=\"1\" /><path clip-path=\"url(#clip880)\" d=\"M1134.23 32.4315 Q1128.24 32.4315 1124.75 37.1306 Q1121.27 41.7891 1121.27 49.9314 Q1121.27 58.0738 1124.71 62.7728 Q1128.2 67.4314 1134.23 67.4314 Q1140.19 67.4314 1143.67 62.7323 Q1147.15 58.0333 1147.15 49.9314 Q1147.15 41.8701 1143.67 37.1711 Q1140.19 32.4315 1134.23 32.4315 M1134.23 26.1121 Q1143.95 26.1121 1149.5 32.4315 Q1155.05 38.7509 1155.05 49.9314 Q1155.05 61.0714 1149.5 67.4314 Q1143.95 73.7508 1134.23 73.7508 Q1124.47 73.7508 1118.92 67.4314 Q1113.41 61.0714 1113.41 49.9314 Q1113.41 38.7509 1118.92 32.4315 Q1124.47 26.1121 1134.23 26.1121 Z\" fill=\"#000000\" fill-rule=\"evenodd\" fill-opacity=\"1\" /><path clip-path=\"url(#clip880)\" d=\"M1185.72 12.096 L1236.88 12.096 L1236.88 18.9825 L1215.41 18.9825 L1215.41 72.576 L1207.19 72.576 L1207.19 18.9825 L1185.72 18.9825 L1185.72 12.096 Z\" fill=\"#000000\" fill-rule=\"evenodd\" fill-opacity=\"1\" /><path clip-path=\"url(#clip880)\" d=\"M1247.94 32.4315 Q1241.94 32.4315 1238.46 37.1306 Q1234.98 41.7891 1234.98 49.9314 Q1234.98 58.0738 1238.42 62.7728 Q1241.9 67.4314 1247.94 67.4314 Q1253.9 67.4314 1257.38 62.7323 Q1260.86 58.0333 1260.86 49.9314 Q1260.86 41.8701 1257.38 37.1711 Q1253.9 32.4315 1247.94 32.4315 M1247.94 26.1121 Q1257.66 26.1121 1263.21 32.4315 Q1268.76 38.7509 1268.76 49.9314 Q1268.76 61.0714 1263.21 67.4314 Q1257.66 73.7508 1247.94 73.7508 Q1238.18 73.7508 1232.63 67.4314 Q1227.12 61.0714 1227.12 49.9314 Q1227.12 38.7509 1232.63 32.4315 Q1238.18 26.1121 1247.94 26.1121 Z\" fill=\"#000000\" fill-rule=\"evenodd\" fill-opacity=\"1\" /><path clip-path=\"url(#clip880)\" d=\"M1288.49 14.324 L1288.49 27.2059 L1303.84 27.2059 L1303.84 32.9987 L1288.49 32.9987 L1288.49 57.6282 Q1288.49 63.1779 1289.99 64.7578 Q1291.53 66.3376 1296.19 66.3376 L1303.84 66.3376 L1303.84 72.576 L1296.19 72.576 Q1287.56 72.576 1284.28 69.3758 Q1281 66.1351 1281 57.6282 L1281 32.9987 L1275.53 32.9987 L1275.53 27.2059 L1281 27.2059 L1281 14.324 L1288.49 14.324 Z\" fill=\"#000000\" fill-rule=\"evenodd\" fill-opacity=\"1\" /><path clip-path=\"url(#clip880)\" d=\"M1334.27 49.7694 Q1325.23 49.7694 1321.75 51.8354 Q1318.26 53.9013 1318.26 58.8839 Q1318.26 62.8538 1320.86 65.2034 Q1323.49 67.5124 1327.99 67.5124 Q1334.18 67.5124 1337.91 63.1374 Q1341.68 58.7219 1341.68 51.4303 L1341.68 49.7694 L1334.27 49.7694 M1349.13 46.6907 L1349.13 72.576 L1341.68 72.576 L1341.68 65.6895 Q1339.13 69.8214 1335.32 71.8063 Q1331.51 73.7508 1326 73.7508 Q1319.03 73.7508 1314.9 69.8619 Q1310.81 65.9325 1310.81 59.3701 Q1310.81 51.7138 1315.91 47.825 Q1321.06 43.9361 1331.23 43.9361 L1341.68 43.9361 L1341.68 43.2069 Q1341.68 38.0623 1338.28 35.2672 Q1334.91 32.4315 1328.8 32.4315 Q1324.91 32.4315 1321.22 33.3632 Q1317.53 34.295 1314.13 36.1584 L1314.13 29.2718 Q1318.22 27.692 1322.07 26.9223 Q1325.92 26.1121 1329.57 26.1121 Q1339.41 26.1121 1344.27 31.2163 Q1349.13 36.3204 1349.13 46.6907 Z\" fill=\"#000000\" fill-rule=\"evenodd\" fill-opacity=\"1\" /><path clip-path=\"url(#clip880)\" d=\"M1364.48 9.54393 L1371.94 9.54393 L1371.94 72.576 L1364.48 72.576 L1364.48 9.54393 Z\" fill=\"#000000\" fill-rule=\"evenodd\" fill-opacity=\"1\" /><path clip-path=\"url(#clip880)\" d=\"M1451.62 27.2059 L1435.21 49.2833 L1452.47 72.576 L1443.68 72.576 L1430.47 54.752 L1417.27 72.576 L1408.48 72.576 L1426.1 48.8377 L1409.98 27.2059 L1418.77 27.2059 L1430.8 43.369 L1442.83 27.2059 L1451.62 27.2059 Z\" fill=\"#000000\" fill-rule=\"evenodd\" fill-opacity=\"1\" /><path clip-path=\"url(#clip880)\" d=\"M1530.94 63.9476 L1530.94 47.7034 L1517.57 47.7034 L1517.57 40.9789 L1539.04 40.9789 L1539.04 66.9452 Q1534.3 70.3075 1528.59 72.0494 Q1522.88 73.7508 1516.39 73.7508 Q1502.22 73.7508 1494.19 65.4869 Q1486.21 57.1826 1486.21 42.3968 Q1486.21 27.5705 1494.19 19.3066 Q1502.22 11.0023 1516.39 11.0023 Q1522.31 11.0023 1527.61 12.4606 Q1532.96 13.9189 1537.46 16.7545 L1537.46 25.464 Q1532.92 21.6156 1527.82 19.6712 Q1522.71 17.7268 1517.08 17.7268 Q1505.98 17.7268 1500.39 23.9246 Q1494.84 30.1225 1494.84 42.3968 Q1494.84 54.6305 1500.39 60.8284 Q1505.98 67.0263 1517.08 67.0263 Q1521.42 67.0263 1524.82 66.2971 Q1528.22 65.5274 1530.94 63.9476 Z\" fill=\"#000000\" fill-rule=\"evenodd\" fill-opacity=\"1\" /><path clip-path=\"url(#clip880)\" d=\"M1579.95 34.1734 Q1578.7 33.4443 1577.2 33.1202 Q1575.74 32.7556 1573.96 32.7556 Q1567.64 32.7556 1564.23 36.8875 Q1560.87 40.9789 1560.87 48.6757 L1560.87 72.576 L1553.38 72.576 L1553.38 27.2059 L1560.87 27.2059 L1560.87 34.2544 Q1563.22 30.1225 1566.99 28.1376 Q1570.76 26.1121 1576.14 26.1121 Q1576.91 26.1121 1577.85 26.2337 Q1578.78 26.3147 1579.91 26.5172 L1579.95 34.1734 Z\" fill=\"#000000\" fill-rule=\"evenodd\" fill-opacity=\"1\" /><path clip-path=\"url(#clip880)\" d=\"M1608.39 49.7694 Q1599.36 49.7694 1595.87 51.8354 Q1592.39 53.9013 1592.39 58.8839 Q1592.39 62.8538 1594.98 65.2034 Q1597.61 67.5124 1602.11 67.5124 Q1608.31 67.5124 1612.04 63.1374 Q1615.8 58.7219 1615.8 51.4303 L1615.8 49.7694 L1608.39 49.7694 M1623.26 46.6907 L1623.26 72.576 L1615.8 72.576 L1615.8 65.6895 Q1613.25 69.8214 1609.44 71.8063 Q1605.64 73.7508 1600.13 73.7508 Q1593.16 73.7508 1589.03 69.8619 Q1584.93 65.9325 1584.93 59.3701 Q1584.93 51.7138 1590.04 47.825 Q1595.18 43.9361 1605.35 43.9361 L1615.8 43.9361 L1615.8 43.2069 Q1615.8 38.0623 1612.4 35.2672 Q1609.04 32.4315 1602.92 32.4315 Q1599.03 32.4315 1595.35 33.3632 Q1591.66 34.295 1588.26 36.1584 L1588.26 29.2718 Q1592.35 27.692 1596.2 26.9223 Q1600.04 26.1121 1603.69 26.1121 Q1613.53 26.1121 1618.4 31.2163 Q1623.26 36.3204 1623.26 46.6907 Z\" fill=\"#000000\" fill-rule=\"evenodd\" fill-opacity=\"1\" /><path clip-path=\"url(#clip880)\" d=\"M1637.84 54.671 L1637.84 27.2059 L1645.29 27.2059 L1645.29 54.3874 Q1645.29 60.8284 1647.81 64.0691 Q1650.32 67.2693 1655.34 67.2693 Q1661.38 67.2693 1664.86 63.421 Q1668.38 59.5726 1668.38 52.9291 L1668.38 27.2059 L1675.84 27.2059 L1675.84 72.576 L1668.38 72.576 L1668.38 65.6084 Q1665.67 69.7404 1662.06 71.7658 Q1658.5 73.7508 1653.76 73.7508 Q1645.94 73.7508 1641.89 68.8897 Q1637.84 64.0286 1637.84 54.671 M1656.6 26.1121 L1656.6 26.1121 Z\" fill=\"#000000\" fill-rule=\"evenodd\" fill-opacity=\"1\" /><polyline clip-path=\"url(#clip882)\" style=\"stroke:#009af9; stroke-linecap:butt; stroke-linejoin:round; stroke-width:4; stroke-opacity:1; fill:none\" points=\"\n",
       "  380.156,1447.87 408.32,1447.87 436.483,1447.87 464.647,1447.87 492.811,1447.87 520.975,1447.87 549.139,1447.87 577.303,1447.87 605.467,1447.87 633.631,1447.87 \n",
       "  661.795,1447.87 689.959,1447.87 718.123,1447.87 746.286,1447.87 774.45,1447.87 802.614,1447.87 830.778,1447.87 858.942,1447.87 887.106,1447.87 915.27,1447.87 \n",
       "  943.434,1447.87 971.598,1447.87 999.762,1447.87 1027.93,1447.87 1056.09,1447.87 1084.25,1447.87 1112.42,1447.87 1140.58,1447.87 1168.75,1447.87 1196.91,1447.87 \n",
       "  1225.07,1447.87 1253.24,1447.87 1281.4,1447.87 1309.56,1447.87 1337.73,1447.87 1365.89,1447.87 1394.06,1447.87 1422.22,1447.87 1450.38,1447.87 1478.55,1447.87 \n",
       "  1506.71,1447.87 1534.88,1447.87 1563.04,1447.87 1591.2,1447.87 1619.37,1447.87 1647.53,1447.87 1675.7,1447.87 1703.86,1447.87 1732.02,1447.87 1760.19,1447.87 \n",
       "  1788.35,1447.87 1816.52,1447.87 1844.68,1447.87 1872.84,1447.87 1901.01,1447.87 1929.17,1447.87 1957.33,1447.87 1985.5,1447.87 2013.66,1447.87 2041.83,1447.87 \n",
       "  2069.99,1447.87 2098.15,1447.87 2126.32,1447.87 2154.48,1447.87 2182.65,1447.87 2210.81,1447.8 2238.97,1423.17 2267.14,162.047 2295.3,324.128 \n",
       "  \"/>\n",
       "<path clip-path=\"url(#clip880)\" d=\"\n",
       "M2007.1 272.585 L2285.09 272.585 L2285.09 168.905 L2007.1 168.905  Z\n",
       "  \" fill=\"#ffffff\" fill-rule=\"evenodd\" fill-opacity=\"1\"/>\n",
       "<polyline clip-path=\"url(#clip880)\" style=\"stroke:#000000; stroke-linecap:butt; stroke-linejoin:round; stroke-width:4; stroke-opacity:1; fill:none\" points=\"\n",
       "  2007.1,272.585 2285.09,272.585 2285.09,168.905 2007.1,168.905 2007.1,272.585 \n",
       "  \"/>\n",
       "<polyline clip-path=\"url(#clip880)\" style=\"stroke:#009af9; stroke-linecap:butt; stroke-linejoin:round; stroke-width:4; stroke-opacity:1; fill:none\" points=\"\n",
       "  2029.65,220.745 2164.99,220.745 \n",
       "  \"/>\n",
       "<path clip-path=\"url(#clip880)\" d=\"M2201.39 240.432 Q2199.58 245.062 2197.87 246.474 Q2196.16 247.886 2193.29 247.886 L2189.88 247.886 L2189.88 244.321 L2192.38 244.321 Q2194.14 244.321 2195.11 243.488 Q2196.09 242.654 2197.27 239.552 L2198.03 237.608 L2187.54 212.099 L2192.06 212.099 L2200.16 232.377 L2208.26 212.099 L2212.78 212.099 L2201.39 240.432 Z\" fill=\"#000000\" fill-rule=\"evenodd\" fill-opacity=\"1\" /><path clip-path=\"url(#clip880)\" d=\"M2220.07 234.089 L2227.71 234.089 L2227.71 207.724 L2219.4 209.391 L2219.4 205.131 L2227.66 203.465 L2232.34 203.465 L2232.34 234.089 L2239.98 234.089 L2239.98 238.025 L2220.07 238.025 L2220.07 234.089 Z\" fill=\"#000000\" fill-rule=\"evenodd\" fill-opacity=\"1\" /></svg>\n"
      ]
     },
     "execution_count": 21,
     "metadata": {},
     "output_type": "execute_result"
    }
   ],
   "source": [
    "x=[0,1,2,3,4,10,11,12,13,14,15,16,17,18,19,20,21,22,23,24,25,26,27,28,29,30,31,32,33,34,35,36,37,38,39,40,41,42,43,44,45,48,50,52,53,54,55,56,57,58,59,60,61,62,63,64,70,71,72,73,74,76,77,78,79,80,81,82,83]\n",
    "y=[120.6,121.6,120.8,121.4,121.1,121.1,120.4,120.3,120.8,120.6,119.6,119.8,118.7,120.5,120.1,120.2,120.7,121.7,120.7,120.7,120.3,119.4,119.1,120.2,120.7,120.1,119.7,119.2,119.4,119.5,119.0,118.9,118.7,118.3,118.5,118.6,118.8,118.5,118.3,117.8,118.0,119.0,118.4,116.9,117.5,117.4,117.6,118.1,117.3,117.6,117.7,117.6,117.3,118.0,117.8,117.5,119.0,117.6,116.8,116.6,116.9,116.1,116.1,115.8,115.6,116.0,115.4,115.5,115.3]\n",
    "erro_versus_grau(x,y,68)"
   ]
  },
  {
   "cell_type": "markdown",
   "id": "b07ed650-044c-4243-b5fc-2c714cd3c56f",
   "metadata": {},
   "source": [
    "Vemos então que o nosso cotovelo é o grau 1 (maior decrescimento do erro). A partir de agora, vamos trabalhar em cima dele para localizar o momento em que o peso é 110 kg."
   ]
  },
  {
   "cell_type": "code",
   "execution_count": 22,
   "id": "2c798bd1-129c-4c1e-96ab-a00270a8b1c8",
   "metadata": {},
   "outputs": [
    {
     "data": {
      "text/html": [
       "121.4508816602137 &#45; 0.06647150089703203&#8729;x"
      ],
      "text/latex": [
       "$121.4508816602137 - 0.06647150089703203\\cdot x$"
      ],
      "text/plain": [
       "Polynomial(121.4508816602137 - 0.06647150089703203*x)"
      ]
     },
     "execution_count": 22,
     "metadata": {},
     "output_type": "execute_result"
    }
   ],
   "source": [
    "k=Polynomial(regressão(x,y,1))"
   ]
  },
  {
   "cell_type": "code",
   "execution_count": 23,
   "id": "141c6a1f-cc33-4452-affa-785e3a5027a3",
   "metadata": {},
   "outputs": [
    {
     "data": {
      "image/svg+xml": [
       "<?xml version=\"1.0\" encoding=\"utf-8\"?>\n",
       "<svg xmlns=\"http://www.w3.org/2000/svg\" xmlns:xlink=\"http://www.w3.org/1999/xlink\" width=\"600\" height=\"400\" viewBox=\"0 0 2400 1600\">\n",
       "<defs>\n",
       "  <clipPath id=\"clip920\">\n",
       "    <rect x=\"0\" y=\"0\" width=\"2400\" height=\"1600\"/>\n",
       "  </clipPath>\n",
       "</defs>\n",
       "<path clip-path=\"url(#clip920)\" d=\"\n",
       "M0 1600 L2400 1600 L2400 0 L0 0  Z\n",
       "  \" fill=\"#ffffff\" fill-rule=\"evenodd\" fill-opacity=\"1\"/>\n",
       "<defs>\n",
       "  <clipPath id=\"clip921\">\n",
       "    <rect x=\"480\" y=\"0\" width=\"1681\" height=\"1600\"/>\n",
       "  </clipPath>\n",
       "</defs>\n",
       "<path clip-path=\"url(#clip920)\" d=\"\n",
       "M214.353 1486.45 L2352.76 1486.45 L2352.76 47.2441 L214.353 47.2441  Z\n",
       "  \" fill=\"#ffffff\" fill-rule=\"evenodd\" fill-opacity=\"1\"/>\n",
       "<defs>\n",
       "  <clipPath id=\"clip922\">\n",
       "    <rect x=\"214\" y=\"47\" width=\"2139\" height=\"1440\"/>\n",
       "  </clipPath>\n",
       "</defs>\n",
       "<polyline clip-path=\"url(#clip922)\" style=\"stroke:#000000; stroke-linecap:butt; stroke-linejoin:round; stroke-width:2; stroke-opacity:0.1; fill:none\" points=\"\n",
       "  274.873,1486.45 274.873,47.2441 \n",
       "  \"/>\n",
       "<polyline clip-path=\"url(#clip922)\" style=\"stroke:#000000; stroke-linecap:butt; stroke-linejoin:round; stroke-width:2; stroke-opacity:0.1; fill:none\" points=\"\n",
       "  779.214,1486.45 779.214,47.2441 \n",
       "  \"/>\n",
       "<polyline clip-path=\"url(#clip922)\" style=\"stroke:#000000; stroke-linecap:butt; stroke-linejoin:round; stroke-width:2; stroke-opacity:0.1; fill:none\" points=\"\n",
       "  1283.55,1486.45 1283.55,47.2441 \n",
       "  \"/>\n",
       "<polyline clip-path=\"url(#clip922)\" style=\"stroke:#000000; stroke-linecap:butt; stroke-linejoin:round; stroke-width:2; stroke-opacity:0.1; fill:none\" points=\"\n",
       "  1787.89,1486.45 1787.89,47.2441 \n",
       "  \"/>\n",
       "<polyline clip-path=\"url(#clip922)\" style=\"stroke:#000000; stroke-linecap:butt; stroke-linejoin:round; stroke-width:2; stroke-opacity:0.1; fill:none\" points=\"\n",
       "  2292.24,1486.45 2292.24,47.2441 \n",
       "  \"/>\n",
       "<polyline clip-path=\"url(#clip920)\" style=\"stroke:#000000; stroke-linecap:butt; stroke-linejoin:round; stroke-width:4; stroke-opacity:1; fill:none\" points=\"\n",
       "  214.353,1486.45 2352.76,1486.45 \n",
       "  \"/>\n",
       "<polyline clip-path=\"url(#clip920)\" style=\"stroke:#000000; stroke-linecap:butt; stroke-linejoin:round; stroke-width:4; stroke-opacity:1; fill:none\" points=\"\n",
       "  274.873,1486.45 274.873,1467.55 \n",
       "  \"/>\n",
       "<polyline clip-path=\"url(#clip920)\" style=\"stroke:#000000; stroke-linecap:butt; stroke-linejoin:round; stroke-width:4; stroke-opacity:1; fill:none\" points=\"\n",
       "  779.214,1486.45 779.214,1467.55 \n",
       "  \"/>\n",
       "<polyline clip-path=\"url(#clip920)\" style=\"stroke:#000000; stroke-linecap:butt; stroke-linejoin:round; stroke-width:4; stroke-opacity:1; fill:none\" points=\"\n",
       "  1283.55,1486.45 1283.55,1467.55 \n",
       "  \"/>\n",
       "<polyline clip-path=\"url(#clip920)\" style=\"stroke:#000000; stroke-linecap:butt; stroke-linejoin:round; stroke-width:4; stroke-opacity:1; fill:none\" points=\"\n",
       "  1787.89,1486.45 1787.89,1467.55 \n",
       "  \"/>\n",
       "<polyline clip-path=\"url(#clip920)\" style=\"stroke:#000000; stroke-linecap:butt; stroke-linejoin:round; stroke-width:4; stroke-opacity:1; fill:none\" points=\"\n",
       "  2292.24,1486.45 2292.24,1467.55 \n",
       "  \"/>\n",
       "<path clip-path=\"url(#clip920)\" d=\"M274.873 1517.37 Q271.262 1517.37 269.434 1520.93 Q267.628 1524.47 267.628 1531.6 Q267.628 1538.71 269.434 1542.27 Q271.262 1545.82 274.873 1545.82 Q278.508 1545.82 280.313 1542.27 Q282.142 1538.71 282.142 1531.6 Q282.142 1524.47 280.313 1520.93 Q278.508 1517.37 274.873 1517.37 M274.873 1513.66 Q280.684 1513.66 283.739 1518.27 Q286.818 1522.85 286.818 1531.6 Q286.818 1540.33 283.739 1544.94 Q280.684 1549.52 274.873 1549.52 Q269.063 1549.52 265.985 1544.94 Q262.929 1540.33 262.929 1531.6 Q262.929 1522.85 265.985 1518.27 Q269.063 1513.66 274.873 1513.66 Z\" fill=\"#000000\" fill-rule=\"evenodd\" fill-opacity=\"1\" /><path clip-path=\"url(#clip920)\" d=\"M753.913 1514.29 L772.269 1514.29 L772.269 1518.22 L758.195 1518.22 L758.195 1526.7 Q759.214 1526.35 760.232 1526.19 Q761.251 1526 762.269 1526 Q768.056 1526 771.436 1529.17 Q774.816 1532.34 774.816 1537.76 Q774.816 1543.34 771.343 1546.44 Q767.871 1549.52 761.552 1549.52 Q759.376 1549.52 757.107 1549.15 Q754.862 1548.78 752.455 1548.04 L752.455 1543.34 Q754.538 1544.47 756.76 1545.03 Q758.982 1545.58 761.459 1545.58 Q765.464 1545.58 767.802 1543.48 Q770.14 1541.37 770.14 1537.76 Q770.14 1534.15 767.802 1532.04 Q765.464 1529.94 761.459 1529.94 Q759.584 1529.94 757.709 1530.35 Q755.857 1530.77 753.913 1531.65 L753.913 1514.29 Z\" fill=\"#000000\" fill-rule=\"evenodd\" fill-opacity=\"1\" /><path clip-path=\"url(#clip920)\" d=\"M794.029 1517.37 Q790.417 1517.37 788.589 1520.93 Q786.783 1524.47 786.783 1531.6 Q786.783 1538.71 788.589 1542.27 Q790.417 1545.82 794.029 1545.82 Q797.663 1545.82 799.468 1542.27 Q801.297 1538.71 801.297 1531.6 Q801.297 1524.47 799.468 1520.93 Q797.663 1517.37 794.029 1517.37 M794.029 1513.66 Q799.839 1513.66 802.894 1518.27 Q805.973 1522.85 805.973 1531.6 Q805.973 1540.33 802.894 1544.94 Q799.839 1549.52 794.029 1549.52 Q788.218 1549.52 785.14 1544.94 Q782.084 1540.33 782.084 1531.6 Q782.084 1522.85 785.14 1518.27 Q788.218 1513.66 794.029 1513.66 Z\" fill=\"#000000\" fill-rule=\"evenodd\" fill-opacity=\"1\" /><path clip-path=\"url(#clip920)\" d=\"M1243.16 1544.91 L1250.8 1544.91 L1250.8 1518.55 L1242.49 1520.21 L1242.49 1515.95 L1250.75 1514.29 L1255.43 1514.29 L1255.43 1544.91 L1263.07 1544.91 L1263.07 1548.85 L1243.16 1548.85 L1243.16 1544.91 Z\" fill=\"#000000\" fill-rule=\"evenodd\" fill-opacity=\"1\" /><path clip-path=\"url(#clip920)\" d=\"M1282.51 1517.37 Q1278.9 1517.37 1277.07 1520.93 Q1275.27 1524.47 1275.27 1531.6 Q1275.27 1538.71 1277.07 1542.27 Q1278.9 1545.82 1282.51 1545.82 Q1286.15 1545.82 1287.95 1542.27 Q1289.78 1538.71 1289.78 1531.6 Q1289.78 1524.47 1287.95 1520.93 Q1286.15 1517.37 1282.51 1517.37 M1282.51 1513.66 Q1288.32 1513.66 1291.38 1518.27 Q1294.46 1522.85 1294.46 1531.6 Q1294.46 1540.33 1291.38 1544.94 Q1288.32 1549.52 1282.51 1549.52 Q1276.7 1549.52 1273.62 1544.94 Q1270.57 1540.33 1270.57 1531.6 Q1270.57 1522.85 1273.62 1518.27 Q1276.7 1513.66 1282.51 1513.66 Z\" fill=\"#000000\" fill-rule=\"evenodd\" fill-opacity=\"1\" /><path clip-path=\"url(#clip920)\" d=\"M1312.67 1517.37 Q1309.06 1517.37 1307.23 1520.93 Q1305.43 1524.47 1305.43 1531.6 Q1305.43 1538.71 1307.23 1542.27 Q1309.06 1545.82 1312.67 1545.82 Q1316.31 1545.82 1318.11 1542.27 Q1319.94 1538.71 1319.94 1531.6 Q1319.94 1524.47 1318.11 1520.93 Q1316.31 1517.37 1312.67 1517.37 M1312.67 1513.66 Q1318.48 1513.66 1321.54 1518.27 Q1324.62 1522.85 1324.62 1531.6 Q1324.62 1540.33 1321.54 1544.94 Q1318.48 1549.52 1312.67 1549.52 Q1306.86 1549.52 1303.79 1544.94 Q1300.73 1540.33 1300.73 1531.6 Q1300.73 1522.85 1303.79 1518.27 Q1306.86 1513.66 1312.67 1513.66 Z\" fill=\"#000000\" fill-rule=\"evenodd\" fill-opacity=\"1\" /><path clip-path=\"url(#clip920)\" d=\"M1747.5 1544.91 L1755.14 1544.91 L1755.14 1518.55 L1746.83 1520.21 L1746.83 1515.95 L1755.09 1514.29 L1759.77 1514.29 L1759.77 1544.91 L1767.41 1544.91 L1767.41 1548.85 L1747.5 1548.85 L1747.5 1544.91 Z\" fill=\"#000000\" fill-rule=\"evenodd\" fill-opacity=\"1\" /><path clip-path=\"url(#clip920)\" d=\"M1776.9 1514.29 L1795.26 1514.29 L1795.26 1518.22 L1781.18 1518.22 L1781.18 1526.7 Q1782.2 1526.35 1783.22 1526.19 Q1784.24 1526 1785.26 1526 Q1791.04 1526 1794.42 1529.17 Q1797.8 1532.34 1797.8 1537.76 Q1797.8 1543.34 1794.33 1546.44 Q1790.86 1549.52 1784.54 1549.52 Q1782.36 1549.52 1780.09 1549.15 Q1777.85 1548.78 1775.44 1548.04 L1775.44 1543.34 Q1777.52 1544.47 1779.75 1545.03 Q1781.97 1545.58 1784.45 1545.58 Q1788.45 1545.58 1790.79 1543.48 Q1793.13 1541.37 1793.13 1537.76 Q1793.13 1534.15 1790.79 1532.04 Q1788.45 1529.94 1784.45 1529.94 Q1782.57 1529.94 1780.7 1530.35 Q1778.84 1530.77 1776.9 1531.65 L1776.9 1514.29 Z\" fill=\"#000000\" fill-rule=\"evenodd\" fill-opacity=\"1\" /><path clip-path=\"url(#clip920)\" d=\"M1817.01 1517.37 Q1813.4 1517.37 1811.58 1520.93 Q1809.77 1524.47 1809.77 1531.6 Q1809.77 1538.71 1811.58 1542.27 Q1813.4 1545.82 1817.01 1545.82 Q1820.65 1545.82 1822.45 1542.27 Q1824.28 1538.71 1824.28 1531.6 Q1824.28 1524.47 1822.45 1520.93 Q1820.65 1517.37 1817.01 1517.37 M1817.01 1513.66 Q1822.83 1513.66 1825.88 1518.27 Q1828.96 1522.85 1828.96 1531.6 Q1828.96 1540.33 1825.88 1544.94 Q1822.83 1549.52 1817.01 1549.52 Q1811.2 1549.52 1808.13 1544.94 Q1805.07 1540.33 1805.07 1531.6 Q1805.07 1522.85 1808.13 1518.27 Q1811.2 1513.66 1817.01 1513.66 Z\" fill=\"#000000\" fill-rule=\"evenodd\" fill-opacity=\"1\" /><path clip-path=\"url(#clip920)\" d=\"M2255.93 1544.91 L2272.25 1544.91 L2272.25 1548.85 L2250.3 1548.85 L2250.3 1544.91 Q2252.96 1542.16 2257.55 1537.53 Q2262.15 1532.88 2263.33 1531.53 Q2265.58 1529.01 2266.46 1527.27 Q2267.36 1525.51 2267.36 1523.82 Q2267.36 1521.07 2265.42 1519.33 Q2263.5 1517.6 2260.39 1517.6 Q2258.2 1517.6 2255.74 1518.36 Q2253.31 1519.13 2250.53 1520.68 L2250.53 1515.95 Q2253.36 1514.82 2255.81 1514.24 Q2258.27 1513.66 2260.3 1513.66 Q2265.67 1513.66 2268.87 1516.35 Q2272.06 1519.03 2272.06 1523.52 Q2272.06 1525.65 2271.25 1527.57 Q2270.46 1529.47 2268.36 1532.07 Q2267.78 1532.74 2264.68 1535.95 Q2261.58 1539.15 2255.93 1544.91 Z\" fill=\"#000000\" fill-rule=\"evenodd\" fill-opacity=\"1\" /><path clip-path=\"url(#clip920)\" d=\"M2292.06 1517.37 Q2288.45 1517.37 2286.62 1520.93 Q2284.82 1524.47 2284.82 1531.6 Q2284.82 1538.71 2286.62 1542.27 Q2288.45 1545.82 2292.06 1545.82 Q2295.7 1545.82 2297.5 1542.27 Q2299.33 1538.71 2299.33 1531.6 Q2299.33 1524.47 2297.5 1520.93 Q2295.7 1517.37 2292.06 1517.37 M2292.06 1513.66 Q2297.87 1513.66 2300.93 1518.27 Q2304.01 1522.85 2304.01 1531.6 Q2304.01 1540.33 2300.93 1544.94 Q2297.87 1549.52 2292.06 1549.52 Q2286.25 1549.52 2283.17 1544.94 Q2280.12 1540.33 2280.12 1531.6 Q2280.12 1522.85 2283.17 1518.27 Q2286.25 1513.66 2292.06 1513.66 Z\" fill=\"#000000\" fill-rule=\"evenodd\" fill-opacity=\"1\" /><path clip-path=\"url(#clip920)\" d=\"M2322.22 1517.37 Q2318.61 1517.37 2316.78 1520.93 Q2314.98 1524.47 2314.98 1531.6 Q2314.98 1538.71 2316.78 1542.27 Q2318.61 1545.82 2322.22 1545.82 Q2325.86 1545.82 2327.66 1542.27 Q2329.49 1538.71 2329.49 1531.6 Q2329.49 1524.47 2327.66 1520.93 Q2325.86 1517.37 2322.22 1517.37 M2322.22 1513.66 Q2328.03 1513.66 2331.09 1518.27 Q2334.17 1522.85 2334.17 1531.6 Q2334.17 1540.33 2331.09 1544.94 Q2328.03 1549.52 2322.22 1549.52 Q2316.41 1549.52 2313.33 1544.94 Q2310.28 1540.33 2310.28 1531.6 Q2310.28 1522.85 2313.33 1518.27 Q2316.41 1513.66 2322.22 1513.66 Z\" fill=\"#000000\" fill-rule=\"evenodd\" fill-opacity=\"1\" /><polyline clip-path=\"url(#clip922)\" style=\"stroke:#000000; stroke-linecap:butt; stroke-linejoin:round; stroke-width:2; stroke-opacity:0.1; fill:none\" points=\"\n",
       "  214.353,1260.91 2352.76,1260.91 \n",
       "  \"/>\n",
       "<polyline clip-path=\"url(#clip922)\" style=\"stroke:#000000; stroke-linecap:butt; stroke-linejoin:round; stroke-width:2; stroke-opacity:0.1; fill:none\" points=\"\n",
       "  214.353,1010.28 2352.76,1010.28 \n",
       "  \"/>\n",
       "<polyline clip-path=\"url(#clip922)\" style=\"stroke:#000000; stroke-linecap:butt; stroke-linejoin:round; stroke-width:2; stroke-opacity:0.1; fill:none\" points=\"\n",
       "  214.353,759.657 2352.76,759.657 \n",
       "  \"/>\n",
       "<polyline clip-path=\"url(#clip922)\" style=\"stroke:#000000; stroke-linecap:butt; stroke-linejoin:round; stroke-width:2; stroke-opacity:0.1; fill:none\" points=\"\n",
       "  214.353,509.03 2352.76,509.03 \n",
       "  \"/>\n",
       "<polyline clip-path=\"url(#clip922)\" style=\"stroke:#000000; stroke-linecap:butt; stroke-linejoin:round; stroke-width:2; stroke-opacity:0.1; fill:none\" points=\"\n",
       "  214.353,258.403 2352.76,258.403 \n",
       "  \"/>\n",
       "<polyline clip-path=\"url(#clip920)\" style=\"stroke:#000000; stroke-linecap:butt; stroke-linejoin:round; stroke-width:4; stroke-opacity:1; fill:none\" points=\"\n",
       "  214.353,1486.45 214.353,47.2441 \n",
       "  \"/>\n",
       "<polyline clip-path=\"url(#clip920)\" style=\"stroke:#000000; stroke-linecap:butt; stroke-linejoin:round; stroke-width:4; stroke-opacity:1; fill:none\" points=\"\n",
       "  214.353,1260.91 233.25,1260.91 \n",
       "  \"/>\n",
       "<polyline clip-path=\"url(#clip920)\" style=\"stroke:#000000; stroke-linecap:butt; stroke-linejoin:round; stroke-width:4; stroke-opacity:1; fill:none\" points=\"\n",
       "  214.353,1010.28 233.25,1010.28 \n",
       "  \"/>\n",
       "<polyline clip-path=\"url(#clip920)\" style=\"stroke:#000000; stroke-linecap:butt; stroke-linejoin:round; stroke-width:4; stroke-opacity:1; fill:none\" points=\"\n",
       "  214.353,759.657 233.25,759.657 \n",
       "  \"/>\n",
       "<polyline clip-path=\"url(#clip920)\" style=\"stroke:#000000; stroke-linecap:butt; stroke-linejoin:round; stroke-width:4; stroke-opacity:1; fill:none\" points=\"\n",
       "  214.353,509.03 233.25,509.03 \n",
       "  \"/>\n",
       "<polyline clip-path=\"url(#clip920)\" style=\"stroke:#000000; stroke-linecap:butt; stroke-linejoin:round; stroke-width:4; stroke-opacity:1; fill:none\" points=\"\n",
       "  214.353,258.403 233.25,258.403 \n",
       "  \"/>\n",
       "<path clip-path=\"url(#clip920)\" d=\"M51.6634 1274.26 L59.3023 1274.26 L59.3023 1247.89 L50.9921 1249.56 L50.9921 1245.3 L59.256 1243.63 L63.9319 1243.63 L63.9319 1274.26 L71.5707 1274.26 L71.5707 1278.19 L51.6634 1278.19 L51.6634 1274.26 Z\" fill=\"#000000\" fill-rule=\"evenodd\" fill-opacity=\"1\" /><path clip-path=\"url(#clip920)\" d=\"M81.8253 1274.26 L89.4641 1274.26 L89.4641 1247.89 L81.154 1249.56 L81.154 1245.3 L89.4178 1243.63 L94.0937 1243.63 L94.0937 1274.26 L101.733 1274.26 L101.733 1278.19 L81.8253 1278.19 L81.8253 1274.26 Z\" fill=\"#000000\" fill-rule=\"evenodd\" fill-opacity=\"1\" /><path clip-path=\"url(#clip920)\" d=\"M121.177 1246.71 Q117.566 1246.71 115.737 1250.27 Q113.932 1253.82 113.932 1260.95 Q113.932 1268.05 115.737 1271.62 Q117.566 1275.16 121.177 1275.16 Q124.811 1275.16 126.617 1271.62 Q128.445 1268.05 128.445 1260.95 Q128.445 1253.82 126.617 1250.27 Q124.811 1246.71 121.177 1246.71 M121.177 1243.01 Q126.987 1243.01 130.043 1247.61 Q133.121 1252.2 133.121 1260.95 Q133.121 1269.67 130.043 1274.28 Q126.987 1278.86 121.177 1278.86 Q115.367 1278.86 112.288 1274.28 Q109.233 1269.67 109.233 1260.95 Q109.233 1252.2 112.288 1247.61 Q115.367 1243.01 121.177 1243.01 Z\" fill=\"#000000\" fill-rule=\"evenodd\" fill-opacity=\"1\" /><path clip-path=\"url(#clip920)\" d=\"M141.339 1272.31 L146.223 1272.31 L146.223 1278.19 L141.339 1278.19 L141.339 1272.31 Z\" fill=\"#000000\" fill-rule=\"evenodd\" fill-opacity=\"1\" /><path clip-path=\"url(#clip920)\" d=\"M166.408 1246.71 Q162.797 1246.71 160.968 1250.27 Q159.163 1253.82 159.163 1260.95 Q159.163 1268.05 160.968 1271.62 Q162.797 1275.16 166.408 1275.16 Q170.042 1275.16 171.848 1271.62 Q173.677 1268.05 173.677 1260.95 Q173.677 1253.82 171.848 1250.27 Q170.042 1246.71 166.408 1246.71 M166.408 1243.01 Q172.218 1243.01 175.274 1247.61 Q178.353 1252.2 178.353 1260.95 Q178.353 1269.67 175.274 1274.28 Q172.218 1278.86 166.408 1278.86 Q160.598 1278.86 157.519 1274.28 Q154.464 1269.67 154.464 1260.95 Q154.464 1252.2 157.519 1247.61 Q160.598 1243.01 166.408 1243.01 Z\" fill=\"#000000\" fill-rule=\"evenodd\" fill-opacity=\"1\" /><path clip-path=\"url(#clip920)\" d=\"M52.6588 1023.63 L60.2976 1023.63 L60.2976 997.263 L51.9875 998.93 L51.9875 994.671 L60.2513 993.004 L64.9272 993.004 L64.9272 1023.63 L72.5661 1023.63 L72.5661 1027.56 L52.6588 1027.56 L52.6588 1023.63 Z\" fill=\"#000000\" fill-rule=\"evenodd\" fill-opacity=\"1\" /><path clip-path=\"url(#clip920)\" d=\"M82.8207 1023.63 L90.4595 1023.63 L90.4595 997.263 L82.1494 998.93 L82.1494 994.671 L90.4132 993.004 L95.0891 993.004 L95.0891 1023.63 L102.728 1023.63 L102.728 1027.56 L82.8207 1027.56 L82.8207 1023.63 Z\" fill=\"#000000\" fill-rule=\"evenodd\" fill-opacity=\"1\" /><path clip-path=\"url(#clip920)\" d=\"M116.2 1023.63 L132.519 1023.63 L132.519 1027.56 L110.575 1027.56 L110.575 1023.63 Q113.237 1020.87 117.82 1016.24 Q122.427 1011.59 123.607 1010.25 Q125.853 1007.73 126.732 1005.99 Q127.635 1004.23 127.635 1002.54 Q127.635 999.787 125.691 998.05 Q123.77 996.314 120.668 996.314 Q118.469 996.314 116.015 997.078 Q113.584 997.842 110.807 999.393 L110.807 994.671 Q113.631 993.537 116.084 992.958 Q118.538 992.379 120.575 992.379 Q125.945 992.379 129.14 995.064 Q132.334 997.75 132.334 1002.24 Q132.334 1004.37 131.524 1006.29 Q130.737 1008.19 128.631 1010.78 Q128.052 1011.45 124.95 1014.67 Q121.848 1017.87 116.2 1023.63 Z\" fill=\"#000000\" fill-rule=\"evenodd\" fill-opacity=\"1\" /><path clip-path=\"url(#clip920)\" d=\"M142.334 1021.68 L147.218 1021.68 L147.218 1027.56 L142.334 1027.56 L142.334 1021.68 Z\" fill=\"#000000\" fill-rule=\"evenodd\" fill-opacity=\"1\" /><path clip-path=\"url(#clip920)\" d=\"M157.45 993.004 L175.806 993.004 L175.806 996.939 L161.732 996.939 L161.732 1005.41 Q162.751 1005.06 163.769 1004.9 Q164.788 1004.72 165.806 1004.72 Q171.593 1004.72 174.973 1007.89 Q178.353 1011.06 178.353 1016.48 Q178.353 1022.06 174.88 1025.16 Q171.408 1028.24 165.089 1028.24 Q162.913 1028.24 160.644 1027.87 Q158.399 1027.49 155.992 1026.75 L155.992 1022.06 Q158.075 1023.19 160.297 1023.74 Q162.519 1024.3 164.996 1024.3 Q169.001 1024.3 171.339 1022.19 Q173.677 1020.09 173.677 1016.48 Q173.677 1012.87 171.339 1010.76 Q169.001 1008.65 164.996 1008.65 Q163.121 1008.65 161.246 1009.07 Q159.394 1009.49 157.45 1010.37 L157.45 993.004 Z\" fill=\"#000000\" fill-rule=\"evenodd\" fill-opacity=\"1\" /><path clip-path=\"url(#clip920)\" d=\"M51.6634 773.002 L59.3023 773.002 L59.3023 746.636 L50.9921 748.303 L50.9921 744.044 L59.256 742.377 L63.9319 742.377 L63.9319 773.002 L71.5707 773.002 L71.5707 776.937 L51.6634 776.937 L51.6634 773.002 Z\" fill=\"#000000\" fill-rule=\"evenodd\" fill-opacity=\"1\" /><path clip-path=\"url(#clip920)\" d=\"M81.8253 773.002 L89.4641 773.002 L89.4641 746.636 L81.154 748.303 L81.154 744.044 L89.4178 742.377 L94.0937 742.377 L94.0937 773.002 L101.733 773.002 L101.733 776.937 L81.8253 776.937 L81.8253 773.002 Z\" fill=\"#000000\" fill-rule=\"evenodd\" fill-opacity=\"1\" /><path clip-path=\"url(#clip920)\" d=\"M111.223 742.377 L129.58 742.377 L129.58 746.312 L115.506 746.312 L115.506 754.784 Q116.524 754.437 117.543 754.275 Q118.561 754.09 119.58 754.09 Q125.367 754.09 128.746 757.261 Q132.126 760.433 132.126 765.849 Q132.126 771.428 128.654 774.53 Q125.182 777.608 118.862 777.608 Q116.686 777.608 114.418 777.238 Q112.172 776.868 109.765 776.127 L109.765 771.428 Q111.848 772.562 114.07 773.118 Q116.293 773.673 118.77 773.673 Q122.774 773.673 125.112 771.567 Q127.45 769.46 127.45 765.849 Q127.45 762.238 125.112 760.132 Q122.774 758.025 118.77 758.025 Q116.895 758.025 115.02 758.442 Q113.168 758.858 111.223 759.738 L111.223 742.377 Z\" fill=\"#000000\" fill-rule=\"evenodd\" fill-opacity=\"1\" /><path clip-path=\"url(#clip920)\" d=\"M141.339 771.057 L146.223 771.057 L146.223 776.937 L141.339 776.937 L141.339 771.057 Z\" fill=\"#000000\" fill-rule=\"evenodd\" fill-opacity=\"1\" /><path clip-path=\"url(#clip920)\" d=\"M166.408 745.456 Q162.797 745.456 160.968 749.021 Q159.163 752.562 159.163 759.692 Q159.163 766.798 160.968 770.363 Q162.797 773.905 166.408 773.905 Q170.042 773.905 171.848 770.363 Q173.677 766.798 173.677 759.692 Q173.677 752.562 171.848 749.021 Q170.042 745.456 166.408 745.456 M166.408 741.752 Q172.218 741.752 175.274 746.359 Q178.353 750.942 178.353 759.692 Q178.353 768.419 175.274 773.025 Q172.218 777.608 166.408 777.608 Q160.598 777.608 157.519 773.025 Q154.464 768.419 154.464 759.692 Q154.464 750.942 157.519 746.359 Q160.598 741.752 166.408 741.752 Z\" fill=\"#000000\" fill-rule=\"evenodd\" fill-opacity=\"1\" /><path clip-path=\"url(#clip920)\" d=\"M52.6588 522.375 L60.2976 522.375 L60.2976 496.009 L51.9875 497.676 L51.9875 493.417 L60.2513 491.75 L64.9272 491.75 L64.9272 522.375 L72.5661 522.375 L72.5661 526.31 L52.6588 526.31 L52.6588 522.375 Z\" fill=\"#000000\" fill-rule=\"evenodd\" fill-opacity=\"1\" /><path clip-path=\"url(#clip920)\" d=\"M82.8207 522.375 L90.4595 522.375 L90.4595 496.009 L82.1494 497.676 L82.1494 493.417 L90.4132 491.75 L95.0891 491.75 L95.0891 522.375 L102.728 522.375 L102.728 526.31 L82.8207 526.31 L82.8207 522.375 Z\" fill=\"#000000\" fill-rule=\"evenodd\" fill-opacity=\"1\" /><path clip-path=\"url(#clip920)\" d=\"M110.992 491.75 L133.214 491.75 L133.214 493.741 L120.668 526.31 L115.783 526.31 L127.589 495.685 L110.992 495.685 L110.992 491.75 Z\" fill=\"#000000\" fill-rule=\"evenodd\" fill-opacity=\"1\" /><path clip-path=\"url(#clip920)\" d=\"M142.334 520.43 L147.218 520.43 L147.218 526.31 L142.334 526.31 L142.334 520.43 Z\" fill=\"#000000\" fill-rule=\"evenodd\" fill-opacity=\"1\" /><path clip-path=\"url(#clip920)\" d=\"M157.45 491.75 L175.806 491.75 L175.806 495.685 L161.732 495.685 L161.732 504.157 Q162.751 503.81 163.769 503.648 Q164.788 503.463 165.806 503.463 Q171.593 503.463 174.973 506.634 Q178.353 509.805 178.353 515.222 Q178.353 520.801 174.88 523.903 Q171.408 526.981 165.089 526.981 Q162.913 526.981 160.644 526.611 Q158.399 526.24 155.992 525.5 L155.992 520.801 Q158.075 521.935 160.297 522.49 Q162.519 523.046 164.996 523.046 Q169.001 523.046 171.339 520.94 Q173.677 518.833 173.677 515.222 Q173.677 511.611 171.339 509.504 Q169.001 507.398 164.996 507.398 Q163.121 507.398 161.246 507.815 Q159.394 508.231 157.45 509.111 L157.45 491.75 Z\" fill=\"#000000\" fill-rule=\"evenodd\" fill-opacity=\"1\" /><path clip-path=\"url(#clip920)\" d=\"M51.6634 271.748 L59.3023 271.748 L59.3023 245.382 L50.9921 247.049 L50.9921 242.789 L59.256 241.123 L63.9319 241.123 L63.9319 271.748 L71.5707 271.748 L71.5707 275.683 L51.6634 275.683 L51.6634 271.748 Z\" fill=\"#000000\" fill-rule=\"evenodd\" fill-opacity=\"1\" /><path clip-path=\"url(#clip920)\" d=\"M85.0429 271.748 L101.362 271.748 L101.362 275.683 L79.4179 275.683 L79.4179 271.748 Q82.0799 268.993 86.6632 264.363 Q91.2697 259.711 92.4502 258.368 Q94.6956 255.845 95.5752 254.109 Q96.478 252.35 96.478 250.66 Q96.478 247.905 94.5336 246.169 Q92.6123 244.433 89.5104 244.433 Q87.3114 244.433 84.8577 245.197 Q82.4271 245.961 79.6494 247.512 L79.6494 242.789 Q82.4734 241.655 84.9271 241.076 Q87.3808 240.498 89.4178 240.498 Q94.7882 240.498 97.9826 243.183 Q101.177 245.868 101.177 250.359 Q101.177 252.488 100.367 254.41 Q99.5798 256.308 97.4734 258.9 Q96.8947 259.572 93.7928 262.789 Q90.691 265.984 85.0429 271.748 Z\" fill=\"#000000\" fill-rule=\"evenodd\" fill-opacity=\"1\" /><path clip-path=\"url(#clip920)\" d=\"M121.177 244.201 Q117.566 244.201 115.737 247.766 Q113.932 251.308 113.932 258.437 Q113.932 265.544 115.737 269.109 Q117.566 272.65 121.177 272.65 Q124.811 272.65 126.617 269.109 Q128.445 265.544 128.445 258.437 Q128.445 251.308 126.617 247.766 Q124.811 244.201 121.177 244.201 M121.177 240.498 Q126.987 240.498 130.043 245.104 Q133.121 249.688 133.121 258.437 Q133.121 267.164 130.043 271.771 Q126.987 276.354 121.177 276.354 Q115.367 276.354 112.288 271.771 Q109.233 267.164 109.233 258.437 Q109.233 249.688 112.288 245.104 Q115.367 240.498 121.177 240.498 Z\" fill=\"#000000\" fill-rule=\"evenodd\" fill-opacity=\"1\" /><path clip-path=\"url(#clip920)\" d=\"M141.339 269.803 L146.223 269.803 L146.223 275.683 L141.339 275.683 L141.339 269.803 Z\" fill=\"#000000\" fill-rule=\"evenodd\" fill-opacity=\"1\" /><path clip-path=\"url(#clip920)\" d=\"M166.408 244.201 Q162.797 244.201 160.968 247.766 Q159.163 251.308 159.163 258.437 Q159.163 265.544 160.968 269.109 Q162.797 272.65 166.408 272.65 Q170.042 272.65 171.848 269.109 Q173.677 265.544 173.677 258.437 Q173.677 251.308 171.848 247.766 Q170.042 244.201 166.408 244.201 M166.408 240.498 Q172.218 240.498 175.274 245.104 Q178.353 249.688 178.353 258.437 Q178.353 267.164 175.274 271.771 Q172.218 276.354 166.408 276.354 Q160.598 276.354 157.519 271.771 Q154.464 267.164 154.464 258.437 Q154.464 249.688 157.519 245.104 Q160.598 240.498 166.408 240.498 Z\" fill=\"#000000\" fill-rule=\"evenodd\" fill-opacity=\"1\" /><polyline clip-path=\"url(#clip922)\" style=\"stroke:#009af9; stroke-linecap:butt; stroke-linejoin:round; stroke-width:4; stroke-opacity:1; fill:none\" points=\"\n",
       "  274.873,112.951 295.047,126.278 315.221,139.606 335.394,152.934 355.568,166.261 375.741,179.589 395.915,192.917 416.089,206.244 436.262,219.572 456.436,232.899 \n",
       "  476.61,246.227 496.783,259.555 516.957,272.882 537.13,286.21 557.304,299.538 577.478,312.865 597.651,326.193 617.825,339.521 637.999,352.848 658.172,366.176 \n",
       "  678.346,379.504 698.519,392.831 718.693,406.159 738.867,419.487 759.04,432.814 779.214,446.142 799.387,459.47 819.561,472.797 839.735,486.125 859.908,499.452 \n",
       "  880.082,512.78 900.256,526.108 920.429,539.435 940.603,552.763 960.776,566.091 980.95,579.418 1001.12,592.746 1021.3,606.074 1041.47,619.401 1061.64,632.729 \n",
       "  1081.82,646.057 1101.99,659.384 1122.17,672.712 1142.34,686.04 1162.51,699.367 1182.69,712.695 1202.86,726.023 1223.03,739.35 1243.21,752.678 1263.38,766.005 \n",
       "  1283.55,779.333 1303.73,792.661 1323.9,805.988 1344.08,819.316 1364.25,832.644 1384.42,845.971 1404.6,859.299 1424.77,872.627 1444.94,885.954 1465.12,899.282 \n",
       "  1485.29,912.61 1505.46,925.937 1525.64,939.265 1545.81,952.593 1565.98,965.92 1586.16,979.248 1606.33,992.576 1626.51,1005.9 1646.68,1019.23 1666.85,1032.56 \n",
       "  1687.03,1045.89 1707.2,1059.21 1727.37,1072.54 1747.55,1085.87 1767.72,1099.2 1787.89,1112.52 1808.07,1125.85 1828.24,1139.18 1848.42,1152.51 1868.59,1165.84 \n",
       "  1888.76,1179.16 1908.94,1192.49 1929.11,1205.82 1949.28,1219.15 1969.46,1232.47 1989.63,1245.8 2009.8,1259.13 2029.98,1272.46 2050.15,1285.78 2070.33,1299.11 \n",
       "  2090.5,1312.44 2110.67,1325.77 2130.85,1339.09 2151.02,1352.42 2171.19,1365.75 2191.37,1379.08 2211.54,1392.41 2231.71,1405.73 2251.89,1419.06 2272.06,1432.39 \n",
       "  2292.24,1445.72 \n",
       "  \"/>\n",
       "<circle clip-path=\"url(#clip922)\" cx=\"274.873\" cy=\"198.252\" r=\"14\" fill=\"#e26f46\" fill-rule=\"evenodd\" fill-opacity=\"1\" stroke=\"#000000\" stroke-opacity=\"1\" stroke-width=\"3.2\"/>\n",
       "<circle clip-path=\"url(#clip922)\" cx=\"284.96\" cy=\"98.0014\" r=\"14\" fill=\"#e26f46\" fill-rule=\"evenodd\" fill-opacity=\"1\" stroke=\"#000000\" stroke-opacity=\"1\" stroke-width=\"3.2\"/>\n",
       "<circle clip-path=\"url(#clip922)\" cx=\"295.047\" cy=\"178.202\" r=\"14\" fill=\"#e26f46\" fill-rule=\"evenodd\" fill-opacity=\"1\" stroke=\"#000000\" stroke-opacity=\"1\" stroke-width=\"3.2\"/>\n",
       "<circle clip-path=\"url(#clip922)\" cx=\"305.134\" cy=\"118.052\" r=\"14\" fill=\"#e26f46\" fill-rule=\"evenodd\" fill-opacity=\"1\" stroke=\"#000000\" stroke-opacity=\"1\" stroke-width=\"3.2\"/>\n",
       "<circle clip-path=\"url(#clip922)\" cx=\"315.221\" cy=\"148.127\" r=\"14\" fill=\"#e26f46\" fill-rule=\"evenodd\" fill-opacity=\"1\" stroke=\"#000000\" stroke-opacity=\"1\" stroke-width=\"3.2\"/>\n",
       "<circle clip-path=\"url(#clip922)\" cx=\"375.741\" cy=\"148.127\" r=\"14\" fill=\"#e26f46\" fill-rule=\"evenodd\" fill-opacity=\"1\" stroke=\"#000000\" stroke-opacity=\"1\" stroke-width=\"3.2\"/>\n",
       "<circle clip-path=\"url(#clip922)\" cx=\"385.828\" cy=\"218.302\" r=\"14\" fill=\"#e26f46\" fill-rule=\"evenodd\" fill-opacity=\"1\" stroke=\"#000000\" stroke-opacity=\"1\" stroke-width=\"3.2\"/>\n",
       "<circle clip-path=\"url(#clip922)\" cx=\"395.915\" cy=\"228.327\" r=\"14\" fill=\"#e26f46\" fill-rule=\"evenodd\" fill-opacity=\"1\" stroke=\"#000000\" stroke-opacity=\"1\" stroke-width=\"3.2\"/>\n",
       "<circle clip-path=\"url(#clip922)\" cx=\"406.002\" cy=\"178.202\" r=\"14\" fill=\"#e26f46\" fill-rule=\"evenodd\" fill-opacity=\"1\" stroke=\"#000000\" stroke-opacity=\"1\" stroke-width=\"3.2\"/>\n",
       "<circle clip-path=\"url(#clip922)\" cx=\"416.089\" cy=\"198.252\" r=\"14\" fill=\"#e26f46\" fill-rule=\"evenodd\" fill-opacity=\"1\" stroke=\"#000000\" stroke-opacity=\"1\" stroke-width=\"3.2\"/>\n",
       "<circle clip-path=\"url(#clip922)\" cx=\"426.176\" cy=\"298.503\" r=\"14\" fill=\"#e26f46\" fill-rule=\"evenodd\" fill-opacity=\"1\" stroke=\"#000000\" stroke-opacity=\"1\" stroke-width=\"3.2\"/>\n",
       "<circle clip-path=\"url(#clip922)\" cx=\"436.262\" cy=\"278.453\" r=\"14\" fill=\"#e26f46\" fill-rule=\"evenodd\" fill-opacity=\"1\" stroke=\"#000000\" stroke-opacity=\"1\" stroke-width=\"3.2\"/>\n",
       "<circle clip-path=\"url(#clip922)\" cx=\"446.349\" cy=\"388.729\" r=\"14\" fill=\"#e26f46\" fill-rule=\"evenodd\" fill-opacity=\"1\" stroke=\"#000000\" stroke-opacity=\"1\" stroke-width=\"3.2\"/>\n",
       "<circle clip-path=\"url(#clip922)\" cx=\"456.436\" cy=\"208.277\" r=\"14\" fill=\"#e26f46\" fill-rule=\"evenodd\" fill-opacity=\"1\" stroke=\"#000000\" stroke-opacity=\"1\" stroke-width=\"3.2\"/>\n",
       "<circle clip-path=\"url(#clip922)\" cx=\"466.523\" cy=\"248.378\" r=\"14\" fill=\"#e26f46\" fill-rule=\"evenodd\" fill-opacity=\"1\" stroke=\"#000000\" stroke-opacity=\"1\" stroke-width=\"3.2\"/>\n",
       "<circle clip-path=\"url(#clip922)\" cx=\"476.61\" cy=\"238.353\" r=\"14\" fill=\"#e26f46\" fill-rule=\"evenodd\" fill-opacity=\"1\" stroke=\"#000000\" stroke-opacity=\"1\" stroke-width=\"3.2\"/>\n",
       "<circle clip-path=\"url(#clip922)\" cx=\"486.696\" cy=\"188.227\" r=\"14\" fill=\"#e26f46\" fill-rule=\"evenodd\" fill-opacity=\"1\" stroke=\"#000000\" stroke-opacity=\"1\" stroke-width=\"3.2\"/>\n",
       "<circle clip-path=\"url(#clip922)\" cx=\"496.783\" cy=\"87.9763\" r=\"14\" fill=\"#e26f46\" fill-rule=\"evenodd\" fill-opacity=\"1\" stroke=\"#000000\" stroke-opacity=\"1\" stroke-width=\"3.2\"/>\n",
       "<circle clip-path=\"url(#clip922)\" cx=\"506.87\" cy=\"188.227\" r=\"14\" fill=\"#e26f46\" fill-rule=\"evenodd\" fill-opacity=\"1\" stroke=\"#000000\" stroke-opacity=\"1\" stroke-width=\"3.2\"/>\n",
       "<circle clip-path=\"url(#clip922)\" cx=\"516.957\" cy=\"188.227\" r=\"14\" fill=\"#e26f46\" fill-rule=\"evenodd\" fill-opacity=\"1\" stroke=\"#000000\" stroke-opacity=\"1\" stroke-width=\"3.2\"/>\n",
       "<circle clip-path=\"url(#clip922)\" cx=\"527.044\" cy=\"228.327\" r=\"14\" fill=\"#e26f46\" fill-rule=\"evenodd\" fill-opacity=\"1\" stroke=\"#000000\" stroke-opacity=\"1\" stroke-width=\"3.2\"/>\n",
       "<circle clip-path=\"url(#clip922)\" cx=\"537.13\" cy=\"318.553\" r=\"14\" fill=\"#e26f46\" fill-rule=\"evenodd\" fill-opacity=\"1\" stroke=\"#000000\" stroke-opacity=\"1\" stroke-width=\"3.2\"/>\n",
       "<circle clip-path=\"url(#clip922)\" cx=\"547.217\" cy=\"348.629\" r=\"14\" fill=\"#e26f46\" fill-rule=\"evenodd\" fill-opacity=\"1\" stroke=\"#000000\" stroke-opacity=\"1\" stroke-width=\"3.2\"/>\n",
       "<circle clip-path=\"url(#clip922)\" cx=\"557.304\" cy=\"238.353\" r=\"14\" fill=\"#e26f46\" fill-rule=\"evenodd\" fill-opacity=\"1\" stroke=\"#000000\" stroke-opacity=\"1\" stroke-width=\"3.2\"/>\n",
       "<circle clip-path=\"url(#clip922)\" cx=\"567.391\" cy=\"188.227\" r=\"14\" fill=\"#e26f46\" fill-rule=\"evenodd\" fill-opacity=\"1\" stroke=\"#000000\" stroke-opacity=\"1\" stroke-width=\"3.2\"/>\n",
       "<circle clip-path=\"url(#clip922)\" cx=\"577.478\" cy=\"248.378\" r=\"14\" fill=\"#e26f46\" fill-rule=\"evenodd\" fill-opacity=\"1\" stroke=\"#000000\" stroke-opacity=\"1\" stroke-width=\"3.2\"/>\n",
       "<circle clip-path=\"url(#clip922)\" cx=\"587.564\" cy=\"288.478\" r=\"14\" fill=\"#e26f46\" fill-rule=\"evenodd\" fill-opacity=\"1\" stroke=\"#000000\" stroke-opacity=\"1\" stroke-width=\"3.2\"/>\n",
       "<circle clip-path=\"url(#clip922)\" cx=\"597.651\" cy=\"338.603\" r=\"14\" fill=\"#e26f46\" fill-rule=\"evenodd\" fill-opacity=\"1\" stroke=\"#000000\" stroke-opacity=\"1\" stroke-width=\"3.2\"/>\n",
       "<circle clip-path=\"url(#clip922)\" cx=\"607.738\" cy=\"318.553\" r=\"14\" fill=\"#e26f46\" fill-rule=\"evenodd\" fill-opacity=\"1\" stroke=\"#000000\" stroke-opacity=\"1\" stroke-width=\"3.2\"/>\n",
       "<circle clip-path=\"url(#clip922)\" cx=\"617.825\" cy=\"308.528\" r=\"14\" fill=\"#e26f46\" fill-rule=\"evenodd\" fill-opacity=\"1\" stroke=\"#000000\" stroke-opacity=\"1\" stroke-width=\"3.2\"/>\n",
       "<circle clip-path=\"url(#clip922)\" cx=\"627.912\" cy=\"358.654\" r=\"14\" fill=\"#e26f46\" fill-rule=\"evenodd\" fill-opacity=\"1\" stroke=\"#000000\" stroke-opacity=\"1\" stroke-width=\"3.2\"/>\n",
       "<circle clip-path=\"url(#clip922)\" cx=\"637.999\" cy=\"368.679\" r=\"14\" fill=\"#e26f46\" fill-rule=\"evenodd\" fill-opacity=\"1\" stroke=\"#000000\" stroke-opacity=\"1\" stroke-width=\"3.2\"/>\n",
       "<circle clip-path=\"url(#clip922)\" cx=\"648.085\" cy=\"388.729\" r=\"14\" fill=\"#e26f46\" fill-rule=\"evenodd\" fill-opacity=\"1\" stroke=\"#000000\" stroke-opacity=\"1\" stroke-width=\"3.2\"/>\n",
       "<circle clip-path=\"url(#clip922)\" cx=\"658.172\" cy=\"428.829\" r=\"14\" fill=\"#e26f46\" fill-rule=\"evenodd\" fill-opacity=\"1\" stroke=\"#000000\" stroke-opacity=\"1\" stroke-width=\"3.2\"/>\n",
       "<circle clip-path=\"url(#clip922)\" cx=\"668.259\" cy=\"408.779\" r=\"14\" fill=\"#e26f46\" fill-rule=\"evenodd\" fill-opacity=\"1\" stroke=\"#000000\" stroke-opacity=\"1\" stroke-width=\"3.2\"/>\n",
       "<circle clip-path=\"url(#clip922)\" cx=\"678.346\" cy=\"398.754\" r=\"14\" fill=\"#e26f46\" fill-rule=\"evenodd\" fill-opacity=\"1\" stroke=\"#000000\" stroke-opacity=\"1\" stroke-width=\"3.2\"/>\n",
       "<circle clip-path=\"url(#clip922)\" cx=\"688.433\" cy=\"378.704\" r=\"14\" fill=\"#e26f46\" fill-rule=\"evenodd\" fill-opacity=\"1\" stroke=\"#000000\" stroke-opacity=\"1\" stroke-width=\"3.2\"/>\n",
       "<circle clip-path=\"url(#clip922)\" cx=\"698.519\" cy=\"408.779\" r=\"14\" fill=\"#e26f46\" fill-rule=\"evenodd\" fill-opacity=\"1\" stroke=\"#000000\" stroke-opacity=\"1\" stroke-width=\"3.2\"/>\n",
       "<circle clip-path=\"url(#clip922)\" cx=\"708.606\" cy=\"428.829\" r=\"14\" fill=\"#e26f46\" fill-rule=\"evenodd\" fill-opacity=\"1\" stroke=\"#000000\" stroke-opacity=\"1\" stroke-width=\"3.2\"/>\n",
       "<circle clip-path=\"url(#clip922)\" cx=\"718.693\" cy=\"478.955\" r=\"14\" fill=\"#e26f46\" fill-rule=\"evenodd\" fill-opacity=\"1\" stroke=\"#000000\" stroke-opacity=\"1\" stroke-width=\"3.2\"/>\n",
       "<circle clip-path=\"url(#clip922)\" cx=\"728.78\" cy=\"458.904\" r=\"14\" fill=\"#e26f46\" fill-rule=\"evenodd\" fill-opacity=\"1\" stroke=\"#000000\" stroke-opacity=\"1\" stroke-width=\"3.2\"/>\n",
       "<circle clip-path=\"url(#clip922)\" cx=\"759.04\" cy=\"358.654\" r=\"14\" fill=\"#e26f46\" fill-rule=\"evenodd\" fill-opacity=\"1\" stroke=\"#000000\" stroke-opacity=\"1\" stroke-width=\"3.2\"/>\n",
       "<circle clip-path=\"url(#clip922)\" cx=\"779.214\" cy=\"418.804\" r=\"14\" fill=\"#e26f46\" fill-rule=\"evenodd\" fill-opacity=\"1\" stroke=\"#000000\" stroke-opacity=\"1\" stroke-width=\"3.2\"/>\n",
       "<circle clip-path=\"url(#clip922)\" cx=\"799.387\" cy=\"569.18\" r=\"14\" fill=\"#e26f46\" fill-rule=\"evenodd\" fill-opacity=\"1\" stroke=\"#000000\" stroke-opacity=\"1\" stroke-width=\"3.2\"/>\n",
       "<circle clip-path=\"url(#clip922)\" cx=\"809.474\" cy=\"509.03\" r=\"14\" fill=\"#e26f46\" fill-rule=\"evenodd\" fill-opacity=\"1\" stroke=\"#000000\" stroke-opacity=\"1\" stroke-width=\"3.2\"/>\n",
       "<circle clip-path=\"url(#clip922)\" cx=\"819.561\" cy=\"519.055\" r=\"14\" fill=\"#e26f46\" fill-rule=\"evenodd\" fill-opacity=\"1\" stroke=\"#000000\" stroke-opacity=\"1\" stroke-width=\"3.2\"/>\n",
       "<circle clip-path=\"url(#clip922)\" cx=\"829.648\" cy=\"499.005\" r=\"14\" fill=\"#e26f46\" fill-rule=\"evenodd\" fill-opacity=\"1\" stroke=\"#000000\" stroke-opacity=\"1\" stroke-width=\"3.2\"/>\n",
       "<circle clip-path=\"url(#clip922)\" cx=\"839.735\" cy=\"448.879\" r=\"14\" fill=\"#e26f46\" fill-rule=\"evenodd\" fill-opacity=\"1\" stroke=\"#000000\" stroke-opacity=\"1\" stroke-width=\"3.2\"/>\n",
       "<circle clip-path=\"url(#clip922)\" cx=\"849.821\" cy=\"529.08\" r=\"14\" fill=\"#e26f46\" fill-rule=\"evenodd\" fill-opacity=\"1\" stroke=\"#000000\" stroke-opacity=\"1\" stroke-width=\"3.2\"/>\n",
       "<circle clip-path=\"url(#clip922)\" cx=\"859.908\" cy=\"499.005\" r=\"14\" fill=\"#e26f46\" fill-rule=\"evenodd\" fill-opacity=\"1\" stroke=\"#000000\" stroke-opacity=\"1\" stroke-width=\"3.2\"/>\n",
       "<circle clip-path=\"url(#clip922)\" cx=\"869.995\" cy=\"488.98\" r=\"14\" fill=\"#e26f46\" fill-rule=\"evenodd\" fill-opacity=\"1\" stroke=\"#000000\" stroke-opacity=\"1\" stroke-width=\"3.2\"/>\n",
       "<circle clip-path=\"url(#clip922)\" cx=\"880.082\" cy=\"499.005\" r=\"14\" fill=\"#e26f46\" fill-rule=\"evenodd\" fill-opacity=\"1\" stroke=\"#000000\" stroke-opacity=\"1\" stroke-width=\"3.2\"/>\n",
       "<circle clip-path=\"url(#clip922)\" cx=\"890.169\" cy=\"529.08\" r=\"14\" fill=\"#e26f46\" fill-rule=\"evenodd\" fill-opacity=\"1\" stroke=\"#000000\" stroke-opacity=\"1\" stroke-width=\"3.2\"/>\n",
       "<circle clip-path=\"url(#clip922)\" cx=\"900.256\" cy=\"458.904\" r=\"14\" fill=\"#e26f46\" fill-rule=\"evenodd\" fill-opacity=\"1\" stroke=\"#000000\" stroke-opacity=\"1\" stroke-width=\"3.2\"/>\n",
       "<circle clip-path=\"url(#clip922)\" cx=\"910.342\" cy=\"478.955\" r=\"14\" fill=\"#e26f46\" fill-rule=\"evenodd\" fill-opacity=\"1\" stroke=\"#000000\" stroke-opacity=\"1\" stroke-width=\"3.2\"/>\n",
       "<circle clip-path=\"url(#clip922)\" cx=\"920.429\" cy=\"509.03\" r=\"14\" fill=\"#e26f46\" fill-rule=\"evenodd\" fill-opacity=\"1\" stroke=\"#000000\" stroke-opacity=\"1\" stroke-width=\"3.2\"/>\n",
       "<circle clip-path=\"url(#clip922)\" cx=\"980.95\" cy=\"358.654\" r=\"14\" fill=\"#e26f46\" fill-rule=\"evenodd\" fill-opacity=\"1\" stroke=\"#000000\" stroke-opacity=\"1\" stroke-width=\"3.2\"/>\n",
       "<circle clip-path=\"url(#clip922)\" cx=\"991.037\" cy=\"499.005\" r=\"14\" fill=\"#e26f46\" fill-rule=\"evenodd\" fill-opacity=\"1\" stroke=\"#000000\" stroke-opacity=\"1\" stroke-width=\"3.2\"/>\n",
       "<circle clip-path=\"url(#clip922)\" cx=\"1001.12\" cy=\"579.206\" r=\"14\" fill=\"#e26f46\" fill-rule=\"evenodd\" fill-opacity=\"1\" stroke=\"#000000\" stroke-opacity=\"1\" stroke-width=\"3.2\"/>\n",
       "<circle clip-path=\"url(#clip922)\" cx=\"1011.21\" cy=\"599.256\" r=\"14\" fill=\"#e26f46\" fill-rule=\"evenodd\" fill-opacity=\"1\" stroke=\"#000000\" stroke-opacity=\"1\" stroke-width=\"3.2\"/>\n",
       "<circle clip-path=\"url(#clip922)\" cx=\"1021.3\" cy=\"569.18\" r=\"14\" fill=\"#e26f46\" fill-rule=\"evenodd\" fill-opacity=\"1\" stroke=\"#000000\" stroke-opacity=\"1\" stroke-width=\"3.2\"/>\n",
       "<circle clip-path=\"url(#clip922)\" cx=\"1041.47\" cy=\"649.381\" r=\"14\" fill=\"#e26f46\" fill-rule=\"evenodd\" fill-opacity=\"1\" stroke=\"#000000\" stroke-opacity=\"1\" stroke-width=\"3.2\"/>\n",
       "<circle clip-path=\"url(#clip922)\" cx=\"1051.56\" cy=\"649.381\" r=\"14\" fill=\"#e26f46\" fill-rule=\"evenodd\" fill-opacity=\"1\" stroke=\"#000000\" stroke-opacity=\"1\" stroke-width=\"3.2\"/>\n",
       "<circle clip-path=\"url(#clip922)\" cx=\"1061.64\" cy=\"679.456\" r=\"14\" fill=\"#e26f46\" fill-rule=\"evenodd\" fill-opacity=\"1\" stroke=\"#000000\" stroke-opacity=\"1\" stroke-width=\"3.2\"/>\n",
       "<circle clip-path=\"url(#clip922)\" cx=\"1071.73\" cy=\"699.507\" r=\"14\" fill=\"#e26f46\" fill-rule=\"evenodd\" fill-opacity=\"1\" stroke=\"#000000\" stroke-opacity=\"1\" stroke-width=\"3.2\"/>\n",
       "<circle clip-path=\"url(#clip922)\" cx=\"1081.82\" cy=\"659.406\" r=\"14\" fill=\"#e26f46\" fill-rule=\"evenodd\" fill-opacity=\"1\" stroke=\"#000000\" stroke-opacity=\"1\" stroke-width=\"3.2\"/>\n",
       "<circle clip-path=\"url(#clip922)\" cx=\"1091.9\" cy=\"719.557\" r=\"14\" fill=\"#e26f46\" fill-rule=\"evenodd\" fill-opacity=\"1\" stroke=\"#000000\" stroke-opacity=\"1\" stroke-width=\"3.2\"/>\n",
       "<circle clip-path=\"url(#clip922)\" cx=\"1101.99\" cy=\"709.532\" r=\"14\" fill=\"#e26f46\" fill-rule=\"evenodd\" fill-opacity=\"1\" stroke=\"#000000\" stroke-opacity=\"1\" stroke-width=\"3.2\"/>\n",
       "<circle clip-path=\"url(#clip922)\" cx=\"1112.08\" cy=\"729.582\" r=\"14\" fill=\"#e26f46\" fill-rule=\"evenodd\" fill-opacity=\"1\" stroke=\"#000000\" stroke-opacity=\"1\" stroke-width=\"3.2\"/>\n",
       "</svg>\n"
      ]
     },
     "execution_count": 23,
     "metadata": {},
     "output_type": "execute_result"
    }
   ],
   "source": [
    "plot(k,0,200,leg=false)\n",
    "scatter!(x,y)"
   ]
  },
  {
   "cell_type": "markdown",
   "id": "22b5b067-1bac-470e-9934-2417879a8707",
   "metadata": {},
   "source": [
    "É possível observar que o valor atinge 110 KG um pouco depois do 150º dia desde o começo da pesagem. Vamos localizar exatamente qual o dia por meio da resolução da equação.\n",
    "\n",
    ">$$110 = 121.4508816602137 - 0.06647150089703203*x$$  \n",
    "$$0.06647150089703203*x  = 11.4508816602137$$  \n",
    "$$x = 172.267535796307$$"
   ]
  },
  {
   "cell_type": "markdown",
   "id": "27ae5700-e577-443b-8c03-a6f37365266a",
   "metadata": {},
   "source": [
    "Dessa forma, a estimativa encontrada é a que o professor terá 110kg no 173º dia. Isso quer dizer então: 17/04/2022."
   ]
  },
  {
   "cell_type": "markdown",
   "id": "91ec46a2-fc49-40fa-9dcf-d42c08b6e57d",
   "metadata": {
    "tags": []
   },
   "source": [
    "## Questão 1.5"
   ]
  },
  {
   "cell_type": "markdown",
   "id": "3ceb643b-4ff7-4537-9c90-e018edf68a7a",
   "metadata": {},
   "source": [
    "Consideraremos os dados partindo do início da investigação (a entrada estará em minutos):\n",
    "\n",
    "> $$x(0) = 34$$  \n",
    "$$x(90) = 30$$  \n",
    "$$x(150) = 25$$"
   ]
  },
  {
   "cell_type": "code",
   "execution_count": 24,
   "id": "8ba796cc-9ec5-435d-ba90-027f04972041",
   "metadata": {},
   "outputs": [
    {
     "data": {
      "image/svg+xml": [
       "<?xml version=\"1.0\" encoding=\"utf-8\"?>\n",
       "<svg xmlns=\"http://www.w3.org/2000/svg\" xmlns:xlink=\"http://www.w3.org/1999/xlink\" width=\"600\" height=\"400\" viewBox=\"0 0 2400 1600\">\n",
       "<defs>\n",
       "  <clipPath id=\"clip960\">\n",
       "    <rect x=\"0\" y=\"0\" width=\"2400\" height=\"1600\"/>\n",
       "  </clipPath>\n",
       "</defs>\n",
       "<path clip-path=\"url(#clip960)\" d=\"\n",
       "M0 1600 L2400 1600 L2400 0 L0 0  Z\n",
       "  \" fill=\"#ffffff\" fill-rule=\"evenodd\" fill-opacity=\"1\"/>\n",
       "<defs>\n",
       "  <clipPath id=\"clip961\">\n",
       "    <rect x=\"480\" y=\"0\" width=\"1681\" height=\"1600\"/>\n",
       "  </clipPath>\n",
       "</defs>\n",
       "<path clip-path=\"url(#clip960)\" d=\"\n",
       "M141.043 1486.45 L2352.76 1486.45 L2352.76 47.2441 L141.043 47.2441  Z\n",
       "  \" fill=\"#ffffff\" fill-rule=\"evenodd\" fill-opacity=\"1\"/>\n",
       "<defs>\n",
       "  <clipPath id=\"clip962\">\n",
       "    <rect x=\"141\" y=\"47\" width=\"2213\" height=\"1440\"/>\n",
       "  </clipPath>\n",
       "</defs>\n",
       "<polyline clip-path=\"url(#clip962)\" style=\"stroke:#000000; stroke-linecap:butt; stroke-linejoin:round; stroke-width:2; stroke-opacity:0.1; fill:none\" points=\"\n",
       "  203.638,1486.45 203.638,47.2441 \n",
       "  \"/>\n",
       "<polyline clip-path=\"url(#clip962)\" style=\"stroke:#000000; stroke-linecap:butt; stroke-linejoin:round; stroke-width:2; stroke-opacity:0.1; fill:none\" points=\"\n",
       "  899.146,1486.45 899.146,47.2441 \n",
       "  \"/>\n",
       "<polyline clip-path=\"url(#clip962)\" style=\"stroke:#000000; stroke-linecap:butt; stroke-linejoin:round; stroke-width:2; stroke-opacity:0.1; fill:none\" points=\"\n",
       "  1594.65,1486.45 1594.65,47.2441 \n",
       "  \"/>\n",
       "<polyline clip-path=\"url(#clip962)\" style=\"stroke:#000000; stroke-linecap:butt; stroke-linejoin:round; stroke-width:2; stroke-opacity:0.1; fill:none\" points=\"\n",
       "  2290.16,1486.45 2290.16,47.2441 \n",
       "  \"/>\n",
       "<polyline clip-path=\"url(#clip960)\" style=\"stroke:#000000; stroke-linecap:butt; stroke-linejoin:round; stroke-width:4; stroke-opacity:1; fill:none\" points=\"\n",
       "  141.043,1486.45 2352.76,1486.45 \n",
       "  \"/>\n",
       "<polyline clip-path=\"url(#clip960)\" style=\"stroke:#000000; stroke-linecap:butt; stroke-linejoin:round; stroke-width:4; stroke-opacity:1; fill:none\" points=\"\n",
       "  203.638,1486.45 203.638,1467.55 \n",
       "  \"/>\n",
       "<polyline clip-path=\"url(#clip960)\" style=\"stroke:#000000; stroke-linecap:butt; stroke-linejoin:round; stroke-width:4; stroke-opacity:1; fill:none\" points=\"\n",
       "  899.146,1486.45 899.146,1467.55 \n",
       "  \"/>\n",
       "<polyline clip-path=\"url(#clip960)\" style=\"stroke:#000000; stroke-linecap:butt; stroke-linejoin:round; stroke-width:4; stroke-opacity:1; fill:none\" points=\"\n",
       "  1594.65,1486.45 1594.65,1467.55 \n",
       "  \"/>\n",
       "<polyline clip-path=\"url(#clip960)\" style=\"stroke:#000000; stroke-linecap:butt; stroke-linejoin:round; stroke-width:4; stroke-opacity:1; fill:none\" points=\"\n",
       "  2290.16,1486.45 2290.16,1467.55 \n",
       "  \"/>\n",
       "<path clip-path=\"url(#clip960)\" d=\"M203.638 1517.37 Q200.027 1517.37 198.199 1520.93 Q196.393 1524.47 196.393 1531.6 Q196.393 1538.71 198.199 1542.27 Q200.027 1545.82 203.638 1545.82 Q207.273 1545.82 209.078 1542.27 Q210.907 1538.71 210.907 1531.6 Q210.907 1524.47 209.078 1520.93 Q207.273 1517.37 203.638 1517.37 M203.638 1513.66 Q209.449 1513.66 212.504 1518.27 Q215.583 1522.85 215.583 1531.6 Q215.583 1540.33 212.504 1544.94 Q209.449 1549.52 203.638 1549.52 Q197.828 1549.52 194.75 1544.94 Q191.694 1540.33 191.694 1531.6 Q191.694 1522.85 194.75 1518.27 Q197.828 1513.66 203.638 1513.66 Z\" fill=\"#000000\" fill-rule=\"evenodd\" fill-opacity=\"1\" /><path clip-path=\"url(#clip960)\" d=\"M873.845 1514.29 L892.201 1514.29 L892.201 1518.22 L878.127 1518.22 L878.127 1526.7 Q879.146 1526.35 880.164 1526.19 Q881.183 1526 882.201 1526 Q887.988 1526 891.368 1529.17 Q894.748 1532.34 894.748 1537.76 Q894.748 1543.34 891.275 1546.44 Q887.803 1549.52 881.484 1549.52 Q879.308 1549.52 877.039 1549.15 Q874.794 1548.78 872.387 1548.04 L872.387 1543.34 Q874.47 1544.47 876.692 1545.03 Q878.914 1545.58 881.391 1545.58 Q885.396 1545.58 887.734 1543.48 Q890.072 1541.37 890.072 1537.76 Q890.072 1534.15 887.734 1532.04 Q885.396 1529.94 881.391 1529.94 Q879.516 1529.94 877.641 1530.35 Q875.789 1530.77 873.845 1531.65 L873.845 1514.29 Z\" fill=\"#000000\" fill-rule=\"evenodd\" fill-opacity=\"1\" /><path clip-path=\"url(#clip960)\" d=\"M913.96 1517.37 Q910.349 1517.37 908.521 1520.93 Q906.715 1524.47 906.715 1531.6 Q906.715 1538.71 908.521 1542.27 Q910.349 1545.82 913.96 1545.82 Q917.595 1545.82 919.4 1542.27 Q921.229 1538.71 921.229 1531.6 Q921.229 1524.47 919.4 1520.93 Q917.595 1517.37 913.96 1517.37 M913.96 1513.66 Q919.771 1513.66 922.826 1518.27 Q925.905 1522.85 925.905 1531.6 Q925.905 1540.33 922.826 1544.94 Q919.771 1549.52 913.96 1549.52 Q908.15 1549.52 905.072 1544.94 Q902.016 1540.33 902.016 1531.6 Q902.016 1522.85 905.072 1518.27 Q908.15 1513.66 913.96 1513.66 Z\" fill=\"#000000\" fill-rule=\"evenodd\" fill-opacity=\"1\" /><path clip-path=\"url(#clip960)\" d=\"M1554.26 1544.91 L1561.9 1544.91 L1561.9 1518.55 L1553.59 1520.21 L1553.59 1515.95 L1561.85 1514.29 L1566.53 1514.29 L1566.53 1544.91 L1574.17 1544.91 L1574.17 1548.85 L1554.26 1548.85 L1554.26 1544.91 Z\" fill=\"#000000\" fill-rule=\"evenodd\" fill-opacity=\"1\" /><path clip-path=\"url(#clip960)\" d=\"M1593.61 1517.37 Q1590 1517.37 1588.17 1520.93 Q1586.37 1524.47 1586.37 1531.6 Q1586.37 1538.71 1588.17 1542.27 Q1590 1545.82 1593.61 1545.82 Q1597.25 1545.82 1599.05 1542.27 Q1600.88 1538.71 1600.88 1531.6 Q1600.88 1524.47 1599.05 1520.93 Q1597.25 1517.37 1593.61 1517.37 M1593.61 1513.66 Q1599.42 1513.66 1602.48 1518.27 Q1605.56 1522.85 1605.56 1531.6 Q1605.56 1540.33 1602.48 1544.94 Q1599.42 1549.52 1593.61 1549.52 Q1587.8 1549.52 1584.72 1544.94 Q1581.67 1540.33 1581.67 1531.6 Q1581.67 1522.85 1584.72 1518.27 Q1587.8 1513.66 1593.61 1513.66 Z\" fill=\"#000000\" fill-rule=\"evenodd\" fill-opacity=\"1\" /><path clip-path=\"url(#clip960)\" d=\"M1623.77 1517.37 Q1620.16 1517.37 1618.33 1520.93 Q1616.53 1524.47 1616.53 1531.6 Q1616.53 1538.71 1618.33 1542.27 Q1620.16 1545.82 1623.77 1545.82 Q1627.41 1545.82 1629.21 1542.27 Q1631.04 1538.71 1631.04 1531.6 Q1631.04 1524.47 1629.21 1520.93 Q1627.41 1517.37 1623.77 1517.37 M1623.77 1513.66 Q1629.58 1513.66 1632.64 1518.27 Q1635.72 1522.85 1635.72 1531.6 Q1635.72 1540.33 1632.64 1544.94 Q1629.58 1549.52 1623.77 1549.52 Q1617.96 1549.52 1614.88 1544.94 Q1611.83 1540.33 1611.83 1531.6 Q1611.83 1522.85 1614.88 1518.27 Q1617.96 1513.66 1623.77 1513.66 Z\" fill=\"#000000\" fill-rule=\"evenodd\" fill-opacity=\"1\" /><path clip-path=\"url(#clip960)\" d=\"M2249.77 1544.91 L2257.41 1544.91 L2257.41 1518.55 L2249.1 1520.21 L2249.1 1515.95 L2257.36 1514.29 L2262.04 1514.29 L2262.04 1544.91 L2269.67 1544.91 L2269.67 1548.85 L2249.77 1548.85 L2249.77 1544.91 Z\" fill=\"#000000\" fill-rule=\"evenodd\" fill-opacity=\"1\" /><path clip-path=\"url(#clip960)\" d=\"M2279.16 1514.29 L2297.52 1514.29 L2297.52 1518.22 L2283.45 1518.22 L2283.45 1526.7 Q2284.47 1526.35 2285.48 1526.19 Q2286.5 1526 2287.52 1526 Q2293.31 1526 2296.69 1529.17 Q2300.07 1532.34 2300.07 1537.76 Q2300.07 1543.34 2296.6 1546.44 Q2293.12 1549.52 2286.8 1549.52 Q2284.63 1549.52 2282.36 1549.15 Q2280.11 1548.78 2277.71 1548.04 L2277.71 1543.34 Q2279.79 1544.47 2282.01 1545.03 Q2284.23 1545.58 2286.71 1545.58 Q2290.72 1545.58 2293.05 1543.48 Q2295.39 1541.37 2295.39 1537.76 Q2295.39 1534.15 2293.05 1532.04 Q2290.72 1529.94 2286.71 1529.94 Q2284.84 1529.94 2282.96 1530.35 Q2281.11 1530.77 2279.16 1531.65 L2279.16 1514.29 Z\" fill=\"#000000\" fill-rule=\"evenodd\" fill-opacity=\"1\" /><path clip-path=\"url(#clip960)\" d=\"M2319.28 1517.37 Q2315.67 1517.37 2313.84 1520.93 Q2312.04 1524.47 2312.04 1531.6 Q2312.04 1538.71 2313.84 1542.27 Q2315.67 1545.82 2319.28 1545.82 Q2322.91 1545.82 2324.72 1542.27 Q2326.55 1538.71 2326.55 1531.6 Q2326.55 1524.47 2324.72 1520.93 Q2322.91 1517.37 2319.28 1517.37 M2319.28 1513.66 Q2325.09 1513.66 2328.15 1518.27 Q2331.22 1522.85 2331.22 1531.6 Q2331.22 1540.33 2328.15 1544.94 Q2325.09 1549.52 2319.28 1549.52 Q2313.47 1549.52 2310.39 1544.94 Q2307.34 1540.33 2307.34 1531.6 Q2307.34 1522.85 2310.39 1518.27 Q2313.47 1513.66 2319.28 1513.66 Z\" fill=\"#000000\" fill-rule=\"evenodd\" fill-opacity=\"1\" /><polyline clip-path=\"url(#clip962)\" style=\"stroke:#000000; stroke-linecap:butt; stroke-linejoin:round; stroke-width:2; stroke-opacity:0.1; fill:none\" points=\"\n",
       "  141.043,1294.86 2352.76,1294.86 \n",
       "  \"/>\n",
       "<polyline clip-path=\"url(#clip962)\" style=\"stroke:#000000; stroke-linecap:butt; stroke-linejoin:round; stroke-width:2; stroke-opacity:0.1; fill:none\" points=\"\n",
       "  141.043,993.136 2352.76,993.136 \n",
       "  \"/>\n",
       "<polyline clip-path=\"url(#clip962)\" style=\"stroke:#000000; stroke-linecap:butt; stroke-linejoin:round; stroke-width:2; stroke-opacity:0.1; fill:none\" points=\"\n",
       "  141.043,691.416 2352.76,691.416 \n",
       "  \"/>\n",
       "<polyline clip-path=\"url(#clip962)\" style=\"stroke:#000000; stroke-linecap:butt; stroke-linejoin:round; stroke-width:2; stroke-opacity:0.1; fill:none\" points=\"\n",
       "  141.043,389.696 2352.76,389.696 \n",
       "  \"/>\n",
       "<polyline clip-path=\"url(#clip962)\" style=\"stroke:#000000; stroke-linecap:butt; stroke-linejoin:round; stroke-width:2; stroke-opacity:0.1; fill:none\" points=\"\n",
       "  141.043,87.9763 2352.76,87.9763 \n",
       "  \"/>\n",
       "<polyline clip-path=\"url(#clip960)\" style=\"stroke:#000000; stroke-linecap:butt; stroke-linejoin:round; stroke-width:4; stroke-opacity:1; fill:none\" points=\"\n",
       "  141.043,1486.45 141.043,47.2441 \n",
       "  \"/>\n",
       "<polyline clip-path=\"url(#clip960)\" style=\"stroke:#000000; stroke-linecap:butt; stroke-linejoin:round; stroke-width:4; stroke-opacity:1; fill:none\" points=\"\n",
       "  141.043,1294.86 159.94,1294.86 \n",
       "  \"/>\n",
       "<polyline clip-path=\"url(#clip960)\" style=\"stroke:#000000; stroke-linecap:butt; stroke-linejoin:round; stroke-width:4; stroke-opacity:1; fill:none\" points=\"\n",
       "  141.043,993.136 159.94,993.136 \n",
       "  \"/>\n",
       "<polyline clip-path=\"url(#clip960)\" style=\"stroke:#000000; stroke-linecap:butt; stroke-linejoin:round; stroke-width:4; stroke-opacity:1; fill:none\" points=\"\n",
       "  141.043,691.416 159.94,691.416 \n",
       "  \"/>\n",
       "<polyline clip-path=\"url(#clip960)\" style=\"stroke:#000000; stroke-linecap:butt; stroke-linejoin:round; stroke-width:4; stroke-opacity:1; fill:none\" points=\"\n",
       "  141.043,389.696 159.94,389.696 \n",
       "  \"/>\n",
       "<polyline clip-path=\"url(#clip960)\" style=\"stroke:#000000; stroke-linecap:butt; stroke-linejoin:round; stroke-width:4; stroke-opacity:1; fill:none\" points=\"\n",
       "  141.043,87.9763 159.94,87.9763 \n",
       "  \"/>\n",
       "<path clip-path=\"url(#clip960)\" d=\"M56.8023 1308.2 L73.1216 1308.2 L73.1216 1312.14 L51.1773 1312.14 L51.1773 1308.2 Q53.8393 1305.45 58.4226 1300.82 Q63.0291 1296.16 64.2096 1294.82 Q66.455 1292.3 67.3346 1290.56 Q68.2374 1288.8 68.2374 1287.11 Q68.2374 1284.36 66.293 1282.62 Q64.3717 1280.89 61.2698 1280.89 Q59.0708 1280.89 56.6171 1281.65 Q54.1866 1282.41 51.4088 1283.96 L51.4088 1279.24 Q54.2328 1278.11 56.6865 1277.53 Q59.1402 1276.95 61.1773 1276.95 Q66.5476 1276.95 69.742 1279.64 Q72.9365 1282.32 72.9365 1286.81 Q72.9365 1288.94 72.1263 1290.86 Q71.3392 1292.76 69.2328 1295.35 Q68.6541 1296.02 65.5522 1299.24 Q62.4504 1302.44 56.8023 1308.2 Z\" fill=\"#000000\" fill-rule=\"evenodd\" fill-opacity=\"1\" /><path clip-path=\"url(#clip960)\" d=\"M93.515 1292.99 Q90.3669 1292.99 88.5151 1295.15 Q86.6864 1297.3 86.6864 1301.05 Q86.6864 1304.77 88.5151 1306.95 Q90.3669 1309.1 93.515 1309.1 Q96.6632 1309.1 98.4919 1306.95 Q100.344 1304.77 100.344 1301.05 Q100.344 1297.3 98.4919 1295.15 Q96.6632 1292.99 93.515 1292.99 M102.797 1278.34 L102.797 1282.6 Q101.038 1281.77 99.2326 1281.33 Q97.4502 1280.89 95.691 1280.89 Q91.0614 1280.89 88.6077 1284.01 Q86.1771 1287.14 85.8299 1293.46 Q87.1956 1291.44 89.2558 1290.38 Q91.316 1289.29 93.7928 1289.29 Q99.0011 1289.29 102.01 1292.46 Q105.043 1295.61 105.043 1301.05 Q105.043 1306.37 101.895 1309.59 Q98.7465 1312.81 93.515 1312.81 Q87.5197 1312.81 84.3484 1308.22 Q81.1771 1303.62 81.1771 1294.89 Q81.1771 1286.7 85.066 1281.83 Q88.9549 1276.95 95.5058 1276.95 Q97.265 1276.95 99.0474 1277.3 Q100.853 1277.65 102.797 1278.34 Z\" fill=\"#000000\" fill-rule=\"evenodd\" fill-opacity=\"1\" /><path clip-path=\"url(#clip960)\" d=\"M57.0569 1006.48 L73.3763 1006.48 L73.3763 1010.42 L51.4319 1010.42 L51.4319 1006.48 Q54.094 1003.73 58.6773 999.097 Q63.2837 994.444 64.4643 993.101 Q66.7096 990.578 67.5893 988.842 Q68.492 987.083 68.492 985.393 Q68.492 982.638 66.5476 980.902 Q64.6263 979.166 61.5245 979.166 Q59.3254 979.166 56.8717 979.93 Q54.4412 980.694 51.6634 982.245 L51.6634 977.523 Q54.4875 976.388 56.9412 975.81 Q59.3949 975.231 61.4319 975.231 Q66.8022 975.231 69.9967 977.916 Q73.1911 980.601 73.1911 985.092 Q73.1911 987.222 72.3809 989.143 Q71.5939 991.041 69.4874 993.634 Q68.9087 994.305 65.8069 997.522 Q62.705 1000.72 57.0569 1006.48 Z\" fill=\"#000000\" fill-rule=\"evenodd\" fill-opacity=\"1\" /><path clip-path=\"url(#clip960)\" d=\"M93.191 994.004 Q89.8577 994.004 87.9364 995.786 Q86.0382 997.569 86.0382 1000.69 Q86.0382 1003.82 87.9364 1005.6 Q89.8577 1007.38 93.191 1007.38 Q96.5243 1007.38 98.4456 1005.6 Q100.367 1003.8 100.367 1000.69 Q100.367 997.569 98.4456 995.786 Q96.5474 994.004 93.191 994.004 M88.5151 992.013 Q85.5058 991.272 83.816 989.212 Q82.1494 987.152 82.1494 984.189 Q82.1494 980.046 85.0892 977.638 Q88.0521 975.231 93.191 975.231 Q98.353 975.231 101.293 977.638 Q104.233 980.046 104.233 984.189 Q104.233 987.152 102.543 989.212 Q100.876 991.272 97.89 992.013 Q101.27 992.8 103.145 995.092 Q105.043 997.384 105.043 1000.69 Q105.043 1005.72 101.964 1008.4 Q98.9085 1011.09 93.191 1011.09 Q87.4734 1011.09 84.3947 1008.4 Q81.3392 1005.72 81.3392 1000.69 Q81.3392 997.384 83.2373 995.092 Q85.1355 992.8 88.5151 992.013 M86.8021 984.629 Q86.8021 987.314 88.4688 988.819 Q90.1586 990.323 93.191 990.323 Q96.2002 990.323 97.89 988.819 Q99.603 987.314 99.603 984.629 Q99.603 981.944 97.89 980.439 Q96.2002 978.935 93.191 978.935 Q90.1586 978.935 88.4688 980.439 Q86.8021 981.944 86.8021 984.629 Z\" fill=\"#000000\" fill-rule=\"evenodd\" fill-opacity=\"1\" /><path clip-path=\"url(#clip960)\" d=\"M67.1032 690.062 Q70.4596 690.779 72.3346 693.048 Q74.2327 695.316 74.2327 698.65 Q74.2327 703.765 70.7142 706.566 Q67.1957 709.367 60.7143 709.367 Q58.5384 709.367 56.2236 708.927 Q53.9319 708.511 51.4782 707.654 L51.4782 703.14 Q53.4227 704.275 55.7375 704.853 Q58.0523 705.432 60.5754 705.432 Q64.9735 705.432 67.2652 703.696 Q69.58 701.96 69.58 698.65 Q69.58 695.594 67.4272 693.881 Q65.2976 692.145 61.4782 692.145 L57.4504 692.145 L57.4504 688.303 L61.6634 688.303 Q65.1124 688.303 66.9411 686.937 Q68.7698 685.548 68.7698 682.955 Q68.7698 680.293 66.8717 678.881 Q64.9967 677.446 61.4782 677.446 Q59.5569 677.446 57.3578 677.863 Q55.1588 678.28 52.5199 679.159 L52.5199 674.992 Q55.1819 674.252 57.4967 673.881 Q59.8347 673.511 61.8948 673.511 Q67.2189 673.511 70.3207 675.942 Q73.4226 678.349 73.4226 682.469 Q73.4226 685.34 71.7791 687.33 Q70.1355 689.298 67.1032 690.062 Z\" fill=\"#000000\" fill-rule=\"evenodd\" fill-opacity=\"1\" /><path clip-path=\"url(#clip960)\" d=\"M93.0984 677.215 Q89.4873 677.215 87.6586 680.779 Q85.8531 684.321 85.8531 691.451 Q85.8531 698.557 87.6586 702.122 Q89.4873 705.664 93.0984 705.664 Q96.7326 705.664 98.5382 702.122 Q100.367 698.557 100.367 691.451 Q100.367 684.321 98.5382 680.779 Q96.7326 677.215 93.0984 677.215 M93.0984 673.511 Q98.9085 673.511 101.964 678.117 Q105.043 682.701 105.043 691.451 Q105.043 700.178 101.964 704.784 Q98.9085 709.367 93.0984 709.367 Q87.2882 709.367 84.2095 704.784 Q81.154 700.178 81.154 691.451 Q81.154 682.701 84.2095 678.117 Q87.2882 673.511 93.0984 673.511 Z\" fill=\"#000000\" fill-rule=\"evenodd\" fill-opacity=\"1\" /><path clip-path=\"url(#clip960)\" d=\"M68.7004 388.342 Q72.0568 389.06 73.9318 391.328 Q75.83 393.597 75.83 396.93 Q75.83 402.046 72.3115 404.847 Q68.793 407.647 62.3115 407.647 Q60.1356 407.647 57.8208 407.208 Q55.5291 406.791 53.0754 405.934 L53.0754 401.421 Q55.0199 402.555 57.3347 403.134 Q59.6495 403.712 62.1726 403.712 Q66.5707 403.712 68.8624 401.976 Q71.1772 400.24 71.1772 396.93 Q71.1772 393.874 69.0244 392.161 Q66.8948 390.425 63.0754 390.425 L59.0476 390.425 L59.0476 386.583 L63.2606 386.583 Q66.7096 386.583 68.5383 385.217 Q70.367 383.828 70.367 381.236 Q70.367 378.574 68.4689 377.161 Q66.5939 375.726 63.0754 375.726 Q61.1541 375.726 58.955 376.143 Q56.756 376.56 54.1171 377.439 L54.1171 373.273 Q56.7791 372.532 59.0939 372.162 Q61.4319 371.791 63.4921 371.791 Q68.8161 371.791 71.9179 374.222 Q75.0198 376.629 75.0198 380.749 Q75.0198 383.62 73.3763 385.611 Q71.7328 387.578 68.7004 388.342 Z\" fill=\"#000000\" fill-rule=\"evenodd\" fill-opacity=\"1\" /><path clip-path=\"url(#clip960)\" d=\"M88.7234 403.041 L105.043 403.041 L105.043 406.976 L83.0984 406.976 L83.0984 403.041 Q85.7605 400.286 90.3438 395.657 Q94.9502 391.004 96.1308 389.661 Q98.3761 387.138 99.2558 385.402 Q100.159 383.643 100.159 381.953 Q100.159 379.199 98.2141 377.462 Q96.2928 375.726 93.191 375.726 Q90.9919 375.726 88.5382 376.49 Q86.1077 377.254 83.3299 378.805 L83.3299 374.083 Q86.154 372.949 88.6077 372.37 Q91.0614 371.791 93.0984 371.791 Q98.4687 371.791 101.663 374.476 Q104.858 377.161 104.858 381.652 Q104.858 383.782 104.047 385.703 Q103.26 387.601 101.154 390.194 Q100.575 390.865 97.4734 394.083 Q94.3715 397.277 88.7234 403.041 Z\" fill=\"#000000\" fill-rule=\"evenodd\" fill-opacity=\"1\" /><path clip-path=\"url(#clip960)\" d=\"M66.617 86.6221 Q69.9735 87.3397 71.8485 89.6082 Q73.7466 91.8767 73.7466 95.21 Q73.7466 100.326 70.2281 103.127 Q66.7096 105.928 60.2282 105.928 Q58.0523 105.928 55.7375 105.488 Q53.4458 105.071 50.9921 104.215 L50.9921 99.7008 Q52.9366 100.835 55.2514 101.414 Q57.5662 101.992 60.0893 101.992 Q64.4874 101.992 66.7791 100.256 Q69.0939 98.5202 69.0939 95.21 Q69.0939 92.1545 66.9411 90.4415 Q64.8115 88.7054 60.9921 88.7054 L56.9643 88.7054 L56.9643 84.8629 L61.1773 84.8629 Q64.6263 84.8629 66.455 83.4971 Q68.2837 82.1083 68.2837 79.5157 Q68.2837 76.8537 66.3856 75.4416 Q64.5106 74.0064 60.9921 74.0064 Q59.0708 74.0064 56.8717 74.4231 Q54.6727 74.8398 52.0338 75.7194 L52.0338 71.5528 Q54.6958 70.812 57.0106 70.4416 Q59.3486 70.0713 61.4087 70.0713 Q66.7328 70.0713 69.8346 72.5018 Q72.9365 74.9092 72.9365 79.0296 Q72.9365 81.8999 71.2929 83.8907 Q69.6494 85.8582 66.617 86.6221 Z\" fill=\"#000000\" fill-rule=\"evenodd\" fill-opacity=\"1\" /><path clip-path=\"url(#clip960)\" d=\"M95.4595 74.7703 L83.654 93.2193 L95.4595 93.2193 L95.4595 74.7703 M94.2326 70.6963 L100.112 70.6963 L100.112 93.2193 L105.043 93.2193 L105.043 97.1082 L100.112 97.1082 L100.112 105.256 L95.4595 105.256 L95.4595 97.1082 L79.8577 97.1082 L79.8577 92.5943 L94.2326 70.6963 Z\" fill=\"#000000\" fill-rule=\"evenodd\" fill-opacity=\"1\" /><circle clip-path=\"url(#clip962)\" cx=\"203.638\" cy=\"87.9763\" r=\"14\" fill=\"#009af9\" fill-rule=\"evenodd\" fill-opacity=\"1\" stroke=\"#000000\" stroke-opacity=\"1\" stroke-width=\"3.2\"/>\n",
       "<circle clip-path=\"url(#clip962)\" cx=\"1455.55\" cy=\"691.416\" r=\"14\" fill=\"#009af9\" fill-rule=\"evenodd\" fill-opacity=\"1\" stroke=\"#000000\" stroke-opacity=\"1\" stroke-width=\"3.2\"/>\n",
       "<circle clip-path=\"url(#clip962)\" cx=\"2290.16\" cy=\"1445.72\" r=\"14\" fill=\"#009af9\" fill-rule=\"evenodd\" fill-opacity=\"1\" stroke=\"#000000\" stroke-opacity=\"1\" stroke-width=\"3.2\"/>\n",
       "</svg>\n"
      ]
     },
     "execution_count": 24,
     "metadata": {},
     "output_type": "execute_result"
    }
   ],
   "source": [
    "x=[0,90,150]\n",
    "y=[34,30,25]\n",
    "scatter(x,y,leg=false)"
   ]
  },
  {
   "cell_type": "markdown",
   "id": "c4d9815e-3885-4095-9206-92e6d6d7a4c2",
   "metadata": {},
   "source": [
    "Agora, precisamos \"transportar o mundo real para o mundo barra\":\n",
    "\n",
    "Mundo real: $$T(x) = 14*E^{-kx}+20$$\n",
    "\n",
    "Indo para o mundo barra:  \n",
    "$$y = 14*e^{c*x}+20$$  \n",
    "$$y-20 = 14*e^{cx}$$  \n",
    "$$\\frac{(y-20)}{14} = e^{cx}$$  \n",
    "$$ln(\\frac{(y-20)}{14}) = ln(e^{c*x})$$   \n",
    "$$ln(\\frac{(y-20)}{14}) = c*x$$ \n",
    "\n",
    "Agora, definimos os x_barra e y_barra baseado no que encontramos:"
   ]
  },
  {
   "cell_type": "code",
   "execution_count": 25,
   "id": "753320fc-9763-4f95-8372-7d0c9eafb22d",
   "metadata": {},
   "outputs": [
    {
     "data": {
      "text/plain": [
       "3-element Vector{Int64}:\n",
       "   0\n",
       "  90\n",
       " 150"
      ]
     },
     "execution_count": 25,
     "metadata": {},
     "output_type": "execute_result"
    }
   ],
   "source": [
    "y_barra = log.((y.-20)./14)\n",
    "x_barra = x"
   ]
  },
  {
   "cell_type": "markdown",
   "id": "e296dddd-bd37-47cc-8fe2-be15581d3f62",
   "metadata": {},
   "source": [
    "Agora, faremos o passo a passo de uma regressão sem a chamada da função implementada, já que é preciso modificar a matriz de Vandermonde. O motivo disso é porque precisamos linearizar, o que significa que geraremos dois coeficientes. Acontece que o c1 não deve ser utilizado por não estar presente na equação mostrada anteriormente. Se utilizássemos o Vandermonde normalmente, ele assumiria que c1 pode ter qualquer valor, apesar de não ser esse o caso. Portanto, iremos modificá-lo, colocando 0 na primeira coluna."
   ]
  },
  {
   "cell_type": "code",
   "execution_count": 26,
   "id": "b5862b8e-158b-43cf-9b5d-fc074e57678e",
   "metadata": {},
   "outputs": [
    {
     "data": {
      "text/plain": [
       "2-element Vector{Float64}:\n",
       "  0.0\n",
       " -0.0060367782311465"
      ]
     },
     "execution_count": 26,
     "metadata": {},
     "output_type": "execute_result"
    }
   ],
   "source": [
    "V=vandermonde(x_barra,y_barra,1)\n",
    "V[:,1].=0\n",
    "c_barra=V\\y_barra"
   ]
  },
  {
   "cell_type": "markdown",
   "id": "4cb67132-ea8d-4c0c-be11-5888a0973ea3",
   "metadata": {},
   "source": [
    "Encontramos então os dois coeficientes. Por fim, agora podemos resolver a equação igualando a 37 e encontra o tempo do assassinato. \n",
    "\n",
    "Abaixo, uma plot com intuito apenas de mostrar o resultado."
   ]
  },
  {
   "cell_type": "code",
   "execution_count": 27,
   "id": "d549826d-1fc5-4141-b7c3-de065dec9ab5",
   "metadata": {},
   "outputs": [
    {
     "data": {
      "image/svg+xml": [
       "<?xml version=\"1.0\" encoding=\"utf-8\"?>\n",
       "<svg xmlns=\"http://www.w3.org/2000/svg\" xmlns:xlink=\"http://www.w3.org/1999/xlink\" width=\"600\" height=\"400\" viewBox=\"0 0 2400 1600\">\n",
       "<defs>\n",
       "  <clipPath id=\"clip000\">\n",
       "    <rect x=\"0\" y=\"0\" width=\"2400\" height=\"1600\"/>\n",
       "  </clipPath>\n",
       "</defs>\n",
       "<path clip-path=\"url(#clip000)\" d=\"\n",
       "M0 1600 L2400 1600 L2400 0 L0 0  Z\n",
       "  \" fill=\"#ffffff\" fill-rule=\"evenodd\" fill-opacity=\"1\"/>\n",
       "<defs>\n",
       "  <clipPath id=\"clip001\">\n",
       "    <rect x=\"480\" y=\"0\" width=\"1681\" height=\"1600\"/>\n",
       "  </clipPath>\n",
       "</defs>\n",
       "<path clip-path=\"url(#clip000)\" d=\"\n",
       "M141.043 1486.45 L2352.76 1486.45 L2352.76 47.2441 L141.043 47.2441  Z\n",
       "  \" fill=\"#ffffff\" fill-rule=\"evenodd\" fill-opacity=\"1\"/>\n",
       "<defs>\n",
       "  <clipPath id=\"clip002\">\n",
       "    <rect x=\"141\" y=\"47\" width=\"2213\" height=\"1440\"/>\n",
       "  </clipPath>\n",
       "</defs>\n",
       "<polyline clip-path=\"url(#clip002)\" style=\"stroke:#000000; stroke-linecap:butt; stroke-linejoin:round; stroke-width:2; stroke-opacity:0.1; fill:none\" points=\"\n",
       "  203.638,1486.45 203.638,47.2441 \n",
       "  \"/>\n",
       "<polyline clip-path=\"url(#clip002)\" style=\"stroke:#000000; stroke-linecap:butt; stroke-linejoin:round; stroke-width:2; stroke-opacity:0.1; fill:none\" points=\"\n",
       "  899.146,1486.45 899.146,47.2441 \n",
       "  \"/>\n",
       "<polyline clip-path=\"url(#clip002)\" style=\"stroke:#000000; stroke-linecap:butt; stroke-linejoin:round; stroke-width:2; stroke-opacity:0.1; fill:none\" points=\"\n",
       "  1594.65,1486.45 1594.65,47.2441 \n",
       "  \"/>\n",
       "<polyline clip-path=\"url(#clip002)\" style=\"stroke:#000000; stroke-linecap:butt; stroke-linejoin:round; stroke-width:2; stroke-opacity:0.1; fill:none\" points=\"\n",
       "  2290.16,1486.45 2290.16,47.2441 \n",
       "  \"/>\n",
       "<polyline clip-path=\"url(#clip000)\" style=\"stroke:#000000; stroke-linecap:butt; stroke-linejoin:round; stroke-width:4; stroke-opacity:1; fill:none\" points=\"\n",
       "  141.043,1486.45 2352.76,1486.45 \n",
       "  \"/>\n",
       "<polyline clip-path=\"url(#clip000)\" style=\"stroke:#000000; stroke-linecap:butt; stroke-linejoin:round; stroke-width:4; stroke-opacity:1; fill:none\" points=\"\n",
       "  203.638,1486.45 203.638,1467.55 \n",
       "  \"/>\n",
       "<polyline clip-path=\"url(#clip000)\" style=\"stroke:#000000; stroke-linecap:butt; stroke-linejoin:round; stroke-width:4; stroke-opacity:1; fill:none\" points=\"\n",
       "  899.146,1486.45 899.146,1467.55 \n",
       "  \"/>\n",
       "<polyline clip-path=\"url(#clip000)\" style=\"stroke:#000000; stroke-linecap:butt; stroke-linejoin:round; stroke-width:4; stroke-opacity:1; fill:none\" points=\"\n",
       "  1594.65,1486.45 1594.65,1467.55 \n",
       "  \"/>\n",
       "<polyline clip-path=\"url(#clip000)\" style=\"stroke:#000000; stroke-linecap:butt; stroke-linejoin:round; stroke-width:4; stroke-opacity:1; fill:none\" points=\"\n",
       "  2290.16,1486.45 2290.16,1467.55 \n",
       "  \"/>\n",
       "<path clip-path=\"url(#clip000)\" d=\"M203.638 1517.37 Q200.027 1517.37 198.199 1520.93 Q196.393 1524.47 196.393 1531.6 Q196.393 1538.71 198.199 1542.27 Q200.027 1545.82 203.638 1545.82 Q207.273 1545.82 209.078 1542.27 Q210.907 1538.71 210.907 1531.6 Q210.907 1524.47 209.078 1520.93 Q207.273 1517.37 203.638 1517.37 M203.638 1513.66 Q209.449 1513.66 212.504 1518.27 Q215.583 1522.85 215.583 1531.6 Q215.583 1540.33 212.504 1544.94 Q209.449 1549.52 203.638 1549.52 Q197.828 1549.52 194.75 1544.94 Q191.694 1540.33 191.694 1531.6 Q191.694 1522.85 194.75 1518.27 Q197.828 1513.66 203.638 1513.66 Z\" fill=\"#000000\" fill-rule=\"evenodd\" fill-opacity=\"1\" /><path clip-path=\"url(#clip000)\" d=\"M873.845 1514.29 L892.201 1514.29 L892.201 1518.22 L878.127 1518.22 L878.127 1526.7 Q879.146 1526.35 880.164 1526.19 Q881.183 1526 882.201 1526 Q887.988 1526 891.368 1529.17 Q894.748 1532.34 894.748 1537.76 Q894.748 1543.34 891.275 1546.44 Q887.803 1549.52 881.484 1549.52 Q879.308 1549.52 877.039 1549.15 Q874.794 1548.78 872.387 1548.04 L872.387 1543.34 Q874.47 1544.47 876.692 1545.03 Q878.914 1545.58 881.391 1545.58 Q885.396 1545.58 887.734 1543.48 Q890.072 1541.37 890.072 1537.76 Q890.072 1534.15 887.734 1532.04 Q885.396 1529.94 881.391 1529.94 Q879.516 1529.94 877.641 1530.35 Q875.789 1530.77 873.845 1531.65 L873.845 1514.29 Z\" fill=\"#000000\" fill-rule=\"evenodd\" fill-opacity=\"1\" /><path clip-path=\"url(#clip000)\" d=\"M913.96 1517.37 Q910.349 1517.37 908.521 1520.93 Q906.715 1524.47 906.715 1531.6 Q906.715 1538.71 908.521 1542.27 Q910.349 1545.82 913.96 1545.82 Q917.595 1545.82 919.4 1542.27 Q921.229 1538.71 921.229 1531.6 Q921.229 1524.47 919.4 1520.93 Q917.595 1517.37 913.96 1517.37 M913.96 1513.66 Q919.771 1513.66 922.826 1518.27 Q925.905 1522.85 925.905 1531.6 Q925.905 1540.33 922.826 1544.94 Q919.771 1549.52 913.96 1549.52 Q908.15 1549.52 905.072 1544.94 Q902.016 1540.33 902.016 1531.6 Q902.016 1522.85 905.072 1518.27 Q908.15 1513.66 913.96 1513.66 Z\" fill=\"#000000\" fill-rule=\"evenodd\" fill-opacity=\"1\" /><path clip-path=\"url(#clip000)\" d=\"M1554.26 1544.91 L1561.9 1544.91 L1561.9 1518.55 L1553.59 1520.21 L1553.59 1515.95 L1561.85 1514.29 L1566.53 1514.29 L1566.53 1544.91 L1574.17 1544.91 L1574.17 1548.85 L1554.26 1548.85 L1554.26 1544.91 Z\" fill=\"#000000\" fill-rule=\"evenodd\" fill-opacity=\"1\" /><path clip-path=\"url(#clip000)\" d=\"M1593.61 1517.37 Q1590 1517.37 1588.17 1520.93 Q1586.37 1524.47 1586.37 1531.6 Q1586.37 1538.71 1588.17 1542.27 Q1590 1545.82 1593.61 1545.82 Q1597.25 1545.82 1599.05 1542.27 Q1600.88 1538.71 1600.88 1531.6 Q1600.88 1524.47 1599.05 1520.93 Q1597.25 1517.37 1593.61 1517.37 M1593.61 1513.66 Q1599.42 1513.66 1602.48 1518.27 Q1605.56 1522.85 1605.56 1531.6 Q1605.56 1540.33 1602.48 1544.94 Q1599.42 1549.52 1593.61 1549.52 Q1587.8 1549.52 1584.72 1544.94 Q1581.67 1540.33 1581.67 1531.6 Q1581.67 1522.85 1584.72 1518.27 Q1587.8 1513.66 1593.61 1513.66 Z\" fill=\"#000000\" fill-rule=\"evenodd\" fill-opacity=\"1\" /><path clip-path=\"url(#clip000)\" d=\"M1623.77 1517.37 Q1620.16 1517.37 1618.33 1520.93 Q1616.53 1524.47 1616.53 1531.6 Q1616.53 1538.71 1618.33 1542.27 Q1620.16 1545.82 1623.77 1545.82 Q1627.41 1545.82 1629.21 1542.27 Q1631.04 1538.71 1631.04 1531.6 Q1631.04 1524.47 1629.21 1520.93 Q1627.41 1517.37 1623.77 1517.37 M1623.77 1513.66 Q1629.58 1513.66 1632.64 1518.27 Q1635.72 1522.85 1635.72 1531.6 Q1635.72 1540.33 1632.64 1544.94 Q1629.58 1549.52 1623.77 1549.52 Q1617.96 1549.52 1614.88 1544.94 Q1611.83 1540.33 1611.83 1531.6 Q1611.83 1522.85 1614.88 1518.27 Q1617.96 1513.66 1623.77 1513.66 Z\" fill=\"#000000\" fill-rule=\"evenodd\" fill-opacity=\"1\" /><path clip-path=\"url(#clip000)\" d=\"M2249.77 1544.91 L2257.41 1544.91 L2257.41 1518.55 L2249.1 1520.21 L2249.1 1515.95 L2257.36 1514.29 L2262.04 1514.29 L2262.04 1544.91 L2269.67 1544.91 L2269.67 1548.85 L2249.77 1548.85 L2249.77 1544.91 Z\" fill=\"#000000\" fill-rule=\"evenodd\" fill-opacity=\"1\" /><path clip-path=\"url(#clip000)\" d=\"M2279.16 1514.29 L2297.52 1514.29 L2297.52 1518.22 L2283.45 1518.22 L2283.45 1526.7 Q2284.47 1526.35 2285.48 1526.19 Q2286.5 1526 2287.52 1526 Q2293.31 1526 2296.69 1529.17 Q2300.07 1532.34 2300.07 1537.76 Q2300.07 1543.34 2296.6 1546.44 Q2293.12 1549.52 2286.8 1549.52 Q2284.63 1549.52 2282.36 1549.15 Q2280.11 1548.78 2277.71 1548.04 L2277.71 1543.34 Q2279.79 1544.47 2282.01 1545.03 Q2284.23 1545.58 2286.71 1545.58 Q2290.72 1545.58 2293.05 1543.48 Q2295.39 1541.37 2295.39 1537.76 Q2295.39 1534.15 2293.05 1532.04 Q2290.72 1529.94 2286.71 1529.94 Q2284.84 1529.94 2282.96 1530.35 Q2281.11 1530.77 2279.16 1531.65 L2279.16 1514.29 Z\" fill=\"#000000\" fill-rule=\"evenodd\" fill-opacity=\"1\" /><path clip-path=\"url(#clip000)\" d=\"M2319.28 1517.37 Q2315.67 1517.37 2313.84 1520.93 Q2312.04 1524.47 2312.04 1531.6 Q2312.04 1538.71 2313.84 1542.27 Q2315.67 1545.82 2319.28 1545.82 Q2322.91 1545.82 2324.72 1542.27 Q2326.55 1538.71 2326.55 1531.6 Q2326.55 1524.47 2324.72 1520.93 Q2322.91 1517.37 2319.28 1517.37 M2319.28 1513.66 Q2325.09 1513.66 2328.15 1518.27 Q2331.22 1522.85 2331.22 1531.6 Q2331.22 1540.33 2328.15 1544.94 Q2325.09 1549.52 2319.28 1549.52 Q2313.47 1549.52 2310.39 1544.94 Q2307.34 1540.33 2307.34 1531.6 Q2307.34 1522.85 2310.39 1518.27 Q2313.47 1513.66 2319.28 1513.66 Z\" fill=\"#000000\" fill-rule=\"evenodd\" fill-opacity=\"1\" /><polyline clip-path=\"url(#clip002)\" style=\"stroke:#000000; stroke-linecap:butt; stroke-linejoin:round; stroke-width:2; stroke-opacity:0.1; fill:none\" points=\"\n",
       "  141.043,1294.86 2352.76,1294.86 \n",
       "  \"/>\n",
       "<polyline clip-path=\"url(#clip002)\" style=\"stroke:#000000; stroke-linecap:butt; stroke-linejoin:round; stroke-width:2; stroke-opacity:0.1; fill:none\" points=\"\n",
       "  141.043,993.136 2352.76,993.136 \n",
       "  \"/>\n",
       "<polyline clip-path=\"url(#clip002)\" style=\"stroke:#000000; stroke-linecap:butt; stroke-linejoin:round; stroke-width:2; stroke-opacity:0.1; fill:none\" points=\"\n",
       "  141.043,691.416 2352.76,691.416 \n",
       "  \"/>\n",
       "<polyline clip-path=\"url(#clip002)\" style=\"stroke:#000000; stroke-linecap:butt; stroke-linejoin:round; stroke-width:2; stroke-opacity:0.1; fill:none\" points=\"\n",
       "  141.043,389.696 2352.76,389.696 \n",
       "  \"/>\n",
       "<polyline clip-path=\"url(#clip002)\" style=\"stroke:#000000; stroke-linecap:butt; stroke-linejoin:round; stroke-width:2; stroke-opacity:0.1; fill:none\" points=\"\n",
       "  141.043,87.9763 2352.76,87.9763 \n",
       "  \"/>\n",
       "<polyline clip-path=\"url(#clip000)\" style=\"stroke:#000000; stroke-linecap:butt; stroke-linejoin:round; stroke-width:4; stroke-opacity:1; fill:none\" points=\"\n",
       "  141.043,1486.45 141.043,47.2441 \n",
       "  \"/>\n",
       "<polyline clip-path=\"url(#clip000)\" style=\"stroke:#000000; stroke-linecap:butt; stroke-linejoin:round; stroke-width:4; stroke-opacity:1; fill:none\" points=\"\n",
       "  141.043,1294.86 159.94,1294.86 \n",
       "  \"/>\n",
       "<polyline clip-path=\"url(#clip000)\" style=\"stroke:#000000; stroke-linecap:butt; stroke-linejoin:round; stroke-width:4; stroke-opacity:1; fill:none\" points=\"\n",
       "  141.043,993.136 159.94,993.136 \n",
       "  \"/>\n",
       "<polyline clip-path=\"url(#clip000)\" style=\"stroke:#000000; stroke-linecap:butt; stroke-linejoin:round; stroke-width:4; stroke-opacity:1; fill:none\" points=\"\n",
       "  141.043,691.416 159.94,691.416 \n",
       "  \"/>\n",
       "<polyline clip-path=\"url(#clip000)\" style=\"stroke:#000000; stroke-linecap:butt; stroke-linejoin:round; stroke-width:4; stroke-opacity:1; fill:none\" points=\"\n",
       "  141.043,389.696 159.94,389.696 \n",
       "  \"/>\n",
       "<polyline clip-path=\"url(#clip000)\" style=\"stroke:#000000; stroke-linecap:butt; stroke-linejoin:round; stroke-width:4; stroke-opacity:1; fill:none\" points=\"\n",
       "  141.043,87.9763 159.94,87.9763 \n",
       "  \"/>\n",
       "<path clip-path=\"url(#clip000)\" d=\"M56.8023 1308.2 L73.1216 1308.2 L73.1216 1312.14 L51.1773 1312.14 L51.1773 1308.2 Q53.8393 1305.45 58.4226 1300.82 Q63.0291 1296.16 64.2096 1294.82 Q66.455 1292.3 67.3346 1290.56 Q68.2374 1288.8 68.2374 1287.11 Q68.2374 1284.36 66.293 1282.62 Q64.3717 1280.89 61.2698 1280.89 Q59.0708 1280.89 56.6171 1281.65 Q54.1866 1282.41 51.4088 1283.96 L51.4088 1279.24 Q54.2328 1278.11 56.6865 1277.53 Q59.1402 1276.95 61.1773 1276.95 Q66.5476 1276.95 69.742 1279.64 Q72.9365 1282.32 72.9365 1286.81 Q72.9365 1288.94 72.1263 1290.86 Q71.3392 1292.76 69.2328 1295.35 Q68.6541 1296.02 65.5522 1299.24 Q62.4504 1302.44 56.8023 1308.2 Z\" fill=\"#000000\" fill-rule=\"evenodd\" fill-opacity=\"1\" /><path clip-path=\"url(#clip000)\" d=\"M93.515 1292.99 Q90.3669 1292.99 88.5151 1295.15 Q86.6864 1297.3 86.6864 1301.05 Q86.6864 1304.77 88.5151 1306.95 Q90.3669 1309.1 93.515 1309.1 Q96.6632 1309.1 98.4919 1306.95 Q100.344 1304.77 100.344 1301.05 Q100.344 1297.3 98.4919 1295.15 Q96.6632 1292.99 93.515 1292.99 M102.797 1278.34 L102.797 1282.6 Q101.038 1281.77 99.2326 1281.33 Q97.4502 1280.89 95.691 1280.89 Q91.0614 1280.89 88.6077 1284.01 Q86.1771 1287.14 85.8299 1293.46 Q87.1956 1291.44 89.2558 1290.38 Q91.316 1289.29 93.7928 1289.29 Q99.0011 1289.29 102.01 1292.46 Q105.043 1295.61 105.043 1301.05 Q105.043 1306.37 101.895 1309.59 Q98.7465 1312.81 93.515 1312.81 Q87.5197 1312.81 84.3484 1308.22 Q81.1771 1303.62 81.1771 1294.89 Q81.1771 1286.7 85.066 1281.83 Q88.9549 1276.95 95.5058 1276.95 Q97.265 1276.95 99.0474 1277.3 Q100.853 1277.65 102.797 1278.34 Z\" fill=\"#000000\" fill-rule=\"evenodd\" fill-opacity=\"1\" /><path clip-path=\"url(#clip000)\" d=\"M57.0569 1006.48 L73.3763 1006.48 L73.3763 1010.42 L51.4319 1010.42 L51.4319 1006.48 Q54.094 1003.73 58.6773 999.097 Q63.2837 994.444 64.4643 993.101 Q66.7096 990.578 67.5893 988.842 Q68.492 987.083 68.492 985.393 Q68.492 982.638 66.5476 980.902 Q64.6263 979.166 61.5245 979.166 Q59.3254 979.166 56.8717 979.93 Q54.4412 980.694 51.6634 982.245 L51.6634 977.523 Q54.4875 976.388 56.9412 975.81 Q59.3949 975.231 61.4319 975.231 Q66.8022 975.231 69.9967 977.916 Q73.1911 980.601 73.1911 985.092 Q73.1911 987.222 72.3809 989.143 Q71.5939 991.041 69.4874 993.634 Q68.9087 994.305 65.8069 997.522 Q62.705 1000.72 57.0569 1006.48 Z\" fill=\"#000000\" fill-rule=\"evenodd\" fill-opacity=\"1\" /><path clip-path=\"url(#clip000)\" d=\"M93.191 994.004 Q89.8577 994.004 87.9364 995.786 Q86.0382 997.569 86.0382 1000.69 Q86.0382 1003.82 87.9364 1005.6 Q89.8577 1007.38 93.191 1007.38 Q96.5243 1007.38 98.4456 1005.6 Q100.367 1003.8 100.367 1000.69 Q100.367 997.569 98.4456 995.786 Q96.5474 994.004 93.191 994.004 M88.5151 992.013 Q85.5058 991.272 83.816 989.212 Q82.1494 987.152 82.1494 984.189 Q82.1494 980.046 85.0892 977.638 Q88.0521 975.231 93.191 975.231 Q98.353 975.231 101.293 977.638 Q104.233 980.046 104.233 984.189 Q104.233 987.152 102.543 989.212 Q100.876 991.272 97.89 992.013 Q101.27 992.8 103.145 995.092 Q105.043 997.384 105.043 1000.69 Q105.043 1005.72 101.964 1008.4 Q98.9085 1011.09 93.191 1011.09 Q87.4734 1011.09 84.3947 1008.4 Q81.3392 1005.72 81.3392 1000.69 Q81.3392 997.384 83.2373 995.092 Q85.1355 992.8 88.5151 992.013 M86.8021 984.629 Q86.8021 987.314 88.4688 988.819 Q90.1586 990.323 93.191 990.323 Q96.2002 990.323 97.89 988.819 Q99.603 987.314 99.603 984.629 Q99.603 981.944 97.89 980.439 Q96.2002 978.935 93.191 978.935 Q90.1586 978.935 88.4688 980.439 Q86.8021 981.944 86.8021 984.629 Z\" fill=\"#000000\" fill-rule=\"evenodd\" fill-opacity=\"1\" /><path clip-path=\"url(#clip000)\" d=\"M67.1032 690.062 Q70.4596 690.779 72.3346 693.048 Q74.2327 695.316 74.2327 698.65 Q74.2327 703.765 70.7142 706.566 Q67.1957 709.367 60.7143 709.367 Q58.5384 709.367 56.2236 708.927 Q53.9319 708.511 51.4782 707.654 L51.4782 703.14 Q53.4227 704.275 55.7375 704.853 Q58.0523 705.432 60.5754 705.432 Q64.9735 705.432 67.2652 703.696 Q69.58 701.96 69.58 698.65 Q69.58 695.594 67.4272 693.881 Q65.2976 692.145 61.4782 692.145 L57.4504 692.145 L57.4504 688.303 L61.6634 688.303 Q65.1124 688.303 66.9411 686.937 Q68.7698 685.548 68.7698 682.955 Q68.7698 680.293 66.8717 678.881 Q64.9967 677.446 61.4782 677.446 Q59.5569 677.446 57.3578 677.863 Q55.1588 678.28 52.5199 679.159 L52.5199 674.992 Q55.1819 674.252 57.4967 673.881 Q59.8347 673.511 61.8948 673.511 Q67.2189 673.511 70.3207 675.942 Q73.4226 678.349 73.4226 682.469 Q73.4226 685.34 71.7791 687.33 Q70.1355 689.298 67.1032 690.062 Z\" fill=\"#000000\" fill-rule=\"evenodd\" fill-opacity=\"1\" /><path clip-path=\"url(#clip000)\" d=\"M93.0984 677.215 Q89.4873 677.215 87.6586 680.779 Q85.8531 684.321 85.8531 691.451 Q85.8531 698.557 87.6586 702.122 Q89.4873 705.664 93.0984 705.664 Q96.7326 705.664 98.5382 702.122 Q100.367 698.557 100.367 691.451 Q100.367 684.321 98.5382 680.779 Q96.7326 677.215 93.0984 677.215 M93.0984 673.511 Q98.9085 673.511 101.964 678.117 Q105.043 682.701 105.043 691.451 Q105.043 700.178 101.964 704.784 Q98.9085 709.367 93.0984 709.367 Q87.2882 709.367 84.2095 704.784 Q81.154 700.178 81.154 691.451 Q81.154 682.701 84.2095 678.117 Q87.2882 673.511 93.0984 673.511 Z\" fill=\"#000000\" fill-rule=\"evenodd\" fill-opacity=\"1\" /><path clip-path=\"url(#clip000)\" d=\"M68.7004 388.342 Q72.0568 389.06 73.9318 391.328 Q75.83 393.597 75.83 396.93 Q75.83 402.046 72.3115 404.847 Q68.793 407.647 62.3115 407.647 Q60.1356 407.647 57.8208 407.208 Q55.5291 406.791 53.0754 405.934 L53.0754 401.421 Q55.0199 402.555 57.3347 403.134 Q59.6495 403.712 62.1726 403.712 Q66.5707 403.712 68.8624 401.976 Q71.1772 400.24 71.1772 396.93 Q71.1772 393.874 69.0244 392.161 Q66.8948 390.425 63.0754 390.425 L59.0476 390.425 L59.0476 386.583 L63.2606 386.583 Q66.7096 386.583 68.5383 385.217 Q70.367 383.828 70.367 381.236 Q70.367 378.574 68.4689 377.161 Q66.5939 375.726 63.0754 375.726 Q61.1541 375.726 58.955 376.143 Q56.756 376.56 54.1171 377.439 L54.1171 373.273 Q56.7791 372.532 59.0939 372.162 Q61.4319 371.791 63.4921 371.791 Q68.8161 371.791 71.9179 374.222 Q75.0198 376.629 75.0198 380.749 Q75.0198 383.62 73.3763 385.611 Q71.7328 387.578 68.7004 388.342 Z\" fill=\"#000000\" fill-rule=\"evenodd\" fill-opacity=\"1\" /><path clip-path=\"url(#clip000)\" d=\"M88.7234 403.041 L105.043 403.041 L105.043 406.976 L83.0984 406.976 L83.0984 403.041 Q85.7605 400.286 90.3438 395.657 Q94.9502 391.004 96.1308 389.661 Q98.3761 387.138 99.2558 385.402 Q100.159 383.643 100.159 381.953 Q100.159 379.199 98.2141 377.462 Q96.2928 375.726 93.191 375.726 Q90.9919 375.726 88.5382 376.49 Q86.1077 377.254 83.3299 378.805 L83.3299 374.083 Q86.154 372.949 88.6077 372.37 Q91.0614 371.791 93.0984 371.791 Q98.4687 371.791 101.663 374.476 Q104.858 377.161 104.858 381.652 Q104.858 383.782 104.047 385.703 Q103.26 387.601 101.154 390.194 Q100.575 390.865 97.4734 394.083 Q94.3715 397.277 88.7234 403.041 Z\" fill=\"#000000\" fill-rule=\"evenodd\" fill-opacity=\"1\" /><path clip-path=\"url(#clip000)\" d=\"M66.617 86.6221 Q69.9735 87.3397 71.8485 89.6082 Q73.7466 91.8767 73.7466 95.21 Q73.7466 100.326 70.2281 103.127 Q66.7096 105.928 60.2282 105.928 Q58.0523 105.928 55.7375 105.488 Q53.4458 105.071 50.9921 104.215 L50.9921 99.7008 Q52.9366 100.835 55.2514 101.414 Q57.5662 101.992 60.0893 101.992 Q64.4874 101.992 66.7791 100.256 Q69.0939 98.5202 69.0939 95.21 Q69.0939 92.1545 66.9411 90.4415 Q64.8115 88.7054 60.9921 88.7054 L56.9643 88.7054 L56.9643 84.8629 L61.1773 84.8629 Q64.6263 84.8629 66.455 83.4971 Q68.2837 82.1083 68.2837 79.5157 Q68.2837 76.8537 66.3856 75.4416 Q64.5106 74.0064 60.9921 74.0064 Q59.0708 74.0064 56.8717 74.4231 Q54.6727 74.8398 52.0338 75.7194 L52.0338 71.5528 Q54.6958 70.812 57.0106 70.4416 Q59.3486 70.0713 61.4087 70.0713 Q66.7328 70.0713 69.8346 72.5018 Q72.9365 74.9092 72.9365 79.0296 Q72.9365 81.8999 71.2929 83.8907 Q69.6494 85.8582 66.617 86.6221 Z\" fill=\"#000000\" fill-rule=\"evenodd\" fill-opacity=\"1\" /><path clip-path=\"url(#clip000)\" d=\"M95.4595 74.7703 L83.654 93.2193 L95.4595 93.2193 L95.4595 74.7703 M94.2326 70.6963 L100.112 70.6963 L100.112 93.2193 L105.043 93.2193 L105.043 97.1082 L100.112 97.1082 L100.112 105.256 L95.4595 105.256 L95.4595 97.1082 L79.8577 97.1082 L79.8577 92.5943 L94.2326 70.6963 Z\" fill=\"#000000\" fill-rule=\"evenodd\" fill-opacity=\"1\" /><circle clip-path=\"url(#clip002)\" cx=\"203.638\" cy=\"87.9763\" r=\"10\" fill=\"#add8e6\" fill-rule=\"evenodd\" fill-opacity=\"1\" stroke=\"#000000\" stroke-opacity=\"1\" stroke-width=\"3.2\"/>\n",
       "<circle clip-path=\"url(#clip002)\" cx=\"1455.55\" cy=\"691.416\" r=\"10\" fill=\"#add8e6\" fill-rule=\"evenodd\" fill-opacity=\"1\" stroke=\"#000000\" stroke-opacity=\"1\" stroke-width=\"3.2\"/>\n",
       "<circle clip-path=\"url(#clip002)\" cx=\"2290.16\" cy=\"1445.72\" r=\"10\" fill=\"#add8e6\" fill-rule=\"evenodd\" fill-opacity=\"1\" stroke=\"#000000\" stroke-opacity=\"1\" stroke-width=\"3.2\"/>\n",
       "<polyline clip-path=\"url(#clip002)\" style=\"stroke:#e26f46; stroke-linecap:butt; stroke-linejoin:round; stroke-width:4; stroke-opacity:1; fill:none\" points=\"\n",
       "  203.638,87.9763 224.015,106.571 412.426,270.935 525.653,363.436 621.385,438.176 725.377,515.922 821.249,584.553 924.033,655.03 1043.12,732.849 1148.95,798.709 \n",
       "  1241.75,854.025 1342.93,911.849 1444.71,967.511 1557.24,1026.26 1664.32,1079.55 1775.64,1132.4 1869.36,1174.95 1983.78,1224.61 2091.33,1269.09 2263.64,1336.16 \n",
       "  2290.16,1346.05 \n",
       "  \"/>\n",
       "</svg>\n"
      ]
     },
     "execution_count": 27,
     "metadata": {},
     "output_type": "execute_result"
    }
   ],
   "source": [
    "c2=c_barra[2]\n",
    "exponencial(x)=14*exp(c2*x)+20\n",
    "scatter(x, y, c=:lightblue, ms=3, leg=false)\n",
    "plot!(exponencial)"
   ]
  },
  {
   "cell_type": "markdown",
   "id": "ac5edbdb-dc60-4b9d-a519-46a90d1d8f32",
   "metadata": {},
   "source": [
    "Agora, resolvemos a equação:\n",
    "\n",
    "> $$37 = 14*e^{0.0060367782311465*x}+20$$  \n",
    "$$x = -32.16219099108466$$"
   ]
  },
  {
   "cell_type": "code",
   "execution_count": 28,
   "id": "4816602d-df9b-40b3-bb67-1a38c76cff51",
   "metadata": {},
   "outputs": [
    {
     "data": {
      "text/plain": [
       "9.7314594650796"
      ]
     },
     "execution_count": 28,
     "metadata": {},
     "output_type": "execute_result"
    }
   ],
   "source": [
    "# Determinando os segundos\n",
    "0.16219099108466*60"
   ]
  },
  {
   "cell_type": "markdown",
   "id": "d2d711f6-990c-4014-aee1-0418a13aca2d",
   "metadata": {},
   "source": [
    "Concluímos então que o horário do assassinato foi 14h23m50s."
   ]
  }
 ],
 "metadata": {
  "kernelspec": {
   "display_name": "Julia 1.6.4",
   "language": "julia",
   "name": "julia-1.6"
  },
  "language_info": {
   "file_extension": ".jl",
   "mimetype": "application/julia",
   "name": "julia",
   "version": "1.6.4"
  }
 },
 "nbformat": 4,
 "nbformat_minor": 5
}

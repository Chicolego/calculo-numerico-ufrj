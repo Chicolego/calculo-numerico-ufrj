{
 "cells": [
  {
   "cell_type": "markdown",
   "id": "14da0346-2e01-4453-846d-91d403501f86",
   "metadata": {},
   "source": [
    "# Tarefa 6 - Francisco José Santos de Oliveira - 119150156"
   ]
  },
  {
   "cell_type": "markdown",
   "id": "9b7819bc-cabb-4f45-ac6b-aaab6148ea11",
   "metadata": {},
   "source": [
    "## Questões 1 e 3 Feitas com Gabriele Jandres e Victor Cardoso"
   ]
  },
  {
   "cell_type": "markdown",
   "id": "2ff54fc2-bb42-407b-b87a-fff23e5e30e0",
   "metadata": {
    "jp-MarkdownHeadingCollapsed": true,
    "tags": []
   },
   "source": [
    "## Importações"
   ]
  },
  {
   "cell_type": "code",
   "execution_count": 10,
   "id": "5ff2375d-a195-40f5-a54b-4de1364d43b0",
   "metadata": {},
   "outputs": [],
   "source": [
    "using LinearAlgebra\n",
    "using Plots\n",
    "using Polynomials"
   ]
  },
  {
   "cell_type": "code",
   "execution_count": 69,
   "id": "f862263c-9b22-4117-8ec5-bcab55fcc8d6",
   "metadata": {},
   "outputs": [
    {
     "data": {
      "text/plain": [
       "vandermonde (generic function with 1 method)"
      ]
     },
     "execution_count": 69,
     "metadata": {},
     "output_type": "execute_result"
    }
   ],
   "source": [
    "#Funções trabalhadas em aula\n",
    "\n",
    "function criação_da_matriz(n)\n",
    "    A=zeros(n,n)\n",
    "    \n",
    "    #\"manual\"\n",
    "    A[1,1]=-2\n",
    "    A[1,2]=1\n",
    "    A[n,n-1]=1\n",
    "    A[n,n]=-2\n",
    "    \n",
    "    #tridiagonal\n",
    "    for i= 2:(n-1)\n",
    "        A[i,i]=-2\n",
    "        A[i,i+1]=1\n",
    "        A[i,i-1]=1\n",
    "    end\n",
    "    return A\n",
    "end\n",
    "\n",
    "function diferenças_finitas(n,sd,y_inicial,y_final,x_inicial,x_final)\n",
    "    h=(x_final-x_inicial)/(n-1)\n",
    "    \n",
    "    A=criação_da_matriz(n-2)\n",
    "    \n",
    "    \n",
    "    b=zeros(n-2)\n",
    "    b[1]=sd[1]*2*h^2-y_inicial\n",
    "    \n",
    "    b[n-2]=sd[n-2]*2*h^2-y_final\n",
    "    \n",
    "    for i=2:(n-3) #no meio\n",
    "        b[i]=sd[i]*2*h^2\n",
    "    end\n",
    "    \n",
    "    y_meio=A\\b\n",
    "    return y_meio  #valores da função no \"meio\"\n",
    "end\n",
    "\n",
    "# Função de Vandermonde e Regressão da Tarefa Passada:\n",
    "\n",
    "function vandermonde(x,y,grau)\n",
    "    n,=size(y)\n",
    "    V=zeros(n,grau+1)\n",
    "    for i=1:n #linhas\n",
    "        for j=1:(grau+1)\n",
    "            V[i,j]=x[i]^(j-1)\n",
    "        end\n",
    "    end\n",
    "    return V\n",
    "end"
   ]
  },
  {
   "cell_type": "markdown",
   "id": "428cbe0b-3882-4d28-8a46-01f8b3db8d8f",
   "metadata": {
    "tags": []
   },
   "source": [
    "## Questão 1"
   ]
  },
  {
   "cell_type": "markdown",
   "id": "588eeebd-f4a3-4479-9397-7e9f9c68f708",
   "metadata": {
    "tags": []
   },
   "source": [
    "### Funções da Biblioteca"
   ]
  },
  {
   "cell_type": "markdown",
   "id": "5e2b2f50-d050-44e0-80b8-c82f9ff8f470",
   "metadata": {
    "jp-MarkdownHeadingCollapsed": true,
    "tags": []
   },
   "source": [
    "#### i. Diagonal"
   ]
  },
  {
   "cell_type": "code",
   "execution_count": 12,
   "id": "df0b2845-8212-419a-8cbf-47c1e2bd794a",
   "metadata": {},
   "outputs": [
    {
     "data": {
      "text/plain": [
       "resolve_diagonal (generic function with 1 method)"
      ]
     },
     "execution_count": 12,
     "metadata": {},
     "output_type": "execute_result"
    }
   ],
   "source": [
    "# Função para resolver um sistema diagonal\n",
    "\n",
    "# -- Parâmetros --\n",
    "# A: matriz diagonal n x n\n",
    "# b: matriz coluna de resultados\n",
    "\n",
    "# -- Retorno --\n",
    "# x: x tal que Ax = b\n",
    "\n",
    "function resolve_diagonal(A, b) \n",
    "    n, = size(A) # dimensão da matriz A\n",
    "    x = zeros(n, 1) # criamos uma matriz coluna n x 1\n",
    "    \n",
    "    for i = 1:n\n",
    "        x[i] = b[i] / A[i, i] # elemento da matriz de resultados dividido pela posição correspondente na diagonal\n",
    "    end\n",
    "    \n",
    "    return x\n",
    "end"
   ]
  },
  {
   "cell_type": "markdown",
   "id": "8e1272f7-cabb-42a6-9a63-6ccb91e56750",
   "metadata": {
    "jp-MarkdownHeadingCollapsed": true,
    "tags": []
   },
   "source": [
    "#### ii. Triangular Superior"
   ]
  },
  {
   "cell_type": "code",
   "execution_count": 13,
   "id": "b4af0704-4925-4b36-8de5-ccaae1a4c71d",
   "metadata": {},
   "outputs": [
    {
     "data": {
      "text/plain": [
       "resolve_triangular_superior (generic function with 1 method)"
      ]
     },
     "execution_count": 13,
     "metadata": {},
     "output_type": "execute_result"
    }
   ],
   "source": [
    "# Função para resolver um sistema triangular superior n x n por susbtituição reversa\n",
    "\n",
    "# -- Parâmetros --\n",
    "# U: matriz triangular onde os elementos da diagonal são diferentes de zero\n",
    "# b: matriz coluna de resultados\n",
    "\n",
    "# -- Retorno --\n",
    "# x: x tal que Ux = b\n",
    "\n",
    "function resolve_triangular_superior(U, b)     \n",
    "    n, = size(U) # dimensão da matriz U\n",
    "    x = zeros(n, 1) # criamos uma matriz coluna n x 1\n",
    "    \n",
    "    # resolução do sistema por substituição reversa\n",
    "    for i = reverse(1:n)\n",
    "        x[i] = b[i]\n",
    "        for j = reverse(i + 1:n)\n",
    "            x[i] -= U[i, j] * x[j]\n",
    "        end\n",
    "        x[i] /= U[i, i]\n",
    "    end\n",
    "    \n",
    "    return x \n",
    "end"
   ]
  },
  {
   "cell_type": "markdown",
   "id": "f5778a6e-10ac-4be0-a813-7a8cca3d8515",
   "metadata": {
    "jp-MarkdownHeadingCollapsed": true,
    "tags": []
   },
   "source": [
    "#### iii. Triangular Inferior"
   ]
  },
  {
   "cell_type": "code",
   "execution_count": 14,
   "id": "0cac9e6b-bf26-4139-b7c3-b483d1fc99e1",
   "metadata": {},
   "outputs": [
    {
     "data": {
      "text/plain": [
       "resolve_triangular_inferior (generic function with 1 method)"
      ]
     },
     "execution_count": 14,
     "metadata": {},
     "output_type": "execute_result"
    }
   ],
   "source": [
    "# Função para resolver um sistema triangular inferior n x n por substituição direta\n",
    "\n",
    "# -- Parâmetros --\n",
    "# L: matriz triangular onde os elementos da diagonal são diferentes de zero\n",
    "# b: matriz coluna de resultados\n",
    "\n",
    "# -- Retorno --\n",
    "# x: x tal que Lx = b\n",
    "\n",
    "function resolve_triangular_inferior(L, b)\n",
    "    n, = size(A) # dimensão da matriz L\n",
    "    x = zeros(n, 1) # criamos uma matriz coluna n x 1\n",
    "    \n",
    "    # resolução do sistema por substituição direta\n",
    "    for i = 1:n\n",
    "        x[i] = b[i]\n",
    "        for j = 1:i - 1\n",
    "            x[i] -= L[i, j] * x[j]\n",
    "        end\n",
    "        x[i] /= L[i, i]\n",
    "    end\n",
    "    \n",
    "    return x\n",
    "end"
   ]
  },
  {
   "cell_type": "markdown",
   "id": "9ce931e0-5ed2-41f3-b619-64527a90579f",
   "metadata": {
    "jp-MarkdownHeadingCollapsed": true,
    "tags": []
   },
   "source": [
    "#### iv. Decomposição LU"
   ]
  },
  {
   "cell_type": "code",
   "execution_count": 15,
   "id": "77664adf-234f-446a-b8cb-e32f777b2e82",
   "metadata": {},
   "outputs": [
    {
     "data": {
      "text/plain": [
       "decomposicao_lu (generic function with 1 method)"
      ]
     },
     "execution_count": 15,
     "metadata": {},
     "output_type": "execute_result"
    }
   ],
   "source": [
    "# Função para decompor a matriz densa A em uma multiplicação de matrizes triangulares n x n\n",
    "\n",
    "# -- Parâmetros --\n",
    "# A: matriz densa n X n\n",
    "\n",
    "# -- Retorno --\n",
    "# L, U: matrizes triangulares L e U tal que A = L * U\n",
    "\n",
    "function decomposicao_lu(A)\n",
    "    n, = size(A) # dimensão da matriz A\n",
    "    L = Matrix{Float64}(I, n, n) # L inicialmente eh uma matriz identidade n x n\n",
    "    U = copy(A) # inicialmente criamos a matriz U como uma cópia da matriz densa A\n",
    "\n",
    "    # percorremos a matriz U e L para preenche-las\n",
    "    for i = 1:n \n",
    "        for j = i+1:n\n",
    "            k = U[j, i] / U[i, i]\n",
    "            L[j, i] = k\n",
    "            U[j, :] -= k * U[i, :]\n",
    "        end\n",
    "    end\n",
    "    \n",
    "    return L, U  \n",
    "end"
   ]
  },
  {
   "cell_type": "markdown",
   "id": "5e642288-fdd7-4db5-92b8-58826bae68bf",
   "metadata": {
    "tags": []
   },
   "source": [
    "#### v. Inversa"
   ]
  },
  {
   "cell_type": "code",
   "execution_count": 16,
   "id": "c0d4030c-8cac-4a5d-9a82-d7a4046f881c",
   "metadata": {},
   "outputs": [
    {
     "data": {
      "text/plain": [
       "calcula_inversa (generic function with 1 method)"
      ]
     },
     "execution_count": 16,
     "metadata": {},
     "output_type": "execute_result"
    }
   ],
   "source": [
    "# Função para achar a inversa de uma matriz n x n usando LU\n",
    "\n",
    "# -- Parâmetros --\n",
    "# A: matriz n x n\n",
    "\n",
    "# -- Retorno --\n",
    "# inv: matriz inversa de A\n",
    "\n",
    "function calcula_inversa(A)  \n",
    "    n, = size(A) # dimensão da matriz A\n",
    "    inv = zeros(n, n) # criamos uma matriz n X n para ser a inversa\n",
    "    L, U = decomposicao_lu(A) # decompomos a matriz A na multiplicação de duas triangulares (uma inferior e outra superior)\n",
    "    \n",
    "    for i = 1:n\n",
    "        # criamos uma vetor com a posição y[i] sendo 1 para que a junção de todos os y's em uma matriz corresponda à matriz identidade\n",
    "        id = zeros(n)\n",
    "        id[i] = 1\n",
    "        \n",
    "        # fazemos com que cada multiplicação seja igual a uma linha da identidade, pois sabemos que A * inv = I\n",
    "        y = resolve_triangular_inferior(L, id) # resolvemos o sistema triangular inferior e obtemos y tal que Ly = b\n",
    "        x = resolve_triangular_superior(U, y) # resolvemos o sistema triangular superior e obtemos x tal que Ux = y -> L(Ux) = b\n",
    "        \n",
    "        # formatamos o resultado na matriz inversa\n",
    "        for j = 1:n\n",
    "            inv[j, i] = x[j]\n",
    "        end\n",
    "    end\n",
    "    \n",
    "    return inv\n",
    "\n",
    "end"
   ]
  },
  {
   "cell_type": "markdown",
   "id": "7c14af3c-ebf0-4abe-933f-6e3218edf9d2",
   "metadata": {
    "jp-MarkdownHeadingCollapsed": true,
    "tags": []
   },
   "source": [
    "#### Complexidade"
   ]
  },
  {
   "cell_type": "markdown",
   "id": "17581af7-2794-460c-8de7-c8e0cd691cb5",
   "metadata": {},
   "source": [
    "Sabemos que em um loop a complexidade é o tamanho do loop * a complexidade do que tiver dentro do loop. Por isso, o algoritmo escrito acima na função $\\textit{calcula_inversa}$ tem complexidade cúbica $O(n^3)$, devido à etapa das resoluções dos sistemas triangulares superior e inferior de complexidade quadrática dentro do loop de tamanho $n$."
   ]
  },
  {
   "cell_type": "markdown",
   "id": "97f45729-c859-4a97-92b7-ce2d8a03c42f",
   "metadata": {},
   "source": [
    "#### Exemplos de uso das funções da biblioteca"
   ]
  },
  {
   "cell_type": "code",
   "execution_count": 17,
   "id": "32f3787a-850b-42b2-b426-47349e05145c",
   "metadata": {},
   "outputs": [
    {
     "data": {
      "text/plain": [
       "confere_matriz (generic function with 1 method)"
      ]
     },
     "execution_count": 17,
     "metadata": {},
     "output_type": "execute_result"
    }
   ],
   "source": [
    "# Função para conferir a matriz encontrada como solução de sistemas lineares\n",
    "\n",
    "# -- Parâmetros --\n",
    "# A: matriz original\n",
    "# b: matriz coluna de resultados\n",
    "# x: resultado do sistema que encontramos\n",
    "\n",
    "# -- Retorno --\n",
    "# Imprime uma mensagem indicando se a matriz calculada está correta ou não\n",
    "\n",
    "function confere_matriz(A, b, x) \n",
    "    n, = size(x) # dimensão da matriz x\n",
    "    \n",
    "    x_check = A \\ b # resolvemos o sistema com o Julia para conferir nossos resultados\n",
    "    \n",
    "    erro = 0.00001 # definimos um erro máximo \n",
    "    \n",
    "    println(\"Matriz encontrada\")\n",
    "    \n",
    "    for i = 1:n \n",
    "        println(x[i, 1]) # exibimos os valores de cada posição\n",
    "        \n",
    "        if x[i, 1] - x_check[i, 1] > erro\n",
    "            print(\"O valor da posição \", i, \", 1 está incorreto\")\n",
    "        end\n",
    "        \n",
    "    end\n",
    "        \n",
    "    print(\"O resultado do sistema está correto!\")\n",
    "end"
   ]
  },
  {
   "cell_type": "markdown",
   "id": "7d50a9b5-62aa-4a15-aee2-1adf9b97b534",
   "metadata": {},
   "source": [
    "##### i. Diagonal"
   ]
  },
  {
   "cell_type": "code",
   "execution_count": 18,
   "id": "f854a0c1-372a-4ba3-8519-33423b93146c",
   "metadata": {},
   "outputs": [
    {
     "name": "stdout",
     "output_type": "stream",
     "text": [
      "Matriz encontrada\n",
      "4.0\n",
      "2.5\n",
      "2.0\n",
      "O resultado do sistema está correto!"
     ]
    }
   ],
   "source": [
    "# -- Exemplo 1 --\n",
    "\n",
    "A = [1 0 0; 0 2 0; 0 0 3]\n",
    "b = [4; 5; 6]\n",
    "\n",
    "x = resolve_diagonal(A, b)\n",
    "\n",
    "confere_matriz(A, b, x)"
   ]
  },
  {
   "cell_type": "code",
   "execution_count": 19,
   "id": "1e957026-ae22-4d67-b6ee-dea056ffd338",
   "metadata": {},
   "outputs": [
    {
     "name": "stdout",
     "output_type": "stream",
     "text": [
      "Matriz encontrada\n",
      "28.91176470588235\n",
      "0.03\n",
      "0.2774566473988439\n",
      "O resultado do sistema está correto!"
     ]
    }
   ],
   "source": [
    "# -- Exemplo 2 --\n",
    "\n",
    "A = [34 0 0; 0 500 0; 0 0 346]\n",
    "b = [983; 15; 96]\n",
    "\n",
    "x = resolve_diagonal(A, b)\n",
    "\n",
    "confere_matriz(A, b, x)"
   ]
  },
  {
   "cell_type": "code",
   "execution_count": 20,
   "id": "5110acc9-acc3-4707-af3d-4d10e334915e",
   "metadata": {},
   "outputs": [
    {
     "name": "stdout",
     "output_type": "stream",
     "text": [
      "Matriz encontrada\n",
      "-0.057692307692307696\n",
      "0.05102040816326531\n",
      "-0.00909090909090909\n",
      "0.039792387543252594\n",
      "O resultado do sistema está correto!"
     ]
    }
   ],
   "source": [
    "# -- Exemplo 3 --\n",
    "\n",
    "A = [-156 0 0 0; 0 98 0 0; 0 0 770 0; 0 0 0 578]\n",
    "b = [9; 5; -7; 23]\n",
    "\n",
    "x = resolve_diagonal(A, b)\n",
    "\n",
    "confere_matriz(A, b, x)"
   ]
  },
  {
   "cell_type": "markdown",
   "id": "98b596f6-ed0d-4d03-b18c-c5ca5aac14fc",
   "metadata": {},
   "source": [
    "##### ii. Triangular superior"
   ]
  },
  {
   "cell_type": "code",
   "execution_count": 21,
   "id": "4db7de4d-5ca2-4d2a-b59e-9097971b94a2",
   "metadata": {},
   "outputs": [
    {
     "name": "stdout",
     "output_type": "stream",
     "text": [
      "Matriz encontrada\n",
      "2.25\n",
      "0.125\n",
      "1.5\n",
      "O resultado do sistema está correto!"
     ]
    }
   ],
   "source": [
    "# -- Exemplo 1 --\n",
    "\n",
    "A = [1 2 3; 0 4 5; 0 0 6]\n",
    "b = [7; 8; 9]\n",
    "\n",
    "x = resolve_triangular_superior(A, b)\n",
    "\n",
    "confere_matriz(A, b, x)"
   ]
  },
  {
   "cell_type": "code",
   "execution_count": 22,
   "id": "8527da00-1bc1-482c-b2aa-0e4424b4b9a0",
   "metadata": {},
   "outputs": [
    {
     "name": "stdout",
     "output_type": "stream",
     "text": [
      "Matriz encontrada\n",
      "-7.4517372723894475\n",
      "-7.231763285024155\n",
      "-2.25\n",
      "1.488888888888889\n",
      "O resultado do sistema está correto!"
     ]
    }
   ],
   "source": [
    "# -- Exemplo 2 --\n",
    "\n",
    "A = [13 -21 35 67; 0 46 -75 98; 0 0 68 90; 0 0 0 45]\n",
    "b = [76; -18; -19; 67]\n",
    "\n",
    "x = resolve_triangular_superior(A, b)\n",
    "\n",
    "confere_matriz(A, b, x)"
   ]
  },
  {
   "cell_type": "code",
   "execution_count": 23,
   "id": "6e8306de-c812-4091-b43c-8803ff35338c",
   "metadata": {},
   "outputs": [
    {
     "name": "stdout",
     "output_type": "stream",
     "text": [
      "Matriz encontrada\n",
      "1.3428623386070193\n",
      "-0.382051282051282\n",
      "0.6410256410256411\n",
      "1.5555555555555556\n",
      "O resultado do sistema está correto!"
     ]
    }
   ],
   "source": [
    "# -- Exemplo 3 --\n",
    "\n",
    "A = [47 86 69 -43; 0 4 -5 2.4; 0 0 7.8 -9; 0 0 0 4.5]\n",
    "b = [7.6; -1; -9; 7]\n",
    "\n",
    "x = resolve_triangular_superior(A, b)\n",
    "\n",
    "confere_matriz(A, b, x)"
   ]
  },
  {
   "cell_type": "markdown",
   "id": "c01486c1-02b6-4276-b0bd-61d654b6f9f3",
   "metadata": {},
   "source": [
    "##### iii. Triangular inferior"
   ]
  },
  {
   "cell_type": "code",
   "execution_count": 24,
   "id": "843c2918-e985-4526-a77f-8fc677cd8de4",
   "metadata": {},
   "outputs": [
    {
     "name": "stdout",
     "output_type": "stream",
     "text": [
      "Matriz encontrada\n",
      "1.0\n",
      "0.0\n",
      "-1.0\n",
      "O resultado do sistema está correto!"
     ]
    }
   ],
   "source": [
    "# -- Exemplo 1 --\n",
    "\n",
    "A = [3 0 0; 4 5 0; 7 10 2]\n",
    "b = [3; 4; 5]\n",
    "\n",
    "x = resolve_triangular_inferior(A, b)\n",
    "\n",
    "confere_matriz(A, b, x)"
   ]
  },
  {
   "cell_type": "code",
   "execution_count": 25,
   "id": "46035217-34c1-44f8-b3cb-5f5c7e739b36",
   "metadata": {},
   "outputs": [
    {
     "name": "stdout",
     "output_type": "stream",
     "text": [
      "Matriz encontrada\n",
      "0.9333333333333332\n",
      "-0.5148148148148146\n",
      "1.104629629629627\n",
      "O resultado do sistema está correto!"
     ]
    }
   ],
   "source": [
    "# -- Exemplo 2 --\n",
    "\n",
    "A = [6 0 0; 7.8 5.4 0; 74 150 12]\n",
    "b = [5.6; 4.5; 5.1]\n",
    "\n",
    "x = resolve_triangular_inferior(A, b)\n",
    "\n",
    "confere_matriz(A, b, x)"
   ]
  },
  {
   "cell_type": "code",
   "execution_count": 26,
   "id": "b91c1c01-64a0-435d-b684-35f03a4a39b2",
   "metadata": {},
   "outputs": [
    {
     "name": "stdout",
     "output_type": "stream",
     "text": [
      "Matriz encontrada\n",
      "-3.72\n",
      "-4.010566037735849\n",
      "-8.961166380789024\n",
      "9.66955886880415\n",
      "O resultado do sistema está correto!"
     ]
    }
   ],
   "source": [
    "# -- Exemplo 3 --\n",
    "\n",
    "A = [-25 0 0 0; 48 -53 0 0; 57 10 -22 0; 43 65 -12 39]\n",
    "b = [93; 34; -55; 64]\n",
    "\n",
    "x = resolve_triangular_inferior(A, b)\n",
    "\n",
    "confere_matriz(A, b, x)"
   ]
  },
  {
   "cell_type": "markdown",
   "id": "344bbbf7-1afd-4528-aa72-c7a3a14f659e",
   "metadata": {},
   "source": [
    "##### iv. Decomposição LU"
   ]
  },
  {
   "cell_type": "code",
   "execution_count": 27,
   "id": "738d8d40-b6a2-43d1-92ce-8b3850812834",
   "metadata": {},
   "outputs": [
    {
     "name": "stdout",
     "output_type": "stream",
     "text": [
      "L = [1.0 0.0 0.0; 4.0 1.0 0.0; 7.0 2.0 1.0]\n",
      "U = [1 2 3; 0 -3 -6; 0 0 0]\n",
      "A decomposição está correta\n"
     ]
    }
   ],
   "source": [
    "# -- Exemplo 1 --\n",
    "\n",
    "A = [1 2 3; 4 5 6; 7 8 9]\n",
    "\n",
    "L, U = decomposicao_lu(A)\n",
    "\n",
    "println(\"L = \", L)\n",
    "println(\"U = \", U)\n",
    "\n",
    "norm(L * U - A) < 0.0001 ? println(\"A decomposição está correta\") : println(\"A decomposição está incorreta\") "
   ]
  },
  {
   "cell_type": "code",
   "execution_count": 28,
   "id": "c560bc27-879d-46f6-b5bc-a6095140c916",
   "metadata": {},
   "outputs": [
    {
     "name": "stdout",
     "output_type": "stream",
     "text": [
      "L = [1.0 0.0 0.0; 2.6875 1.0 0.0; 36.0625 8.104724792985873 1.0]\n",
      "U = [16.0 -31.0 84.0; 0.0 128.3125 -311.75; 0.0 0.0 -483.6020457866539]\n",
      "A decomposição está correta\n"
     ]
    }
   ],
   "source": [
    "# -- Exemplo 2 --\n",
    "\n",
    "A = Float64[16 -31 84; 43 45 -86; 577 -78 19]\n",
    "\n",
    "L, U = decomposicao_lu(A)\n",
    "\n",
    "println(\"L = \", L)\n",
    "println(\"U = \", U)\n",
    "\n",
    "norm(L * U - A) < 0.0001 ? println(\"A decomposição está correta\") : println(\"A decomposição está incorreta\") "
   ]
  },
  {
   "cell_type": "code",
   "execution_count": 29,
   "id": "fa19f3ef-7349-448f-9a09-8387b4ece6f7",
   "metadata": {},
   "outputs": [
    {
     "name": "stdout",
     "output_type": "stream",
     "text": [
      "L = [1.0 0.0 0.0; 0.323943661971831 1.0 0.0; 0.5633802816901409 1.7765092544542467 1.0]\n",
      "U = [14.2 93.0 4.5; 0.0 -24.426760563380284 6.54225352112676; 0.0 0.0 -12.857585192873204]\n",
      "A decomposição está correta\n"
     ]
    }
   ],
   "source": [
    "# -- Exemplo 3 --\n",
    "\n",
    "A = Float64[14.2 93 4.5; 4.6 5.7 8; 8 9 1.3]\n",
    "\n",
    "L, U = decomposicao_lu(A)\n",
    "\n",
    "println(\"L = \", L)\n",
    "println(\"U = \", U)\n",
    "\n",
    "norm(L * U - A) < 0.0001 ? println(\"A decomposição está correta\") : println(\"A decomposição está incorreta\") "
   ]
  },
  {
   "cell_type": "markdown",
   "id": "943d8315-676b-4bc2-b898-a0b5e2901715",
   "metadata": {},
   "source": [
    "##### v. Inversa"
   ]
  },
  {
   "cell_type": "code",
   "execution_count": 30,
   "id": "526d8603-c89f-4b68-b35c-774c180d3df5",
   "metadata": {},
   "outputs": [
    {
     "name": "stdout",
     "output_type": "stream",
     "text": [
      "inv = [1.0 -0.5 -0.08333333333333337; 0.0 0.25 -0.20833333333333331; 0.0 0.0 0.16666666666666666]\n",
      "A inversa encontrada está correta\n"
     ]
    }
   ],
   "source": [
    "# -- Exemplo 1 --\n",
    "\n",
    "A = [1 2 3; 0 4 5; 0 0 6]\n",
    "\n",
    "A_inv = calcula_inversa(A)\n",
    "\n",
    "println(\"inv = \", A_inv)\n",
    "\n",
    "norm(A * A_inv - I) < 0.0001 ? println(\"A inversa encontrada está correta\") : println(\"A inversa encontrada está incorreta\") "
   ]
  },
  {
   "cell_type": "code",
   "execution_count": 31,
   "id": "1484ec2b-6af1-46bd-bc3a-641834454a56",
   "metadata": {},
   "outputs": [
    {
     "name": "stdout",
     "output_type": "stream",
     "text": [
      "inv = [-0.015016194668993807 -0.005214281238220727 0.12946849872659288; 0.013557131219374862 -0.015535284550108067 0.004568926250889699; -0.001449710478787885 0.13963985450518565 -0.05912948159288572]\n",
      "A inversa encontrada está correta\n"
     ]
    }
   ],
   "source": [
    "# -- Exemplo 2 --\n",
    "\n",
    "A = Float64[1.2 76 8.5; 3.4 4.6 7.8; 8 9 1.3]\n",
    "\n",
    "A_inv = calcula_inversa(A)\n",
    "\n",
    "println(\"inv = \", A_inv)\n",
    "\n",
    "norm(A * A_inv - I) < 0.0001 ? println(\"A inversa encontrada está correta\") : println(\"A inversa encontrada está incorreta\") "
   ]
  },
  {
   "cell_type": "code",
   "execution_count": 32,
   "id": "001a55f1-30ee-4cde-8e6b-83e84c8ad871",
   "metadata": {},
   "outputs": [
    {
     "name": "stdout",
     "output_type": "stream",
     "text": [
      "inv = [-0.03312649995647795 0.036776134992974274 -0.0007429836232731069 0.015033760678446634; -0.09365945858565768 -0.004880687399743901 0.00728372648254766 0.019982839876148687; 0.07495741056218032 -0.5749574105621807 0.026831345826235108 0.10562180579216361; 0.19103694400576987 0.1848754647533544 -0.008384212686056783 -0.05629266715577167]\n",
      "A inversa encontrada está correta\n"
     ]
    }
   ],
   "source": [
    "# -- Exemplo 3 --\n",
    "\n",
    "A = [6 -1 2 5; 7.8 5.4 0 4; -74 150 12 56; 57 -8 5 4]\n",
    "\n",
    "A_inv = calcula_inversa(A)\n",
    "\n",
    "println(\"inv = \", A_inv)\n",
    "\n",
    "norm(A * A_inv - I) < 0.0001 ? println(\"A inversa encontrada está correta\") : println(\"A inversa encontrada está incorreta\") "
   ]
  },
  {
   "cell_type": "markdown",
   "id": "76ab3181-04bc-41c4-b12e-7fdf2e2d8bdd",
   "metadata": {
    "jp-MarkdownHeadingCollapsed": true,
    "tags": []
   },
   "source": [
    "## Questão 2"
   ]
  },
  {
   "cell_type": "markdown",
   "id": "1c322a03-b7a8-4047-adcb-48ee9ca1aedf",
   "metadata": {
    "jp-MarkdownHeadingCollapsed": true,
    "tags": []
   },
   "source": [
    "### Item A"
   ]
  },
  {
   "cell_type": "markdown",
   "id": "a08d926a-e593-4e9b-8071-6e6a5f93cfb0",
   "metadata": {},
   "source": [
    "Vamos então montar o sistema linear:\n",
    "\n",
    "$$n = 7$$\n",
    "\n",
    "Consideraremos os pontos equidistantes. Logo,\n",
    "\n",
    "$$h = \\frac{10-0}{6}$$\n",
    "$$h = 1.66666666667$$"
   ]
  },
  {
   "cell_type": "code",
   "execution_count": 71,
   "id": "1ce59ada-d456-4766-aa33-7f64b32e6631",
   "metadata": {},
   "outputs": [
    {
     "name": "stdout",
     "output_type": "stream",
     "text": [
      "x = 0.0\n",
      "y = 0.0\n",
      "x = 1.6666666666666667\n",
      "y = 6.666666666666667\n",
      "x = 3.3333333333333335\n",
      "y = 13.333333333333334\n",
      "x = 5.0\n",
      "y = 20.0\n",
      "x = 6.666666666666667\n",
      "y = 26.666666666666668\n",
      "x = 8.333333333333334\n",
      "y = 33.333333333333336\n"
     ]
    }
   ],
   "source": [
    "for i=0:5\n",
    "    x = (10/6)*i\n",
    "    y = x*4\n",
    "    print(\"x = \")\n",
    "    print(x)\n",
    "    print(\"\\n\")\n",
    "    print(\"y = \")\n",
    "    print(y)\n",
    "    print(\"\\n\")\n",
    "end"
   ]
  },
  {
   "cell_type": "markdown",
   "id": "d436ca80-ace2-4ffd-bb32-8239d26cfcfe",
   "metadata": {},
   "source": [
    "Com isso, obtemos as segundas derivadas do vetor \"sd\":\n",
    "\n",
    "$$y''(0) = 0$$\n",
    "$$y''(\\frac{5}{3}) = \\frac{20}{3}$$\n",
    "$$y''(\\frac{10}{3}) = \\frac{40}{3}$$\n",
    "$$y''(5) = 20$$\n",
    "$$y''(\\frac{20}{3}) = \\frac{80}{3}$$\n",
    "$$y''(\\frac{25}{3}) = \\frac{100}{3}$$\n",
    "$$y''(10) = 40$$\n",
    "\n",
    "Agora, vamos trabalhar com a equação fornecida durante a aula de diferenças finitas:\n",
    "\n",
    "\n",
    "$$y\"(x_k) = \\frac{y(x_{k + 1}) - 2y(x_k) + y(x_{k - 1})}{h^2}$$\n",
    "\n",
    "Desenvolvendo, já que $h = \\frac{5}{3}$ e $y''(x) = 4x$:\n",
    "\n",
    "$$4(x_k) * \\frac{25}{9} = y(x_{k + 1}) - 2y(x_k) + y(x_{k - 1})$$\n",
    "\n",
    "$$(x_k) * \\frac{100}{9} = y(x_{k + 1}) - 2y(x_k) + y(x_{k - 1})$$\n",
    "\n",
    "Como temos 5 pontos de interesse para procura (sabemos $x_1$, $y_1$, $x_7$, $y_7$), nosso sistema será formado da seguinte maneira:\n",
    "\n",
    "$$\\frac{500}{27} = y(x_{3}) - 2y(x_2) + 5$$\n",
    "$$\\frac{1000}{27} = y(x_{4}) - 2y(x_3) + y(x_{2})$$\n",
    "$$\\frac{500}{9} = y(x_{5}) - 2y(x_4) + y(x_{3})$$\n",
    "$$\\frac{2000}{27} = y(x_{6}) - 2y(x_5) + y(x_{4})$$\n",
    "$$\\frac{2500}{27} = 20 - 2y(x_6) + y(x_{5})$$\n",
    "\n",
    "Jogando os números para a esquerda, a equação fica:\n",
    "\n",
    "$$\\frac{365}{27} = y(x_{3}) - 2y(x_2)$$\n",
    "$$\\frac{1000}{27} = y(x_{4}) - 2y(x_3) + y(x_{2})$$\n",
    "$$\\frac{500}{9} = y(x_{5}) - 2y(x_4) + y(x_{3})$$\n",
    "$$\\frac{2000}{27} = y(x_{6}) - 2y(x_5) + y(x_{4})$$\n",
    "$$\\frac{1960}{27} = - 2y(x_6) + y(x_{5})$$\n",
    "\n",
    "Agora, o sistema está finalizado.\n"
   ]
  },
  {
   "cell_type": "markdown",
   "id": "7f109057-19a3-44e3-a176-177a05e8eaac",
   "metadata": {},
   "source": [
    "### Item B"
   ]
  },
  {
   "cell_type": "markdown",
   "id": "cbbe5fcf-9ad9-48cb-8a07-01915210b986",
   "metadata": {},
   "source": [
    "Agora, vamos resolver o sistema, passando todos os argumentos que fomos juntando."
   ]
  },
  {
   "cell_type": "code",
   "execution_count": 79,
   "id": "72d8f972-89a5-45bb-9e11-278390a9d2e7",
   "metadata": {},
   "outputs": [
    {
     "data": {
      "text/plain": [
       "5-element Vector{Float64}:\n",
       " -208.5493827160494\n",
       " -385.0617283950617\n",
       " -487.50000000000006\n",
       " -478.82716049382725\n",
       " -322.0061728395063"
      ]
     },
     "execution_count": 79,
     "metadata": {},
     "output_type": "execute_result"
    }
   ],
   "source": [
    "# Introdução dos valores\n",
    "n = 7\n",
    "y_inicial=5\n",
    "y_final=20\n",
    "x_inicial=0\n",
    "x_final=10\n",
    "h=(x_final-x_inicial)/(n-1)\n",
    "# Valores da segunda derivada\n",
    "sd = [4x for x = x_inicial+h:h:x_final-h]\n",
    "x=zeros(n,1)\n",
    "for i=1:n\n",
    "    x[i]=x_inicial+h*(i-1)\n",
    "end\n",
    "# Resultado da função \"diferenças_finitas\"\n",
    "y_meio=diferenças_finitas(n,sd,y_inicial,y_final,x_inicial, x_final)"
   ]
  },
  {
   "cell_type": "markdown",
   "id": "b2cb9b6e-94c1-49f8-882b-a08334858f54",
   "metadata": {},
   "source": [
    "### Item C"
   ]
  },
  {
   "cell_type": "markdown",
   "id": "3f4dc433-e501-4731-9dfc-66875649e2b7",
   "metadata": {},
   "source": [
    "Por fim, realizaremos a interpolação polinomial para obter o valor pedido. Iremos colocar em um vetor todos os valores de x e y, realizar a operação de interpolar, transformar o resultado da operação em um Polinômio e, por fim, colocar o valor pedido como o parâmetro."
   ]
  },
  {
   "cell_type": "code",
   "execution_count": 77,
   "id": "cc1514d0-5863-456e-96f5-91de6162b5a3",
   "metadata": {},
   "outputs": [
    {
     "data": {
      "text/plain": [
       "-376.2958400485001"
      ]
     },
     "execution_count": 77,
     "metadata": {},
     "output_type": "execute_result"
    }
   ],
   "source": [
    "# Inserindo os dados encontrados. y_meio contém o que obtivemos no item anterior\n",
    "x = [0, 5/3, 10/3, 5, 20/3, 25/3, 10]\n",
    "y = [5;y_meio;20]\n",
    "\n",
    "# Vandermonde grau 3\n",
    "V = vandermonde(x,y,3)\n",
    "# Resolução do sistema\n",
    "c = Polynomial(V\\y)\n",
    "# Por fim, rodamos para a obtenção do resultado final\n",
    "c(3.2345)"
   ]
  },
  {
   "cell_type": "markdown",
   "id": "6c3df2b2-3922-4c47-8b9c-47fabe34446d",
   "metadata": {
    "jp-MarkdownHeadingCollapsed": true,
    "tags": []
   },
   "source": [
    "## Questão 3"
   ]
  },
  {
   "cell_type": "markdown",
   "id": "4919427d-22b5-40c1-a4b4-a557fd5ed183",
   "metadata": {
    "jp-MarkdownHeadingCollapsed": true,
    "tags": []
   },
   "source": [
    "#### a. Sistema linear"
   ]
  },
  {
   "cell_type": "markdown",
   "id": "35620918-9bba-44ce-b900-9d9821ae6f47",
   "metadata": {},
   "source": [
    "Queremos descobrir a temperatura em diferentes lugares no interior de um lago (vértices $x_1, x_2, x_3$ e $x_4$). Para isso, primeiramente vamos modelar o problema das temperaturas como um sistema linear $Ax = b$.\n",
    "\n",
    "Como sabemos as temperaturas nas margens e também que quando o calor está em equilíbrio, a temperatura em cada vértice no interior do lago é a média das temperaturas dos 4 vértices vizinhos, podemos modelar o sistema da seguinte forma:\n",
    "\n",
    "$$\n",
    "\\begin{cases}\n",
    "    x_1 = (15 + 5 + x_2 + x_3) / 4 \\\\\n",
    "    x_2 = (15 + 35 + x_1 + x_4) / 4 \\\\\n",
    "    x_3 = (5 + 10 + x_1 + x_4) / 4 \\\\\n",
    "    x_4 = (10 + 35 + x_2 + x_3) / 4 \n",
    "\\end{cases}\n",
    "$$\n",
    "\n",
    "$$\n",
    "\\begin{cases}\n",
    "    x_1 - x_2/4 - x_3/4 = 20 / 4 \\\\\n",
    "    x_2 - x_1/4 - x_4/4 = 50 / 4 \\\\\n",
    "    x_3 - x_1/4 - x_4/4 = 15 / 4 \\\\\n",
    "    x_4 - x_2/4 - x_3/4 = 45 / 4 \n",
    "\\end{cases}\n",
    "$$\n",
    "\n",
    "E passando esse sistema para a forma matricial temos:\n",
    "\n",
    "$$\n",
    "\\begin{bmatrix}\n",
    "        1 & -\\frac{1}{4} & -\\frac{1}{4} & 0 \\\\\n",
    "        -\\frac{1}{4} & 1 & 0 & -\\frac{1}{4} \\\\\n",
    "        -\\frac{1}{4} & 0 & 1 & -\\frac{1}{4} \\\\\n",
    "        0 & -\\frac{1}{4} & -\\frac{1}{4} & 1 \\\\\n",
    "\\end{bmatrix}  \n",
    "\\begin{bmatrix}\n",
    "        x_1 \\\\\n",
    "        x_2 \\\\\n",
    "        x_3 \\\\\n",
    "        x_4 \n",
    "\\end{bmatrix} =\n",
    "\\begin{bmatrix}\n",
    "        20/4 \\\\\n",
    "        50/4 \\\\\n",
    "        15/4 \\\\\n",
    "        45/4\n",
    "\\end{bmatrix}\n",
    "$$"
   ]
  },
  {
   "cell_type": "markdown",
   "id": "fad80d8e-f578-4516-ac38-3bd0f31d499b",
   "metadata": {
    "jp-MarkdownHeadingCollapsed": true,
    "tags": []
   },
   "source": [
    "#### b. Temperatura dos 4 vértices no interior"
   ]
  },
  {
   "cell_type": "markdown",
   "id": "93dae685-dd5a-4973-91e2-c6810ea36d63",
   "metadata": {},
   "source": [
    "Queremos determinar a temperatura dos 4 vértices no interior usando LU. Para isso, vamos primeiramente definir as matrizes acima:"
   ]
  },
  {
   "cell_type": "code",
   "execution_count": 36,
   "id": "56c72ce1-9967-4341-a81e-c9dda8288b61",
   "metadata": {},
   "outputs": [
    {
     "data": {
      "text/plain": [
       "4-element Vector{Float64}:\n",
       "  5.0\n",
       " 12.5\n",
       "  3.75\n",
       " 11.25"
      ]
     },
     "execution_count": 36,
     "metadata": {},
     "output_type": "execute_result"
    }
   ],
   "source": [
    "# matriz com os coeficientes\n",
    "A = [\n",
    "    1 -1/4 -1/4 0\n",
    "    -1/4 1 0 -1/4\n",
    "    -1/4 0 1 -1/4\n",
    "    0 -1/4 -1/4 1\n",
    "]\n",
    "\n",
    "# matriz coluna de resultados das equações\n",
    "b = [\n",
    "    20/4\n",
    "    50/4\n",
    "    15/4\n",
    "    45/4\n",
    "]"
   ]
  },
  {
   "cell_type": "markdown",
   "id": "0f07611f-e41f-4866-a81c-e1c32c617cba",
   "metadata": {},
   "source": [
    "Agora precisamos utilizar nossa função de decomposição LU para resolver o sistema denso que temos. Seguindo a estrutura vista em aula, vamos criar a função $\\textit{resolve_sistema_denso}$ que dada uma matriz A de entrada, realiza a decomposição LU dela e em seguida resolve os sistemas triangulares para chegar na solução final:"
   ]
  },
  {
   "cell_type": "code",
   "execution_count": 37,
   "id": "56fb87c0-5cb8-4ab9-bf63-1fb29a574fef",
   "metadata": {},
   "outputs": [
    {
     "data": {
      "text/plain": [
       "resolve_sistema_denso (generic function with 1 method)"
      ]
     },
     "execution_count": 37,
     "metadata": {},
     "output_type": "execute_result"
    }
   ],
   "source": [
    "# Função para resolver um sistema denso\n",
    "\n",
    "# -- Parâmetros --\n",
    "# A: matriz densa n x n\n",
    "# b: matriz coluna de resultados\n",
    "\n",
    "# -- Retorno --\n",
    "# x: x tal que Ax = b\n",
    "\n",
    "function resolve_sistema_denso(A, b)\n",
    "    L, U = decomposicao_lu(A) # decompomos a matriz A na multiplicação de duas triangulares (uma inferior e outra superior)   \n",
    "    y = resolve_triangular_inferior(L, b) # resolvemos o sistema triangular inferior\n",
    "    x = resolve_triangular_superior(U, y) # resolvemos o sistema triangular superior\n",
    "    return x\n",
    "end"
   ]
  },
  {
   "cell_type": "markdown",
   "id": "8056b54c-7816-4b06-a82b-c0114fa02487",
   "metadata": {},
   "source": [
    "Vamos também definir uma função auxiliar para imprimir as temperaturas quando as encontrarmos:"
   ]
  },
  {
   "cell_type": "code",
   "execution_count": 38,
   "id": "94ca5318-4fdc-403d-a4f2-ba1c1bf69acc",
   "metadata": {},
   "outputs": [
    {
     "data": {
      "text/plain": [
       "imprime_temperaturas (generic function with 1 method)"
      ]
     },
     "execution_count": 38,
     "metadata": {},
     "output_type": "execute_result"
    }
   ],
   "source": [
    "# Função para imprimir as temperaturas de cada vértice\n",
    "\n",
    "# -- Parâmetros --\n",
    "# x: matriz de temperaturas dos vértices\n",
    "\n",
    "# -- Retorno --\n",
    "# Imprime os valores das temperaturas de cada vértice\n",
    "\n",
    "function imprime_temperaturas(x)\n",
    "    n, = size(x) # dimensão da matriz x\n",
    "    println(\"-- Temperatura em cada vértice --\")\n",
    "    \n",
    "    # imprimindo cada temperatura\n",
    "    for i = 1:n\n",
    "        println(\"x_\", i, \" = \", x[i])\n",
    "    end\n",
    "end"
   ]
  },
  {
   "cell_type": "code",
   "execution_count": 39,
   "id": "93e33eb5-0bdb-413d-b73e-6578583cfff2",
   "metadata": {},
   "outputs": [
    {
     "name": "stdout",
     "output_type": "stream",
     "text": [
      "-- Temperatura em cada vértice --\n",
      "x_1 = 13.125\n",
      "x_2 = 20.625\n",
      "x_3 = 11.875\n",
      "x_4 = 19.375\n"
     ]
    }
   ],
   "source": [
    "# Usando nossa função com a matriz A e b que obtivemos a partir do sistema\n",
    "x = resolve_sistema_denso(A, b)\n",
    "\n",
    "# Exibindo as temperaturas calculadas\n",
    "imprime_temperaturas(x)"
   ]
  },
  {
   "cell_type": "markdown",
   "id": "15de2ac1-f97f-4275-8f46-f75f662ddc84",
   "metadata": {
    "jp-MarkdownHeadingCollapsed": true,
    "tags": []
   },
   "source": [
    "#### c. Temperatura dos vértices no interior"
   ]
  },
  {
   "cell_type": "markdown",
   "id": "7dd2a908-3b82-4b81-bb9c-4451683c8677",
   "metadata": {},
   "source": [
    "Agora a temperatura das margens mudou e queremos discretizar o lago ainda mais e usar decomposição LU para descobrir a temperatura dos vértices. Como são muitas variáveis para os vértices, vamos criar uma função para criar o sistema linear do lago:"
   ]
  },
  {
   "cell_type": "code",
   "execution_count": 40,
   "id": "7b8d9106-94a4-4a21-a006-a34c8ed64d88",
   "metadata": {},
   "outputs": [
    {
     "data": {
      "text/plain": [
       "cria_sistema_lago (generic function with 1 method)"
      ]
     },
     "execution_count": 40,
     "metadata": {},
     "output_type": "execute_result"
    }
   ],
   "source": [
    "# Função para criar um sistema linear do lago\n",
    "\n",
    "# -- Parâmetros --\n",
    "# n: tamanho do lado\n",
    "# T: matriz de temperaturas na seguinte ordem [tmp_esq, tmp_dir, tmp_cima, tmp_baixo]\n",
    "\n",
    "# -- Retorno --\n",
    "# A: matriz de coeficientes\n",
    "# b: matriz de resultados \n",
    "\n",
    "function cria_sistema_lago(n, T)\n",
    "    A = zeros(n, n) # matriz de coeficientes\n",
    "    b = zeros(n) # matriz de resultados das equações\n",
    "    \n",
    "    r = Int(sqrt(n))\n",
    "\n",
    "    for i = 1:n\n",
    "        sum = 0 # variável auxiliar para armazenarmos o valor de b[i]\n",
    "        A[i, i] = 1 # a diagonal principal será toda preenchida com 1's porque o próprio x_i tem valor 1 na iésima equação\n",
    "        margin = false # variável auxiliar para indicar se o vértice está nas margens\n",
    "        \n",
    "        # Caso vértice esteja na esquerda\n",
    "        if (i % r) == 1\n",
    "            if i + r <= n\n",
    "                A[i, i + r] = -1/4\n",
    "            end\n",
    "            \n",
    "            if i + 1 <= n\n",
    "                A[i, i + 1] = -1/4\n",
    "            end\n",
    "            \n",
    "            if i - r > 0\n",
    "                A[i, i - r] = -1/4\n",
    "            end\n",
    "            \n",
    "            sum += T[1]\n",
    "            margin = true\n",
    "            # println(\"Entrou na esquerda: \", i)\n",
    "        end\n",
    "        \n",
    "        # Caso vértice esteja na direita\n",
    "        if (i % r) == 0\n",
    "            if i - 1 > 0\n",
    "                A[i, i - 1] = -1/4\n",
    "            end\n",
    "            \n",
    "            if i + r <= n\n",
    "                A[i, i + r] = -1/4\n",
    "            end\n",
    "\n",
    "            if i - r > 0\n",
    "                A[i, i - r] = -1/4\n",
    "            end\n",
    "            \n",
    "            sum += T[2]\n",
    "            margin = true\n",
    "            # println(\"Entrou na direita: \", i)\n",
    "        end\n",
    "        \n",
    "        # Caso vértice esteja em cima\n",
    "        if i <= r\n",
    "            if i + r <= n\n",
    "                A[i, i + r] = -1/4\n",
    "            end\n",
    "            \n",
    "            if i + 1 <= n && !margin\n",
    "                A[i, i + 1] = -1/4\n",
    "            end\n",
    "            \n",
    "            if i - 1 > 0\n",
    "                A[i, i - 1] = -1/4\n",
    "            end\n",
    "            \n",
    "            sum += T[3]\n",
    "            margin = true\n",
    "            # println(\"Entrou em cima: \", i)\n",
    "        end\n",
    "        \n",
    "        \n",
    "        # Caso vértice esteja em baixo\n",
    "        if i > r^2 - r\n",
    "            if i - r > 0\n",
    "                A[i, i - r] = -1/4\n",
    "            end\n",
    "            \n",
    "            if i + 1 <= n\n",
    "                A[i, i + 1] = -1/4\n",
    "            end\n",
    "            \n",
    "            if i - 1 > 0 && !margin\n",
    "                A[i, i - 1] = -1/4\n",
    "            end\n",
    "            \n",
    "            sum += T[4]\n",
    "            margin = true\n",
    "            # println(\"Entrou em baixo: \", i)\n",
    "        end\n",
    "\n",
    "        \n",
    "        # Caso geral, se não for um nó da margem\n",
    "        if !margin\n",
    "            A[i, i - 1] = -1/4\n",
    "            A[i, i + 1] = -1/4\n",
    "            A[i, i + r] = -1/4\n",
    "            A[i, i - r] = -1/4\n",
    "            # println(\"Entrou no caso geral: \", i)\n",
    "        end\n",
    "\n",
    "        b[i] = sum / 4\n",
    "    end\n",
    "\n",
    "    return A, b\n",
    "end"
   ]
  },
  {
   "cell_type": "markdown",
   "id": "4ab48d00-b218-4379-9334-1f56b5f647bc",
   "metadata": {},
   "source": [
    "Podemos fazer um teste de corretude da nossa função com o sistema que montamos na letra a:"
   ]
  },
  {
   "cell_type": "code",
   "execution_count": 41,
   "id": "aaf79366-25dc-48d7-a534-fa6335b175f9",
   "metadata": {},
   "outputs": [
    {
     "data": {
      "text/plain": [
       "4×1 Matrix{Float64}:\n",
       " 13.125\n",
       " 20.625\n",
       " 11.875\n",
       " 19.375"
      ]
     },
     "execution_count": 41,
     "metadata": {},
     "output_type": "execute_result"
    }
   ],
   "source": [
    "n = 4 # tamanho do lago\n",
    "tmp_cima = 15 # temperatura da margem superior\n",
    "tmp_baixo = 10 # temperatura da margem inferior\n",
    "tmp_esq = 5 # temperatura da margem esquerda\n",
    "tmp_dir = 35 # temperatura da margem direita\n",
    "\n",
    "A, b = cria_sistema_lago(n, [tmp_esq, tmp_dir, tmp_cima, tmp_baixo])\n",
    "\n",
    "x = resolve_sistema_denso(A, b)"
   ]
  },
  {
   "cell_type": "markdown",
   "id": "8ce6212f-fd0e-4066-b02b-aab631866cac",
   "metadata": {},
   "source": [
    "Obtemos o mesmo resultado que obtivemos na questão anterior. Como nosso teste deu certo, vamos agora usar nossa função para criar o sistema do lago com as novas condições. Vamos obter a matriz de coeficientes A e a matriz de resultados b, tal que $Ax = b$. E em seguida, vamos usar nossa função $\\textit{resolve_sistema_denso}$ para utilizarmos LU para descobrir a temperatura dos vértices:"
   ]
  },
  {
   "cell_type": "code",
   "execution_count": 42,
   "id": "5d0a3826-41eb-4669-ba35-43ef37b58923",
   "metadata": {},
   "outputs": [
    {
     "data": {
      "text/plain": [
       "25×25 Matrix{Float64}:\n",
       "  1.0   -0.25   0.0    0.0    0.0   …   0.0    0.0    0.0    0.0    0.0\n",
       " -0.25   1.0   -0.25   0.0    0.0       0.0    0.0    0.0    0.0    0.0\n",
       "  0.0   -0.25   1.0   -0.25   0.0       0.0    0.0    0.0    0.0    0.0\n",
       "  0.0    0.0   -0.25   1.0   -0.25      0.0    0.0    0.0    0.0    0.0\n",
       "  0.0    0.0    0.0   -0.25   1.0       0.0    0.0    0.0    0.0    0.0\n",
       " -0.25   0.0    0.0    0.0    0.0   …   0.0    0.0    0.0    0.0    0.0\n",
       "  0.0   -0.25   0.0    0.0    0.0       0.0    0.0    0.0    0.0    0.0\n",
       "  0.0    0.0   -0.25   0.0    0.0       0.0    0.0    0.0    0.0    0.0\n",
       "  0.0    0.0    0.0   -0.25   0.0       0.0    0.0    0.0    0.0    0.0\n",
       "  0.0    0.0    0.0    0.0   -0.25      0.0    0.0    0.0    0.0    0.0\n",
       "  0.0    0.0    0.0    0.0    0.0   …   0.0    0.0    0.0    0.0    0.0\n",
       "  0.0    0.0    0.0    0.0    0.0       0.0    0.0    0.0    0.0    0.0\n",
       "  0.0    0.0    0.0    0.0    0.0       0.0    0.0    0.0    0.0    0.0\n",
       "  0.0    0.0    0.0    0.0    0.0       0.0    0.0    0.0    0.0    0.0\n",
       "  0.0    0.0    0.0    0.0    0.0       0.0    0.0    0.0    0.0    0.0\n",
       "  0.0    0.0    0.0    0.0    0.0   …  -0.25   0.0    0.0    0.0    0.0\n",
       "  0.0    0.0    0.0    0.0    0.0       0.0   -0.25   0.0    0.0    0.0\n",
       "  0.0    0.0    0.0    0.0    0.0       0.0    0.0   -0.25   0.0    0.0\n",
       "  0.0    0.0    0.0    0.0    0.0       0.0    0.0    0.0   -0.25   0.0\n",
       "  0.0    0.0    0.0    0.0    0.0       0.0    0.0    0.0    0.0   -0.25\n",
       "  0.0    0.0    0.0    0.0    0.0   …   1.0   -0.25   0.0    0.0    0.0\n",
       "  0.0    0.0    0.0    0.0    0.0      -0.25   1.0   -0.25   0.0    0.0\n",
       "  0.0    0.0    0.0    0.0    0.0       0.0   -0.25   1.0   -0.25   0.0\n",
       "  0.0    0.0    0.0    0.0    0.0       0.0    0.0   -0.25   1.0   -0.25\n",
       "  0.0    0.0    0.0    0.0    0.0       0.0    0.0    0.0   -0.25   1.0"
      ]
     },
     "metadata": {},
     "output_type": "display_data"
    },
    {
     "data": {
      "text/plain": [
       "25-element Vector{Float64}:\n",
       " 11.25\n",
       "  5.0\n",
       "  5.0\n",
       "  5.0\n",
       " 10.0\n",
       "  6.25\n",
       "  0.0\n",
       "  0.0\n",
       "  0.0\n",
       "  5.0\n",
       "  6.25\n",
       "  0.0\n",
       "  0.0\n",
       "  0.0\n",
       "  5.0\n",
       "  6.25\n",
       "  0.0\n",
       "  0.0\n",
       "  0.0\n",
       "  5.0\n",
       " 13.75\n",
       "  7.5\n",
       "  7.5\n",
       "  7.5\n",
       " 12.5"
      ]
     },
     "metadata": {},
     "output_type": "display_data"
    },
    {
     "data": {
      "text/plain": [
       "25×1 Matrix{Float64}:\n",
       " 22.656565656565654\n",
       " 21.762286324786324\n",
       " 21.28651903651904\n",
       " 20.89359945609946\n",
       " 20.46969696969697\n",
       " 23.863976301476303\n",
       " 23.106060606060602\n",
       " 22.49019036519036\n",
       " 21.818181818181817\n",
       " 20.98518842268842\n",
       " 24.69327894327894\n",
       " 24.30778943278943\n",
       " 23.75\n",
       " 22.903749028749036\n",
       " 21.65287490287491\n",
       " 25.601350038850036\n",
       " 25.68181818181818\n",
       " 25.29827117327117\n",
       " 24.393939393939394\n",
       " 22.722562160062164\n",
       " 27.030303030303024\n",
       " 27.519862082362078\n",
       " 27.367327117327115\n",
       " 26.65117521367521\n",
       " 24.84343434343434"
      ]
     },
     "execution_count": 42,
     "metadata": {},
     "output_type": "execute_result"
    }
   ],
   "source": [
    "n = 25 # tamanho do lago\n",
    "tmp_cima = 20 # temperatura da margem superior\n",
    "tmp_baixo = 30 # temperatura da margem inferior\n",
    "tmp_esq = 25 # temperatura da margem esquerda\n",
    "tmp_dir = 20 # temperatura da margem direita\n",
    "\n",
    "A, b = cria_sistema_lago(n, [tmp_esq, tmp_dir, tmp_cima, tmp_baixo])\n",
    "\n",
    "display(A) # imprime a matriz de coeficientes\n",
    "display(b) # imprime a matriz de resultados\n",
    "\n",
    "x = resolve_sistema_denso(A, b) # resolve o sistema com o A e b que obtivemos"
   ]
  },
  {
   "cell_type": "markdown",
   "id": "49d624a1-5958-4a1d-be4c-b990e8604f35",
   "metadata": {},
   "source": [
    "Com as novas condições, a temperatura em cada vértice vai ser:"
   ]
  },
  {
   "cell_type": "code",
   "execution_count": 43,
   "id": "cacce6ca-1cd5-407d-9139-b871d1cbb397",
   "metadata": {},
   "outputs": [
    {
     "name": "stdout",
     "output_type": "stream",
     "text": [
      "-- Temperatura em cada vértice --\n",
      "x_1 = 22.656565656565654\n",
      "x_2 = 21.762286324786324\n",
      "x_3 = 21.28651903651904\n",
      "x_4 = 20.89359945609946\n",
      "x_5 = 20.46969696969697\n",
      "x_6 = 23.863976301476303\n",
      "x_7 = 23.106060606060602\n",
      "x_8 = 22.49019036519036\n",
      "x_9 = 21.818181818181817\n",
      "x_10 = 20.98518842268842\n",
      "x_11 = 24.69327894327894\n",
      "x_12 = 24.30778943278943\n",
      "x_13 = 23.75\n",
      "x_14 = 22.903749028749036\n",
      "x_15 = 21.65287490287491\n",
      "x_16 = 25.601350038850036\n",
      "x_17 = 25.68181818181818\n",
      "x_18 = 25.29827117327117\n",
      "x_19 = 24.393939393939394\n",
      "x_20 = 22.722562160062164\n",
      "x_21 = 27.030303030303024\n",
      "x_22 = 27.519862082362078\n",
      "x_23 = 27.367327117327115\n",
      "x_24 = 26.65117521367521\n",
      "x_25 = 24.84343434343434\n"
     ]
    }
   ],
   "source": [
    "# Exibindo as temperaturas calculadas\n",
    "imprime_temperaturas(x)"
   ]
  },
  {
   "cell_type": "markdown",
   "id": "5d8cbefe-c7c4-47b1-bd75-d412809a3f3d",
   "metadata": {
    "tags": []
   },
   "source": [
    "#### d. Discretizar com mais nós"
   ]
  },
  {
   "cell_type": "markdown",
   "id": "aedc7903-12bd-42ca-b35d-d6b95b139cd8",
   "metadata": {},
   "source": [
    "Sim, é possível discretizar com mais nós usando a função auxiliar $\\textit{cria_sistema_lago}$ que criamos acima. Para saber qual é o maior número de nós que conseguimos discretizar e rodar em menos de 2 minutos usando decomposição LU para resolver o problema, vamos usar a macro @time do julia:"
   ]
  },
  {
   "cell_type": "code",
   "execution_count": 64,
   "id": "ce692c7c-443b-4486-81db-189be3bc4e89",
   "metadata": {},
   "outputs": [
    {
     "name": "stdout",
     "output_type": "stream",
     "text": [
      "127.040296 seconds (40.38 M allocations: 183.366 GiB, 18.35% gc time)\n"
     ]
    },
    {
     "data": {
      "text/plain": [
       "2304×1 Matrix{Float64}:\n",
       " 22.50227986378084\n",
       " 21.516282386350642\n",
       " 21.05373028287246\n",
       " 20.80145913848\n",
       " 20.6467557363487\n",
       " 20.54335130181544\n",
       " 20.469765641260608\n",
       " 20.414908802696555\n",
       " 20.372533414285353\n",
       " 20.33886464945687\n",
       " 20.31148965197738\n",
       " 20.28879408835463\n",
       " 20.269656502424517\n",
       "  ⋮\n",
       " 29.441460479441012\n",
       " 29.395696656146523\n",
       " 29.34025982419464\n",
       " 29.27194884097753\n",
       " 29.185965674976785\n",
       " 29.074788563756076\n",
       " 28.92595089582622\n",
       " 28.717301153517948\n",
       " 28.405907585820337\n",
       " 27.89926151076327\n",
       " 26.97196556205829\n",
       " 24.99772013621916"
      ]
     },
     "execution_count": 64,
     "metadata": {},
     "output_type": "execute_result"
    }
   ],
   "source": [
    "n = 2304  # tamanho do lago (número de nós)\n",
    "tmp_cima = 20 # temperatura da margem superior\n",
    "tmp_baixo = 30 # temperatura da margem inferior\n",
    "tmp_esq = 25 # temperatura da margem esquerda\n",
    "tmp_dir = 20 # temperatura da margem direita\n",
    "\n",
    "A, b = cria_sistema_lago(n, [tmp_esq, tmp_dir, tmp_cima, tmp_baixo])\n",
    "\n",
    "@time resolve_sistema_denso(A, b) # cronometra o tempo para resolver o sistema com o A e b que obtivemos"
   ]
  },
  {
   "cell_type": "markdown",
   "id": "fb996ba8-f07e-49be-96ab-847a2fe0dbfb",
   "metadata": {},
   "source": [
    "Após alguns testes, descobrimos que o número máximo de nós que conseguimos discretizar e utilizar decomposição LU em um pouco mais de 2 minutos é $n = 2304$, levando $127.040296$ segundos. Todos os integrantes do grupo executaram e obtiveram um tempo inferior a 2 minutos. O melhor tempo obtido foi em torno de 122."
   ]
  },
  {
   "cell_type": "markdown",
   "id": "1ed3acc8-1502-4d63-8a77-7b8c4089a347",
   "metadata": {
    "jp-MarkdownHeadingCollapsed": true,
    "tags": []
   },
   "source": [
    "## Questão 4"
   ]
  },
  {
   "cell_type": "markdown",
   "id": "f29273b7-0c3c-495f-81e0-602ab156b560",
   "metadata": {
    "tags": []
   },
   "source": [
    "### Item A"
   ]
  },
  {
   "cell_type": "markdown",
   "id": "8d6e3c63-4bd3-4f2f-8d4a-dd6732b96932",
   "metadata": {},
   "source": [
    "Temos as seguintes equações para nosso sistema linear:\n",
    "\n",
    "$$x_1 = 7000$$\n",
    "$$x_2 = 3500$$\n",
    "$$x_3 = 9000$$\n",
    "$$x_4 - x_1 = 30000$$\n",
    "$$x_5 - x_3 = 3000$$\n",
    "$$x_6 - x_4 - x_2 = 0$$\n",
    "$$x_7 - x_5 = 3000$$\n",
    "$$x_8 - x_6 - x_7 = 500$$\n",
    "\n",
    "Dessa forma, montamos as matrizes:\n",
    "\n",
    "$$\\begin{bmatrix}\n",
    "1 & 0 & 0 & 0 & 0 & 0 & 0 & 0\\\\\n",
    "0 & 1 & 0 & 0 & 0 & 0 & 0 & 0\\\\\n",
    "0 & 0 & 1 & 0 & 0 & 0 & 0 & 0\\\\\n",
    "-1 & 0 & 0 & 1 & 0 & 0 & 0 & 0\\\\\n",
    "0 & 0 & -1 & 0 & 1 & 0 & 0 & 0\\\\\n",
    "0 & -1 & 0 & -1 & 0 & 1 & 0 & 0\\\\\n",
    "0 & 0 & 0 & 0 & -1 & 0 & 1 & 0\\\\\n",
    "0 & 0 & 0 & 0 & 0 & -1 & -1 & 1 \n",
    "\\end{bmatrix}\n",
    "\\begin{bmatrix}\n",
    "x_1\\\\\n",
    "x_2\\\\\n",
    "x_3\\\\\n",
    "x_4\\\\\n",
    "x_5\\\\\n",
    "x_6\\\\\n",
    "x_7\\\\\n",
    "x_8\n",
    "\\end{bmatrix}\n",
    "=\n",
    "\\begin{bmatrix}\n",
    "7000\\\\\n",
    "3500\\\\\n",
    "9000\\\\\n",
    "30000\\\\\n",
    "3000\\\\\n",
    "0\\\\\n",
    "3000\\\\\n",
    "500\n",
    "\\end{bmatrix}$$\n",
    "\n",
    "Agora, vamos passar para o código:"
   ]
  },
  {
   "cell_type": "code",
   "execution_count": 65,
   "id": "e14dfefa-edd8-4811-83d1-d40fb7a44fad",
   "metadata": {},
   "outputs": [
    {
     "data": {
      "text/plain": [
       "8-element Vector{Int64}:\n",
       "  7000\n",
       "  3500\n",
       "  9000\n",
       " 30000\n",
       "  3000\n",
       "     0\n",
       "  3000\n",
       "   500"
      ]
     },
     "execution_count": 65,
     "metadata": {},
     "output_type": "execute_result"
    }
   ],
   "source": [
    "A=[\n",
    "  1  0  0  0  0  0  0 0;\n",
    "  0  1  0  0  0  0  0 0;\n",
    "  0  0  1  0  0  0  0 0;\n",
    " -1  0  0  1  0  0  0 0;\n",
    "  0  0 -1  0  1  0  0 0;\n",
    "  0 -1  0 -1  0  1  0 0;\n",
    "  0  0  0  0 -1  0  1 0;\n",
    "  0  0  0  0  0 -1 -1 1\n",
    "]\n",
    "\n",
    "b=[7000; 3500; 9000; 30000; 3000; 0; 3000; 500]"
   ]
  },
  {
   "cell_type": "markdown",
   "id": "a0ed3f38-6bf1-4199-9757-a22212e94d75",
   "metadata": {},
   "source": [
    "Utilizamos então a biblioteca obtida:"
   ]
  },
  {
   "cell_type": "code",
   "execution_count": 66,
   "id": "c30316c9-0398-4b6a-ae74-e50c682dbcba",
   "metadata": {},
   "outputs": [
    {
     "data": {
      "text/plain": [
       "8×1 Matrix{Float64}:\n",
       "  7000.0\n",
       "  3500.0\n",
       "  9000.0\n",
       " 37000.0\n",
       " 12000.0\n",
       " 40500.0\n",
       " 15000.0\n",
       " 56000.0"
      ]
     },
     "execution_count": 66,
     "metadata": {},
     "output_type": "execute_result"
    }
   ],
   "source": [
    "L,U=lu(A)\n",
    "y=resolve_triangular_inferior(L,b)\n",
    "x=resolve_triangular_superior(U,y)"
   ]
  },
  {
   "cell_type": "markdown",
   "id": "367a8677-eea4-4909-9919-14ec3ac80782",
   "metadata": {
    "tags": []
   },
   "source": [
    "### Item B"
   ]
  },
  {
   "cell_type": "markdown",
   "id": "9b017c90-9fca-4021-8a0e-b138a3ebc51e",
   "metadata": {},
   "source": [
    "A entrada do $x_9$ irá causar algumas modificações nas equações. Vejamos:\n",
    "\n",
    "$$x_1 = 7000$$\n",
    "$$x_2 = 3500$$\n",
    "$$x_3 = 9000$$\n",
    "$$x_4 - x_1 - x_9 = 30000$$\n",
    "$$x_5 - x_3 + x_9 = 3000$$\n",
    "$$x_6 - x_4 - x_2 = 0$$\n",
    "$$x_7 - x_5 = 3000$$\n",
    "$$x_8 - x_6 - x_7 = 500$$\n",
    "\n",
    "Dessa forma, montamos as matrizes:\n",
    "\n",
    "$$\\begin{bmatrix}\n",
    "1 & 0 & 0 & 0 & 0 & 0 & 0 & 0 & 0\\\\\n",
    "0 & 1 & 0 & 0 & 0 & 0 & 0 & 0 & 0\\\\\n",
    "0 & 0 & 1 & 0 & 0 & 0 & 0 & 0 & 0\\\\\n",
    "-1 & 0 & 0 & 1 & 0 & 0 & 0 & 0 & -1\\\\\n",
    "0 & 0 & -1 & 0 & 1 & 0 & 0 & 0 & 1\\\\\n",
    "0 & -1 & 0 & -1 & 0 & 1 & 0 & 0 & 0\\\\\n",
    "0 & 0 & 0 & 0 & -1 & 0 & 1 & 0 & 0\\\\\n",
    "0 & 0 & 0 & 0 & 0 & -1 & -1 & 1 & 0\n",
    "\\end{bmatrix}\n",
    "\\begin{bmatrix}\n",
    "x_1\\\\\n",
    "x_2\\\\\n",
    "x_3\\\\\n",
    "x_4\\\\\n",
    "x_5\\\\\n",
    "x_6\\\\\n",
    "x_7\\\\\n",
    "x_8\\\\\n",
    "x_9\n",
    "\\end{bmatrix}\n",
    "=\n",
    "\\begin{bmatrix}\n",
    "7000\\\\\n",
    "3500\\\\\n",
    "9000\\\\\n",
    "30000\\\\\n",
    "3000\\\\\n",
    "0\\\\\n",
    "3000\\\\\n",
    "500\n",
    "\\end{bmatrix}$$\n",
    "\n",
    "Agora, vamos passar para o código:"
   ]
  },
  {
   "cell_type": "code",
   "execution_count": 67,
   "id": "d71eabc8-f6d2-45e5-9387-9574f269a004",
   "metadata": {},
   "outputs": [
    {
     "data": {
      "text/plain": [
       "8-element Vector{Int64}:\n",
       "  7000\n",
       "  3500\n",
       "  9000\n",
       " 30000\n",
       "  3000\n",
       "     0\n",
       "  3000\n",
       "   500"
      ]
     },
     "execution_count": 67,
     "metadata": {},
     "output_type": "execute_result"
    }
   ],
   "source": [
    "A=[\n",
    "  1  0  0  0  0  0  0  0  0;\n",
    "  0  1  0  0  0  0  0  0  0;\n",
    "  0  0  1  0  0  0  0  0  0;\n",
    " -1  0  0  1  0  0  0  0 -1;\n",
    "  0  0 -1  0  1  0  0  0  1;\n",
    "  0 -1  0 -1  0  1  0  0  0;\n",
    "  0  0  0  0 -1  0  1  0  0;\n",
    "  0  0  0  0  0 -1 -1  1  0\n",
    "]\n",
    "\n",
    "b=[7000; 3500; 9000; 30000; 3000; 0; 3000; 500]"
   ]
  },
  {
   "cell_type": "code",
   "execution_count": 68,
   "id": "6d26fcc2-25f6-4813-8882-5797aec3a36d",
   "metadata": {},
   "outputs": [
    {
     "data": {
      "text/plain": [
       "8×1 Matrix{Float64}:\n",
       "  7000.0\n",
       "  3500.0\n",
       "  9000.0\n",
       " 37000.0\n",
       " 12000.0\n",
       " 40500.0\n",
       " 15000.0\n",
       " 56000.0"
      ]
     },
     "execution_count": 68,
     "metadata": {},
     "output_type": "execute_result"
    }
   ],
   "source": [
    "L,U=lu(A)\n",
    "y=resolve_triangular_inferior(L,b)\n",
    "x=resolve_triangular_superior(U,y)"
   ]
  },
  {
   "cell_type": "markdown",
   "id": "a23ee5c2-daaa-44d8-8f37-88ce6558dedc",
   "metadata": {},
   "source": [
    "Basicamente, vimos que o sistema linear foi resolvido da mesma maneira, ignorando as novas condições geradas pela presença do $x_9$, repetindo o que foi realizado na $4a$. Uma das razões para o resultado não ter sido o esperado é por conta da quantidade de variáveis e da quantidade de equações. No caso avaliado, temos mais variáveis do que equações. Portanto, trata-se de um sistema sem solução."
   ]
  }
 ],
 "metadata": {
  "kernelspec": {
   "display_name": "Julia 1.6.4",
   "language": "julia",
   "name": "julia-1.6"
  },
  "language_info": {
   "file_extension": ".jl",
   "mimetype": "application/julia",
   "name": "julia",
   "version": "1.6.4"
  }
 },
 "nbformat": 4,
 "nbformat_minor": 5
}
